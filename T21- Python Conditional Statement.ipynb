{
 "cells": [
  {
   "cell_type": "markdown",
   "id": "deccb019-bc96-4884-b8b9-19fedf3173c7",
   "metadata": {},
   "source": [
    "## What are conditional statements in Python?\n",
    "\n",
    "Conditional statements in Python allow you to execute certain blocks of code only when specific conditions are met. They are fundamental to controlling the flow of a program and making decisions based on different scenarios. \n",
    "\n",
    "**The primary conditional statements in Python are:**\n",
    "1. if Statement - Executes a block of code if the condition is True.\n",
    "2. if-else Statement - Provides an alternative block of code to execute if the condition is False.\n",
    "3. if-elif-else Statement - Allows you to check multiple conditions in sequence. When a condition evaluates to True, its block is executed, and the rest are skipped.\n",
    "4. Nested if Statements - You can place an if statement inside another if statement to check multiple conditions.\n",
    "5. Ternary Conditional Operator - A shorthand for the if-else statement, useful for simple conditions. - \n",
    "6. Multiple Conditions (and, or, not) - You can combine conditions using logical operators.\n",
    "\n",
    "**Key Points:**\n",
    "1. Indentation is crucial in Python. All code inside a conditional block must be indented.\n",
    "2. Conditional expressions must evaluate to True or False.\n",
    "3. You can use comparison operators (==, !=, >, <, >=, <=) and logical operators (and, or, not) within conditions."
   ]
  },
  {
   "cell_type": "code",
   "execution_count": 1,
   "id": "4cd24b0f-6e27-488f-8c59-604fb88bcbf1",
   "metadata": {},
   "outputs": [
    {
     "name": "stdout",
     "output_type": "stream",
     "text": [
      "Data Science\n"
     ]
    }
   ],
   "source": [
    "if True:\n",
    "    print(\"Data Science\")"
   ]
  },
  {
   "cell_type": "code",
   "execution_count": 2,
   "id": "d5f5d723-bd65-449d-800f-fb340c473840",
   "metadata": {},
   "outputs": [
    {
     "name": "stdout",
     "output_type": "stream",
     "text": [
      "Bye for Now\n"
     ]
    }
   ],
   "source": [
    "if False:\n",
    "    print(\"Data Science\")\n",
    "print(\"Bye for Now\")"
   ]
  },
  {
   "cell_type": "code",
   "execution_count": 3,
   "id": "ab055164-b558-4b14-8b23-26c8c1be0ee7",
   "metadata": {},
   "outputs": [
    {
     "name": "stdout",
     "output_type": "stream",
     "text": [
      "Data Science\n",
      "Bye for Now\n"
     ]
    }
   ],
   "source": [
    "if True:\n",
    "    print(\"Data Science\")\n",
    "print(\"Bye for Now\")"
   ]
  },
  {
   "cell_type": "code",
   "execution_count": 4,
   "id": "1398cd39-559b-4ef6-9e86-d8d4ca245ef4",
   "metadata": {},
   "outputs": [
    {
     "name": "stdout",
     "output_type": "stream",
     "text": [
      "Even Number\n"
     ]
    }
   ],
   "source": [
    "# Code 1 - number is even or odd\n",
    "\n",
    "x = 4\n",
    "r = x%2\n",
    "\n",
    "if r==0:\n",
    "    print(\"Even Number\")"
   ]
  },
  {
   "cell_type": "code",
   "execution_count": 5,
   "id": "4160b025-01ab-4c8e-bbee-5fd277e71028",
   "metadata": {},
   "outputs": [],
   "source": [
    "# Code 1 - number is even or odd\n",
    "\n",
    "x = 5\n",
    "r = x%2\n",
    "\n",
    "if r==0:\n",
    "    print(\"Even Number\")"
   ]
  },
  {
   "cell_type": "code",
   "execution_count": 6,
   "id": "cf52e4ca-fddb-4d57-89ca-9644b7071691",
   "metadata": {},
   "outputs": [
    {
     "name": "stdout",
     "output_type": "stream",
     "text": [
      "Odd Number\n"
     ]
    }
   ],
   "source": [
    "# Code 1 - number is even or odd\n",
    "\n",
    "x = 5\n",
    "r = x%2\n",
    "\n",
    "if r==0:\n",
    "    print(\"Even Number\")\n",
    "\n",
    "if r!=0:\n",
    "    print(\"Odd Number\")"
   ]
  },
  {
   "cell_type": "code",
   "execution_count": 8,
   "id": "eb6b6bec-aa25-47b2-a64e-e84e1b6b47bd",
   "metadata": {},
   "outputs": [
    {
     "name": "stdout",
     "output_type": "stream",
     "text": [
      "Odd Number\n"
     ]
    }
   ],
   "source": [
    "# Code 1 - number is even or odd\n",
    "\n",
    "x = 13\n",
    "r = x%2\n",
    "\n",
    "if r==0:\n",
    "    print(\"Even Number\")\n",
    "\n",
    "if r!=0:\n",
    "    print(\"Odd Number\")"
   ]
  },
  {
   "cell_type": "code",
   "execution_count": 12,
   "id": "14204ff2-26ee-43e5-bd98-ce27cce7c3ea",
   "metadata": {},
   "outputs": [
    {
     "name": "stdout",
     "output_type": "stream",
     "text": [
      "Even Number\n",
      "Greater Number\n"
     ]
    }
   ],
   "source": [
    "x = 8\n",
    "\n",
    "r = x%2\n",
    "\n",
    "if r==0:\n",
    "    print(\"Even Number\")\n",
    "    if x>5:\n",
    "        print(\"Greater Number\")\n",
    "\n",
    "else:\n",
    "    print(\"Odd Number\")"
   ]
  },
  {
   "cell_type": "code",
   "execution_count": 13,
   "id": "03569c2a-6475-4bfb-81a5-3a728b49b599",
   "metadata": {},
   "outputs": [
    {
     "name": "stdout",
     "output_type": "stream",
     "text": [
      "Even Number\n"
     ]
    }
   ],
   "source": [
    "x = 4\n",
    "\n",
    "r = x%2\n",
    "\n",
    "if r==0:\n",
    "    print(\"Even Number\")\n",
    "    if x>5:\n",
    "        print(\"Greater Number\")\n",
    "\n",
    "else:\n",
    "    print(\"Odd Number\")"
   ]
  },
  {
   "cell_type": "code",
   "execution_count": 16,
   "id": "4b069fa1-793b-4501-86db-7a0ae1ea02bb",
   "metadata": {},
   "outputs": [
    {
     "name": "stdout",
     "output_type": "stream",
     "text": [
      "Even Number\n",
      "Greater Number\n"
     ]
    }
   ],
   "source": [
    "x = 10\n",
    "\n",
    "r = x%2\n",
    "\n",
    "if r==0:\n",
    "    print(\"Even Number\")\n",
    "    if x>5:\n",
    "        print(\"Greater Number\")\n",
    "    else:\n",
    "        print(\"Smaller Number\")\n",
    "\n",
    "else:\n",
    "    print(\"Odd Number\")"
   ]
  },
  {
   "cell_type": "markdown",
   "id": "e5a0451f-2a7f-4d91-aa77-1cfafa251e63",
   "metadata": {},
   "source": [
    "## If-elif-else"
   ]
  },
  {
   "cell_type": "code",
   "execution_count": 19,
   "id": "cd5b7724-538c-42ca-a679-414836fa9c6f",
   "metadata": {},
   "outputs": [
    {
     "name": "stdout",
     "output_type": "stream",
     "text": [
      "Number not found\n"
     ]
    }
   ],
   "source": [
    "x = 0\n",
    "\n",
    "if x==1:\n",
    "    print(\"One\")\n",
    "elif x==2:\n",
    "    print(\"Two\")\n",
    "elif x==3:\n",
    "    print(\"Three\")\n",
    "elif x==4:\n",
    "    print(\"Four\")\n",
    "\n",
    "else:\n",
    "    print(\"Number not found\")"
   ]
  },
  {
   "cell_type": "markdown",
   "id": "c0238826-8419-4526-a893-e61c73ac3824",
   "metadata": {},
   "source": [
    "## Loops:"
   ]
  },
  {
   "cell_type": "code",
   "execution_count": 21,
   "id": "e411d549-1566-4c7f-8bd1-6cc66520cdc7",
   "metadata": {},
   "outputs": [
    {
     "name": "stdout",
     "output_type": "stream",
     "text": [
      "Data Science\n",
      "Data Science\n",
      "Data Science\n",
      "Data Science\n",
      "Data Science\n"
     ]
    }
   ],
   "source": [
    "i = 1 #Initialize\n",
    "\n",
    "while i<=5:\n",
    "    print(\"Data Science\")\n",
    "    i = i+1"
   ]
  },
  {
   "cell_type": "code",
   "execution_count": 24,
   "id": "8dbeea60-6342-4bc6-82df-e8f4053d5266",
   "metadata": {},
   "outputs": [
    {
     "name": "stdout",
     "output_type": "stream",
     "text": [
      "Data Science : 1\n",
      "Data Science : 2\n",
      "Data Science : 3\n",
      "Data Science : 4\n",
      "Data Science : 5\n"
     ]
    }
   ],
   "source": [
    "i = 1 #Initialize\n",
    "\n",
    "while i<=5: #condition\n",
    "    print(\"Data Science :\",i)\n",
    "    i =i+1 # Increment"
   ]
  },
  {
   "cell_type": "code",
   "execution_count": 27,
   "id": "6bd4f417-60de-4cfa-98c9-0da69229954f",
   "metadata": {},
   "outputs": [
    {
     "name": "stdout",
     "output_type": "stream",
     "text": [
      "Data Science 5\n",
      "Data Science 4\n",
      "Data Science 3\n",
      "Data Science 2\n",
      "Data Science 1\n"
     ]
    }
   ],
   "source": [
    "i = 5\n",
    "\n",
    "while i>=1:\n",
    "    print(\"Data Science\", i)\n",
    "    i =i - 1 # Decrement"
   ]
  },
  {
   "cell_type": "code",
   "execution_count": 33,
   "id": "d3cfe5a6-9b89-4f66-9074-d0d2afd52d14",
   "metadata": {},
   "outputs": [
    {
     "name": "stdout",
     "output_type": "stream",
     "text": [
      "Data Science\n",
      "Naresh Technology\n",
      "Naresh Technology\n",
      "Naresh Technology\n",
      "Naresh Technology\n",
      "\n",
      "Data Science\n",
      "Naresh Technology\n",
      "Naresh Technology\n",
      "Naresh Technology\n",
      "Naresh Technology\n",
      "\n",
      "Data Science\n",
      "Naresh Technology\n",
      "Naresh Technology\n",
      "Naresh Technology\n",
      "Naresh Technology\n",
      "\n",
      "Data Science\n",
      "Naresh Technology\n",
      "Naresh Technology\n",
      "Naresh Technology\n",
      "Naresh Technology\n",
      "\n",
      "Data Science\n",
      "Naresh Technology\n",
      "Naresh Technology\n",
      "Naresh Technology\n",
      "Naresh Technology\n",
      "\n"
     ]
    }
   ],
   "source": [
    "i = 1 #Initialize\n",
    "\n",
    "while i<=5:\n",
    "    print(\"Data Science\")\n",
    "    j = 1\n",
    "    while j<=4:\n",
    "        print(\"Naresh Technology\")\n",
    "        j = j+1\n",
    "        \n",
    "    i = i+1\n",
    "    print()"
   ]
  },
  {
   "cell_type": "code",
   "execution_count": 30,
   "id": "a2ff8de4-d54f-458b-832a-14bf81fb0fee",
   "metadata": {},
   "outputs": [
    {
     "name": "stdout",
     "output_type": "stream",
     "text": [
      "Data ScienceNaresh TechnologyNaresh TechnologyNaresh TechnologyNaresh Technology\n",
      "Data ScienceNaresh TechnologyNaresh TechnologyNaresh TechnologyNaresh Technology\n",
      "Data ScienceNaresh TechnologyNaresh TechnologyNaresh TechnologyNaresh Technology\n",
      "Data ScienceNaresh TechnologyNaresh TechnologyNaresh TechnologyNaresh Technology\n",
      "Data ScienceNaresh TechnologyNaresh TechnologyNaresh TechnologyNaresh Technology\n"
     ]
    }
   ],
   "source": [
    "i = 1 #Initialize\n",
    "\n",
    "while i<=5:\n",
    "    print(\"Data Science\", end = \"\")\n",
    "    j = 1\n",
    "    while j<=4:\n",
    "        print(\"Naresh Technology\", end = \"\")\n",
    "        j = j+1\n",
    "        \n",
    "    i = i+1\n",
    "    print()"
   ]
  },
  {
   "cell_type": "markdown",
   "id": "c08c9370-f202-4a36-9260-e6628e49d999",
   "metadata": {},
   "source": [
    "# lets use while loop usig some numbers"
   ]
  },
  {
   "cell_type": "code",
   "execution_count": 1,
   "id": "d88e596a-4919-477e-993b-1d55a85c0f58",
   "metadata": {},
   "outputs": [
    {
     "name": "stdout",
     "output_type": "stream",
     "text": [
      "0 1 2 \n",
      "0 2 4 \n"
     ]
    }
   ],
   "source": [
    "i = 1\n",
    "\n",
    "while i <= 2:\n",
    "    j = 0\n",
    "    while j <= 2:\n",
    "        print(j*i, end=\" \")\n",
    "        j += 1\n",
    "    print()\n",
    "    i+=1"
   ]
  },
  {
   "cell_type": "code",
   "execution_count": 2,
   "id": "0c964a10-f864-44cc-9074-b8531c75ac98",
   "metadata": {},
   "outputs": [
    {
     "name": "stdout",
     "output_type": "stream",
     "text": [
      "0 1 2 3 \n",
      "0 2 4 6 \n",
      "0 3 6 9 \n",
      "0 4 8 12 \n"
     ]
    }
   ],
   "source": [
    "i = 1\n",
    "\n",
    "while i <= 4:\n",
    "    j = 0\n",
    "    while j <= 3:\n",
    "        print(i*j, end = \" \")\n",
    "        j += 1\n",
    "    print()\n",
    "    i += 1"
   ]
  },
  {
   "cell_type": "markdown",
   "id": "aab07e80-2b5c-4438-876c-a347c7a006d4",
   "metadata": {},
   "source": [
    "## FOR LOOP  -\n",
    "normally while loop it work with iteration or certaion some condition but for loop it will work with sequence (list, string,int)"
   ]
  },
  {
   "cell_type": "code",
   "execution_count": 3,
   "id": "70c8fc9c-5abf-4f25-b066-d97944b638e6",
   "metadata": {},
   "outputs": [
    {
     "name": "stdout",
     "output_type": "stream",
     "text": [
      "N\n",
      "a\n",
      "r\n",
      "e\n",
      "s\n",
      "h\n"
     ]
    }
   ],
   "source": [
    "name = 'Naresh'\n",
    "\n",
    "for i in name:\n",
    "    print(i)"
   ]
  },
  {
   "cell_type": "code",
   "execution_count": 4,
   "id": "32239820-7a24-4d8c-9dce-cda35cc698ee",
   "metadata": {},
   "outputs": [
    {
     "name": "stdout",
     "output_type": "stream",
     "text": [
      "2\n",
      "3.5\n",
      "True\n",
      "hello\n"
     ]
    }
   ],
   "source": [
    "name1 = [2, 3.5, True, 'hello']\n",
    "\n",
    "for i in name1:\n",
    "    print(i)"
   ]
  },
  {
   "cell_type": "code",
   "execution_count": 5,
   "id": "c90e667c-95d0-4ada-ba39-b46b2e9852d3",
   "metadata": {},
   "outputs": [
    {
     "name": "stdout",
     "output_type": "stream",
     "text": [
      "2\n",
      "3.5\n",
      "7.8\n",
      "True\n",
      "Amruta\n"
     ]
    }
   ],
   "source": [
    "for i in [2,3.5, 7.8, True, 'Amruta']:\n",
    "    print(i)"
   ]
  },
  {
   "cell_type": "code",
   "execution_count": 6,
   "id": "c7fb4583-e721-4493-8551-0a131dc0941a",
   "metadata": {},
   "outputs": [
    {
     "data": {
      "text/plain": [
       "range(0, 8)"
      ]
     },
     "execution_count": 6,
     "metadata": {},
     "output_type": "execute_result"
    }
   ],
   "source": [
    "range(8)"
   ]
  },
  {
   "cell_type": "code",
   "execution_count": 7,
   "id": "a2b65992-0a1b-40a8-ae53-a432d7e8291a",
   "metadata": {},
   "outputs": [
    {
     "name": "stdout",
     "output_type": "stream",
     "text": [
      "0\n",
      "1\n",
      "2\n",
      "3\n",
      "4\n",
      "5\n",
      "6\n",
      "7\n"
     ]
    }
   ],
   "source": [
    "for i in range(8):\n",
    "    print(i)"
   ]
  },
  {
   "cell_type": "code",
   "execution_count": 8,
   "id": "a444c902-f969-4c6a-88aa-80fdf0702f2a",
   "metadata": {},
   "outputs": [
    {
     "name": "stdout",
     "output_type": "stream",
     "text": [
      "2\n",
      "3\n",
      "4\n"
     ]
    }
   ],
   "source": [
    "for i in range(2,5):\n",
    "    print(i)"
   ]
  },
  {
   "cell_type": "code",
   "execution_count": 9,
   "id": "de17508a-5964-44ed-90e9-c8407c795bc5",
   "metadata": {},
   "outputs": [
    {
     "name": "stdout",
     "output_type": "stream",
     "text": [
      "1\n",
      "4\n",
      "7\n"
     ]
    }
   ],
   "source": [
    "for i in range(1,10,3):\n",
    "    print(i)"
   ]
  },
  {
   "cell_type": "code",
   "execution_count": 10,
   "id": "6093e278-1d34-44dd-9a09-56bfe0821e20",
   "metadata": {},
   "outputs": [
    {
     "name": "stdout",
     "output_type": "stream",
     "text": [
      "1\n",
      "2\n",
      "3\n",
      "4\n",
      "5\n",
      "6\n",
      "7\n",
      "8\n",
      "9\n",
      "10\n",
      "11\n",
      "12\n",
      "13\n",
      "14\n",
      "15\n",
      "16\n",
      "17\n",
      "18\n",
      "19\n",
      "20\n"
     ]
    }
   ],
   "source": [
    "# Print the values between range 1 to 20\n",
    "\n",
    "for i in range(1,21):\n",
    "    print(i)"
   ]
  },
  {
   "cell_type": "code",
   "execution_count": 13,
   "id": "a5a66f5e-23af-4636-b019-479799ebd7a7",
   "metadata": {},
   "outputs": [
    {
     "name": "stdout",
     "output_type": "stream",
     "text": [
      "5 10 15 20 25 30 35 40 45 50 "
     ]
    }
   ],
   "source": [
    "# print the vlues between 1 to 50 dividible by 5 (multiplication table of 5)\n",
    "\n",
    "for i in range(1,51):\n",
    "\n",
    "    if i%5 == 0:\n",
    "        print(i, end = \" \")"
   ]
  },
  {
   "cell_type": "code",
   "execution_count": 14,
   "id": "242bdb83-5542-420f-9ad8-11dfa193c94a",
   "metadata": {},
   "outputs": [
    {
     "name": "stdout",
     "output_type": "stream",
     "text": [
      "3\n",
      "5\n",
      "6\n",
      "9\n",
      "10\n",
      "12\n",
      "15\n",
      "18\n",
      "20\n",
      "21\n",
      "24\n",
      "25\n",
      "27\n",
      "30\n",
      "33\n",
      "35\n",
      "36\n",
      "39\n",
      "40\n",
      "42\n",
      "45\n",
      "48\n",
      "50\n"
     ]
    }
   ],
   "source": [
    "# print the vlues between 1 to 50 dividible by 3 and 5\n",
    "\n",
    "for i in range(1,51):\n",
    "\n",
    "    if i%3 == 0 or i%5 == 0:\n",
    "        print(i)"
   ]
  },
  {
   "cell_type": "code",
   "execution_count": null,
   "id": "172e447d-b42e-468b-bd17-4c00bfae9720",
   "metadata": {},
   "outputs": [],
   "source": [
    "# print the vlues between 1 to 50 dividible by only 3 and not 5"
   ]
  },
  {
   "cell_type": "code",
   "execution_count": 16,
   "id": "e0f6c09b-f12b-47d6-a2b8-51eeb6c48c2c",
   "metadata": {},
   "outputs": [
    {
     "name": "stdout",
     "output_type": "stream",
     "text": [
      "3\n",
      "6\n",
      "9\n",
      "12\n",
      "18\n",
      "21\n",
      "24\n",
      "27\n",
      "33\n",
      "36\n",
      "39\n",
      "42\n",
      "48\n"
     ]
    }
   ],
   "source": [
    "for i in range(1,51):\n",
    "\n",
    "    if i%3==0 and i%5 != 0:\n",
    "        print(i)"
   ]
  },
  {
   "cell_type": "code",
   "execution_count": 19,
   "id": "41297254-f360-4558-8c37-e9aa1957b91a",
   "metadata": {},
   "outputs": [
    {
     "name": "stdin",
     "output_type": "stream",
     "text": [
      "Enter the Numbers of chocolate you want:  6\n"
     ]
    },
    {
     "name": "stdout",
     "output_type": "stream",
     "text": [
      "Chocolate\n",
      "Chocolate\n",
      "Chocolate\n",
      "Chocolate\n",
      "Chocolate\n",
      "Chocolate\n"
     ]
    }
   ],
   "source": [
    "# write the code user ask chocklet from vendor machne write the basic code \n",
    "\n",
    "x = int(input(\"Enter the Numbers of chocolate you want: \"))\n",
    "\n",
    "i = 1\n",
    "while i <= x:\n",
    "    print(\"Chocolate\")\n",
    "    i += 1"
   ]
  },
  {
   "cell_type": "code",
   "execution_count": 20,
   "id": "032c2501-31a0-4306-ad51-b53535e54c3a",
   "metadata": {},
   "outputs": [
    {
     "name": "stdin",
     "output_type": "stream",
     "text": [
      "How many chocolates you want?  8\n"
     ]
    },
    {
     "name": "stdout",
     "output_type": "stream",
     "text": [
      "Chocolate\n",
      "Chocolate\n",
      "Chocolate\n",
      "Chocolate\n",
      "Chocolate\n",
      "Chocolate\n",
      "Chocolate\n",
      "Chocolate\n"
     ]
    }
   ],
   "source": [
    "available_chocolates = 5\n",
    "\n",
    "x = int(input(\"How many chocolates you want? \"))\n",
    "\n",
    "i =1\n",
    "\n",
    "while i<=x:\n",
    "    print(\"Chocolate\")\n",
    "    i += 1"
   ]
  },
  {
   "cell_type": "code",
   "execution_count": 22,
   "id": "adb99c5c-0454-4a7a-a832-d79097db49d8",
   "metadata": {},
   "outputs": [
    {
     "name": "stdin",
     "output_type": "stream",
     "text": [
      "How many chocolate you want? 7\n"
     ]
    },
    {
     "name": "stdout",
     "output_type": "stream",
     "text": [
      "Dispatching Chocolates\n",
      "Dispatching Chocolates\n",
      "Dispatching Chocolates\n",
      "Dispatching Chocolates\n",
      "Dispatching Chocolates\n",
      "Out of Stock\n"
     ]
    }
   ],
   "source": [
    "# if machine has only 5 chocolates and user enter then at that time we need to tell user that only 5 chocolates are available.\n",
    "available_chcolates = 5\n",
    "\n",
    "x = int(input(\"How many chocolate you want?\"))\n",
    "\n",
    "i = 1\n",
    "while i <= x:\n",
    "    if i > available_chocolates:\n",
    "        print(\"Out of Stock\")\n",
    "        break\n",
    "    print(\"Dispatching Chocolates\")\n",
    "    i += 1"
   ]
  },
  {
   "cell_type": "code",
   "execution_count": 33,
   "id": "e1c4d6ba-e031-4204-b6e7-62344dc8ea7f",
   "metadata": {},
   "outputs": [
    {
     "name": "stdin",
     "output_type": "stream",
     "text": [
      "How much money you want to withdraw? 18\n"
     ]
    },
    {
     "name": "stdout",
     "output_type": "stream",
     "text": [
      "Collect your money\n",
      "Collect your money\n",
      "Collect your money\n",
      "Collect your money\n",
      "Collect your money\n",
      "Collect your money\n",
      "Money not available\n",
      "You can withdraw upto 15k only at a time\n",
      "Thank you and visit Again\n"
     ]
    }
   ],
   "source": [
    "# ATM machine has set money takeout limit to 20000 rs available in it if user try to take out money more than 20k then user should get message that you can take out meoney upto 20k only.\n",
    "\n",
    "limit = 15\n",
    "\n",
    "rs = int(input(\"How much money you want to withdraw?\"))\n",
    "\n",
    "i = 10\n",
    "\n",
    "while i <= rs:\n",
    "    if i > limit:\n",
    "        print(\"Money not available\")\n",
    "        break\n",
    "    i += 1\n",
    "    print(\"Collect your money\")\n",
    "\n",
    "print(\"You can withdraw upto 15k only at a time\")\n",
    "print(\"Thank you and visit Again\")"
   ]
  },
  {
   "cell_type": "code",
   "execution_count": 34,
   "id": "51e92a71-c125-4d24-8bdc-f36e5245ac4a",
   "metadata": {},
   "outputs": [
    {
     "name": "stdout",
     "output_type": "stream",
     "text": [
      "1\n",
      "2\n",
      "3\n",
      "4\n",
      "5\n",
      "6\n",
      "7\n",
      "8\n",
      "9\n",
      "10\n"
     ]
    }
   ],
   "source": [
    "for i in range(1,11):\n",
    "    print(i)"
   ]
  },
  {
   "cell_type": "code",
   "execution_count": 36,
   "id": "a0e69911-fb58-49f4-83c2-b37f66140167",
   "metadata": {},
   "outputs": [
    {
     "name": "stdout",
     "output_type": "stream",
     "text": [
      "1\n",
      "2\n",
      "3\n",
      "4\n",
      "5\n"
     ]
    }
   ],
   "source": [
    "# I don't want to print all values from 1 to 10 I just want to print 1 to 6, Let check how to write code for that\n",
    "\n",
    "for i in range (1,11):\n",
    "    if i == 6:\n",
    "        break\n",
    "    print(i)"
   ]
  },
  {
   "cell_type": "code",
   "execution_count": 38,
   "id": "8a7591d1-b30b-4e8f-8dbf-a4a9fd7fa20b",
   "metadata": {},
   "outputs": [
    {
     "name": "stdout",
     "output_type": "stream",
     "text": [
      "1\n",
      "2\n",
      "3\n",
      "4\n",
      "5\n",
      "7\n",
      "8\n",
      "9\n",
      "10\n"
     ]
    }
   ],
   "source": [
    "# I want to print all numbers from 1 to 10 exclude 6 \n",
    "\n",
    "for i in range(1,11):\n",
    "    if i == 6:\n",
    "        continue # in continue loop wont be terminate & exclue the assign number it give you entire output \n",
    "    print(i)"
   ]
  },
  {
   "cell_type": "code",
   "execution_count": 40,
   "id": "f4848c1d-c9df-47fb-ba42-b5ca058db9d0",
   "metadata": {},
   "outputs": [
    {
     "name": "stdout",
     "output_type": "stream",
     "text": [
      "Hello 1\n",
      "Hello 2\n",
      "Hello 3\n",
      "Hello 4\n",
      "Hello 5\n",
      "Hello 6\n",
      "Hello 7\n",
      "Hello 9\n",
      "Hello 10\n"
     ]
    }
   ],
   "source": [
    "for i in range(1,11):\n",
    "    if i == 8:\n",
    "        continue # this will exclude 8 number from output\n",
    "    print(\"Hello\", i)"
   ]
  },
  {
   "cell_type": "code",
   "execution_count": 41,
   "id": "9c561a74-6e09-47bd-a8e6-5e4203901146",
   "metadata": {},
   "outputs": [
    {
     "ename": "SyntaxError",
     "evalue": "incomplete input (1334445784.py, line 1)",
     "output_type": "error",
     "traceback": [
      "\u001b[1;36m  Cell \u001b[1;32mIn[41], line 1\u001b[1;36m\u001b[0m\n\u001b[1;33m    for i in range(1,11):\u001b[0m\n\u001b[1;37m                         ^\u001b[0m\n\u001b[1;31mSyntaxError\u001b[0m\u001b[1;31m:\u001b[0m incomplete input\n"
     ]
    }
   ],
   "source": [
    "for i in range(1,11):"
   ]
  },
  {
   "cell_type": "code",
   "execution_count": 43,
   "id": "625f5606-7f58-4e5b-95fc-b807284baee0",
   "metadata": {},
   "outputs": [],
   "source": [
    "# if you don't want error in your code you need to use pass keyword\n",
    "for i in range(1,11): \n",
    "    pass # pass keyword -  pass the error statement and you won't get error message"
   ]
  },
  {
   "cell_type": "markdown",
   "id": "306f951d-1eba-41c4-9dca-9b86ff94bfc6",
   "metadata": {},
   "source": [
    "## You need to print the number from 1 to 50 but dont print the number which is divisible by 3 or 5"
   ]
  },
  {
   "cell_type": "code",
   "execution_count": 46,
   "id": "8448f1bd-fd64-46ab-93f0-7f59122b6f8c",
   "metadata": {},
   "outputs": [
    {
     "name": "stdout",
     "output_type": "stream",
     "text": [
      "1 2 3 4 5 6 7 8 9 10 11 12 13 14 15 16 17 18 19 20 21 22 23 24 25 26 27 28 29 30 31 32 33 34 35 36 37 38 39 40 41 42 43 44 45 46 47 48 49 50 "
     ]
    }
   ],
   "source": [
    "for i in range(1,51):\n",
    "    print(i, end = \" \")"
   ]
  },
  {
   "cell_type": "code",
   "execution_count": 49,
   "id": "c6d26422-6937-4a87-86d0-2299b9c5e68c",
   "metadata": {},
   "outputs": [
    {
     "name": "stdout",
     "output_type": "stream",
     "text": [
      "1\n",
      "2\n",
      "4\n",
      "7\n",
      "8\n",
      "11\n",
      "13\n",
      "14\n",
      "16\n",
      "17\n",
      "19\n",
      "22\n",
      "23\n",
      "26\n",
      "28\n",
      "29\n",
      "31\n",
      "32\n",
      "34\n",
      "37\n",
      "38\n",
      "41\n",
      "43\n",
      "44\n",
      "46\n",
      "47\n",
      "49\n"
     ]
    }
   ],
   "source": [
    "for i in range(1,51):\n",
    "    if i%3 == 0 or i%5 ==0:\n",
    "        continue\n",
    "    print(i) # it will skip all the value which is divisible by 3 or 5"
   ]
  },
  {
   "cell_type": "code",
   "execution_count": 52,
   "id": "f5749da9-5cad-46bf-b729-33e46a98fdbf",
   "metadata": {},
   "outputs": [
    {
     "name": "stdout",
     "output_type": "stream",
     "text": [
      "1\n",
      "2\n",
      "3\n",
      "4\n",
      "5\n",
      "6\n",
      "7\n",
      "8\n",
      "9\n",
      "10\n",
      "11\n",
      "12\n",
      "13\n",
      "14\n",
      "16\n",
      "17\n",
      "18\n",
      "19\n",
      "20\n",
      "21\n",
      "22\n",
      "23\n",
      "24\n",
      "25\n",
      "26\n",
      "27\n",
      "28\n",
      "29\n",
      "31\n",
      "32\n",
      "33\n",
      "34\n",
      "35\n",
      "36\n",
      "37\n",
      "38\n",
      "39\n",
      "40\n",
      "41\n",
      "42\n",
      "43\n",
      "44\n",
      "46\n",
      "47\n",
      "48\n",
      "49\n",
      "50\n",
      "END\n"
     ]
    }
   ],
   "source": [
    "for i in range(1,51):\n",
    "    if i%3 == 0 and  i%5 ==0:\n",
    "        continue\n",
    "    print(i)\n",
    "print(\"END\") # when you apply and you wont get the value which is divisible by both 3 & 5 (15)"
   ]
  },
  {
   "cell_type": "markdown",
   "id": "b062d2e1-43ef-465a-8405-cc4a03552d14",
   "metadata": {},
   "source": [
    "## Write a python code to print the values which are even numbers that means print only odd numbers"
   ]
  },
  {
   "cell_type": "code",
   "execution_count": 55,
   "id": "cb3e670b-58c6-4b54-91e9-939ea441f435",
   "metadata": {},
   "outputs": [
    {
     "name": "stdout",
     "output_type": "stream",
     "text": [
      "1\n",
      "3\n",
      "5\n",
      "7\n",
      "9\n",
      "11\n",
      "13\n",
      "15\n",
      "17\n",
      "19\n",
      "21\n",
      "23\n",
      "25\n",
      "27\n",
      "29\n",
      "31\n",
      "33\n",
      "35\n",
      "37\n",
      "39\n",
      "41\n",
      "43\n",
      "45\n",
      "47\n",
      "49\n",
      "Displayed odd numbers list\n"
     ]
    }
   ],
   "source": [
    "for i in range(1,51):\n",
    "    \n",
    "    if i%2 ==0:\n",
    "        continue\n",
    "        \n",
    "    print(i)\n",
    "    \n",
    "print(\"Displayed odd numbers list\")"
   ]
  },
  {
   "cell_type": "markdown",
   "id": "bad95db3-65bc-4504-9875-6470923ad995",
   "metadata": {},
   "source": [
    "## Printing Patterns in Python"
   ]
  },
  {
   "cell_type": "code",
   "execution_count": 57,
   "id": "07d74c49-bfff-44bb-a44e-aebce8010afe",
   "metadata": {},
   "outputs": [
    {
     "name": "stdout",
     "output_type": "stream",
     "text": [
      "# # # #\n",
      "# # # #\n",
      "# # # #\n",
      "# # # #\n"
     ]
    }
   ],
   "source": [
    "for i in range(4):\n",
    "    print(\"# # # #\")"
   ]
  },
  {
   "cell_type": "code",
   "execution_count": 58,
   "id": "4ab09649-eb0c-4365-ae7c-2c9f9a8267f5",
   "metadata": {},
   "outputs": [
    {
     "name": "stdout",
     "output_type": "stream",
     "text": [
      "# # # #\n",
      "# # # #\n",
      "# # # #\n",
      "# # # #\n"
     ]
    }
   ],
   "source": [
    "for i in range(1,5):\n",
    "    i += 1\n",
    "    print(\"# # # #\")"
   ]
  },
  {
   "cell_type": "code",
   "execution_count": 60,
   "id": "3cf8c372-0a74-41a7-a186-6a3db94b8d65",
   "metadata": {},
   "outputs": [
    {
     "name": "stdout",
     "output_type": "stream",
     "text": [
      "# # # #\n",
      "# # # #\n",
      "# # # #\n",
      "# # # #\n"
     ]
    }
   ],
   "source": [
    "for i in  range (1,5):\n",
    "    if i<=5:\n",
    "        print(\"# # # #\")"
   ]
  },
  {
   "cell_type": "code",
   "execution_count": 61,
   "id": "893e666e-0a51-4e17-bc3d-2da7e24bc91f",
   "metadata": {},
   "outputs": [
    {
     "name": "stdout",
     "output_type": "stream",
     "text": [
      "#\n",
      "#\n",
      "#\n",
      "#\n"
     ]
    }
   ],
   "source": [
    "for j in range(4):\n",
    "    print(\"#\")"
   ]
  },
  {
   "cell_type": "code",
   "execution_count": 62,
   "id": "844b6ee6-734d-4e7a-9c0b-403745e83a0a",
   "metadata": {},
   "outputs": [
    {
     "name": "stdout",
     "output_type": "stream",
     "text": [
      "# # # #\n",
      "# # # #\n",
      "# # # #\n",
      "# # # #\n"
     ]
    }
   ],
   "source": [
    "for j in range(4):\n",
    "    print(\"# # # #\")"
   ]
  },
  {
   "cell_type": "code",
   "execution_count": 63,
   "id": "5c564cd5-a1d1-4aec-9cbf-0273d145b525",
   "metadata": {},
   "outputs": [
    {
     "name": "stdout",
     "output_type": "stream",
     "text": [
      "# # # # "
     ]
    }
   ],
   "source": [
    "for j in range(4):\n",
    "    print(\"#\", end = \" \")"
   ]
  },
  {
   "cell_type": "code",
   "execution_count": 64,
   "id": "904f743a-9434-4433-91ed-4901f84237ad",
   "metadata": {},
   "outputs": [
    {
     "name": "stdout",
     "output_type": "stream",
     "text": [
      "# # # # # # # # "
     ]
    }
   ],
   "source": [
    "for j in range(4):\n",
    "    print(\"#\", end = \" \")\n",
    "\n",
    "for j in range(4):\n",
    "    print(\"#\", end = \" \")"
   ]
  },
  {
   "cell_type": "code",
   "execution_count": 65,
   "id": "bb0a6044-1297-483e-812e-c7aff2c80104",
   "metadata": {},
   "outputs": [
    {
     "name": "stdout",
     "output_type": "stream",
     "text": [
      "# # # # \n",
      "# # # # "
     ]
    }
   ],
   "source": [
    "for j in range(4):\n",
    "    print(\"#\", end = \" \")\n",
    "\n",
    "print()\n",
    "\n",
    "for j in range(4):\n",
    "    print(\"#\", end = \" \")"
   ]
  },
  {
   "cell_type": "code",
   "execution_count": 67,
   "id": "a4d0f11c-5ba1-4ebe-9f52-568017a49aa0",
   "metadata": {},
   "outputs": [
    {
     "name": "stdout",
     "output_type": "stream",
     "text": [
      "# # # # \n",
      "# # # # \n",
      "# # # # \n",
      "# # # # "
     ]
    }
   ],
   "source": [
    "for j in range(4):\n",
    "    print(\"#\", end = \" \")\n",
    "\n",
    "print()\n",
    "\n",
    "for j in range(4):\n",
    "    print(\"#\", end = \" \")\n",
    "\n",
    "print()\n",
    "\n",
    "for j in range(4):\n",
    "    print(\"#\", end = \" \")\n",
    "\n",
    "print()\n",
    "\n",
    "for j in range(4):\n",
    "    print(\"#\", end = \" \")"
   ]
  },
  {
   "cell_type": "code",
   "execution_count": 69,
   "id": "26de1878-83cd-433d-a803-f33c129588cc",
   "metadata": {},
   "outputs": [
    {
     "name": "stdout",
     "output_type": "stream",
     "text": [
      "# # # # \n",
      "# # # # \n",
      "# # # # \n",
      "# # # # \n"
     ]
    }
   ],
   "source": [
    "for i in range(4):\n",
    "    for j in range(4):\n",
    "        print(\"#\", end = \" \")\n",
    "    print()"
   ]
  },
  {
   "cell_type": "code",
   "execution_count": 70,
   "id": "fc6428cb-08c0-4724-8b0f-872e2cc7812b",
   "metadata": {},
   "outputs": [
    {
     "name": "stdout",
     "output_type": "stream",
     "text": [
      "# \n",
      "# # \n",
      "# # # \n",
      "# # # # \n"
     ]
    }
   ],
   "source": [
    "for i in range(4):\n",
    "    for j in range(i+1):\n",
    "        print(\"#\", end =\" \")\n",
    "    print()"
   ]
  },
  {
   "cell_type": "code",
   "execution_count": 72,
   "id": "e644a47f-b8ce-4ef0-9394-0dfbe1a3e11c",
   "metadata": {},
   "outputs": [
    {
     "name": "stdout",
     "output_type": "stream",
     "text": [
      "# \n",
      "# # \n",
      "# # # \n",
      "# # # # \n"
     ]
    }
   ],
   "source": [
    "for i in range(1,5):\n",
    "    print(\"# \"*i)"
   ]
  },
  {
   "cell_type": "code",
   "execution_count": 73,
   "id": "42c6a658-f7bc-4da8-83cb-0b0fceb72d03",
   "metadata": {},
   "outputs": [
    {
     "data": {
      "text/plain": [
       "[0, 1, 2, 3, 4]"
      ]
     },
     "execution_count": 73,
     "metadata": {},
     "output_type": "execute_result"
    }
   ],
   "source": [
    "list(range(5))"
   ]
  },
  {
   "cell_type": "code",
   "execution_count": 80,
   "id": "a5c62cea-2518-4725-a5e5-6c31ddf63e44",
   "metadata": {},
   "outputs": [
    {
     "name": "stdout",
     "output_type": "stream",
     "text": [
      "\n",
      "# \n",
      "# # \n",
      "# # # \n"
     ]
    }
   ],
   "source": [
    "for i in range(4):\n",
    "    for j in range(i):\n",
    "        print(\"#\", end =\" \")\n",
    "    print()"
   ]
  },
  {
   "cell_type": "code",
   "execution_count": 82,
   "id": "02192a5c-510e-4bb1-ae15-0b2c72b25733",
   "metadata": {},
   "outputs": [
    {
     "name": "stdout",
     "output_type": "stream",
     "text": [
      "# # # # \n",
      "# # # \n",
      "# # \n",
      "# \n"
     ]
    }
   ],
   "source": [
    "for i in range(4):\n",
    "    for j in range(4-i):\n",
    "        print(\"#\", end = \" \")\n",
    "    print()"
   ]
  },
  {
   "cell_type": "code",
   "execution_count": 90,
   "id": "6f9e4b8d-710b-419a-bda3-60e11d98774b",
   "metadata": {},
   "outputs": [
    {
     "name": "stdout",
     "output_type": "stream",
     "text": [
      "# # # # \n",
      "# # # \n",
      "# # \n",
      "# \n",
      "\n",
      "\n"
     ]
    }
   ],
   "source": [
    "for i in range(5):\n",
    "    print(\"# \"*(4-i))\n",
    "print()"
   ]
  },
  {
   "cell_type": "code",
   "execution_count": 95,
   "id": "84051107-8722-4c17-874d-6255428bd43b",
   "metadata": {},
   "outputs": [
    {
     "name": "stdout",
     "output_type": "stream",
     "text": [
      "# # # # \n",
      "# # # \n",
      "# # \n",
      "# \n",
      "\n"
     ]
    }
   ],
   "source": [
    "for i in range(1,5):\n",
    "    print(\"# \"*(5-i))\n",
    "print()"
   ]
  },
  {
   "cell_type": "markdown",
   "id": "faee0370-b0bc-48ff-9ff9-71678351ca45",
   "metadata": {},
   "source": [
    "## For|Else Loop"
   ]
  },
  {
   "cell_type": "code",
   "execution_count": 97,
   "id": "51afe7c2-a8ff-4357-a2a7-2d314eed13b9",
   "metadata": {},
   "outputs": [
    {
     "name": "stdout",
     "output_type": "stream",
     "text": [
      "15\n"
     ]
    }
   ],
   "source": [
    "nums = [12,15,18,21,26]\n",
    "\n",
    "for num in nums:\n",
    "    if num%5 == 0:\n",
    "        print(num)"
   ]
  },
  {
   "cell_type": "code",
   "execution_count": 98,
   "id": "7d8bad9a-a6e2-46f7-92b3-1b14087605eb",
   "metadata": {},
   "outputs": [
    {
     "name": "stdout",
     "output_type": "stream",
     "text": [
      "25\n",
      "30\n",
      "35\n"
     ]
    }
   ],
   "source": [
    "nums = [12,14,18,21,25,30,35]\n",
    "\n",
    "for num in nums:\n",
    "    if num%5==0:\n",
    "        print(num)"
   ]
  },
  {
   "cell_type": "code",
   "execution_count": 99,
   "id": "715aed51-36aa-458d-a881-86b48442afbd",
   "metadata": {},
   "outputs": [
    {
     "name": "stdout",
     "output_type": "stream",
     "text": [
      "25\n"
     ]
    }
   ],
   "source": [
    "nums = [12,14,18,21,25,30,35]\n",
    "\n",
    "for num in nums:\n",
    "    if num%5==0:\n",
    "        print(num)\n",
    "        break"
   ]
  },
  {
   "cell_type": "code",
   "execution_count": 100,
   "id": "e702b5c0-9f83-4a2f-8e5a-d8e6511b8d4e",
   "metadata": {},
   "outputs": [],
   "source": [
    "nums = [12,14,18,21,22,34,38] #if number divisible by 5 is not in list it is not showing any message its is showing blank output\n",
    "for num in nums:\n",
    "    if num%5==0:\n",
    "        print(num)\n",
    "        break"
   ]
  },
  {
   "cell_type": "code",
   "execution_count": 103,
   "id": "e642c641-0190-42ca-8e9a-80def56915bc",
   "metadata": {},
   "outputs": [
    {
     "name": "stdout",
     "output_type": "stream",
     "text": [
      "Number not found\n",
      "Number not found\n",
      "Number not found\n",
      "Number not found\n",
      "Number not found\n",
      "Number not found\n",
      "Number not found\n"
     ]
    }
   ],
   "source": [
    "nums = [12,14,18,21,22,34,38]\n",
    "\n",
    "for num in nums:\n",
    "    if num%5==0:\n",
    "        print(num)\n",
    "        break \n",
    "    else:\n",
    "        print(\"Number not found\")"
   ]
  },
  {
   "cell_type": "code",
   "execution_count": 104,
   "id": "b37c7d37-376a-4bd9-8520-667780dc4444",
   "metadata": {},
   "outputs": [
    {
     "name": "stdout",
     "output_type": "stream",
     "text": [
      "10\n"
     ]
    }
   ],
   "source": [
    "nums = [10,14,18,21,20,27]\n",
    "\n",
    "for num in nums:\n",
    "    if num%5==0:\n",
    "        print(num)\n",
    "        break \n",
    "    else:\n",
    "        print(\"Number not found\")"
   ]
  },
  {
   "cell_type": "markdown",
   "id": "abe58378-820c-4372-bcaf-d94e67ed0c9f",
   "metadata": {},
   "source": [
    "## How to check whether given number is prime number or not\n",
    "\n",
    "A prime number is a natural number greater than 1 that has exactly two distinct positive divisors: 1 and itself. In other words, a prime number can only be divided by 1 and the number itself without leaving a remainder.\n",
    "\n",
    "🧮 Examples of Prime Numbers:\n",
    "2, 3, 5, 7, 11, 13, 17, 19, 23, 29, 31, 37, 41, 43, 47, 53, 59, 61, 67, 71, 73, 79, 83, 89, 97, etc."
   ]
  },
  {
   "cell_type": "code",
   "execution_count": 117,
   "id": "4d02ec96-0fda-4a5d-bd44-7a0744b8f236",
   "metadata": {},
   "outputs": [
    {
     "name": "stdout",
     "output_type": "stream",
     "text": [
      "29 is a prime number.\n"
     ]
    }
   ],
   "source": [
    "num = 29\n",
    "\n",
    "for i in range(2,num):\n",
    "    if num % i == 0:\n",
    "        print(f\"{num} is not a prime number.\")\n",
    "        break\n",
    "else:\n",
    "    print(f\"{num} is a prime number.\")"
   ]
  }
 ],
 "metadata": {
  "kernelspec": {
   "display_name": "Python 3 (ipykernel)",
   "language": "python",
   "name": "python3"
  },
  "language_info": {
   "codemirror_mode": {
    "name": "ipython",
    "version": 3
   },
   "file_extension": ".py",
   "mimetype": "text/x-python",
   "name": "python",
   "nbconvert_exporter": "python",
   "pygments_lexer": "ipython3",
   "version": "3.10.13"
  }
 },
 "nbformat": 4,
 "nbformat_minor": 5
}
