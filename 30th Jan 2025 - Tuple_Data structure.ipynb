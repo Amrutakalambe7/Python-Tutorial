{
 "cells": [
  {
   "cell_type": "markdown",
   "id": "89f352e5-2ccd-4030-842c-8124e8541555",
   "metadata": {},
   "source": [
    "## Tuple\n",
    "\n",
    "\n",
    "In Python, a tuple is an immutable, ordered collection of elements. It is similar to a list, but unlike lists, tuples cannot be changed (modified, added, or removed) after creation.\n",
    "\n",
    "**Key Features of Tuples:**\n",
    "1. Ordered – The elements have a fixed order.\n",
    "2. Immutable – Once created, a tuple cannot be changed.\n",
    "3.  Allows Duplicates – A tuple can have duplicate values.\n",
    "4. Supports Multiple Data Types – Can store different types of elements (integers, strings, lists, etc.).\n",
    "5. Faster than Lists – Since tuples are immutable, they are more memory-efficient and faster than lists.\n",
    "  \n",
    "**Tuple Syntax:**\n",
    "A tuple is created using parentheses () and elements are separated by commas ,."
   ]
  },
  {
   "cell_type": "markdown",
   "id": "a71e2fcd-22cb-4bd6-acd7-538555ccb52e",
   "metadata": {},
   "source": [
    "## Tuple Creation"
   ]
  },
  {
   "cell_type": "code",
   "execution_count": 3,
   "id": "1892c2d6-4a09-48ef-9ac7-b6e8889c9a00",
   "metadata": {},
   "outputs": [
    {
     "data": {
      "text/plain": [
       "()"
      ]
     },
     "execution_count": 3,
     "metadata": {},
     "output_type": "execute_result"
    }
   ],
   "source": [
    "tup1 = () # Empty Tuple\n",
    "tup1"
   ]
  },
  {
   "cell_type": "code",
   "execution_count": 4,
   "id": "772c4182-ae1d-4960-aa0a-f5ae54017e88",
   "metadata": {},
   "outputs": [
    {
     "name": "stdout",
     "output_type": "stream",
     "text": [
      "<class 'tuple'>\n"
     ]
    }
   ],
   "source": [
    "print(type(tup1))"
   ]
  },
  {
   "cell_type": "code",
   "execution_count": 5,
   "id": "a5e14d2d-85c7-475f-a0fa-4ab9a8992a9e",
   "metadata": {},
   "outputs": [
    {
     "data": {
      "text/plain": [
       "(10, 30, 60)"
      ]
     },
     "execution_count": 5,
     "metadata": {},
     "output_type": "execute_result"
    }
   ],
   "source": [
    "tup2 = (10,30,60) # Tuple of integer numbers\n",
    "tup2"
   ]
  },
  {
   "cell_type": "code",
   "execution_count": 6,
   "id": "1fc968ac-8456-47aa-8b4c-064eea747fc8",
   "metadata": {},
   "outputs": [
    {
     "data": {
      "text/plain": [
       "(10.1, 20.2, 30.3, 40.4, 50.5)"
      ]
     },
     "execution_count": 6,
     "metadata": {},
     "output_type": "execute_result"
    }
   ],
   "source": [
    "tup3 = (10.1, 20.2, 30.3, 40.4, 50.5) # Tuple of float numbers\n",
    "tup3"
   ]
  },
  {
   "cell_type": "code",
   "execution_count": 7,
   "id": "a33c995b-7564-4673-b5e3-c6decee02e07",
   "metadata": {},
   "outputs": [
    {
     "data": {
      "text/plain": [
       "('one', 'two', 'three')"
      ]
     },
     "execution_count": 7,
     "metadata": {},
     "output_type": "execute_result"
    }
   ],
   "source": [
    "tup4 = ('one', 'two', 'three') # tuple of string\n",
    "tup4"
   ]
  },
  {
   "cell_type": "code",
   "execution_count": 9,
   "id": "abee69a6-95fa-4111-bce9-ff9b8ff0167e",
   "metadata": {},
   "outputs": [
    {
     "data": {
      "text/plain": [
       "('Asif', 'Netra', 10, 20.8, (20, 50), (70, 90))"
      ]
     },
     "execution_count": 9,
     "metadata": {},
     "output_type": "execute_result"
    }
   ],
   "source": [
    "tup5 = ('Asif', 'Netra', 10,20.8,(20,50),(70,90)) # Tuple inside tuple - Nested Tuple\n",
    "tup5"
   ]
  },
  {
   "cell_type": "code",
   "execution_count": 12,
   "id": "da5631ab-b441-4920-847f-5daf881e309b",
   "metadata": {},
   "outputs": [
    {
     "data": {
      "text/plain": [
       "('Asif', 'Netra', 10, 20.8, True)"
      ]
     },
     "execution_count": 12,
     "metadata": {},
     "output_type": "execute_result"
    }
   ],
   "source": [
    "tup6 = ('Asif', 'Netra', 10,20.8,True) # Tuple of mixed data types\n",
    "tup6"
   ]
  },
  {
   "cell_type": "code",
   "execution_count": 13,
   "id": "efb30096-39f5-4046-a9d7-1680321f99fd",
   "metadata": {},
   "outputs": [
    {
     "data": {
      "text/plain": [
       "('Asif',\n",
       " 'Netra',\n",
       " 10,\n",
       " 20.8,\n",
       " (20, 50),\n",
       " (70, 90),\n",
       " [10, 20, 30],\n",
       " {'David', 'John'})"
      ]
     },
     "execution_count": 13,
     "metadata": {},
     "output_type": "execute_result"
    }
   ],
   "source": [
    "tup7 = ('Asif', 'Netra', 10,20.8,(20,50),(70,90),[10,20,30],{'John', 'David'})\n",
    "tup7"
   ]
  },
  {
   "cell_type": "code",
   "execution_count": 14,
   "id": "6197d8f1-9833-4c2e-be3e-3c509037acde",
   "metadata": {},
   "outputs": [
    {
     "data": {
      "text/plain": [
       "8"
      ]
     },
     "execution_count": 14,
     "metadata": {},
     "output_type": "execute_result"
    }
   ],
   "source": [
    "len(tup7)"
   ]
  },
  {
   "cell_type": "markdown",
   "id": "f31ee551-4458-432f-9da8-ad996496cd21",
   "metadata": {},
   "source": [
    "## Tuple Indexing"
   ]
  },
  {
   "cell_type": "code",
   "execution_count": 15,
   "id": "5d0d3857-af40-4284-a763-b784e99b482a",
   "metadata": {},
   "outputs": [
    {
     "data": {
      "text/plain": [
       "(10, 30, 60)"
      ]
     },
     "execution_count": 15,
     "metadata": {},
     "output_type": "execute_result"
    }
   ],
   "source": [
    "tup2"
   ]
  },
  {
   "cell_type": "code",
   "execution_count": 16,
   "id": "fcb2d4c1-defa-4d37-ac39-96a646e51727",
   "metadata": {},
   "outputs": [
    {
     "data": {
      "text/plain": [
       "10"
      ]
     },
     "execution_count": 16,
     "metadata": {},
     "output_type": "execute_result"
    }
   ],
   "source": [
    "tup2[0] # Retriving 1st element of tuple"
   ]
  },
  {
   "cell_type": "code",
   "execution_count": 17,
   "id": "b602b8f8-c7fc-47e4-bcc7-d4e01caeaae5",
   "metadata": {},
   "outputs": [
    {
     "data": {
      "text/plain": [
       "60"
      ]
     },
     "execution_count": 17,
     "metadata": {},
     "output_type": "execute_result"
    }
   ],
   "source": [
    "tup2[-1] # Retriving last element of tuple"
   ]
  },
  {
   "cell_type": "code",
   "execution_count": 20,
   "id": "0b845012-c785-4eba-bfe6-5a69eba5561d",
   "metadata": {},
   "outputs": [
    {
     "data": {
      "text/plain": [
       "'two'"
      ]
     },
     "execution_count": 20,
     "metadata": {},
     "output_type": "execute_result"
    }
   ],
   "source": [
    "tup4[1]"
   ]
  },
  {
   "cell_type": "code",
   "execution_count": 21,
   "id": "5d65a8f3-12a1-4872-97e6-d1e57adcf501",
   "metadata": {},
   "outputs": [
    {
     "data": {
      "text/plain": [
       "'w'"
      ]
     },
     "execution_count": 21,
     "metadata": {},
     "output_type": "execute_result"
    }
   ],
   "source": [
    "tup4[1][1] # nested index - access the charecter of the at 1st index of tuple element"
   ]
  },
  {
   "cell_type": "code",
   "execution_count": 22,
   "id": "3a37d3c1-3a02-4505-b99a-e6de19ad2c61",
   "metadata": {},
   "outputs": [
    {
     "data": {
      "text/plain": [
       "50.5"
      ]
     },
     "execution_count": 22,
     "metadata": {},
     "output_type": "execute_result"
    }
   ],
   "source": [
    "tup3[-1]"
   ]
  },
  {
   "cell_type": "code",
   "execution_count": 25,
   "id": "f4d793c5-d84c-42b7-bfa1-7c5f734858a4",
   "metadata": {},
   "outputs": [
    {
     "data": {
      "text/plain": [
       "'e'"
      ]
     },
     "execution_count": 25,
     "metadata": {},
     "output_type": "execute_result"
    }
   ],
   "source": [
    "tup4[-1][-1]"
   ]
  },
  {
   "cell_type": "code",
   "execution_count": 26,
   "id": "8b067598-af91-4f87-8a36-575fc857b63a",
   "metadata": {},
   "outputs": [
    {
     "data": {
      "text/plain": [
       "(70, 90)"
      ]
     },
     "execution_count": 26,
     "metadata": {},
     "output_type": "execute_result"
    }
   ],
   "source": [
    "tup5[-1] # retriving last element of tuple"
   ]
  },
  {
   "cell_type": "markdown",
   "id": "a752bc56-4190-4b39-b258-28ee08af86f7",
   "metadata": {},
   "source": [
    "## Tuple Slicing"
   ]
  },
  {
   "cell_type": "code",
   "execution_count": 27,
   "id": "2f15d6eb-53c7-41a1-a690-b72bd5fb36d3",
   "metadata": {},
   "outputs": [
    {
     "data": {
      "text/plain": [
       "('one', 'two', 'three', 'four', 'five', 'six', 'seven', 'eight')"
      ]
     },
     "execution_count": 27,
     "metadata": {},
     "output_type": "execute_result"
    }
   ],
   "source": [
    "mytup= ('one', 'two', 'three', 'four', 'five', 'six', 'seven', 'eight')\n",
    "mytup"
   ]
  },
  {
   "cell_type": "code",
   "execution_count": 30,
   "id": "09ab25be-348a-49ca-8f0f-5d78c7b6eb69",
   "metadata": {},
   "outputs": [
    {
     "data": {
      "text/plain": [
       "('one', 'two', 'three')"
      ]
     },
     "execution_count": 30,
     "metadata": {},
     "output_type": "execute_result"
    }
   ],
   "source": [
    "mytup[0:3] #Retring all elements from 0th to 3rd index excluding element at 3rd index i.e 0 - 2"
   ]
  },
  {
   "cell_type": "code",
   "execution_count": 31,
   "id": "19ce647c-aca5-4e8c-8062-d00ed0fd82b2",
   "metadata": {},
   "outputs": [
    {
     "data": {
      "text/plain": [
       "('three', 'four', 'five')"
      ]
     },
     "execution_count": 31,
     "metadata": {},
     "output_type": "execute_result"
    }
   ],
   "source": [
    "mytup[2:5] #Retring all elements from 2nd to 4th index excluding element at 5th index i.e 2-4"
   ]
  },
  {
   "cell_type": "code",
   "execution_count": 32,
   "id": "565fa8c3-c158-4ce8-b4f5-3663c19db26c",
   "metadata": {},
   "outputs": [
    {
     "data": {
      "text/plain": [
       "('one', 'two', 'three')"
      ]
     },
     "execution_count": 32,
     "metadata": {},
     "output_type": "execute_result"
    }
   ],
   "source": [
    "mytup[:3] # All elemets from 0th to 2nd index"
   ]
  },
  {
   "cell_type": "code",
   "execution_count": 33,
   "id": "dd45ba7c-75b0-4140-beda-39d6cc88fe60",
   "metadata": {},
   "outputs": [
    {
     "data": {
      "text/plain": [
       "('one', 'two')"
      ]
     },
     "execution_count": 33,
     "metadata": {},
     "output_type": "execute_result"
    }
   ],
   "source": [
    "mytup[:2] # return 1st 2 elements"
   ]
  },
  {
   "cell_type": "code",
   "execution_count": 34,
   "id": "a7ded236-d405-4554-b361-0e9d9f2b7e69",
   "metadata": {},
   "outputs": [
    {
     "data": {
      "text/plain": [
       "('one', 'two', 'three', 'four', 'five', 'six', 'seven', 'eight')"
      ]
     },
     "execution_count": 34,
     "metadata": {},
     "output_type": "execute_result"
    }
   ],
   "source": [
    "mytup"
   ]
  },
  {
   "cell_type": "code",
   "execution_count": 35,
   "id": "a00baeb5-28b3-4e1b-8291-dd5abfeb629f",
   "metadata": {},
   "outputs": [
    {
     "data": {
      "text/plain": [
       "('six', 'seven', 'eight')"
      ]
     },
     "execution_count": 35,
     "metadata": {},
     "output_type": "execute_result"
    }
   ],
   "source": [
    "mytup[-3:] # Return last 3 elements"
   ]
  },
  {
   "cell_type": "code",
   "execution_count": 36,
   "id": "25175fc1-85db-4544-b7a2-e0dfdeef60f3",
   "metadata": {},
   "outputs": [
    {
     "data": {
      "text/plain": [
       "('seven', 'eight')"
      ]
     },
     "execution_count": 36,
     "metadata": {},
     "output_type": "execute_result"
    }
   ],
   "source": [
    "mytup[-2:] # Return last 2 elements"
   ]
  },
  {
   "cell_type": "code",
   "execution_count": 38,
   "id": "f6c64777-6e71-4e1f-bec4-2f2c2a9d7e7f",
   "metadata": {},
   "outputs": [
    {
     "data": {
      "text/plain": [
       "'eight'"
      ]
     },
     "execution_count": 38,
     "metadata": {},
     "output_type": "execute_result"
    }
   ],
   "source": [
    "mytup[-1] # Return last elements"
   ]
  },
  {
   "cell_type": "code",
   "execution_count": 39,
   "id": "16aae6b2-dc62-4d4c-b0d4-f07146152fc3",
   "metadata": {},
   "outputs": [
    {
     "data": {
      "text/plain": [
       "('one', 'two', 'three', 'four', 'five', 'six', 'seven', 'eight')"
      ]
     },
     "execution_count": 39,
     "metadata": {},
     "output_type": "execute_result"
    }
   ],
   "source": [
    "mytup[:] #entire tuple"
   ]
  },
  {
   "cell_type": "markdown",
   "id": "ec891577-adfd-435a-9235-d10f68326065",
   "metadata": {},
   "source": [
    "## Remove and change Items"
   ]
  },
  {
   "cell_type": "code",
   "execution_count": 40,
   "id": "7e45bd67-d5b3-406a-8235-81f63e2b9c5f",
   "metadata": {},
   "outputs": [
    {
     "data": {
      "text/plain": [
       "('one', 'two', 'three', 'four', 'five', 'six', 'seven', 'eight')"
      ]
     },
     "execution_count": 40,
     "metadata": {},
     "output_type": "execute_result"
    }
   ],
   "source": [
    "mytup"
   ]
  },
  {
   "cell_type": "code",
   "execution_count": 42,
   "id": "acda1668-279f-46a3-9125-4ea5c0b8c1f5",
   "metadata": {},
   "outputs": [
    {
     "ename": "TypeError",
     "evalue": "'tuple' object does not support item assignment",
     "output_type": "error",
     "traceback": [
      "\u001b[1;31m---------------------------------------------------------------------------\u001b[0m",
      "\u001b[1;31mTypeError\u001b[0m                                 Traceback (most recent call last)",
      "Cell \u001b[1;32mIn[42], line 1\u001b[0m\n\u001b[1;32m----> 1\u001b[0m mytup[\u001b[38;5;241m5\u001b[39m] \u001b[38;5;241m=\u001b[39m \u001b[38;5;124m'\u001b[39m\u001b[38;5;124mten\u001b[39m\u001b[38;5;124m'\u001b[39m\n",
      "\u001b[1;31mTypeError\u001b[0m: 'tuple' object does not support item assignment"
     ]
    }
   ],
   "source": [
    "mytup[5] = 'ten' # Tuple are immutable so we can not chnage tuple elements once created"
   ]
  },
  {
   "cell_type": "code",
   "execution_count": 43,
   "id": "ef4c337a-1337-4796-9f4c-6cda77225236",
   "metadata": {},
   "outputs": [
    {
     "ename": "AttributeError",
     "evalue": "'tuple' object has no attribute 'remove'",
     "output_type": "error",
     "traceback": [
      "\u001b[1;31m---------------------------------------------------------------------------\u001b[0m",
      "\u001b[1;31mAttributeError\u001b[0m                            Traceback (most recent call last)",
      "Cell \u001b[1;32mIn[43], line 1\u001b[0m\n\u001b[1;32m----> 1\u001b[0m \u001b[43mmytup\u001b[49m\u001b[38;5;241;43m.\u001b[39;49m\u001b[43mremove\u001b[49m(\u001b[38;5;124m'\u001b[39m\u001b[38;5;124mseven\u001b[39m\u001b[38;5;124m'\u001b[39m)\n",
      "\u001b[1;31mAttributeError\u001b[0m: 'tuple' object has no attribute 'remove'"
     ]
    }
   ],
   "source": [
    "mytup.remove('seven') # Tuple are immutable so we can not remove tuple elements once created"
   ]
  },
  {
   "cell_type": "code",
   "execution_count": 44,
   "id": "81d09835-5dcf-4ade-8177-7cc5c2ac1b61",
   "metadata": {},
   "outputs": [
    {
     "ename": "TypeError",
     "evalue": "'tuple' object doesn't support item deletion",
     "output_type": "error",
     "traceback": [
      "\u001b[1;31m---------------------------------------------------------------------------\u001b[0m",
      "\u001b[1;31mTypeError\u001b[0m                                 Traceback (most recent call last)",
      "Cell \u001b[1;32mIn[44], line 1\u001b[0m\n\u001b[1;32m----> 1\u001b[0m \u001b[38;5;28;01mdel\u001b[39;00m mytup[\u001b[38;5;241m0\u001b[39m]\n",
      "\u001b[1;31mTypeError\u001b[0m: 'tuple' object doesn't support item deletion"
     ]
    }
   ],
   "source": [
    "del mytup[0] #Tuples are immutable which means we can't delete it once created"
   ]
  },
  {
   "cell_type": "code",
   "execution_count": 45,
   "id": "951b6a77-c724-45a1-9038-8b0b5faf0755",
   "metadata": {},
   "outputs": [],
   "source": [
    "del mytup #deleting entire tuple is posible"
   ]
  },
  {
   "cell_type": "code",
   "execution_count": 46,
   "id": "9eecd46c-0719-4be2-87b5-3c71914a89ab",
   "metadata": {},
   "outputs": [
    {
     "ename": "NameError",
     "evalue": "name 'mytup' is not defined",
     "output_type": "error",
     "traceback": [
      "\u001b[1;31m---------------------------------------------------------------------------\u001b[0m",
      "\u001b[1;31mNameError\u001b[0m                                 Traceback (most recent call last)",
      "Cell \u001b[1;32mIn[46], line 1\u001b[0m\n\u001b[1;32m----> 1\u001b[0m \u001b[43mmytup\u001b[49m\n",
      "\u001b[1;31mNameError\u001b[0m: name 'mytup' is not defined"
     ]
    }
   ],
   "source": [
    "mytup"
   ]
  },
  {
   "cell_type": "markdown",
   "id": "7f82d3bb-4aa5-4f6e-89ca-50d1d6e0e7f1",
   "metadata": {},
   "source": [
    "## Loop Through a tuple"
   ]
  },
  {
   "cell_type": "code",
   "execution_count": 47,
   "id": "acbc1561-a01f-427b-b947-8dc3e34a9a1c",
   "metadata": {},
   "outputs": [
    {
     "data": {
      "text/plain": [
       "('one', 'two', 'three', 'four', 'five', 'six', 'seven', 'eight')"
      ]
     },
     "execution_count": 47,
     "metadata": {},
     "output_type": "execute_result"
    }
   ],
   "source": [
    "mytup= ('one', 'two', 'three', 'four', 'five', 'six', 'seven', 'eight')\n",
    "mytup"
   ]
  },
  {
   "cell_type": "code",
   "execution_count": 48,
   "id": "a4f4a148-9ae3-4d20-852b-7cc1bbb3f120",
   "metadata": {},
   "outputs": [
    {
     "name": "stdout",
     "output_type": "stream",
     "text": [
      "one\n",
      "two\n",
      "three\n",
      "four\n",
      "five\n",
      "six\n",
      "seven\n",
      "eight\n"
     ]
    }
   ],
   "source": [
    "for i in mytup:\n",
    "    print(i)"
   ]
  },
  {
   "cell_type": "code",
   "execution_count": 50,
   "id": "3c20719b-4a40-4f5f-8fd1-c6004f856ea2",
   "metadata": {},
   "outputs": [
    {
     "name": "stdout",
     "output_type": "stream",
     "text": [
      "(0, 'one')\n",
      "(1, 'two')\n",
      "(2, 'three')\n",
      "(3, 'four')\n",
      "(4, 'five')\n",
      "(5, 'six')\n",
      "(6, 'seven')\n",
      "(7, 'eight')\n"
     ]
    }
   ],
   "source": [
    "for i in enumerate(mytup):\n",
    "    print(i)"
   ]
  },
  {
   "cell_type": "markdown",
   "id": "e375336f-e863-48e0-bb2f-4396f361f832",
   "metadata": {},
   "source": [
    "## Tuple Membership"
   ]
  },
  {
   "cell_type": "code",
   "execution_count": 52,
   "id": "568fff8c-472b-48f8-8fb6-beaef2a7fe16",
   "metadata": {},
   "outputs": [
    {
     "data": {
      "text/plain": [
       "('one', 'two', 'three', 'four', 'five', 'six', 'seven', 'eight')"
      ]
     },
     "execution_count": 52,
     "metadata": {},
     "output_type": "execute_result"
    }
   ],
   "source": [
    "mytup"
   ]
  },
  {
   "cell_type": "code",
   "execution_count": 53,
   "id": "fd59b119-b176-4132-a5ad-b08c1fb2c526",
   "metadata": {},
   "outputs": [
    {
     "data": {
      "text/plain": [
       "True"
      ]
     },
     "execution_count": 53,
     "metadata": {},
     "output_type": "execute_result"
    }
   ],
   "source": [
    "'one' in mytup #check if 'one' is exist in mytup or not"
   ]
  },
  {
   "cell_type": "code",
   "execution_count": 54,
   "id": "293b2acc-46ab-4453-9f6d-a73100e6216f",
   "metadata": {},
   "outputs": [
    {
     "data": {
      "text/plain": [
       "True"
      ]
     },
     "execution_count": 54,
     "metadata": {},
     "output_type": "execute_result"
    }
   ],
   "source": [
    "'eight' in mytup #check if 'eight' is exist in mytup or not"
   ]
  },
  {
   "cell_type": "code",
   "execution_count": 55,
   "id": "0c74fa6d-bbaf-4fb5-9d3d-537c34708463",
   "metadata": {},
   "outputs": [
    {
     "data": {
      "text/plain": [
       "False"
      ]
     },
     "execution_count": 55,
     "metadata": {},
     "output_type": "execute_result"
    }
   ],
   "source": [
    "'ten' in mytup #check if 'ten' is exist in mytup or not"
   ]
  },
  {
   "cell_type": "code",
   "execution_count": 58,
   "id": "7c000524-fe6e-42d6-966d-080ba03dfc9e",
   "metadata": {},
   "outputs": [
    {
     "name": "stdout",
     "output_type": "stream",
     "text": [
      "Three is present in mytup\n"
     ]
    }
   ],
   "source": [
    "if 'three' in mytup: #check if 'three' is exist in mytup or not\n",
    "    print('Three is present in mytup')\n",
    "else:\n",
    "    print('Three is not present in mytup')"
   ]
  },
  {
   "cell_type": "code",
   "execution_count": 59,
   "id": "0e5599cc-2579-483c-9e15-08ce79b165a0",
   "metadata": {},
   "outputs": [
    {
     "name": "stdout",
     "output_type": "stream",
     "text": [
      "Twelve is not present in mytup\n"
     ]
    }
   ],
   "source": [
    "if 'twelve' in mytup: #check if 'Twelve' is exist in mytup or not\n",
    "    print('Twelve is present in mytup')\n",
    "else:\n",
    "    print('Twelve is not present in mytup')"
   ]
  },
  {
   "cell_type": "markdown",
   "id": "72ba9968-fda0-43c5-b4be-99ae5c5f935e",
   "metadata": {},
   "source": [
    "## Index Position"
   ]
  },
  {
   "cell_type": "code",
   "execution_count": 61,
   "id": "b4074e95-b5dc-4b94-bda5-10e163725b34",
   "metadata": {},
   "outputs": [
    {
     "data": {
      "text/plain": [
       "('one', 'two', 'three', 'four', 'five', 'six', 'seven', 'eight')"
      ]
     },
     "execution_count": 61,
     "metadata": {},
     "output_type": "execute_result"
    }
   ],
   "source": [
    "mytup"
   ]
  },
  {
   "cell_type": "code",
   "execution_count": 63,
   "id": "0fa20ec4-cca7-4dea-9364-3d048298ea3c",
   "metadata": {},
   "outputs": [
    {
     "data": {
      "text/plain": [
       "0"
      ]
     },
     "execution_count": 63,
     "metadata": {},
     "output_type": "execute_result"
    }
   ],
   "source": [
    "mytup.index('one') #return the index of 'one'"
   ]
  },
  {
   "cell_type": "code",
   "execution_count": 64,
   "id": "acad662a-2571-4e70-9477-fef03b6e1e6d",
   "metadata": {},
   "outputs": [
    {
     "data": {
      "text/plain": [
       "4"
      ]
     },
     "execution_count": 64,
     "metadata": {},
     "output_type": "execute_result"
    }
   ],
   "source": [
    "mytup.index('five') #return the index of 'five'"
   ]
  },
  {
   "cell_type": "code",
   "execution_count": 65,
   "id": "20f5d923-ccbb-4f0b-ab9b-d55fe8a6347e",
   "metadata": {},
   "outputs": [
    {
     "data": {
      "text/plain": [
       "('one', 'two', 'three', 'four', 'one', 'one', 'two', 'three')"
      ]
     },
     "execution_count": 65,
     "metadata": {},
     "output_type": "execute_result"
    }
   ],
   "source": [
    "mytup1 = ('one', 'two', 'three', 'four','one','one', 'two', 'three')\n",
    "mytup1"
   ]
  },
  {
   "cell_type": "code",
   "execution_count": 66,
   "id": "2fce5fc2-05e4-4643-ad08-12261dab0221",
   "metadata": {},
   "outputs": [
    {
     "data": {
      "text/plain": [
       "2"
      ]
     },
     "execution_count": 66,
     "metadata": {},
     "output_type": "execute_result"
    }
   ],
   "source": [
    "mytup1.index('three')"
   ]
  },
  {
   "cell_type": "markdown",
   "id": "8e2ee056-f8ce-4653-b019-2d2b475e7e89",
   "metadata": {},
   "source": [
    "## Sorting"
   ]
  },
  {
   "cell_type": "code",
   "execution_count": 67,
   "id": "4c1d12f8-21ea-4b7f-ae3c-a12d339a8e43",
   "metadata": {},
   "outputs": [
    {
     "data": {
      "text/plain": [
       "(46, 98, 6, 12, 19, 45, 77)"
      ]
     },
     "execution_count": 67,
     "metadata": {},
     "output_type": "execute_result"
    }
   ],
   "source": [
    "mytup2 = (46,98,6,12,19,45,77)\n",
    "mytup2"
   ]
  },
  {
   "cell_type": "code",
   "execution_count": 68,
   "id": "d51390ce-7fb4-416d-96d6-b87fb636e730",
   "metadata": {},
   "outputs": [
    {
     "data": {
      "text/plain": [
       "[6, 12, 19, 45, 46, 77, 98]"
      ]
     },
     "execution_count": 68,
     "metadata": {},
     "output_type": "execute_result"
    }
   ],
   "source": [
    "sorted(mytup2) # return a new sorted list and don't change original one"
   ]
  },
  {
   "cell_type": "code",
   "execution_count": 70,
   "id": "2ab7cb6c-003c-4448-8f71-b3b94e346343",
   "metadata": {},
   "outputs": [
    {
     "data": {
      "text/plain": [
       "[98, 77, 46, 45, 19, 12, 6]"
      ]
     },
     "execution_count": 70,
     "metadata": {},
     "output_type": "execute_result"
    }
   ],
   "source": [
    "sorted(mytup2, reverse = True) #sorted tuple in descending order"
   ]
  }
 ],
 "metadata": {
  "kernelspec": {
   "display_name": "Python 3 (ipykernel)",
   "language": "python",
   "name": "python3"
  },
  "language_info": {
   "codemirror_mode": {
    "name": "ipython",
    "version": 3
   },
   "file_extension": ".py",
   "mimetype": "text/x-python",
   "name": "python",
   "nbconvert_exporter": "python",
   "pygments_lexer": "ipython3",
   "version": "3.10.13"
  }
 },
 "nbformat": 4,
 "nbformat_minor": 5
}
