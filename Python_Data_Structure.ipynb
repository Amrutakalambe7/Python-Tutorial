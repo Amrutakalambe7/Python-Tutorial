{
 "cells": [
  {
   "cell_type": "markdown",
   "id": "fd8ba75c-1d30-4dda-8f9e-a22cc2fecc8e",
   "metadata": {},
   "source": [
    "## Data Structures"
   ]
  },
  {
   "cell_type": "markdown",
   "id": "7ddb2609-2d03-45ab-baf4-b850798dec3d",
   "metadata": {},
   "source": [
    "![Image description](pythondatastructuresmin.png)"
   ]
  },
  {
   "cell_type": "markdown",
   "id": "96c5db43-92ae-47c4-aa85-3833be4b19ab",
   "metadata": {},
   "source": [
    "![image description](pyds.jpg)"
   ]
  },
  {
   "cell_type": "markdown",
   "id": "93da16fe-70ed-45e6-a219-502cba4d5933",
   "metadata": {},
   "source": [
    "What is meant by python Data structure?\n",
    "\n",
    "A Python data structure refers to a specific way of organizing, storing, and managing data in Python so that it can be used efficiently. These structures help in solving computational problems and are an integral part of programming.\n",
    "\n",
    "**Types of Python Data Structures:**\n",
    "1. built-in data structures\n",
    "2. user-defined data structures\n",
    "\n",
    "**Built-in Data Structures:**\n",
    "1. Lists:\n",
    "Ordered, mutable (can be modified), and allows duplicate elements.\n",
    "Syntax: my_list = [1, 2, 3]\n",
    "\n",
    "2. Tuples:\n",
    "Ordered, immutable (cannot be modified after creation), and allows duplicate elements.\n",
    "Syntax: my_tuple = (1, 2, 3)\n",
    "\n",
    "4. Set\n",
    "Unordered, mutable, and contains only unique elements.\n",
    "Syntax: my_set = {1, 2, 3}\n",
    "\n",
    "5. Dictionary\n",
    "Key-value pairs, unordered (Python 3.7+ maintains insertion order), mutable, and keys must be unique.\n",
    "Syntax: my_dict = {'key1': 'value1', 'key2': 'value2'}\n",
    "\n",
    "**User-defined Data Structures:**\n",
    "1. Stacks:\n",
    "Follows Last In, First Out (LIFO) principle.\n",
    "\n",
    "2. Queues:\n",
    "Follows First In, First Out (FIFO) principle.\n",
    "\n",
    "3. Linked Lists:\n",
    "A linear collection of nodes, where each node points to the next node.\n",
    "\n",
    "4. Trees and Graphs:\n",
    "Non-linear structures used for hierarchical (trees) or connected (graphs) data representation.\n",
    "\n",
    "5. Hash Tables:\n",
    "A more advanced form of a dictionary, using hashing for faster lookups.\n",
    "\n",
    "**Why Are Data Structures Important?**\n",
    "+ They optimize performance (e.g., faster searching, sorting, or accessing elements).\n",
    "+ They help solve complex computational problems in an organized way.\n",
    "+ They are essential in algorithm development and problem-solving."
   ]
  },
  {
   "cell_type": "code",
   "execution_count": 1,
   "id": "ea998f6e-b8e7-499a-9128-11d5a6630fd9",
   "metadata": {},
   "outputs": [
    {
     "data": {
      "text/plain": [
       "6.6"
      ]
     },
     "execution_count": 1,
     "metadata": {},
     "output_type": "execute_result"
    }
   ],
   "source": [
    "i =6.6\n",
    "i"
   ]
  },
  {
   "cell_type": "code",
   "execution_count": 2,
   "id": "fbc45daa-4a6d-4bcf-9b55-13bf496b82ab",
   "metadata": {},
   "outputs": [
    {
     "name": "stdout",
     "output_type": "stream",
     "text": [
      "<class 'float'>\n"
     ]
    }
   ],
   "source": [
    "print(type(i))"
   ]
  },
  {
   "cell_type": "code",
   "execution_count": 3,
   "id": "439d1259-ea42-48be-a9bf-9e172dc8c3da",
   "metadata": {},
   "outputs": [
    {
     "data": {
      "text/plain": [
       "[]"
      ]
     },
     "execution_count": 3,
     "metadata": {},
     "output_type": "execute_result"
    }
   ],
   "source": [
    "l =[]\n",
    "l"
   ]
  },
  {
   "cell_type": "code",
   "execution_count": 4,
   "id": "7b50dfc2-7199-40ec-98ed-d4135b745d62",
   "metadata": {},
   "outputs": [
    {
     "data": {
      "text/plain": [
       "list"
      ]
     },
     "execution_count": 4,
     "metadata": {},
     "output_type": "execute_result"
    }
   ],
   "source": [
    "type(l)"
   ]
  },
  {
   "cell_type": "code",
   "execution_count": 5,
   "id": "27613706-77d8-4b48-b635-9ea53a8b679c",
   "metadata": {},
   "outputs": [
    {
     "data": {
      "text/plain": [
       "0"
      ]
     },
     "execution_count": 5,
     "metadata": {},
     "output_type": "execute_result"
    }
   ],
   "source": [
    "len(l)"
   ]
  },
  {
   "cell_type": "code",
   "execution_count": 6,
   "id": "d4053fd6-4117-4478-8d19-816c03fa328f",
   "metadata": {},
   "outputs": [
    {
     "ename": "TypeError",
     "evalue": "len() takes exactly one argument (0 given)",
     "output_type": "error",
     "traceback": [
      "\u001b[1;31m---------------------------------------------------------------------------\u001b[0m",
      "\u001b[1;31mTypeError\u001b[0m                                 Traceback (most recent call last)",
      "Cell \u001b[1;32mIn[6], line 1\u001b[0m\n\u001b[1;32m----> 1\u001b[0m \u001b[38;5;28;43mlen\u001b[39;49m\u001b[43m(\u001b[49m\u001b[43m)\u001b[49m\n",
      "\u001b[1;31mTypeError\u001b[0m: len() takes exactly one argument (0 given)"
     ]
    }
   ],
   "source": [
    "len()"
   ]
  },
  {
   "cell_type": "code",
   "execution_count": 7,
   "id": "0cd4e727-f7dd-4ecc-8895-18a342e887ef",
   "metadata": {},
   "outputs": [
    {
     "data": {
      "text/plain": [
       "[10]"
      ]
     },
     "execution_count": 7,
     "metadata": {},
     "output_type": "execute_result"
    }
   ],
   "source": [
    "l.append(10)\n",
    "l"
   ]
  },
  {
   "cell_type": "code",
   "execution_count": 8,
   "id": "299869e6-763f-40d4-9adc-692ce7e061b7",
   "metadata": {},
   "outputs": [
    {
     "data": {
      "text/plain": [
       "[10, 1]"
      ]
     },
     "execution_count": 8,
     "metadata": {},
     "output_type": "execute_result"
    }
   ],
   "source": [
    "l.append(1)\n",
    "l"
   ]
  },
  {
   "cell_type": "code",
   "execution_count": 9,
   "id": "f1e41e50-1553-4aed-9295-d54998f70295",
   "metadata": {},
   "outputs": [
    {
     "ename": "TypeError",
     "evalue": "list.append() takes exactly one argument (4 given)",
     "output_type": "error",
     "traceback": [
      "\u001b[1;31m---------------------------------------------------------------------------\u001b[0m",
      "\u001b[1;31mTypeError\u001b[0m                                 Traceback (most recent call last)",
      "Cell \u001b[1;32mIn[9], line 1\u001b[0m\n\u001b[1;32m----> 1\u001b[0m \u001b[43ml\u001b[49m\u001b[38;5;241;43m.\u001b[39;49m\u001b[43mappend\u001b[49m\u001b[43m(\u001b[49m\u001b[38;5;241;43m10\u001b[39;49m\u001b[43m,\u001b[49m\u001b[38;5;241;43m20\u001b[39;49m\u001b[43m,\u001b[49m\u001b[38;5;241;43m30\u001b[39;49m\u001b[43m,\u001b[49m\u001b[38;5;241;43m40\u001b[39;49m\u001b[43m)\u001b[49m\n\u001b[0;32m      2\u001b[0m l\n",
      "\u001b[1;31mTypeError\u001b[0m: list.append() takes exactly one argument (4 given)"
     ]
    }
   ],
   "source": [
    "l.append(10,20,30,40)\n",
    "l"
   ]
  },
  {
   "cell_type": "code",
   "execution_count": 10,
   "id": "35b6681a-d086-44b3-bfd0-2c3e7dbd916c",
   "metadata": {},
   "outputs": [
    {
     "ename": "TypeError",
     "evalue": "list.append() takes exactly one argument (3 given)",
     "output_type": "error",
     "traceback": [
      "\u001b[1;31m---------------------------------------------------------------------------\u001b[0m",
      "\u001b[1;31mTypeError\u001b[0m                                 Traceback (most recent call last)",
      "Cell \u001b[1;32mIn[10], line 2\u001b[0m\n\u001b[0;32m      1\u001b[0m l\u001b[38;5;241m.\u001b[39mappend(\u001b[38;5;241m10\u001b[39m)\n\u001b[1;32m----> 2\u001b[0m \u001b[43ml\u001b[49m\u001b[38;5;241;43m.\u001b[39;49m\u001b[43mappend\u001b[49m\u001b[43m(\u001b[49m\u001b[38;5;241;43m20\u001b[39;49m\u001b[43m,\u001b[49m\u001b[38;5;241;43m30\u001b[39;49m\u001b[43m,\u001b[49m\u001b[38;5;241;43m40\u001b[39;49m\u001b[43m)\u001b[49m\n\u001b[0;32m      3\u001b[0m l\n",
      "\u001b[1;31mTypeError\u001b[0m: list.append() takes exactly one argument (3 given)"
     ]
    }
   ],
   "source": [
    "l.append(10)\n",
    "l.append(20,30,40)\n",
    "l"
   ]
  },
  {
   "cell_type": "code",
   "execution_count": 11,
   "id": "ea189aec-f06a-4c4a-a0e0-9bde94e4d597",
   "metadata": {},
   "outputs": [
    {
     "data": {
      "text/plain": [
       "[10, 1, 10, 10, 20, 30, 40]"
      ]
     },
     "execution_count": 11,
     "metadata": {},
     "output_type": "execute_result"
    }
   ],
   "source": [
    "l.append(10)\n",
    "l.append(20)\n",
    "l.append(30)\n",
    "l.append(40)\n",
    "l"
   ]
  },
  {
   "cell_type": "code",
   "execution_count": 12,
   "id": "432997c2-7f2b-485b-9aeb-1623cc299ac0",
   "metadata": {},
   "outputs": [
    {
     "data": {
      "text/plain": [
       "[]"
      ]
     },
     "execution_count": 12,
     "metadata": {},
     "output_type": "execute_result"
    }
   ],
   "source": [
    "l1 = []\n",
    "l1"
   ]
  },
  {
   "cell_type": "code",
   "execution_count": 13,
   "id": "fc8a032d-f0cb-4a29-9c83-e9b75167861f",
   "metadata": {},
   "outputs": [
    {
     "data": {
      "text/plain": [
       "[70, 2.3, True, 'NIT', (1+2j), [50, 60]]"
      ]
     },
     "execution_count": 13,
     "metadata": {},
     "output_type": "execute_result"
    }
   ],
   "source": [
    "l1.append(70)\n",
    "l1.append(2.3)\n",
    "l1.append(True)\n",
    "l1.append('NIT')\n",
    "l1.append(1+2j)\n",
    "l1.append([50,60])\n",
    "l1"
   ]
  },
  {
   "cell_type": "code",
   "execution_count": 14,
   "id": "12050ba7-8723-4324-9a59-d3c51c4e99af",
   "metadata": {},
   "outputs": [
    {
     "name": "stdout",
     "output_type": "stream",
     "text": [
      "[10, 1, 10, 10, 20, 30, 40]\n",
      "[70, 2.3, True, 'NIT', (1+2j), [50, 60]]\n"
     ]
    }
   ],
   "source": [
    "print(l)\n",
    "print(l1)"
   ]
  },
  {
   "cell_type": "code",
   "execution_count": 15,
   "id": "de37d712-0b09-40c7-999d-88d07c65b11e",
   "metadata": {},
   "outputs": [
    {
     "name": "stdout",
     "output_type": "stream",
     "text": [
      "2708174933568\n",
      "2708204439488\n"
     ]
    }
   ],
   "source": [
    "print(id(l))\n",
    "print(id(l1))"
   ]
  },
  {
   "cell_type": "code",
   "execution_count": null,
   "id": "63b01457-b8ac-4d97-8648-a592b604906f",
   "metadata": {},
   "outputs": [],
   "source": [
    "print(len(l))\n",
    "print(len(l1))"
   ]
  },
  {
   "cell_type": "code",
   "execution_count": 16,
   "id": "12baa0e1-7205-422d-81da-4f8b384c9249",
   "metadata": {},
   "outputs": [
    {
     "data": {
      "text/plain": [
       "[70, 2.3, True, 'NIT', (1+2j), [50, 60]]"
      ]
     },
     "execution_count": 16,
     "metadata": {},
     "output_type": "execute_result"
    }
   ],
   "source": [
    "l2 = l1.copy()\n",
    "l2"
   ]
  },
  {
   "cell_type": "code",
   "execution_count": 17,
   "id": "801d8296-669e-4755-a1aa-0f7f43fbe48d",
   "metadata": {},
   "outputs": [
    {
     "data": {
      "text/plain": [
       "True"
      ]
     },
     "execution_count": 17,
     "metadata": {},
     "output_type": "execute_result"
    }
   ],
   "source": [
    "l1 == l2"
   ]
  },
  {
   "cell_type": "code",
   "execution_count": 18,
   "id": "4efe6e57-80c8-4a19-91fa-15986ec35e33",
   "metadata": {},
   "outputs": [
    {
     "data": {
      "text/plain": [
       "False"
      ]
     },
     "execution_count": 18,
     "metadata": {},
     "output_type": "execute_result"
    }
   ],
   "source": [
    "l1 == l"
   ]
  },
  {
   "cell_type": "code",
   "execution_count": 19,
   "id": "66157f97-9ed2-4ab0-a77c-32938cf4a31f",
   "metadata": {},
   "outputs": [
    {
     "data": {
      "text/plain": [
       "False"
      ]
     },
     "execution_count": 19,
     "metadata": {},
     "output_type": "execute_result"
    }
   ],
   "source": [
    "l2 == l"
   ]
  },
  {
   "cell_type": "code",
   "execution_count": 20,
   "id": "182c7ab1-7c5f-49c0-95cb-776a3aa7b36c",
   "metadata": {},
   "outputs": [
    {
     "data": {
      "text/plain": [
       "False"
      ]
     },
     "execution_count": 20,
     "metadata": {},
     "output_type": "execute_result"
    }
   ],
   "source": [
    "id(l1) == id(l2)"
   ]
  },
  {
   "cell_type": "code",
   "execution_count": 21,
   "id": "34ac94d4-0c4b-4c30-8eb7-88134cc690b1",
   "metadata": {},
   "outputs": [
    {
     "name": "stdout",
     "output_type": "stream",
     "text": [
      "2708204439488\n",
      "2708204431232\n"
     ]
    },
    {
     "data": {
      "text/plain": [
       "True"
      ]
     },
     "execution_count": 21,
     "metadata": {},
     "output_type": "execute_result"
    }
   ],
   "source": [
    "print(id(l1)) == print(id(l2))"
   ]
  },
  {
   "cell_type": "code",
   "execution_count": 22,
   "id": "ed5069ec-1c12-4209-9022-c28cbf3f31cb",
   "metadata": {},
   "outputs": [
    {
     "name": "stdout",
     "output_type": "stream",
     "text": [
      "False\n"
     ]
    }
   ],
   "source": [
    "print(id(l1) == id(l2))"
   ]
  },
  {
   "cell_type": "code",
   "execution_count": 24,
   "id": "55b948a7-a225-4ab1-a9ce-53d945f9d754",
   "metadata": {},
   "outputs": [],
   "source": [
    "a = 5\n",
    "b = 5"
   ]
  },
  {
   "cell_type": "code",
   "execution_count": 25,
   "id": "b821b987-f3ec-48b9-83a2-ec0a9423a1c4",
   "metadata": {},
   "outputs": [
    {
     "name": "stdout",
     "output_type": "stream",
     "text": [
      "2708097139056\n",
      "2708097139056\n"
     ]
    },
    {
     "data": {
      "text/plain": [
       "True"
      ]
     },
     "execution_count": 25,
     "metadata": {},
     "output_type": "execute_result"
    }
   ],
   "source": [
    "print(id(a)) == print(id(b))"
   ]
  },
  {
   "cell_type": "code",
   "execution_count": 26,
   "id": "d5e67e01-9954-4666-8137-8fc63dda891a",
   "metadata": {},
   "outputs": [
    {
     "data": {
      "text/plain": [
       "[10, 1, 10, 10, 20, 30, 40]"
      ]
     },
     "execution_count": 26,
     "metadata": {},
     "output_type": "execute_result"
    }
   ],
   "source": [
    "l"
   ]
  },
  {
   "cell_type": "code",
   "execution_count": 27,
   "id": "c10c07ce-a7c1-4d01-9a25-e3b638e97828",
   "metadata": {},
   "outputs": [
    {
     "ename": "TypeError",
     "evalue": "list.remove() takes exactly one argument (0 given)",
     "output_type": "error",
     "traceback": [
      "\u001b[1;31m---------------------------------------------------------------------------\u001b[0m",
      "\u001b[1;31mTypeError\u001b[0m                                 Traceback (most recent call last)",
      "Cell \u001b[1;32mIn[27], line 1\u001b[0m\n\u001b[1;32m----> 1\u001b[0m \u001b[43ml\u001b[49m\u001b[38;5;241;43m.\u001b[39;49m\u001b[43mremove\u001b[49m\u001b[43m(\u001b[49m\u001b[43m)\u001b[49m\n",
      "\u001b[1;31mTypeError\u001b[0m: list.remove() takes exactly one argument (0 given)"
     ]
    }
   ],
   "source": [
    "l.remove()"
   ]
  },
  {
   "cell_type": "code",
   "execution_count": 28,
   "id": "cb6af0a3-79f3-4690-82c8-a28d2733bae5",
   "metadata": {},
   "outputs": [
    {
     "ename": "ValueError",
     "evalue": "list.remove(x): x not in list",
     "output_type": "error",
     "traceback": [
      "\u001b[1;31m---------------------------------------------------------------------------\u001b[0m",
      "\u001b[1;31mValueError\u001b[0m                                Traceback (most recent call last)",
      "Cell \u001b[1;32mIn[28], line 1\u001b[0m\n\u001b[1;32m----> 1\u001b[0m \u001b[43ml\u001b[49m\u001b[38;5;241;43m.\u001b[39;49m\u001b[43mremove\u001b[49m\u001b[43m(\u001b[49m\u001b[38;5;241;43m100\u001b[39;49m\u001b[43m)\u001b[49m\n",
      "\u001b[1;31mValueError\u001b[0m: list.remove(x): x not in list"
     ]
    }
   ],
   "source": [
    "l.remove(100)"
   ]
  },
  {
   "cell_type": "code",
   "execution_count": 29,
   "id": "f4c0afc1-ffdc-44fc-bdae-b25f8978795b",
   "metadata": {},
   "outputs": [
    {
     "data": {
      "text/plain": [
       "[1, 10, 10, 20, 30, 40]"
      ]
     },
     "execution_count": 29,
     "metadata": {},
     "output_type": "execute_result"
    }
   ],
   "source": [
    "l.remove(10) #Remove first occurrence of value.\n",
    "l"
   ]
  },
  {
   "cell_type": "code",
   "execution_count": 30,
   "id": "9beaaeff-c60b-49a8-a5b0-4272c9da8874",
   "metadata": {},
   "outputs": [
    {
     "data": {
      "text/plain": [
       "[10, 10, 20, 30, 40]"
      ]
     },
     "execution_count": 30,
     "metadata": {},
     "output_type": "execute_result"
    }
   ],
   "source": [
    "l.remove(1)\n",
    "l"
   ]
  },
  {
   "cell_type": "markdown",
   "id": "0e175c88-9bf9-4196-8b54-fdf6d0c20c1a",
   "metadata": {},
   "source": [
    "## String Indexing"
   ]
  },
  {
   "cell_type": "code",
   "execution_count": 31,
   "id": "90970e1b-cdf7-4766-94d3-d784cd03700d",
   "metadata": {},
   "outputs": [
    {
     "data": {
      "text/plain": [
       "'nareshit'"
      ]
     },
     "execution_count": 31,
     "metadata": {},
     "output_type": "execute_result"
    }
   ],
   "source": [
    "str='nareshit'\n",
    "str"
   ]
  },
  {
   "cell_type": "code",
   "execution_count": 32,
   "id": "9c342bda-83ef-4cff-b1ad-eecacdb275a0",
   "metadata": {},
   "outputs": [
    {
     "data": {
      "text/plain": [
       "8"
      ]
     },
     "execution_count": 32,
     "metadata": {},
     "output_type": "execute_result"
    }
   ],
   "source": [
    "len(str)"
   ]
  },
  {
   "cell_type": "code",
   "execution_count": 33,
   "id": "c554b429-206f-431b-a6e9-bb0b087fc099",
   "metadata": {},
   "outputs": [
    {
     "data": {
      "text/plain": [
       "'t'"
      ]
     },
     "execution_count": 33,
     "metadata": {},
     "output_type": "execute_result"
    }
   ],
   "source": [
    "str[7]"
   ]
  },
  {
   "cell_type": "code",
   "execution_count": 34,
   "id": "f9abf597-5c7d-44d1-89c9-edfeeadd0f37",
   "metadata": {},
   "outputs": [
    {
     "data": {
      "text/plain": [
       "'n'"
      ]
     },
     "execution_count": 34,
     "metadata": {},
     "output_type": "execute_result"
    }
   ],
   "source": [
    "str[0]"
   ]
  },
  {
   "cell_type": "code",
   "execution_count": 35,
   "id": "93b84470-6d0c-441c-85f5-54dbdb4bfbc0",
   "metadata": {},
   "outputs": [
    {
     "ename": "IndexError",
     "evalue": "string index out of range",
     "output_type": "error",
     "traceback": [
      "\u001b[1;31m---------------------------------------------------------------------------\u001b[0m",
      "\u001b[1;31mIndexError\u001b[0m                                Traceback (most recent call last)",
      "Cell \u001b[1;32mIn[35], line 1\u001b[0m\n\u001b[1;32m----> 1\u001b[0m \u001b[38;5;28;43mstr\u001b[39;49m\u001b[43m[\u001b[49m\u001b[38;5;241;43m10\u001b[39;49m\u001b[43m]\u001b[49m\n",
      "\u001b[1;31mIndexError\u001b[0m: string index out of range"
     ]
    }
   ],
   "source": [
    "str[10]"
   ]
  },
  {
   "cell_type": "code",
   "execution_count": 36,
   "id": "b49ea6e6-1a93-413c-9b6a-0b51ba543814",
   "metadata": {},
   "outputs": [
    {
     "data": {
      "text/plain": [
       "'nareshit'"
      ]
     },
     "execution_count": 36,
     "metadata": {},
     "output_type": "execute_result"
    }
   ],
   "source": [
    "str"
   ]
  },
  {
   "cell_type": "code",
   "execution_count": 38,
   "id": "f12fbba2-2c6e-4634-9245-241a21cc1157",
   "metadata": {},
   "outputs": [
    {
     "data": {
      "text/plain": [
       "'h'"
      ]
     },
     "execution_count": 38,
     "metadata": {},
     "output_type": "execute_result"
    }
   ],
   "source": [
    "str[-3] # backward Indexing"
   ]
  },
  {
   "cell_type": "code",
   "execution_count": 39,
   "id": "9ef5978a-e590-480b-8931-7c4551aa9ade",
   "metadata": {},
   "outputs": [
    {
     "ename": "IndexError",
     "evalue": "string index out of range",
     "output_type": "error",
     "traceback": [
      "\u001b[1;31m---------------------------------------------------------------------------\u001b[0m",
      "\u001b[1;31mIndexError\u001b[0m                                Traceback (most recent call last)",
      "Cell \u001b[1;32mIn[39], line 1\u001b[0m\n\u001b[1;32m----> 1\u001b[0m \u001b[38;5;28;43mstr\u001b[39;49m\u001b[43m[\u001b[49m\u001b[38;5;241;43m-\u001b[39;49m\u001b[38;5;241;43m9\u001b[39;49m\u001b[43m]\u001b[49m\n",
      "\u001b[1;31mIndexError\u001b[0m: string index out of range"
     ]
    }
   ],
   "source": [
    "str[-9]"
   ]
  },
  {
   "cell_type": "code",
   "execution_count": 40,
   "id": "f7897d5d-5c3c-422f-a3b5-f7e84ce3846a",
   "metadata": {},
   "outputs": [
    {
     "data": {
      "text/plain": [
       "'n'"
      ]
     },
     "execution_count": 40,
     "metadata": {},
     "output_type": "execute_result"
    }
   ],
   "source": [
    "str[-8]"
   ]
  },
  {
   "cell_type": "code",
   "execution_count": 41,
   "id": "28932874-64af-4047-89c7-bc9585cafc85",
   "metadata": {},
   "outputs": [
    {
     "data": {
      "text/plain": [
       "'nareshit'"
      ]
     },
     "execution_count": 41,
     "metadata": {},
     "output_type": "execute_result"
    }
   ],
   "source": [
    "str"
   ]
  },
  {
   "cell_type": "code",
   "execution_count": 43,
   "id": "b0bbcffc-fd94-4e36-b214-411142769acb",
   "metadata": {},
   "outputs": [
    {
     "name": "stdout",
     "output_type": "stream",
     "text": [
      "n\n",
      "a\n",
      "r\n",
      "e\n",
      "s\n",
      "h\n",
      "i\n",
      "t\n"
     ]
    }
   ],
   "source": [
    "for i in str:\n",
    "    print(i)"
   ]
  },
  {
   "cell_type": "markdown",
   "id": "43c21179-533a-417f-9017-7f48b8c87d33",
   "metadata": {},
   "source": [
    "## String Slicing"
   ]
  },
  {
   "cell_type": "code",
   "execution_count": 44,
   "id": "1859c0cb-a6d3-447a-8471-18dd9062d047",
   "metadata": {},
   "outputs": [
    {
     "data": {
      "text/plain": [
       "'nareshit'"
      ]
     },
     "execution_count": 44,
     "metadata": {},
     "output_type": "execute_result"
    }
   ],
   "source": [
    "str"
   ]
  },
  {
   "cell_type": "code",
   "execution_count": 46,
   "id": "d0b80e1c-db1e-44cf-ad2e-6dd96649a432",
   "metadata": {},
   "outputs": [
    {
     "data": {
      "text/plain": [
       "'abcdefghijk'"
      ]
     },
     "execution_count": 46,
     "metadata": {},
     "output_type": "execute_result"
    }
   ],
   "source": [
    "s = 'abcdefghijk'\n",
    "s"
   ]
  },
  {
   "cell_type": "code",
   "execution_count": 47,
   "id": "39afc34d-53b6-4706-bb56-3388226defb6",
   "metadata": {},
   "outputs": [
    {
     "data": {
      "text/plain": [
       "11"
      ]
     },
     "execution_count": 47,
     "metadata": {},
     "output_type": "execute_result"
    }
   ],
   "source": [
    "len(s)"
   ]
  },
  {
   "cell_type": "code",
   "execution_count": 48,
   "id": "0b18dd24-906d-48fd-ad2b-868094688049",
   "metadata": {},
   "outputs": [
    {
     "data": {
      "text/plain": [
       "'abcdefghi'"
      ]
     },
     "execution_count": 48,
     "metadata": {},
     "output_type": "execute_result"
    }
   ],
   "source": [
    "s[0:9]"
   ]
  },
  {
   "cell_type": "code",
   "execution_count": 49,
   "id": "ee02bf06-2eef-49ba-ab39-0cbe72e14f9b",
   "metadata": {},
   "outputs": [
    {
     "data": {
      "text/plain": [
       "'abcdefghij'"
      ]
     },
     "execution_count": 49,
     "metadata": {},
     "output_type": "execute_result"
    }
   ],
   "source": [
    "s[0:10]"
   ]
  },
  {
   "cell_type": "code",
   "execution_count": 51,
   "id": "48b840e3-1e7a-46b5-99f8-cec7c7cf12c7",
   "metadata": {},
   "outputs": [
    {
     "data": {
      "text/plain": [
       "'bcdef'"
      ]
     },
     "execution_count": 51,
     "metadata": {},
     "output_type": "execute_result"
    }
   ],
   "source": [
    "s[1:6]"
   ]
  },
  {
   "cell_type": "code",
   "execution_count": 52,
   "id": "fedfa9d7-a53e-4071-a964-76a1a2ce0e56",
   "metadata": {},
   "outputs": [
    {
     "data": {
      "text/plain": [
       "'bcdefgh'"
      ]
     },
     "execution_count": 52,
     "metadata": {},
     "output_type": "execute_result"
    }
   ],
   "source": [
    "s[1:8]"
   ]
  },
  {
   "cell_type": "code",
   "execution_count": 53,
   "id": "58ef8bf4-fb68-4eaf-af8d-6b8a173e8b08",
   "metadata": {},
   "outputs": [
    {
     "data": {
      "text/plain": [
       "'abcdefghijk'"
      ]
     },
     "execution_count": 53,
     "metadata": {},
     "output_type": "execute_result"
    }
   ],
   "source": [
    "s"
   ]
  },
  {
   "cell_type": "code",
   "execution_count": 54,
   "id": "22ed2ce9-b705-408d-9478-f81ca5b35b12",
   "metadata": {},
   "outputs": [
    {
     "data": {
      "text/plain": [
       "'bcdefg'"
      ]
     },
     "execution_count": 54,
     "metadata": {},
     "output_type": "execute_result"
    }
   ],
   "source": [
    "s[1:-4]"
   ]
  },
  {
   "cell_type": "code",
   "execution_count": 55,
   "id": "f59f0eea-a343-44c7-bf38-0aabee994320",
   "metadata": {},
   "outputs": [
    {
     "data": {
      "text/plain": [
       "'abcdef'"
      ]
     },
     "execution_count": 55,
     "metadata": {},
     "output_type": "execute_result"
    }
   ],
   "source": [
    "s[0:-5]"
   ]
  },
  {
   "cell_type": "code",
   "execution_count": 56,
   "id": "100a4811-cd54-4569-b234-74885fa6ec04",
   "metadata": {},
   "outputs": [
    {
     "data": {
      "text/plain": [
       "[1, 2, 3, 4, 5, 6, 7, 8, 9, 10]"
      ]
     },
     "execution_count": 56,
     "metadata": {},
     "output_type": "execute_result"
    }
   ],
   "source": [
    "step_indexing = [1,2,3,4,5,6,7,8,9,10]\n",
    "step_indexing"
   ]
  },
  {
   "cell_type": "code",
   "execution_count": 57,
   "id": "f9af72e6-b622-44ae-b0ea-ec5873d9bf71",
   "metadata": {},
   "outputs": [
    {
     "data": {
      "text/plain": [
       "[2, 4]"
      ]
     },
     "execution_count": 57,
     "metadata": {},
     "output_type": "execute_result"
    }
   ],
   "source": [
    "step_indexing[1:5:2]"
   ]
  },
  {
   "cell_type": "code",
   "execution_count": 58,
   "id": "8a4b9bdf-2f24-49d2-ae09-cbe45309996a",
   "metadata": {},
   "outputs": [
    {
     "data": {
      "text/plain": [
       "[1, 5, 9]"
      ]
     },
     "execution_count": 58,
     "metadata": {},
     "output_type": "execute_result"
    }
   ],
   "source": [
    "step_indexing[0:10:4]"
   ]
  },
  {
   "cell_type": "code",
   "execution_count": 59,
   "id": "3964b4b3-be8c-474a-a032-f208fca87c01",
   "metadata": {},
   "outputs": [
    {
     "data": {
      "text/plain": [
       "[1, 3, 5, 7, 9]"
      ]
     },
     "execution_count": 59,
     "metadata": {},
     "output_type": "execute_result"
    }
   ],
   "source": [
    "step_indexing[0:10:2]"
   ]
  },
  {
   "cell_type": "code",
   "execution_count": 60,
   "id": "3a807a78-9f27-4aee-9b8a-b5767287b256",
   "metadata": {},
   "outputs": [
    {
     "data": {
      "text/plain": [
       "[1, 2, 3, 4, 5, 6, 7, 8, 9, 10]"
      ]
     },
     "execution_count": 60,
     "metadata": {},
     "output_type": "execute_result"
    }
   ],
   "source": [
    "step_indexing"
   ]
  },
  {
   "cell_type": "code",
   "execution_count": 61,
   "id": "0a4d8edd-4354-4ae5-bc50-02fa16311a35",
   "metadata": {},
   "outputs": [
    {
     "data": {
      "text/plain": [
       "[1, 6]"
      ]
     },
     "execution_count": 61,
     "metadata": {},
     "output_type": "execute_result"
    }
   ],
   "source": [
    "step_indexing[0:10:5]"
   ]
  },
  {
   "cell_type": "code",
   "execution_count": 63,
   "id": "5147f748-f2f4-4c70-9c92-26abf134e888",
   "metadata": {},
   "outputs": [
    {
     "data": {
      "text/plain": [
       "[1, 2, 3, 4, 5, 6, 7, 8, 9, 10]"
      ]
     },
     "execution_count": 63,
     "metadata": {},
     "output_type": "execute_result"
    }
   ],
   "source": [
    "step_indexing[:] #Empty slincing means entire list"
   ]
  },
  {
   "cell_type": "code",
   "execution_count": 64,
   "id": "9bb35572-4eb6-4885-bf25-84d88c7be732",
   "metadata": {},
   "outputs": [
    {
     "data": {
      "text/plain": [
       "[10, 10, 20, 30, 40]"
      ]
     },
     "execution_count": 64,
     "metadata": {},
     "output_type": "execute_result"
    }
   ],
   "source": [
    "l"
   ]
  },
  {
   "cell_type": "code",
   "execution_count": 66,
   "id": "2510b64a-fcd0-46f6-9b8e-9c58b4ee49c0",
   "metadata": {},
   "outputs": [
    {
     "data": {
      "text/plain": [
       "[10, 10, 20, 30, 40]"
      ]
     },
     "execution_count": 66,
     "metadata": {},
     "output_type": "execute_result"
    }
   ],
   "source": [
    "l.reverse()\n",
    "l"
   ]
  },
  {
   "cell_type": "code",
   "execution_count": 70,
   "id": "a64a0ba7-814a-4237-9fab-2281ac361d6c",
   "metadata": {},
   "outputs": [],
   "source": [
    "l3 = l.reverse()\n",
    "l3"
   ]
  },
  {
   "cell_type": "code",
   "execution_count": 69,
   "id": "ad0ae843-ccb9-44cd-ad45-a0f710956a00",
   "metadata": {},
   "outputs": [
    {
     "data": {
      "text/plain": [
       "[10, 10, 20, 30, 40]"
      ]
     },
     "execution_count": 69,
     "metadata": {},
     "output_type": "execute_result"
    }
   ],
   "source": [
    "l"
   ]
  },
  {
   "cell_type": "code",
   "execution_count": 71,
   "id": "d747de30-0b1b-4f59-8797-71879ab45d3a",
   "metadata": {},
   "outputs": [
    {
     "data": {
      "text/plain": [
       "[40, 30, 20, 10, 10]"
      ]
     },
     "execution_count": 71,
     "metadata": {},
     "output_type": "execute_result"
    }
   ],
   "source": [
    "l"
   ]
  },
  {
   "cell_type": "code",
   "execution_count": 72,
   "id": "75505011-054b-4869-a2ea-d56a566db269",
   "metadata": {},
   "outputs": [],
   "source": [
    "l3"
   ]
  },
  {
   "cell_type": "markdown",
   "id": "3f1a89a6-f51a-4169-a71c-9106ab213085",
   "metadata": {},
   "source": [
    "l= [10, 10, 20, 30, 40]\n",
    "l3 = l.reverse()\n",
    "l3\n",
    "\n",
    "l =[40, 30, 20, 10, 10]\n",
    "\n",
    "I have created l as list and entered items into it\n",
    "then I reverse the list l using reverse function and stored its value into l3 \n",
    "then try to print l3 but its not showing output for l3 and directly reverse the list l itself, but it should display the reversed output for l3 when we print it. Why its not showing for l3?\n",
    "\n",
    "The issue is that the .reverse() method in Python reverses the list in place and returns None, not the reversed list.\n",
    "\n",
    "l = [10, 10, 20, 30, 40]\n",
    "l3 = l.reverse()  # l.reverse() modifies l in-place and returns None\n",
    "print(l3)  # This will print None\n",
    "Since l.reverse() doesn't return the reversed list (it just modifies l), l3 gets assigned None.\n",
    "\n",
    "Correct Ways to Reverse a List:\n",
    "1. Using .reverse() correctly (if you only need to modify l):\n",
    "l = [10, 10, 20, 30, 40]\n",
    "l.reverse()\n",
    "print(l)  # Output: [40, 30, 20, 10, 10]"
   ]
  },
  {
   "cell_type": "markdown",
   "id": "ec30104e-e235-4399-892b-596e6531364b",
   "metadata": {},
   "source": [
    "## How will you reverse (modify) original list?"
   ]
  },
  {
   "cell_type": "code",
   "execution_count": 78,
   "id": "a41d6feb-b109-41f5-bd9f-19abc6db475d",
   "metadata": {},
   "outputs": [
    {
     "name": "stdout",
     "output_type": "stream",
     "text": [
      "[50, 40, 30, 10, 10]\n"
     ]
    }
   ],
   "source": [
    "# How will you reverse given list (if you only need to modify list\n",
    "l = [10,10,30,40,50]\n",
    "\n",
    "# To reverse original list using reverse() function\n",
    "l.reverse() #This will reverse original list\n",
    "print(l)"
   ]
  },
  {
   "cell_type": "markdown",
   "id": "5ac0583c-3ac4-4402-b8e0-b91c67dfa1c8",
   "metadata": {},
   "source": [
    "## How will you create new reverse list from original?"
   ]
  },
  {
   "cell_type": "code",
   "execution_count": 75,
   "id": "7922f41b-1241-4df8-95ff-05c389b305fa",
   "metadata": {},
   "outputs": [
    {
     "data": {
      "text/plain": [
       "[10, 10, 30, 40, 50]"
      ]
     },
     "execution_count": 75,
     "metadata": {},
     "output_type": "execute_result"
    }
   ],
   "source": [
    "l = [10,10,30,40,50]\n",
    "l"
   ]
  },
  {
   "cell_type": "code",
   "execution_count": 79,
   "id": "6c771aea-5fbb-471c-a8d7-ec4d45379cec",
   "metadata": {},
   "outputs": [
    {
     "name": "stdout",
     "output_type": "stream",
     "text": [
      "[50, 40, 30, 10, 10]\n",
      "[10, 10, 30, 40, 50]\n"
     ]
    }
   ],
   "source": [
    "# Using slicing ([::-1]) to create a new reversed list:\n",
    "l2 = l[::-1]\n",
    "print(l)\n",
    "print(l2)"
   ]
  },
  {
   "cell_type": "code",
   "execution_count": 80,
   "id": "22c91d79-915f-456a-b6d6-7883244e8e15",
   "metadata": {},
   "outputs": [
    {
     "data": {
      "text/plain": [
       "[10, 10, 30, 40, 50]"
      ]
     },
     "execution_count": 80,
     "metadata": {},
     "output_type": "execute_result"
    }
   ],
   "source": [
    "l = [10,10,30,40,50]\n",
    "l"
   ]
  },
  {
   "cell_type": "code",
   "execution_count": 83,
   "id": "7543cc60-09c4-429d-9d6c-2d88ae2797f1",
   "metadata": {},
   "outputs": [
    {
     "name": "stdout",
     "output_type": "stream",
     "text": [
      "[50, 40, 30, 10, 10]\n"
     ]
    }
   ],
   "source": [
    "# Using reversed() to return an iterator:\n",
    "l = [10,10,30,40,50]\n",
    "l3 = list(reversed(l)) ## Converts the iterator to a list\n",
    "print(l3)"
   ]
  },
  {
   "cell_type": "markdown",
   "id": "508ff57c-6b1f-4048-b3ed-3a39cec710b1",
   "metadata": {},
   "source": [
    "+ .reverse() modifies the original list and returns None.\n",
    "  \n",
    "+ Use slicing ([::-1]) or list(reversed(l)) if you want a new reversed list without modifying the original."
   ]
  }
 ],
 "metadata": {
  "kernelspec": {
   "display_name": "Python 3 (ipykernel)",
   "language": "python",
   "name": "python3"
  },
  "language_info": {
   "codemirror_mode": {
    "name": "ipython",
    "version": 3
   },
   "file_extension": ".py",
   "mimetype": "text/x-python",
   "name": "python",
   "nbconvert_exporter": "python",
   "pygments_lexer": "ipython3",
   "version": "3.10.13"
  }
 },
 "nbformat": 4,
 "nbformat_minor": 5
}
