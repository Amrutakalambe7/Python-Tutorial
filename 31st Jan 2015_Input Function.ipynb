{
 "cells": [
  {
   "cell_type": "markdown",
   "id": "3bdf38f5-5ad5-434c-8e0b-6da2c78d1f1e",
   "metadata": {},
   "source": [
    "## User input function in python || command line input"
   ]
  },
  {
   "cell_type": "code",
   "execution_count": 1,
   "id": "9fd9f347-9b7b-4903-aea3-8ad779b6c11d",
   "metadata": {},
   "outputs": [
    {
     "name": "stdin",
     "output_type": "stream",
     "text": [
      " 10\n",
      " 12\n"
     ]
    },
    {
     "name": "stdout",
     "output_type": "stream",
     "text": [
      "1012\n"
     ]
    }
   ],
   "source": [
    "x = input()\n",
    "y = input()\n",
    "z = x + y\n",
    "print(z) # console is waiting for user to enter input \n",
    "         # also if you work in idle"
   ]
  },
  {
   "cell_type": "code",
   "execution_count": 2,
   "id": "d0a19ce0-9aa9-4608-a7e2-087b1bfc2e5f",
   "metadata": {},
   "outputs": [
    {
     "name": "stdin",
     "output_type": "stream",
     "text": [
      "Enter first number: 12\n",
      "Enter second number: 87\n"
     ]
    },
    {
     "name": "stdout",
     "output_type": "stream",
     "text": [
      "1287\n"
     ]
    }
   ],
   "source": [
    "x1 = input(\"Enter first number:\")\n",
    "y1 = input (\"Enter second number:\")\n",
    "z1 = x1 + y1\n",
    "print(z1) # console is waiting for user to enter input \n",
    "         # also if you work in idle"
   ]
  },
  {
   "cell_type": "code",
   "execution_count": 3,
   "id": "b74b0b9e-ee27-4d32-a652-d385e0e24bb3",
   "metadata": {},
   "outputs": [
    {
     "name": "stdin",
     "output_type": "stream",
     "text": [
      "Enter first number: 12\n",
      "Enter second number: 17\n"
     ]
    },
    {
     "name": "stdout",
     "output_type": "stream",
     "text": [
      "29\n"
     ]
    }
   ],
   "source": [
    "a = input(\"Enter first number:\")\n",
    "b = input (\"Enter second number:\")\n",
    "c = int(a) + int(b)\n",
    "print(c)"
   ]
  },
  {
   "cell_type": "code",
   "execution_count": 5,
   "id": "730a1f86-d43e-471b-85a9-d3d6d12e4c5d",
   "metadata": {},
   "outputs": [
    {
     "name": "stdin",
     "output_type": "stream",
     "text": [
      "Enter the 1st number 12\n",
      "Enter the 2nd number 23\n"
     ]
    },
    {
     "name": "stdout",
     "output_type": "stream",
     "text": [
      "35\n"
     ]
    }
   ],
   "source": [
    "x1 = input('Enter the 1st number') #whenevery you works in input function it always give you string \n",
    "a1 = int(x1)\n",
    "y1 = input('Enter the 2nd number') # it wont understand as arithmetic operator\n",
    "b1 = int(y1)\n",
    "z1 = a1 + b1\n",
    "print(z1)"
   ]
  },
  {
   "cell_type": "markdown",
   "id": "712e8b1b-f744-48a9-b4c0-882e1440276a",
   "metadata": {},
   "source": [
    "for the above code notice we are using many lines because fo that wasting some memory spaces as well"
   ]
  },
  {
   "cell_type": "code",
   "execution_count": 4,
   "id": "dcdb6638-3c7e-444d-ac8e-46640a936725",
   "metadata": {},
   "outputs": [
    {
     "name": "stdin",
     "output_type": "stream",
     "text": [
      "Enter first number: 33\n",
      "Enter second number: 66\n"
     ]
    },
    {
     "name": "stdout",
     "output_type": "stream",
     "text": [
      "99\n"
     ]
    }
   ],
   "source": [
    "a = int(input(\"Enter first number:\"))\n",
    "b = int(input (\"Enter second number:\"))\n",
    "c = (a) + (b)\n",
    "print(c)"
   ]
  },
  {
   "cell_type": "markdown",
   "id": "9b1198e0-48bd-4918-b654-783be4339d98",
   "metadata": {},
   "source": [
    "## Input string"
   ]
  },
  {
   "cell_type": "code",
   "execution_count": 8,
   "id": "930b6066-0dd6-4336-8868-d2a62cc40627",
   "metadata": {},
   "outputs": [
    {
     "name": "stdin",
     "output_type": "stream",
     "text": [
      "Enter a Char: Mathematics\n"
     ]
    },
    {
     "name": "stdout",
     "output_type": "stream",
     "text": [
      "Mathematics\n"
     ]
    }
   ],
   "source": [
    "ch = input(\"Enter a Char:\")\n",
    "print(ch)"
   ]
  },
  {
   "cell_type": "code",
   "execution_count": 9,
   "id": "07c45a2d-4fca-4451-b89c-860569ec4ac6",
   "metadata": {},
   "outputs": [
    {
     "data": {
      "text/plain": [
       "'M'"
      ]
     },
     "execution_count": 9,
     "metadata": {},
     "output_type": "execute_result"
    }
   ],
   "source": [
    "ch[0]"
   ]
  },
  {
   "cell_type": "code",
   "execution_count": 10,
   "id": "4f212c07-b98d-4b69-aa44-d758e8975b1b",
   "metadata": {},
   "outputs": [
    {
     "data": {
      "text/plain": [
       "'athem'"
      ]
     },
     "execution_count": 10,
     "metadata": {},
     "output_type": "execute_result"
    }
   ],
   "source": [
    "ch[1:6]"
   ]
  },
  {
   "cell_type": "code",
   "execution_count": 15,
   "id": "93868d14-93e0-4e51-bb45-5d150b245c0e",
   "metadata": {},
   "outputs": [
    {
     "data": {
      "text/plain": [
       "'scit'"
      ]
     },
     "execution_count": 15,
     "metadata": {},
     "output_type": "execute_result"
    }
   ],
   "source": [
    "ch[-1:-5:-1]"
   ]
  },
  {
   "cell_type": "code",
   "execution_count": 16,
   "id": "62563ec9-4e11-4003-8acc-949f415b563a",
   "metadata": {},
   "outputs": [
    {
     "data": {
      "text/plain": [
       "11"
      ]
     },
     "execution_count": 16,
     "metadata": {},
     "output_type": "execute_result"
    }
   ],
   "source": [
    "len(ch)"
   ]
  },
  {
   "cell_type": "code",
   "execution_count": 17,
   "id": "3119ed77-97db-4d0a-a346-17f71237e41c",
   "metadata": {},
   "outputs": [
    {
     "data": {
      "text/plain": [
       "'scitameht'"
      ]
     },
     "execution_count": 17,
     "metadata": {},
     "output_type": "execute_result"
    }
   ],
   "source": [
    "ch[-1:-10:-1]"
   ]
  },
  {
   "cell_type": "code",
   "execution_count": 18,
   "id": "30ee5f85-6749-4561-a821-ea2b45e31f60",
   "metadata": {},
   "outputs": [
    {
     "name": "stdin",
     "output_type": "stream",
     "text": [
      "enter a char Statistics\n"
     ]
    },
    {
     "name": "stdout",
     "output_type": "stream",
     "text": [
      "S\n"
     ]
    }
   ],
   "source": [
    "ch = input('enter a char')[0]\n",
    "print(ch)"
   ]
  },
  {
   "cell_type": "code",
   "execution_count": 19,
   "id": "f034e7bd-b1ee-4821-9d94-a4786e165b06",
   "metadata": {},
   "outputs": [
    {
     "name": "stdin",
     "output_type": "stream",
     "text": [
      "enter a char Geography\n"
     ]
    },
    {
     "name": "stdout",
     "output_type": "stream",
     "text": [
      "h\n"
     ]
    }
   ],
   "source": [
    "ch = input('enter a char')[-2]\n",
    "print(ch)"
   ]
  },
  {
   "cell_type": "code",
   "execution_count": 20,
   "id": "bdd139e1-e93b-4815-a2c2-d69dd55c2f36",
   "metadata": {},
   "outputs": [
    {
     "name": "stdin",
     "output_type": "stream",
     "text": [
      "enter a char geography\n"
     ]
    },
    {
     "name": "stdout",
     "output_type": "stream",
     "text": [
      "eograp\n"
     ]
    }
   ],
   "source": [
    "ch = input('enter a char')[1:-2]\n",
    "print(ch)"
   ]
  },
  {
   "cell_type": "code",
   "execution_count": 21,
   "id": "54557912-16a4-4776-ac97-5064c08fc003",
   "metadata": {},
   "outputs": [
    {
     "name": "stdin",
     "output_type": "stream",
     "text": [
      "enter a char Phneomonia\n"
     ]
    },
    {
     "name": "stdout",
     "output_type": "stream",
     "text": [
      "hn\n"
     ]
    }
   ],
   "source": [
    "ch = input('enter a char')[1:3]\n",
    "print(ch)"
   ]
  },
  {
   "cell_type": "code",
   "execution_count": 22,
   "id": "c94e988b-db2a-4065-a354-f89ce90c6a84",
   "metadata": {},
   "outputs": [
    {
     "name": "stdin",
     "output_type": "stream",
     "text": [
      "enter a char pneumonia\n"
     ]
    },
    {
     "name": "stdout",
     "output_type": "stream",
     "text": [
      "aino\n"
     ]
    }
   ],
   "source": [
    "ch = input('enter a char')[-1:-5:-1]\n",
    "print(ch)"
   ]
  },
  {
   "cell_type": "markdown",
   "id": "2f1495cd-ae3b-48ca-97a7-b724df45cddf",
   "metadata": {},
   "source": [
    "## EVAL function using input"
   ]
  },
  {
   "cell_type": "code",
   "execution_count": 23,
   "id": "59f49e1c-7781-4e2e-a463-81fa75eca75f",
   "metadata": {},
   "outputs": [
    {
     "name": "stdin",
     "output_type": "stream",
     "text": [
      "enter a char 2+6-9\n"
     ]
    },
    {
     "name": "stdout",
     "output_type": "stream",
     "text": [
      "2+6-9\n"
     ]
    }
   ],
   "source": [
    "ch = input('enter a char')\n",
    "print(ch) # if you enter as 2 + 6 -1 we get output as 2 + 6-1 only "
   ]
  },
  {
   "cell_type": "code",
   "execution_count": 26,
   "id": "a559df05-7885-4375-9fac-0ac83808c791",
   "metadata": {},
   "outputs": [
    {
     "name": "stdin",
     "output_type": "stream",
     "text": [
      "enter a char 54_98-65*5\n"
     ]
    },
    {
     "name": "stdout",
     "output_type": "stream",
     "text": [
      "5173\n"
     ]
    }
   ],
   "source": [
    "ch = eval(input('enter a char'))\n",
    "print(ch) # if you enter as 2 + 6 -1 we get output as 2 + 6-1 only "
   ]
  },
  {
   "cell_type": "code",
   "execution_count": 27,
   "id": "89616ee5-fc0f-4568-8ecc-962008cb3523",
   "metadata": {},
   "outputs": [
    {
     "name": "stdin",
     "output_type": "stream",
     "text": [
      "enter a char 3+8-4\n"
     ]
    },
    {
     "name": "stdout",
     "output_type": "stream",
     "text": [
      "7\n"
     ]
    }
   ],
   "source": [
    "ch = eval(input('enter a char'))\n",
    "print(ch) # if you enter as 2 + 6 -1 we get output as 2 + 6-1 only "
   ]
  },
  {
   "cell_type": "markdown",
   "id": "4848d977-57f0-45bc-a919-24cbd4170bac",
   "metadata": {},
   "source": [
    "# Python Program"
   ]
  },
  {
   "cell_type": "markdown",
   "id": "cabac87a-3810-4e92-a628-65a08aabccb9",
   "metadata": {},
   "source": [
    "## Write a python program to calculate the area of circle"
   ]
  },
  {
   "cell_type": "code",
   "execution_count": 31,
   "id": "4421bc87-9791-47f3-a1af-77905226cbe6",
   "metadata": {},
   "outputs": [
    {
     "name": "stdin",
     "output_type": "stream",
     "text": [
      "Enter radius of the circle: 4\n"
     ]
    },
    {
     "name": "stdout",
     "output_type": "stream",
     "text": [
      "Area of the circle with radius 4 is: 50.24\n",
      "Area of the circle with radius 4 is: 50.24\n"
     ]
    }
   ],
   "source": [
    "pi = 3.14\n",
    "\n",
    "r = int(input(\"Enter radius of the circle:\"))\n",
    "\n",
    "area = pi*r**2\n",
    "\n",
    "print(f\"Area of the circle with radius {r} is:\", area)\n",
    "print(f\"Area of the circle with radius {r} is: {area}\")"
   ]
  },
  {
   "cell_type": "markdown",
   "id": "ba2a27e0-403d-4d12-a298-517f6fcc1ee1",
   "metadata": {},
   "source": [
    "## Write a program to check whether enter number is even or odd"
   ]
  },
  {
   "cell_type": "code",
   "execution_count": 34,
   "id": "6ae2a8d0-9360-4dfa-9a10-63b9fcf390b2",
   "metadata": {},
   "outputs": [
    {
     "name": "stdin",
     "output_type": "stream",
     "text": [
      "Enter any number 3\n"
     ]
    },
    {
     "name": "stdout",
     "output_type": "stream",
     "text": [
      "Number is a odd number\n"
     ]
    }
   ],
   "source": [
    "num = int(input(\"Enter any number\"))\n",
    "\n",
    "def even_odd(num):\n",
    "    if num % 2 == 0:\n",
    "        print(\"Number is a even number\")\n",
    "    else:\n",
    "        print(\"Number is a odd number\")\n",
    "        \n",
    "even_odd(num)"
   ]
  },
  {
   "cell_type": "markdown",
   "id": "2be47498-87e5-44ef-aafe-1a4cd8d72106",
   "metadata": {},
   "source": [
    "## Program to check whether number is a perfect square or not"
   ]
  },
  {
   "cell_type": "code",
   "execution_count": 51,
   "id": "c63951e3-363f-4b67-8537-9c621b6abeb1",
   "metadata": {},
   "outputs": [
    {
     "name": "stdin",
     "output_type": "stream",
     "text": [
      "Enter a number:  49\n"
     ]
    },
    {
     "name": "stdout",
     "output_type": "stream",
     "text": [
      "49 is a perfect square.\n"
     ]
    }
   ],
   "source": [
    "import math\n",
    "\n",
    "# Function to check if a number is a perfect square\n",
    "def is_per_sqr(num):\n",
    "    if num < 0:\n",
    "        return False # negative number can not be a perfect square\n",
    "    sqrt_num = int(math.sqrt(num))\n",
    "    return sqrt_num * sqrt_num == num\n",
    "\n",
    "num = int(input(\"Enter a number: \"))\n",
    "\n",
    "# display the result\n",
    "if is_per_sqr(num):\n",
    "     print(f\"{num} is a perfect square.\")\n",
    "else:\n",
    "    print(f\"{num} is not a perfect square\")"
   ]
  },
  {
   "cell_type": "markdown",
   "id": "6c79d0d2-b7c1-42ff-bcdf-b381deaa1ebc",
   "metadata": {},
   "source": [
    "## Program to check whether enter number is less than or greater than a given number"
   ]
  },
  {
   "cell_type": "code",
   "execution_count": 58,
   "id": "c298b9bf-92d5-409b-b694-b8109032ddb1",
   "metadata": {},
   "outputs": [
    {
     "name": "stdin",
     "output_type": "stream",
     "text": [
      "Enter a number:  -4\n"
     ]
    },
    {
     "name": "stdout",
     "output_type": "stream",
     "text": [
      "Numer is negative number.\n"
     ]
    }
   ],
   "source": [
    "num = 90\n",
    "\n",
    "def is_less_or_greater(num1):\n",
    "    if num1 < 0:\n",
    "        return print(\"Numer is negative number.\")\n",
    "    elif num1 > num:\n",
    "        print(f\"{num1} is greater than {num}.\")\n",
    "    else:\n",
    "        print(f\"{num1} is less than {num}.\")\n",
    "\n",
    "num1 = int(input(\"Enter a number: \"))\n",
    "\n",
    "is_less_or_greater(num1)"
   ]
  },
  {
   "cell_type": "markdown",
   "id": "c8a156cc-197c-4098-b715-22c918b6203a",
   "metadata": {},
   "source": [
    "## Program to check whether given string is palindrom or not?"
   ]
  },
  {
   "cell_type": "code",
   "execution_count": 64,
   "id": "9d19ef86-7a4e-4a8c-9cca-5ec448f72920",
   "metadata": {},
   "outputs": [
    {
     "name": "stdin",
     "output_type": "stream",
     "text": [
      "Enter any string:  new\n"
     ]
    },
    {
     "name": "stdout",
     "output_type": "stream",
     "text": [
      "new is not a palindrom.\n"
     ]
    }
   ],
   "source": [
    "def is_palindrome(s):\n",
    "    if s == s[::-1]:\n",
    "        print(f\"{s} is a palindrome.\")\n",
    "    else:\n",
    "        print(f\"{s} is not a palindrome.\")\n",
    "\n",
    "s = input(\"Enter any string: \")\n",
    "\n",
    "is_palindrom(s)"
   ]
  }
 ],
 "metadata": {
  "kernelspec": {
   "display_name": "Python 3 (ipykernel)",
   "language": "python",
   "name": "python3"
  },
  "language_info": {
   "codemirror_mode": {
    "name": "ipython",
    "version": 3
   },
   "file_extension": ".py",
   "mimetype": "text/x-python",
   "name": "python",
   "nbconvert_exporter": "python",
   "pygments_lexer": "ipython3",
   "version": "3.10.13"
  }
 },
 "nbformat": 4,
 "nbformat_minor": 5
}
