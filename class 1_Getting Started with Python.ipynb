{
 "cells": [
  {
   "cell_type": "code",
   "execution_count": 2,
   "id": "403f0dd3",
   "metadata": {},
   "outputs": [
    {
     "data": {
      "text/plain": [
       "'3.10.13 | packaged by Anaconda, Inc. | (main, Sep 11 2023, 13:15:57) [MSC v.1916 64 bit (AMD64)]'"
      ]
     },
     "execution_count": 2,
     "metadata": {},
     "output_type": "execute_result"
    }
   ],
   "source": [
    "# Verify if python is installed or not\n",
    "import sys\n",
    "sys.version"
   ]
  },
  {
   "cell_type": "code",
   "execution_count": 2,
   "id": "eddd40c7",
   "metadata": {},
   "outputs": [
    {
     "name": "stdout",
     "output_type": "stream",
     "text": [
      "Defaulting to user installation because normal site-packages is not writeable\n",
      "Requirement already satisfied: notebook in c:\\programdata\\anaconda3\\lib\\site-packages (6.5.4)\n",
      "Collecting notebook\n",
      "  Obtaining dependency information for notebook from https://files.pythonhosted.org/packages/22/9b/76e50ee18f183ea5fe1784a9eeaa50f2c71802e4740d6e959592b0993298/notebook-7.3.2-py3-none-any.whl.metadata\n",
      "  Downloading notebook-7.3.2-py3-none-any.whl.metadata (10 kB)\n",
      "Collecting jupyter-server<3,>=2.4.0 (from notebook)\n",
      "  Obtaining dependency information for jupyter-server<3,>=2.4.0 from https://files.pythonhosted.org/packages/e2/a2/89eeaf0bb954a123a909859fa507fa86f96eb61b62dc30667b60dbd5fdaf/jupyter_server-2.15.0-py3-none-any.whl.metadata\n",
      "  Downloading jupyter_server-2.15.0-py3-none-any.whl.metadata (8.4 kB)\n",
      "Collecting jupyterlab-server<3,>=2.27.1 (from notebook)\n",
      "  Obtaining dependency information for jupyterlab-server<3,>=2.27.1 from https://files.pythonhosted.org/packages/54/09/2032e7d15c544a0e3cd831c51d77a8ca57f7555b2e1b2922142eddb02a84/jupyterlab_server-2.27.3-py3-none-any.whl.metadata\n",
      "  Downloading jupyterlab_server-2.27.3-py3-none-any.whl.metadata (5.9 kB)\n",
      "Collecting jupyterlab<4.4,>=4.3.4 (from notebook)\n",
      "  Obtaining dependency information for jupyterlab<4.4,>=4.3.4 from https://files.pythonhosted.org/packages/61/48/af57263e53cfc220e522de047aa0993f53bab734fe812af1e03e33ac6d7c/jupyterlab-4.3.4-py3-none-any.whl.metadata\n",
      "  Downloading jupyterlab-4.3.4-py3-none-any.whl.metadata (16 kB)\n",
      "Requirement already satisfied: notebook-shim<0.3,>=0.2 in c:\\programdata\\anaconda3\\lib\\site-packages (from notebook) (0.2.2)\n",
      "Requirement already satisfied: tornado>=6.2.0 in c:\\programdata\\anaconda3\\lib\\site-packages (from notebook) (6.3.2)\n",
      "Requirement already satisfied: anyio>=3.1.0 in c:\\programdata\\anaconda3\\lib\\site-packages (from jupyter-server<3,>=2.4.0->notebook) (3.5.0)\n",
      "Requirement already satisfied: argon2-cffi>=21.1 in c:\\programdata\\anaconda3\\lib\\site-packages (from jupyter-server<3,>=2.4.0->notebook) (21.3.0)\n",
      "Requirement already satisfied: jinja2>=3.0.3 in c:\\programdata\\anaconda3\\lib\\site-packages (from jupyter-server<3,>=2.4.0->notebook) (3.1.2)\n",
      "Requirement already satisfied: jupyter-client>=7.4.4 in c:\\programdata\\anaconda3\\lib\\site-packages (from jupyter-server<3,>=2.4.0->notebook) (7.4.9)\n",
      "Requirement already satisfied: jupyter-core!=5.0.*,>=4.12 in c:\\programdata\\anaconda3\\lib\\site-packages (from jupyter-server<3,>=2.4.0->notebook) (5.3.0)\n",
      "Collecting jupyter-events>=0.11.0 (from jupyter-server<3,>=2.4.0->notebook)\n",
      "  Obtaining dependency information for jupyter-events>=0.11.0 from https://files.pythonhosted.org/packages/3f/8c/9b65cb2cd4ea32d885993d5542244641590530836802a2e8c7449a4c61c9/jupyter_events-0.11.0-py3-none-any.whl.metadata\n",
      "  Downloading jupyter_events-0.11.0-py3-none-any.whl.metadata (5.8 kB)\n",
      "Collecting jupyter-server-terminals>=0.4.4 (from jupyter-server<3,>=2.4.0->notebook)\n",
      "  Obtaining dependency information for jupyter-server-terminals>=0.4.4 from https://files.pythonhosted.org/packages/07/2d/2b32cdbe8d2a602f697a649798554e4f072115438e92249624e532e8aca6/jupyter_server_terminals-0.5.3-py3-none-any.whl.metadata\n",
      "  Downloading jupyter_server_terminals-0.5.3-py3-none-any.whl.metadata (5.6 kB)\n",
      "Requirement already satisfied: nbconvert>=6.4.4 in c:\\programdata\\anaconda3\\lib\\site-packages (from jupyter-server<3,>=2.4.0->notebook) (6.5.4)\n",
      "Requirement already satisfied: nbformat>=5.3.0 in c:\\programdata\\anaconda3\\lib\\site-packages (from jupyter-server<3,>=2.4.0->notebook) (5.7.0)\n",
      "Collecting overrides>=5.0 (from jupyter-server<3,>=2.4.0->notebook)\n",
      "  Obtaining dependency information for overrides>=5.0 from https://files.pythonhosted.org/packages/2c/ab/fc8290c6a4c722e5514d80f62b2dc4c4df1a68a41d1364e625c35990fcf3/overrides-7.7.0-py3-none-any.whl.metadata\n",
      "  Downloading overrides-7.7.0-py3-none-any.whl.metadata (5.8 kB)\n",
      "Requirement already satisfied: packaging>=22.0 in c:\\programdata\\anaconda3\\lib\\site-packages (from jupyter-server<3,>=2.4.0->notebook) (23.0)\n",
      "Requirement already satisfied: prometheus-client>=0.9 in c:\\programdata\\anaconda3\\lib\\site-packages (from jupyter-server<3,>=2.4.0->notebook) (0.14.1)\n",
      "Requirement already satisfied: pywinpty>=2.0.1 in c:\\programdata\\anaconda3\\lib\\site-packages (from jupyter-server<3,>=2.4.0->notebook) (2.0.10)\n",
      "Collecting pyzmq>=24 (from jupyter-server<3,>=2.4.0->notebook)\n",
      "  Obtaining dependency information for pyzmq>=24 from https://files.pythonhosted.org/packages/3b/1b/0a540edd75a41df14ec416a9a500b9fec66e554aac920d4c58fbd5756776/pyzmq-26.2.0-cp311-cp311-win_amd64.whl.metadata\n",
      "  Downloading pyzmq-26.2.0-cp311-cp311-win_amd64.whl.metadata (6.2 kB)\n",
      "Collecting send2trash>=1.8.2 (from jupyter-server<3,>=2.4.0->notebook)\n",
      "  Obtaining dependency information for send2trash>=1.8.2 from https://files.pythonhosted.org/packages/40/b0/4562db6223154aa4e22f939003cb92514c79f3d4dccca3444253fd17f902/Send2Trash-1.8.3-py3-none-any.whl.metadata\n",
      "  Downloading Send2Trash-1.8.3-py3-none-any.whl.metadata (4.0 kB)\n",
      "Requirement already satisfied: terminado>=0.8.3 in c:\\programdata\\anaconda3\\lib\\site-packages (from jupyter-server<3,>=2.4.0->notebook) (0.17.1)\n",
      "Requirement already satisfied: traitlets>=5.6.0 in c:\\programdata\\anaconda3\\lib\\site-packages (from jupyter-server<3,>=2.4.0->notebook) (5.7.1)\n",
      "Collecting websocket-client>=1.7 (from jupyter-server<3,>=2.4.0->notebook)\n",
      "  Obtaining dependency information for websocket-client>=1.7 from https://files.pythonhosted.org/packages/5a/84/44687a29792a70e111c5c477230a72c4b957d88d16141199bf9acb7537a3/websocket_client-1.8.0-py3-none-any.whl.metadata\n",
      "  Downloading websocket_client-1.8.0-py3-none-any.whl.metadata (8.0 kB)\n",
      "Collecting async-lru>=1.0.0 (from jupyterlab<4.4,>=4.3.4->notebook)\n",
      "  Obtaining dependency information for async-lru>=1.0.0 from https://files.pythonhosted.org/packages/fa/9f/3c3503693386c4b0f245eaf5ca6198e3b28879ca0a40bde6b0e319793453/async_lru-2.0.4-py3-none-any.whl.metadata\n",
      "  Downloading async_lru-2.0.4-py3-none-any.whl.metadata (4.5 kB)\n",
      "Collecting httpx>=0.25.0 (from jupyterlab<4.4,>=4.3.4->notebook)\n",
      "  Obtaining dependency information for httpx>=0.25.0 from https://files.pythonhosted.org/packages/2a/39/e50c7c3a983047577ee07d2a9e53faf5a69493943ec3f6a384bdc792deb2/httpx-0.28.1-py3-none-any.whl.metadata\n",
      "  Downloading httpx-0.28.1-py3-none-any.whl.metadata (7.1 kB)\n",
      "Requirement already satisfied: ipykernel>=6.5.0 in c:\\programdata\\anaconda3\\lib\\site-packages (from jupyterlab<4.4,>=4.3.4->notebook) (6.19.2)\n",
      "Collecting jupyter-lsp>=2.0.0 (from jupyterlab<4.4,>=4.3.4->notebook)\n",
      "  Obtaining dependency information for jupyter-lsp>=2.0.0 from https://files.pythonhosted.org/packages/07/e0/7bd7cff65594fd9936e2f9385701e44574fc7d721331ff676ce440b14100/jupyter_lsp-2.2.5-py3-none-any.whl.metadata\n",
      "  Downloading jupyter_lsp-2.2.5-py3-none-any.whl.metadata (1.8 kB)\n",
      "Requirement already satisfied: setuptools>=40.8.0 in c:\\programdata\\anaconda3\\lib\\site-packages (from jupyterlab<4.4,>=4.3.4->notebook) (68.0.0)\n",
      "Requirement already satisfied: babel>=2.10 in c:\\programdata\\anaconda3\\lib\\site-packages (from jupyterlab-server<3,>=2.27.1->notebook) (2.11.0)\n",
      "Requirement already satisfied: json5>=0.9.0 in c:\\programdata\\anaconda3\\lib\\site-packages (from jupyterlab-server<3,>=2.27.1->notebook) (0.9.6)\n",
      "Collecting jsonschema>=4.18.0 (from jupyterlab-server<3,>=2.27.1->notebook)\n",
      "  Obtaining dependency information for jsonschema>=4.18.0 from https://files.pythonhosted.org/packages/69/4a/4f9dbeb84e8850557c02365a0eee0649abe5eb1d84af92a25731c6c0f922/jsonschema-4.23.0-py3-none-any.whl.metadata\n",
      "  Downloading jsonschema-4.23.0-py3-none-any.whl.metadata (7.9 kB)\n",
      "Requirement already satisfied: requests>=2.31 in c:\\programdata\\anaconda3\\lib\\site-packages (from jupyterlab-server<3,>=2.27.1->notebook) (2.31.0)\n",
      "Requirement already satisfied: idna>=2.8 in c:\\programdata\\anaconda3\\lib\\site-packages (from anyio>=3.1.0->jupyter-server<3,>=2.4.0->notebook) (3.4)\n",
      "Requirement already satisfied: sniffio>=1.1 in c:\\programdata\\anaconda3\\lib\\site-packages (from anyio>=3.1.0->jupyter-server<3,>=2.4.0->notebook) (1.2.0)\n",
      "Requirement already satisfied: argon2-cffi-bindings in c:\\programdata\\anaconda3\\lib\\site-packages (from argon2-cffi>=21.1->jupyter-server<3,>=2.4.0->notebook) (21.2.0)\n",
      "Requirement already satisfied: pytz>=2015.7 in c:\\programdata\\anaconda3\\lib\\site-packages (from babel>=2.10->jupyterlab-server<3,>=2.27.1->notebook) (2022.7)\n",
      "Requirement already satisfied: certifi in c:\\programdata\\anaconda3\\lib\\site-packages (from httpx>=0.25.0->jupyterlab<4.4,>=4.3.4->notebook) (2023.7.22)\n",
      "Collecting httpcore==1.* (from httpx>=0.25.0->jupyterlab<4.4,>=4.3.4->notebook)\n",
      "  Obtaining dependency information for httpcore==1.* from https://files.pythonhosted.org/packages/87/f5/72347bc88306acb359581ac4d52f23c0ef445b57157adedb9aee0cd689d2/httpcore-1.0.7-py3-none-any.whl.metadata\n",
      "  Downloading httpcore-1.0.7-py3-none-any.whl.metadata (21 kB)\n",
      "Collecting h11<0.15,>=0.13 (from httpcore==1.*->httpx>=0.25.0->jupyterlab<4.4,>=4.3.4->notebook)\n",
      "  Obtaining dependency information for h11<0.15,>=0.13 from https://files.pythonhosted.org/packages/95/04/ff642e65ad6b90db43e668d70ffb6736436c7ce41fcc549f4e9472234127/h11-0.14.0-py3-none-any.whl.metadata\n",
      "  Downloading h11-0.14.0-py3-none-any.whl.metadata (8.2 kB)\n",
      "Requirement already satisfied: comm>=0.1.1 in c:\\programdata\\anaconda3\\lib\\site-packages (from ipykernel>=6.5.0->jupyterlab<4.4,>=4.3.4->notebook) (0.1.2)\n",
      "Requirement already satisfied: debugpy>=1.0 in c:\\programdata\\anaconda3\\lib\\site-packages (from ipykernel>=6.5.0->jupyterlab<4.4,>=4.3.4->notebook) (1.6.7)\n",
      "Requirement already satisfied: ipython>=7.23.1 in c:\\programdata\\anaconda3\\lib\\site-packages (from ipykernel>=6.5.0->jupyterlab<4.4,>=4.3.4->notebook) (8.12.0)\n",
      "Requirement already satisfied: matplotlib-inline>=0.1 in c:\\programdata\\anaconda3\\lib\\site-packages (from ipykernel>=6.5.0->jupyterlab<4.4,>=4.3.4->notebook) (0.1.6)\n",
      "Requirement already satisfied: nest-asyncio in c:\\programdata\\anaconda3\\lib\\site-packages (from ipykernel>=6.5.0->jupyterlab<4.4,>=4.3.4->notebook) (1.5.6)\n",
      "Requirement already satisfied: psutil in c:\\programdata\\anaconda3\\lib\\site-packages (from ipykernel>=6.5.0->jupyterlab<4.4,>=4.3.4->notebook) (5.9.0)\n",
      "Requirement already satisfied: MarkupSafe>=2.0 in c:\\programdata\\anaconda3\\lib\\site-packages (from jinja2>=3.0.3->jupyter-server<3,>=2.4.0->notebook) (2.1.1)\n",
      "Collecting attrs>=22.2.0 (from jsonschema>=4.18.0->jupyterlab-server<3,>=2.27.1->notebook)\n",
      "  Obtaining dependency information for attrs>=22.2.0 from https://files.pythonhosted.org/packages/89/aa/ab0f7891a01eeb2d2e338ae8fecbe57fcebea1a24dbb64d45801bfab481d/attrs-24.3.0-py3-none-any.whl.metadata\n",
      "  Downloading attrs-24.3.0-py3-none-any.whl.metadata (11 kB)\n",
      "Collecting jsonschema-specifications>=2023.03.6 (from jsonschema>=4.18.0->jupyterlab-server<3,>=2.27.1->notebook)\n",
      "  Obtaining dependency information for jsonschema-specifications>=2023.03.6 from https://files.pythonhosted.org/packages/d1/0f/8910b19ac0670a0f80ce1008e5e751c4a57e14d2c4c13a482aa6079fa9d6/jsonschema_specifications-2024.10.1-py3-none-any.whl.metadata\n",
      "  Downloading jsonschema_specifications-2024.10.1-py3-none-any.whl.metadata (3.0 kB)\n",
      "Collecting referencing>=0.28.4 (from jsonschema>=4.18.0->jupyterlab-server<3,>=2.27.1->notebook)\n",
      "  Obtaining dependency information for referencing>=0.28.4 from https://files.pythonhosted.org/packages/b7/59/2056f61236782a2c86b33906c025d4f4a0b17be0161b63b70fd9e8775d36/referencing-0.35.1-py3-none-any.whl.metadata\n",
      "  Downloading referencing-0.35.1-py3-none-any.whl.metadata (2.8 kB)\n",
      "Collecting rpds-py>=0.7.1 (from jsonschema>=4.18.0->jupyterlab-server<3,>=2.27.1->notebook)\n",
      "  Obtaining dependency information for rpds-py>=0.7.1 from https://files.pythonhosted.org/packages/b8/1b/c29b570bc5db8237553002788dc734d6bd71443a2ceac2a58202ec06ef12/rpds_py-0.22.3-cp311-cp311-win_amd64.whl.metadata\n",
      "  Downloading rpds_py-0.22.3-cp311-cp311-win_amd64.whl.metadata (4.2 kB)\n",
      "Requirement already satisfied: entrypoints in c:\\programdata\\anaconda3\\lib\\site-packages (from jupyter-client>=7.4.4->jupyter-server<3,>=2.4.0->notebook) (0.4)\n",
      "Requirement already satisfied: python-dateutil>=2.8.2 in c:\\programdata\\anaconda3\\lib\\site-packages (from jupyter-client>=7.4.4->jupyter-server<3,>=2.4.0->notebook) (2.8.2)\n",
      "Requirement already satisfied: platformdirs>=2.5 in c:\\programdata\\anaconda3\\lib\\site-packages (from jupyter-core!=5.0.*,>=4.12->jupyter-server<3,>=2.4.0->notebook) (2.5.2)\n",
      "Requirement already satisfied: pywin32>=300 in c:\\programdata\\anaconda3\\lib\\site-packages (from jupyter-core!=5.0.*,>=4.12->jupyter-server<3,>=2.4.0->notebook) (305.1)\n",
      "Requirement already satisfied: python-json-logger>=2.0.4 in c:\\programdata\\anaconda3\\lib\\site-packages (from jupyter-events>=0.11.0->jupyter-server<3,>=2.4.0->notebook) (2.0.7)\n",
      "Requirement already satisfied: pyyaml>=5.3 in c:\\programdata\\anaconda3\\lib\\site-packages (from jupyter-events>=0.11.0->jupyter-server<3,>=2.4.0->notebook) (6.0)\n",
      "Requirement already satisfied: rfc3339-validator in c:\\programdata\\anaconda3\\lib\\site-packages (from jupyter-events>=0.11.0->jupyter-server<3,>=2.4.0->notebook) (0.1.4)\n",
      "Requirement already satisfied: rfc3986-validator>=0.1.1 in c:\\programdata\\anaconda3\\lib\\site-packages (from jupyter-events>=0.11.0->jupyter-server<3,>=2.4.0->notebook) (0.1.1)\n",
      "Requirement already satisfied: lxml in c:\\programdata\\anaconda3\\lib\\site-packages (from nbconvert>=6.4.4->jupyter-server<3,>=2.4.0->notebook) (4.9.2)\n",
      "Requirement already satisfied: beautifulsoup4 in c:\\programdata\\anaconda3\\lib\\site-packages (from nbconvert>=6.4.4->jupyter-server<3,>=2.4.0->notebook) (4.12.2)\n",
      "Requirement already satisfied: bleach in c:\\programdata\\anaconda3\\lib\\site-packages (from nbconvert>=6.4.4->jupyter-server<3,>=2.4.0->notebook) (4.1.0)\n",
      "Requirement already satisfied: defusedxml in c:\\programdata\\anaconda3\\lib\\site-packages (from nbconvert>=6.4.4->jupyter-server<3,>=2.4.0->notebook) (0.7.1)\n",
      "Requirement already satisfied: jupyterlab-pygments in c:\\programdata\\anaconda3\\lib\\site-packages (from nbconvert>=6.4.4->jupyter-server<3,>=2.4.0->notebook) (0.1.2)\n",
      "Requirement already satisfied: mistune<2,>=0.8.1 in c:\\programdata\\anaconda3\\lib\\site-packages (from nbconvert>=6.4.4->jupyter-server<3,>=2.4.0->notebook) (0.8.4)\n",
      "Requirement already satisfied: nbclient>=0.5.0 in c:\\programdata\\anaconda3\\lib\\site-packages (from nbconvert>=6.4.4->jupyter-server<3,>=2.4.0->notebook) (0.5.13)\n",
      "Requirement already satisfied: pandocfilters>=1.4.1 in c:\\programdata\\anaconda3\\lib\\site-packages (from nbconvert>=6.4.4->jupyter-server<3,>=2.4.0->notebook) (1.5.0)\n",
      "Requirement already satisfied: pygments>=2.4.1 in c:\\programdata\\anaconda3\\lib\\site-packages (from nbconvert>=6.4.4->jupyter-server<3,>=2.4.0->notebook) (2.15.1)\n",
      "Requirement already satisfied: tinycss2 in c:\\programdata\\anaconda3\\lib\\site-packages (from nbconvert>=6.4.4->jupyter-server<3,>=2.4.0->notebook) (1.2.1)\n",
      "Requirement already satisfied: fastjsonschema in c:\\programdata\\anaconda3\\lib\\site-packages (from nbformat>=5.3.0->jupyter-server<3,>=2.4.0->notebook) (2.16.2)\n",
      "Requirement already satisfied: charset-normalizer<4,>=2 in c:\\programdata\\anaconda3\\lib\\site-packages (from requests>=2.31->jupyterlab-server<3,>=2.27.1->notebook) (2.0.4)\n",
      "Requirement already satisfied: urllib3<3,>=1.21.1 in c:\\programdata\\anaconda3\\lib\\site-packages (from requests>=2.31->jupyterlab-server<3,>=2.27.1->notebook) (1.26.16)\n",
      "Requirement already satisfied: backcall in c:\\programdata\\anaconda3\\lib\\site-packages (from ipython>=7.23.1->ipykernel>=6.5.0->jupyterlab<4.4,>=4.3.4->notebook) (0.2.0)\n",
      "Requirement already satisfied: decorator in c:\\programdata\\anaconda3\\lib\\site-packages (from ipython>=7.23.1->ipykernel>=6.5.0->jupyterlab<4.4,>=4.3.4->notebook) (5.1.1)\n",
      "Requirement already satisfied: jedi>=0.16 in c:\\programdata\\anaconda3\\lib\\site-packages (from ipython>=7.23.1->ipykernel>=6.5.0->jupyterlab<4.4,>=4.3.4->notebook) (0.18.1)\n",
      "Requirement already satisfied: pickleshare in c:\\programdata\\anaconda3\\lib\\site-packages (from ipython>=7.23.1->ipykernel>=6.5.0->jupyterlab<4.4,>=4.3.4->notebook) (0.7.5)\n",
      "Requirement already satisfied: prompt-toolkit!=3.0.37,<3.1.0,>=3.0.30 in c:\\programdata\\anaconda3\\lib\\site-packages (from ipython>=7.23.1->ipykernel>=6.5.0->jupyterlab<4.4,>=4.3.4->notebook) (3.0.36)\n",
      "Requirement already satisfied: stack-data in c:\\programdata\\anaconda3\\lib\\site-packages (from ipython>=7.23.1->ipykernel>=6.5.0->jupyterlab<4.4,>=4.3.4->notebook) (0.2.0)\n",
      "Requirement already satisfied: colorama in c:\\programdata\\anaconda3\\lib\\site-packages (from ipython>=7.23.1->ipykernel>=6.5.0->jupyterlab<4.4,>=4.3.4->notebook) (0.4.6)\n",
      "Collecting fqdn (from jsonschema>=4.18.0->jupyterlab-server<3,>=2.27.1->notebook)\n",
      "  Obtaining dependency information for fqdn from https://files.pythonhosted.org/packages/cf/58/8acf1b3e91c58313ce5cb67df61001fc9dcd21be4fadb76c1a2d540e09ed/fqdn-1.5.1-py3-none-any.whl.metadata\n",
      "  Downloading fqdn-1.5.1-py3-none-any.whl.metadata (1.4 kB)\n",
      "Collecting isoduration (from jsonschema>=4.18.0->jupyterlab-server<3,>=2.27.1->notebook)\n",
      "  Obtaining dependency information for isoduration from https://files.pythonhosted.org/packages/7b/55/e5326141505c5d5e34c5e0935d2908a74e4561eca44108fbfb9c13d2911a/isoduration-20.11.0-py3-none-any.whl.metadata\n",
      "  Downloading isoduration-20.11.0-py3-none-any.whl.metadata (5.7 kB)\n",
      "Requirement already satisfied: jsonpointer>1.13 in c:\\programdata\\anaconda3\\lib\\site-packages (from jsonschema>=4.18.0->jupyterlab-server<3,>=2.27.1->notebook) (2.1)\n",
      "Collecting uri-template (from jsonschema>=4.18.0->jupyterlab-server<3,>=2.27.1->notebook)\n",
      "  Obtaining dependency information for uri-template from https://files.pythonhosted.org/packages/e7/00/3fca040d7cf8a32776d3d81a00c8ee7457e00f80c649f1e4a863c8321ae9/uri_template-1.3.0-py3-none-any.whl.metadata\n",
      "  Downloading uri_template-1.3.0-py3-none-any.whl.metadata (8.8 kB)\n",
      "Collecting webcolors>=24.6.0 (from jsonschema>=4.18.0->jupyterlab-server<3,>=2.27.1->notebook)\n",
      "  Obtaining dependency information for webcolors>=24.6.0 from https://files.pythonhosted.org/packages/60/e8/c0e05e4684d13459f93d312077a9a2efbe04d59c393bc2b8802248c908d4/webcolors-24.11.1-py3-none-any.whl.metadata\n",
      "  Downloading webcolors-24.11.1-py3-none-any.whl.metadata (2.2 kB)\n",
      "Requirement already satisfied: six>=1.5 in c:\\programdata\\anaconda3\\lib\\site-packages (from python-dateutil>=2.8.2->jupyter-client>=7.4.4->jupyter-server<3,>=2.4.0->notebook) (1.16.0)\n",
      "Requirement already satisfied: cffi>=1.0.1 in c:\\programdata\\anaconda3\\lib\\site-packages (from argon2-cffi-bindings->argon2-cffi>=21.1->jupyter-server<3,>=2.4.0->notebook) (1.15.1)\n",
      "Requirement already satisfied: soupsieve>1.2 in c:\\programdata\\anaconda3\\lib\\site-packages (from beautifulsoup4->nbconvert>=6.4.4->jupyter-server<3,>=2.4.0->notebook) (2.4)\n",
      "Requirement already satisfied: webencodings in c:\\programdata\\anaconda3\\lib\\site-packages (from bleach->nbconvert>=6.4.4->jupyter-server<3,>=2.4.0->notebook) (0.5.1)\n",
      "Requirement already satisfied: pycparser in c:\\programdata\\anaconda3\\lib\\site-packages (from cffi>=1.0.1->argon2-cffi-bindings->argon2-cffi>=21.1->jupyter-server<3,>=2.4.0->notebook) (2.21)\n",
      "Requirement already satisfied: parso<0.9.0,>=0.8.0 in c:\\programdata\\anaconda3\\lib\\site-packages (from jedi>=0.16->ipython>=7.23.1->ipykernel>=6.5.0->jupyterlab<4.4,>=4.3.4->notebook) (0.8.3)\n",
      "Requirement already satisfied: wcwidth in c:\\programdata\\anaconda3\\lib\\site-packages (from prompt-toolkit!=3.0.37,<3.1.0,>=3.0.30->ipython>=7.23.1->ipykernel>=6.5.0->jupyterlab<4.4,>=4.3.4->notebook) (0.2.5)\n",
      "Requirement already satisfied: arrow>=0.15.0 in c:\\programdata\\anaconda3\\lib\\site-packages (from isoduration->jsonschema>=4.18.0->jupyterlab-server<3,>=2.27.1->notebook) (1.2.3)\n",
      "Requirement already satisfied: executing in c:\\programdata\\anaconda3\\lib\\site-packages (from stack-data->ipython>=7.23.1->ipykernel>=6.5.0->jupyterlab<4.4,>=4.3.4->notebook) (0.8.3)\n",
      "Requirement already satisfied: asttokens in c:\\programdata\\anaconda3\\lib\\site-packages (from stack-data->ipython>=7.23.1->ipykernel>=6.5.0->jupyterlab<4.4,>=4.3.4->notebook) (2.0.5)\n",
      "Requirement already satisfied: pure-eval in c:\\programdata\\anaconda3\\lib\\site-packages (from stack-data->ipython>=7.23.1->ipykernel>=6.5.0->jupyterlab<4.4,>=4.3.4->notebook) (0.2.2)\n",
      "Downloading notebook-7.3.2-py3-none-any.whl (13.2 MB)\n",
      "   ---------------------------------------- 0.0/13.2 MB ? eta -:--:--\n",
      "   ---------------------------------------- 0.0/13.2 MB ? eta -:--:--\n",
      "    --------------------------------------- 0.2/13.2 MB 2.0 MB/s eta 0:00:07\n",
      "    --------------------------------------- 0.2/13.2 MB 2.4 MB/s eta 0:00:06\n",
      "   - -------------------------------------- 0.4/13.2 MB 2.1 MB/s eta 0:00:07\n",
      "   - -------------------------------------- 0.5/13.2 MB 2.3 MB/s eta 0:00:06\n",
      "   - -------------------------------------- 0.5/13.2 MB 2.3 MB/s eta 0:00:06\n",
      "   -- ------------------------------------- 0.7/13.2 MB 2.0 MB/s eta 0:00:07\n",
      "   -- ------------------------------------- 0.8/13.2 MB 2.2 MB/s eta 0:00:06\n",
      "   -- ------------------------------------- 0.8/13.2 MB 2.2 MB/s eta 0:00:06\n",
      "   -- ------------------------------------- 0.8/13.2 MB 2.2 MB/s eta 0:00:06\n",
      "   -- ------------------------------------- 0.8/13.2 MB 2.2 MB/s eta 0:00:06\n",
      "   -- ------------------------------------- 0.8/13.2 MB 2.2 MB/s eta 0:00:06\n",
      "   -- ------------------------------------- 0.8/13.2 MB 2.2 MB/s eta 0:00:06\n",
      "   -- ------------------------------------- 0.8/13.2 MB 1.3 MB/s eta 0:00:10\n",
      "   -- ------------------------------------- 0.9/13.2 MB 1.3 MB/s eta 0:00:10\n",
      "   -- ------------------------------------- 1.0/13.2 MB 1.3 MB/s eta 0:00:10\n",
      "   -- ------------------------------------- 1.0/13.2 MB 1.3 MB/s eta 0:00:10\n",
      "   -- ------------------------------------- 1.0/13.2 MB 1.3 MB/s eta 0:00:10\n",
      "   -- ------------------------------------- 1.0/13.2 MB 1.3 MB/s eta 0:00:10\n",
      "   -- ------------------------------------- 1.0/13.2 MB 1.3 MB/s eta 0:00:10\n",
      "   -- ------------------------------------- 1.0/13.2 MB 1.3 MB/s eta 0:00:10\n",
      "   --- ------------------------------------ 1.0/13.2 MB 1.0 MB/s eta 0:00:13\n",
      "   --- ------------------------------------ 1.0/13.2 MB 1.0 MB/s eta 0:00:13\n",
      "   --- ------------------------------------ 1.2/13.2 MB 1.0 MB/s eta 0:00:12\n",
      "   --- ------------------------------------ 1.2/13.2 MB 1.1 MB/s eta 0:00:12\n",
      "   --- ------------------------------------ 1.2/13.2 MB 1.1 MB/s eta 0:00:12\n",
      "   --- ------------------------------------ 1.2/13.2 MB 1.1 MB/s eta 0:00:12\n",
      "   --- ------------------------------------ 1.2/13.2 MB 1.1 MB/s eta 0:00:12\n",
      "   --- ------------------------------------ 1.2/13.2 MB 1.1 MB/s eta 0:00:12\n",
      "   ---- ----------------------------------- 1.3/13.2 MB 942.3 kB/s eta 0:00:13\n",
      "   ---- ----------------------------------- 1.4/13.2 MB 940.0 kB/s eta 0:00:13\n",
      "   ---- ----------------------------------- 1.4/13.2 MB 940.0 kB/s eta 0:00:13\n",
      "   ---- ----------------------------------- 1.4/13.2 MB 940.0 kB/s eta 0:00:13\n",
      "   ---- ----------------------------------- 1.5/13.2 MB 918.6 kB/s eta 0:00:13\n",
      "   ---- ----------------------------------- 1.5/13.2 MB 918.6 kB/s eta 0:00:13\n",
      "   ---- ----------------------------------- 1.5/13.2 MB 918.6 kB/s eta 0:00:13\n",
      "   ---- ----------------------------------- 1.6/13.2 MB 905.5 kB/s eta 0:00:13\n",
      "   ---- ----------------------------------- 1.6/13.2 MB 905.5 kB/s eta 0:00:13\n",
      "   ----- ---------------------------------- 1.6/13.2 MB 895.8 kB/s eta 0:00:13\n",
      "   ----- ---------------------------------- 1.6/13.2 MB 895.8 kB/s eta 0:00:13\n",
      "   ----- ---------------------------------- 1.7/13.2 MB 866.5 kB/s eta 0:00:14\n",
      "   ----- ---------------------------------- 1.7/13.2 MB 893.0 kB/s eta 0:00:13\n",
      "   ----- ---------------------------------- 1.7/13.2 MB 893.0 kB/s eta 0:00:13\n",
      "   ----- ---------------------------------- 1.8/13.2 MB 895.4 kB/s eta 0:00:13\n",
      "   ----- ---------------------------------- 1.9/13.2 MB 914.5 kB/s eta 0:00:13\n",
      "   ----- ---------------------------------- 2.0/13.2 MB 908.7 kB/s eta 0:00:13\n",
      "   ----- ---------------------------------- 2.0/13.2 MB 908.7 kB/s eta 0:00:13\n",
      "   ----- ---------------------------------- 2.0/13.2 MB 908.7 kB/s eta 0:00:13\n",
      "   ------ --------------------------------- 2.0/13.2 MB 875.0 kB/s eta 0:00:13\n",
      "   ------ --------------------------------- 2.0/13.2 MB 875.0 kB/s eta 0:00:13\n",
      "   ------ --------------------------------- 2.1/13.2 MB 882.2 kB/s eta 0:00:13\n",
      "   ------ --------------------------------- 2.2/13.2 MB 890.4 kB/s eta 0:00:13\n",
      "   ------ --------------------------------- 2.2/13.2 MB 881.8 kB/s eta 0:00:13\n",
      "   ------ --------------------------------- 2.3/13.2 MB 885.7 kB/s eta 0:00:13\n",
      "   ------ --------------------------------- 2.3/13.2 MB 885.7 kB/s eta 0:00:13\n",
      "   ------ --------------------------------- 2.3/13.2 MB 885.7 kB/s eta 0:00:13\n",
      "   ------ --------------------------------- 2.3/13.2 MB 885.7 kB/s eta 0:00:13\n",
      "   ------ --------------------------------- 2.3/13.2 MB 885.7 kB/s eta 0:00:13\n",
      "   ------ --------------------------------- 2.3/13.2 MB 885.7 kB/s eta 0:00:13\n",
      "   ------ --------------------------------- 2.3/13.2 MB 885.7 kB/s eta 0:00:13\n",
      "   ------ --------------------------------- 2.3/13.2 MB 885.7 kB/s eta 0:00:13\n",
      "   ------ --------------------------------- 2.3/13.2 MB 885.7 kB/s eta 0:00:13\n",
      "   ------ --------------------------------- 2.3/13.2 MB 885.7 kB/s eta 0:00:13\n",
      "   ------ --------------------------------- 2.3/13.2 MB 758.8 kB/s eta 0:00:15\n",
      "   ------ --------------------------------- 2.3/13.2 MB 753.1 kB/s eta 0:00:15\n",
      "   ------- -------------------------------- 2.3/13.2 MB 752.2 kB/s eta 0:00:15\n",
      "   ------- -------------------------------- 2.4/13.2 MB 763.5 kB/s eta 0:00:15\n",
      "   ------- -------------------------------- 2.4/13.2 MB 763.5 kB/s eta 0:00:15\n",
      "   ------- -------------------------------- 2.4/13.2 MB 763.5 kB/s eta 0:00:15\n",
      "   ------- -------------------------------- 2.4/13.2 MB 763.5 kB/s eta 0:00:15\n",
      "   ------- -------------------------------- 2.4/13.2 MB 722.9 kB/s eta 0:00:15\n",
      "   ------- -------------------------------- 2.4/13.2 MB 722.1 kB/s eta 0:00:15\n",
      "   ------- -------------------------------- 2.5/13.2 MB 730.4 kB/s eta 0:00:15\n",
      "   ------- -------------------------------- 2.6/13.2 MB 752.7 kB/s eta 0:00:15\n",
      "   -------- ------------------------------- 2.8/13.2 MB 787.0 kB/s eta 0:00:14\n",
      "   -------- ------------------------------- 2.8/13.2 MB 793.9 kB/s eta 0:00:14\n",
      "   -------- ------------------------------- 2.8/13.2 MB 793.9 kB/s eta 0:00:14\n",
      "   --------- ------------------------------ 3.0/13.2 MB 826.8 kB/s eta 0:00:13\n",
      "   --------- ------------------------------ 3.1/13.2 MB 844.1 kB/s eta 0:00:12\n",
      "   --------- ------------------------------ 3.3/13.2 MB 865.6 kB/s eta 0:00:12\n",
      "   ---------- ----------------------------- 3.3/13.2 MB 880.0 kB/s eta 0:00:12\n",
      "   ---------- ----------------------------- 3.4/13.2 MB 889.7 kB/s eta 0:00:11\n",
      "   ---------- ----------------------------- 3.5/13.2 MB 903.8 kB/s eta 0:00:11\n",
      "   ----------- ---------------------------- 3.6/13.2 MB 917.9 kB/s eta 0:00:11\n",
      "   ----------- ---------------------------- 3.7/13.2 MB 923.6 kB/s eta 0:00:11\n",
      "   ----------- ---------------------------- 3.7/13.2 MB 932.8 kB/s eta 0:00:11\n",
      "   ----------- ---------------------------- 3.8/13.2 MB 932.5 kB/s eta 0:00:11\n",
      "   ----------- ---------------------------- 3.8/13.2 MB 925.9 kB/s eta 0:00:11\n",
      "   ----------- ---------------------------- 3.9/13.2 MB 934.7 kB/s eta 0:00:10\n",
      "   ------------ --------------------------- 4.0/13.2 MB 940.2 kB/s eta 0:00:10\n",
      "   ------------ --------------------------- 4.0/13.2 MB 939.3 kB/s eta 0:00:10\n",
      "   ------------ --------------------------- 4.1/13.2 MB 948.5 kB/s eta 0:00:10\n",
      "   ------------ --------------------------- 4.1/13.2 MB 952.3 kB/s eta 0:00:10\n",
      "   ------------ --------------------------- 4.1/13.2 MB 952.3 kB/s eta 0:00:10\n",
      "   ------------ --------------------------- 4.1/13.2 MB 952.3 kB/s eta 0:00:10\n",
      "   ------------ --------------------------- 4.2/13.2 MB 945.2 kB/s eta 0:00:10\n",
      "   ------------ --------------------------- 4.2/13.2 MB 945.2 kB/s eta 0:00:10\n",
      "   ------------- -------------------------- 4.3/13.2 MB 943.7 kB/s eta 0:00:10\n",
      "   ------------- -------------------------- 4.4/13.2 MB 943.2 kB/s eta 0:00:10\n",
      "   ------------- -------------------------- 4.5/13.2 MB 951.2 kB/s eta 0:00:10\n",
      "   ------------- -------------------------- 4.6/13.2 MB 967.8 kB/s eta 0:00:09\n",
      "   -------------- ------------------------- 4.7/13.2 MB 975.4 kB/s eta 0:00:09\n",
      "   -------------- ------------------------- 4.7/13.2 MB 977.7 kB/s eta 0:00:09\n",
      "   -------------- ------------------------- 4.8/13.2 MB 989.3 kB/s eta 0:00:09\n",
      "   -------------- ------------------------- 4.8/13.2 MB 989.3 kB/s eta 0:00:09\n",
      "   -------------- ------------------------- 4.9/13.2 MB 990.3 kB/s eta 0:00:09\n",
      "   --------------- ------------------------ 5.0/13.2 MB 995.3 kB/s eta 0:00:09\n",
      "   --------------- ------------------------ 5.1/13.2 MB 1.0 MB/s eta 0:00:09\n",
      "   --------------- ------------------------ 5.1/13.2 MB 1.0 MB/s eta 0:00:09\n",
      "   --------------- ------------------------ 5.2/13.2 MB 1.0 MB/s eta 0:00:08\n",
      "   --------------- ------------------------ 5.2/13.2 MB 1.0 MB/s eta 0:00:08\n",
      "   ---------------- ----------------------- 5.3/13.2 MB 1.0 MB/s eta 0:00:08\n",
      "   ---------------- ----------------------- 5.4/13.2 MB 1.0 MB/s eta 0:00:08\n",
      "   ---------------- ----------------------- 5.4/13.2 MB 1.0 MB/s eta 0:00:08\n",
      "   ---------------- ----------------------- 5.4/13.2 MB 1.0 MB/s eta 0:00:08\n",
      "   ---------------- ----------------------- 5.6/13.2 MB 1.0 MB/s eta 0:00:08\n",
      "   ----------------- ---------------------- 5.6/13.2 MB 1.0 MB/s eta 0:00:08\n",
      "   ----------------- ---------------------- 5.7/13.2 MB 1.0 MB/s eta 0:00:08\n",
      "   ----------------- ---------------------- 5.8/13.2 MB 1.0 MB/s eta 0:00:08\n",
      "   ----------------- ---------------------- 5.8/13.2 MB 1.0 MB/s eta 0:00:08\n",
      "   ----------------- ---------------------- 5.9/13.2 MB 1.0 MB/s eta 0:00:07\n",
      "   ------------------ --------------------- 5.9/13.2 MB 1.0 MB/s eta 0:00:07\n",
      "   ------------------ --------------------- 6.0/13.2 MB 1.0 MB/s eta 0:00:07\n",
      "   ------------------ --------------------- 6.0/13.2 MB 1.0 MB/s eta 0:00:07\n",
      "   ------------------ --------------------- 6.1/13.2 MB 1.0 MB/s eta 0:00:07\n",
      "   ------------------ --------------------- 6.1/13.2 MB 1.0 MB/s eta 0:00:07\n",
      "   ------------------ --------------------- 6.2/13.2 MB 1.0 MB/s eta 0:00:07\n",
      "   ------------------ --------------------- 6.2/13.2 MB 1.0 MB/s eta 0:00:07\n",
      "   ------------------ --------------------- 6.2/13.2 MB 1.0 MB/s eta 0:00:07\n",
      "   ------------------- -------------------- 6.3/13.2 MB 1.0 MB/s eta 0:00:07\n",
      "   ------------------- -------------------- 6.3/13.2 MB 1.0 MB/s eta 0:00:07\n",
      "   ------------------- -------------------- 6.3/13.2 MB 1.0 MB/s eta 0:00:07\n",
      "   ------------------- -------------------- 6.4/13.2 MB 1.0 MB/s eta 0:00:07\n",
      "   ------------------- -------------------- 6.4/13.2 MB 1.0 MB/s eta 0:00:07\n",
      "   ------------------- -------------------- 6.5/13.2 MB 1.0 MB/s eta 0:00:07\n",
      "   ------------------- -------------------- 6.5/13.2 MB 1.0 MB/s eta 0:00:07\n",
      "   -------------------- ------------------- 6.6/13.2 MB 1.0 MB/s eta 0:00:07\n",
      "   -------------------- ------------------- 6.6/13.2 MB 1.0 MB/s eta 0:00:07\n",
      "   -------------------- ------------------- 6.7/13.2 MB 1.0 MB/s eta 0:00:07\n",
      "   -------------------- ------------------- 6.7/13.2 MB 1.0 MB/s eta 0:00:07\n",
      "   -------------------- ------------------- 6.8/13.2 MB 1.0 MB/s eta 0:00:07\n",
      "   -------------------- ------------------- 6.8/13.2 MB 1.0 MB/s eta 0:00:07\n",
      "   -------------------- ------------------- 6.9/13.2 MB 1.0 MB/s eta 0:00:07\n",
      "   --------------------- ------------------ 7.0/13.2 MB 1.0 MB/s eta 0:00:06\n",
      "   --------------------- ------------------ 7.1/13.2 MB 1.0 MB/s eta 0:00:06\n",
      "   --------------------- ------------------ 7.1/13.2 MB 1.0 MB/s eta 0:00:06\n",
      "   --------------------- ------------------ 7.2/13.2 MB 1.0 MB/s eta 0:00:06\n",
      "   --------------------- ------------------ 7.2/13.2 MB 1.0 MB/s eta 0:00:06\n",
      "   ---------------------- ----------------- 7.2/13.2 MB 1.0 MB/s eta 0:00:06\n",
      "   ---------------------- ----------------- 7.3/13.2 MB 1.0 MB/s eta 0:00:06\n",
      "   ---------------------- ----------------- 7.4/13.2 MB 1.0 MB/s eta 0:00:06\n",
      "   ---------------------- ----------------- 7.5/13.2 MB 1.1 MB/s eta 0:00:06\n",
      "   ---------------------- ----------------- 7.5/13.2 MB 1.1 MB/s eta 0:00:06\n",
      "   ---------------------- ----------------- 7.5/13.2 MB 1.0 MB/s eta 0:00:06\n",
      "   ---------------------- ----------------- 7.6/13.2 MB 1.0 MB/s eta 0:00:06\n",
      "   ----------------------- ---------------- 7.6/13.2 MB 1.0 MB/s eta 0:00:06\n",
      "   ----------------------- ---------------- 7.6/13.2 MB 1.0 MB/s eta 0:00:06\n",
      "   ----------------------- ---------------- 7.7/13.2 MB 1.0 MB/s eta 0:00:06\n",
      "   ----------------------- ---------------- 7.7/13.2 MB 1.0 MB/s eta 0:00:06\n",
      "   ----------------------- ---------------- 7.7/13.2 MB 1.0 MB/s eta 0:00:06\n",
      "   ----------------------- ---------------- 7.8/13.2 MB 1.0 MB/s eta 0:00:06\n",
      "   ----------------------- ---------------- 7.8/13.2 MB 1.0 MB/s eta 0:00:06\n",
      "   ----------------------- ---------------- 7.8/13.2 MB 1.0 MB/s eta 0:00:06\n",
      "   ----------------------- ---------------- 7.9/13.2 MB 1.0 MB/s eta 0:00:06\n",
      "   ----------------------- ---------------- 7.9/13.2 MB 1.0 MB/s eta 0:00:06\n",
      "   ----------------------- ---------------- 7.9/13.2 MB 1.0 MB/s eta 0:00:06\n",
      "   ------------------------ --------------- 7.9/13.2 MB 1.0 MB/s eta 0:00:06\n",
      "   ------------------------ --------------- 7.9/13.2 MB 1.0 MB/s eta 0:00:06\n",
      "   ------------------------ --------------- 7.9/13.2 MB 1.0 MB/s eta 0:00:06\n",
      "   ------------------------ --------------- 8.0/13.2 MB 1.0 MB/s eta 0:00:06\n",
      "   ------------------------ --------------- 8.0/13.2 MB 1.0 MB/s eta 0:00:06\n",
      "   ------------------------ --------------- 8.0/13.2 MB 999.0 kB/s eta 0:00:06\n",
      "   ------------------------ --------------- 8.0/13.2 MB 995.7 kB/s eta 0:00:06\n",
      "   ------------------------ --------------- 8.0/13.2 MB 988.1 kB/s eta 0:00:06\n",
      "   ------------------------ --------------- 8.1/13.2 MB 988.7 kB/s eta 0:00:06\n",
      "   ------------------------ --------------- 8.1/13.2 MB 986.2 kB/s eta 0:00:06\n",
      "   ------------------------ --------------- 8.1/13.2 MB 981.1 kB/s eta 0:00:06\n",
      "   ------------------------ --------------- 8.1/13.2 MB 979.2 kB/s eta 0:00:06\n",
      "   ------------------------ --------------- 8.2/13.2 MB 975.6 kB/s eta 0:00:06\n",
      "   ------------------------ --------------- 8.2/13.2 MB 972.6 kB/s eta 0:00:06\n",
      "   ------------------------ --------------- 8.2/13.2 MB 970.8 kB/s eta 0:00:06\n",
      "   ------------------------- -------------- 8.2/13.2 MB 969.1 kB/s eta 0:00:06\n",
      "   ------------------------- -------------- 8.3/13.2 MB 968.0 kB/s eta 0:00:06\n",
      "   ------------------------- -------------- 8.3/13.2 MB 965.7 kB/s eta 0:00:06\n",
      "   ------------------------- -------------- 8.3/13.2 MB 965.1 kB/s eta 0:00:06\n",
      "   ------------------------- -------------- 8.3/13.2 MB 961.7 kB/s eta 0:00:06\n",
      "   ------------------------- -------------- 8.4/13.2 MB 960.7 kB/s eta 0:00:05\n",
      "   ------------------------- -------------- 8.4/13.2 MB 957.9 kB/s eta 0:00:05\n",
      "   ------------------------- -------------- 8.4/13.2 MB 956.8 kB/s eta 0:00:05\n",
      "   ------------------------- -------------- 8.4/13.2 MB 954.5 kB/s eta 0:00:05\n",
      "   ------------------------- -------------- 8.4/13.2 MB 954.5 kB/s eta 0:00:05\n",
      "   ------------------------- -------------- 8.4/13.2 MB 954.5 kB/s eta 0:00:05\n",
      "   ------------------------- -------------- 8.5/13.2 MB 942.5 kB/s eta 0:00:05\n",
      "   ------------------------- -------------- 8.5/13.2 MB 942.5 kB/s eta 0:00:05\n",
      "   ------------------------- -------------- 8.5/13.2 MB 942.5 kB/s eta 0:00:05\n",
      "   ------------------------- -------------- 8.5/13.2 MB 942.5 kB/s eta 0:00:05\n",
      "   ------------------------- -------------- 8.5/13.2 MB 942.5 kB/s eta 0:00:05\n",
      "   ------------------------- -------------- 8.5/13.2 MB 942.5 kB/s eta 0:00:05\n",
      "   ------------------------- -------------- 8.5/13.2 MB 942.5 kB/s eta 0:00:05\n",
      "   ------------------------- -------------- 8.5/13.2 MB 942.5 kB/s eta 0:00:05\n",
      "   ------------------------- -------------- 8.5/13.2 MB 942.5 kB/s eta 0:00:05\n",
      "   ------------------------- -------------- 8.5/13.2 MB 942.5 kB/s eta 0:00:05\n",
      "   ------------------------- -------------- 8.5/13.2 MB 942.5 kB/s eta 0:00:05\n",
      "   ------------------------- -------------- 8.5/13.2 MB 942.5 kB/s eta 0:00:05\n",
      "   ------------------------- -------------- 8.5/13.2 MB 942.5 kB/s eta 0:00:05\n",
      "   ------------------------- -------------- 8.5/13.2 MB 942.5 kB/s eta 0:00:05\n",
      "   ------------------------- -------------- 8.5/13.2 MB 942.5 kB/s eta 0:00:05\n",
      "   ------------------------- -------------- 8.5/13.2 MB 942.5 kB/s eta 0:00:05\n",
      "   ------------------------- -------------- 8.5/13.2 MB 942.5 kB/s eta 0:00:05\n",
      "   ------------------------- -------------- 8.5/13.2 MB 942.5 kB/s eta 0:00:05\n",
      "   ------------------------- -------------- 8.5/13.2 MB 864.7 kB/s eta 0:00:06\n",
      "   ------------------------- -------------- 8.5/13.2 MB 864.7 kB/s eta 0:00:06\n",
      "   ------------------------- -------------- 8.5/13.2 MB 864.7 kB/s eta 0:00:06\n",
      "   ------------------------- -------------- 8.5/13.2 MB 854.3 kB/s eta 0:00:06\n",
      "   ------------------------- -------------- 8.5/13.2 MB 854.3 kB/s eta 0:00:06\n",
      "   ------------------------- -------------- 8.5/13.2 MB 854.3 kB/s eta 0:00:06\n",
      "   -------------------------- ------------- 8.6/13.2 MB 845.7 kB/s eta 0:00:06\n",
      "   -------------------------- ------------- 8.6/13.2 MB 845.7 kB/s eta 0:00:06\n",
      "   -------------------------- ------------- 8.6/13.2 MB 845.7 kB/s eta 0:00:06\n",
      "   -------------------------- ------------- 8.6/13.2 MB 845.7 kB/s eta 0:00:06\n",
      "   -------------------------- ------------- 8.6/13.2 MB 845.7 kB/s eta 0:00:06\n",
      "   -------------------------- ------------- 8.6/13.2 MB 845.7 kB/s eta 0:00:06\n",
      "   -------------------------- ------------- 8.6/13.2 MB 845.7 kB/s eta 0:00:06\n",
      "   -------------------------- ------------- 8.6/13.2 MB 845.7 kB/s eta 0:00:06\n",
      "   -------------------------- ------------- 8.6/13.2 MB 845.7 kB/s eta 0:00:06\n",
      "   -------------------------- ------------- 8.6/13.2 MB 845.7 kB/s eta 0:00:06\n",
      "   -------------------------- ------------- 8.6/13.2 MB 845.7 kB/s eta 0:00:06\n",
      "   -------------------------- ------------- 8.6/13.2 MB 845.7 kB/s eta 0:00:06\n",
      "   -------------------------- ------------- 8.6/13.2 MB 845.7 kB/s eta 0:00:06\n",
      "   -------------------------- ------------- 8.6/13.2 MB 845.7 kB/s eta 0:00:06\n",
      "   -------------------------- ------------- 8.6/13.2 MB 845.7 kB/s eta 0:00:06\n",
      "   -------------------------- ------------- 8.6/13.2 MB 845.7 kB/s eta 0:00:06\n",
      "   -------------------------- ------------- 8.6/13.2 MB 845.7 kB/s eta 0:00:06\n",
      "   -------------------------- ------------- 8.6/13.2 MB 845.7 kB/s eta 0:00:06\n",
      "   -------------------------- ------------- 8.6/13.2 MB 782.7 kB/s eta 0:00:06\n",
      "   -------------------------- ------------- 8.6/13.2 MB 782.7 kB/s eta 0:00:06\n",
      "   -------------------------- ------------- 8.6/13.2 MB 782.7 kB/s eta 0:00:06\n",
      "   -------------------------- ------------- 8.6/13.2 MB 782.7 kB/s eta 0:00:06\n",
      "   -------------------------- ------------- 8.6/13.2 MB 782.7 kB/s eta 0:00:06\n",
      "   -------------------------- ------------- 8.6/13.2 MB 782.7 kB/s eta 0:00:06\n",
      "   -------------------------- ------------- 8.6/13.2 MB 782.7 kB/s eta 0:00:06\n",
      "   -------------------------- ------------- 8.6/13.2 MB 782.7 kB/s eta 0:00:06\n",
      "   -------------------------- ------------- 8.6/13.2 MB 782.7 kB/s eta 0:00:06\n",
      "   -------------------------- ------------- 8.6/13.2 MB 782.7 kB/s eta 0:00:06\n",
      "   -------------------------- ------------- 8.6/13.2 MB 782.7 kB/s eta 0:00:06\n",
      "   -------------------------- ------------- 8.6/13.2 MB 782.7 kB/s eta 0:00:06\n",
      "   -------------------------- ------------- 8.6/13.2 MB 782.7 kB/s eta 0:00:06\n",
      "   -------------------------- ------------- 8.6/13.2 MB 782.7 kB/s eta 0:00:06\n",
      "   -------------------------- ------------- 8.6/13.2 MB 782.7 kB/s eta 0:00:06\n",
      "   -------------------------- ------------- 8.6/13.2 MB 782.7 kB/s eta 0:00:06\n",
      "   -------------------------- ------------- 8.6/13.2 MB 782.7 kB/s eta 0:00:06\n",
      "   -------------------------- ------------- 8.6/13.2 MB 782.7 kB/s eta 0:00:06\n",
      "   -------------------------- ------------- 8.6/13.2 MB 782.7 kB/s eta 0:00:06\n",
      "   -------------------------- ------------- 8.6/13.2 MB 724.5 kB/s eta 0:00:07\n",
      "   -------------------------- ------------- 8.6/13.2 MB 722.5 kB/s eta 0:00:07\n",
      "   -------------------------- ------------- 8.6/13.2 MB 722.5 kB/s eta 0:00:07\n",
      "   -------------------------- ------------- 8.6/13.2 MB 722.5 kB/s eta 0:00:07\n",
      "   -------------------------- ------------- 8.6/13.2 MB 722.5 kB/s eta 0:00:07\n",
      "   -------------------------- ------------- 8.6/13.2 MB 722.5 kB/s eta 0:00:07\n",
      "   -------------------------- ------------- 8.6/13.2 MB 722.5 kB/s eta 0:00:07\n",
      "   -------------------------- ------------- 8.6/13.2 MB 707.5 kB/s eta 0:00:07\n",
      "   -------------------------- ------------- 8.6/13.2 MB 707.5 kB/s eta 0:00:07\n",
      "   -------------------------- ------------- 8.6/13.2 MB 707.5 kB/s eta 0:00:07\n",
      "   -------------------------- ------------- 8.6/13.2 MB 707.5 kB/s eta 0:00:07\n",
      "   -------------------------- ------------- 8.6/13.2 MB 700.2 kB/s eta 0:00:07\n",
      "   -------------------------- ------------- 8.6/13.2 MB 700.2 kB/s eta 0:00:07\n",
      "   -------------------------- ------------- 8.6/13.2 MB 700.2 kB/s eta 0:00:07\n",
      "   -------------------------- ------------- 8.6/13.2 MB 700.2 kB/s eta 0:00:07\n",
      "   -------------------------- ------------- 8.7/13.2 MB 691.3 kB/s eta 0:00:07\n",
      "   -------------------------- ------------- 8.7/13.2 MB 691.3 kB/s eta 0:00:07\n",
      "   -------------------------- ------------- 8.7/13.2 MB 691.3 kB/s eta 0:00:07\n",
      "   -------------------------- ------------- 8.7/13.2 MB 685.3 kB/s eta 0:00:07\n",
      "   -------------------------- ------------- 8.7/13.2 MB 685.3 kB/s eta 0:00:07\n",
      "   -------------------------- ------------- 8.7/13.2 MB 685.3 kB/s eta 0:00:07\n",
      "   -------------------------- ------------- 8.7/13.2 MB 680.1 kB/s eta 0:00:07\n",
      "   -------------------------- ------------- 8.7/13.2 MB 680.1 kB/s eta 0:00:07\n",
      "   -------------------------- ------------- 8.8/13.2 MB 678.4 kB/s eta 0:00:07\n",
      "   -------------------------- ------------- 8.8/13.2 MB 678.4 kB/s eta 0:00:07\n",
      "   -------------------------- ------------- 8.8/13.2 MB 676.7 kB/s eta 0:00:07\n",
      "   -------------------------- ------------- 8.8/13.2 MB 676.7 kB/s eta 0:00:07\n",
      "   -------------------------- ------------- 8.8/13.2 MB 676.7 kB/s eta 0:00:07\n",
      "   -------------------------- ------------- 8.8/13.2 MB 671.7 kB/s eta 0:00:07\n",
      "   -------------------------- ------------- 8.8/13.2 MB 671.7 kB/s eta 0:00:07\n",
      "   -------------------------- ------------- 8.8/13.2 MB 671.7 kB/s eta 0:00:07\n",
      "   -------------------------- ------------- 8.8/13.2 MB 671.7 kB/s eta 0:00:07\n",
      "   -------------------------- ------------- 8.8/13.2 MB 671.7 kB/s eta 0:00:07\n",
      "   -------------------------- ------------- 8.8/13.2 MB 671.7 kB/s eta 0:00:07\n",
      "   -------------------------- ------------- 8.8/13.2 MB 671.7 kB/s eta 0:00:07\n",
      "   -------------------------- ------------- 8.8/13.2 MB 671.7 kB/s eta 0:00:07\n",
      "   -------------------------- ------------- 8.8/13.2 MB 671.7 kB/s eta 0:00:07\n",
      "   -------------------------- ------------- 8.8/13.2 MB 671.7 kB/s eta 0:00:07\n",
      "   -------------------------- ------------- 8.8/13.2 MB 671.7 kB/s eta 0:00:07\n",
      "   -------------------------- ------------- 8.8/13.2 MB 671.7 kB/s eta 0:00:07\n",
      "   -------------------------- ------------- 8.8/13.2 MB 671.7 kB/s eta 0:00:07\n",
      "   -------------------------- ------------- 8.8/13.2 MB 671.7 kB/s eta 0:00:07\n",
      "   -------------------------- ------------- 8.8/13.2 MB 671.7 kB/s eta 0:00:07\n",
      "   -------------------------- ------------- 8.8/13.2 MB 671.7 kB/s eta 0:00:07\n",
      "   -------------------------- ------------- 8.8/13.2 MB 671.7 kB/s eta 0:00:07\n",
      "   -------------------------- ------------- 8.8/13.2 MB 671.7 kB/s eta 0:00:07\n",
      "   -------------------------- ------------- 8.8/13.2 MB 630.4 kB/s eta 0:00:07\n",
      "   -------------------------- ------------- 8.8/13.2 MB 630.5 kB/s eta 0:00:07\n",
      "   -------------------------- ------------- 8.8/13.2 MB 630.5 kB/s eta 0:00:07\n",
      "   -------------------------- ------------- 8.9/13.2 MB 627.8 kB/s eta 0:00:07\n",
      "   -------------------------- ------------- 8.9/13.2 MB 627.8 kB/s eta 0:00:07\n",
      "   -------------------------- ------------- 8.9/13.2 MB 625.0 kB/s eta 0:00:07\n",
      "   --------------------------- ------------ 8.9/13.2 MB 623.7 kB/s eta 0:00:07\n",
      "   --------------------------- ------------ 8.9/13.2 MB 623.7 kB/s eta 0:00:07\n",
      "   --------------------------- ------------ 8.9/13.2 MB 623.7 kB/s eta 0:00:07\n",
      "   --------------------------- ------------ 8.9/13.2 MB 623.7 kB/s eta 0:00:07\n",
      "   --------------------------- ------------ 8.9/13.2 MB 623.7 kB/s eta 0:00:07\n",
      "   --------------------------- ------------ 8.9/13.2 MB 623.7 kB/s eta 0:00:07\n",
      "   --------------------------- ------------ 8.9/13.2 MB 623.7 kB/s eta 0:00:07\n",
      "   --------------------------- ------------ 8.9/13.2 MB 623.7 kB/s eta 0:00:07\n",
      "   --------------------------- ------------ 8.9/13.2 MB 623.7 kB/s eta 0:00:07\n",
      "   --------------------------- ------------ 8.9/13.2 MB 623.7 kB/s eta 0:00:07\n",
      "   --------------------------- ------------ 8.9/13.2 MB 623.7 kB/s eta 0:00:07\n",
      "   --------------------------- ------------ 8.9/13.2 MB 623.7 kB/s eta 0:00:07\n",
      "   --------------------------- ------------ 8.9/13.2 MB 601.5 kB/s eta 0:00:08\n",
      "   --------------------------- ------------ 8.9/13.2 MB 601.5 kB/s eta 0:00:08\n",
      "   --------------------------- ------------ 8.9/13.2 MB 601.5 kB/s eta 0:00:08\n",
      "   --------------------------- ------------ 8.9/13.2 MB 597.8 kB/s eta 0:00:08\n",
      "   --------------------------- ------------ 8.9/13.2 MB 597.8 kB/s eta 0:00:08\n",
      "   --------------------------- ------------ 8.9/13.2 MB 597.8 kB/s eta 0:00:08\n",
      "   --------------------------- ------------ 8.9/13.2 MB 597.8 kB/s eta 0:00:08\n",
      "   --------------------------- ------------ 9.0/13.2 MB 591.7 kB/s eta 0:00:08\n",
      "   --------------------------- ------------ 9.0/13.2 MB 591.7 kB/s eta 0:00:08\n",
      "   --------------------------- ------------ 9.0/13.2 MB 589.4 kB/s eta 0:00:08\n",
      "   --------------------------- ------------ 9.0/13.2 MB 589.4 kB/s eta 0:00:08\n",
      "   --------------------------- ------------ 9.0/13.2 MB 586.5 kB/s eta 0:00:08\n",
      "   --------------------------- ------------ 9.0/13.2 MB 586.5 kB/s eta 0:00:08\n",
      "   --------------------------- ------------ 9.0/13.2 MB 586.5 kB/s eta 0:00:08\n",
      "   --------------------------- ------------ 9.0/13.2 MB 582.6 kB/s eta 0:00:08\n",
      "   --------------------------- ------------ 9.0/13.2 MB 582.6 kB/s eta 0:00:08\n",
      "   --------------------------- ------------ 9.0/13.2 MB 580.9 kB/s eta 0:00:08\n",
      "   --------------------------- ------------ 9.1/13.2 MB 579.9 kB/s eta 0:00:08\n",
      "   --------------------------- ------------ 9.1/13.2 MB 578.8 kB/s eta 0:00:08\n",
      "   --------------------------- ------------ 9.1/13.2 MB 579.0 kB/s eta 0:00:08\n",
      "   --------------------------- ------------ 9.1/13.2 MB 578.5 kB/s eta 0:00:08\n",
      "   --------------------------- ------------ 9.2/13.2 MB 578.9 kB/s eta 0:00:07\n",
      "   --------------------------- ------------ 9.2/13.2 MB 579.1 kB/s eta 0:00:07\n",
      "   --------------------------- ------------ 9.2/13.2 MB 578.6 kB/s eta 0:00:07\n",
      "   ---------------------------- ----------- 9.2/13.2 MB 578.3 kB/s eta 0:00:07\n",
      "   ---------------------------- ----------- 9.2/13.2 MB 577.8 kB/s eta 0:00:07\n",
      "   ---------------------------- ----------- 9.3/13.2 MB 576.9 kB/s eta 0:00:07\n",
      "   ---------------------------- ----------- 9.3/13.2 MB 576.9 kB/s eta 0:00:07\n",
      "   ---------------------------- ----------- 9.3/13.2 MB 576.5 kB/s eta 0:00:07\n",
      "   ---------------------------- ----------- 9.3/13.2 MB 576.5 kB/s eta 0:00:07\n",
      "   ---------------------------- ----------- 9.3/13.2 MB 576.5 kB/s eta 0:00:07\n",
      "   ---------------------------- ----------- 9.3/13.2 MB 576.5 kB/s eta 0:00:07\n",
      "   ---------------------------- ----------- 9.3/13.2 MB 570.6 kB/s eta 0:00:07\n",
      "   ---------------------------- ----------- 9.3/13.2 MB 569.1 kB/s eta 0:00:07\n",
      "   ---------------------------- ----------- 9.3/13.2 MB 569.1 kB/s eta 0:00:07\n",
      "   ---------------------------- ----------- 9.3/13.2 MB 569.1 kB/s eta 0:00:07\n",
      "   ---------------------------- ----------- 9.3/13.2 MB 569.1 kB/s eta 0:00:07\n",
      "   ---------------------------- ----------- 9.3/13.2 MB 569.1 kB/s eta 0:00:07\n",
      "   ---------------------------- ----------- 9.3/13.2 MB 569.1 kB/s eta 0:00:07\n",
      "   ---------------------------- ----------- 9.3/13.2 MB 560.7 kB/s eta 0:00:07\n",
      "   ---------------------------- ----------- 9.3/13.2 MB 560.7 kB/s eta 0:00:07\n",
      "   ---------------------------- ----------- 9.3/13.2 MB 560.7 kB/s eta 0:00:07\n",
      "   ---------------------------- ----------- 9.4/13.2 MB 558.2 kB/s eta 0:00:07\n",
      "   ---------------------------- ----------- 9.4/13.2 MB 558.0 kB/s eta 0:00:07\n",
      "   ---------------------------- ----------- 9.4/13.2 MB 558.1 kB/s eta 0:00:07\n",
      "   ---------------------------- ----------- 9.5/13.2 MB 557.9 kB/s eta 0:00:07\n",
      "   ---------------------------- ----------- 9.5/13.2 MB 558.3 kB/s eta 0:00:07\n",
      "   ---------------------------- ----------- 9.5/13.2 MB 558.5 kB/s eta 0:00:07\n",
      "   ----------------------------- ---------- 9.6/13.2 MB 560.0 kB/s eta 0:00:07\n",
      "   ----------------------------- ---------- 9.6/13.2 MB 560.7 kB/s eta 0:00:07\n",
      "   ----------------------------- ---------- 9.6/13.2 MB 559.2 kB/s eta 0:00:07\n",
      "   ----------------------------- ---------- 9.7/13.2 MB 560.2 kB/s eta 0:00:07\n",
      "   ----------------------------- ---------- 9.7/13.2 MB 560.9 kB/s eta 0:00:07\n",
      "   ----------------------------- ---------- 9.7/13.2 MB 561.1 kB/s eta 0:00:07\n",
      "   ----------------------------- ---------- 9.7/13.2 MB 562.0 kB/s eta 0:00:07\n",
      "   ----------------------------- ---------- 9.8/13.2 MB 562.3 kB/s eta 0:00:07\n",
      "   ----------------------------- ---------- 9.8/13.2 MB 562.5 kB/s eta 0:00:06\n",
      "   ----------------------------- ---------- 9.9/13.2 MB 562.8 kB/s eta 0:00:06\n",
      "   ------------------------------ --------- 9.9/13.2 MB 563.6 kB/s eta 0:00:06\n",
      "   ------------------------------ --------- 9.9/13.2 MB 564.5 kB/s eta 0:00:06\n",
      "   ------------------------------ --------- 10.0/13.2 MB 565.3 kB/s eta 0:00:06\n",
      "   ------------------------------ --------- 10.0/13.2 MB 566.1 kB/s eta 0:00:06\n",
      "   ------------------------------ --------- 10.0/13.2 MB 566.8 kB/s eta 0:00:06\n",
      "   ------------------------------ --------- 10.1/13.2 MB 567.7 kB/s eta 0:00:06\n",
      "   ------------------------------ --------- 10.1/13.2 MB 568.5 kB/s eta 0:00:06\n",
      "   ------------------------------ --------- 10.1/13.2 MB 568.6 kB/s eta 0:00:06\n",
      "   ------------------------------ --------- 10.2/13.2 MB 568.9 kB/s eta 0:00:06\n",
      "   ------------------------------- -------- 10.3/13.2 MB 569.3 kB/s eta 0:00:06\n",
      "   ------------------------------- -------- 10.3/13.2 MB 569.3 kB/s eta 0:00:06\n",
      "   ------------------------------- -------- 10.3/13.2 MB 569.3 kB/s eta 0:00:06\n",
      "   ------------------------------- -------- 10.3/13.2 MB 566.3 kB/s eta 0:00:05\n",
      "   ------------------------------- -------- 10.4/13.2 MB 566.3 kB/s eta 0:00:05\n",
      "   ------------------------------- -------- 10.4/13.2 MB 565.4 kB/s eta 0:00:05\n",
      "   ------------------------------- -------- 10.5/13.2 MB 564.9 kB/s eta 0:00:05\n",
      "   -------------------------------- ------- 10.5/13.2 MB 564.4 kB/s eta 0:00:05\n",
      "   -------------------------------- ------- 10.6/13.2 MB 562.9 kB/s eta 0:00:05\n",
      "   -------------------------------- ------- 10.6/13.2 MB 562.5 kB/s eta 0:00:05\n",
      "   -------------------------------- ------- 10.7/13.2 MB 561.0 kB/s eta 0:00:05\n",
      "   -------------------------------- ------- 10.8/13.2 MB 562.4 kB/s eta 0:00:05\n",
      "   -------------------------------- ------- 10.8/13.2 MB 561.5 kB/s eta 0:00:05\n",
      "   -------------------------------- ------- 10.8/13.2 MB 561.0 kB/s eta 0:00:05\n",
      "   --------------------------------- ------ 10.9/13.2 MB 559.6 kB/s eta 0:00:05\n",
      "   --------------------------------- ------ 11.0/13.2 MB 559.1 kB/s eta 0:00:04\n",
      "   --------------------------------- ------ 11.1/13.2 MB 566.4 kB/s eta 0:00:04\n",
      "   --------------------------------- ------ 11.1/13.2 MB 566.8 kB/s eta 0:00:04\n",
      "   --------------------------------- ------ 11.2/13.2 MB 566.4 kB/s eta 0:00:04\n",
      "   ---------------------------------- ----- 11.2/13.2 MB 573.3 kB/s eta 0:00:04\n",
      "   ---------------------------------- ----- 11.3/13.2 MB 575.3 kB/s eta 0:00:04\n",
      "   ---------------------------------- ----- 11.3/13.2 MB 574.3 kB/s eta 0:00:04\n",
      "   ---------------------------------- ----- 11.4/13.2 MB 572.8 kB/s eta 0:00:04\n",
      "   ---------------------------------- ----- 11.4/13.2 MB 571.8 kB/s eta 0:00:04\n",
      "   ---------------------------------- ----- 11.5/13.2 MB 577.3 kB/s eta 0:00:03\n",
      "   ----------------------------------- ---- 11.5/13.2 MB 576.8 kB/s eta 0:00:03\n",
      "   ----------------------------------- ---- 11.6/13.2 MB 575.8 kB/s eta 0:00:03\n",
      "   ----------------------------------- ---- 11.6/13.2 MB 574.8 kB/s eta 0:00:03\n",
      "   ----------------------------------- ---- 11.6/13.2 MB 578.9 kB/s eta 0:00:03\n",
      "   ----------------------------------- ---- 11.7/13.2 MB 576.8 kB/s eta 0:00:03\n",
      "   ----------------------------------- ---- 11.7/13.2 MB 579.4 kB/s eta 0:00:03\n",
      "   ----------------------------------- ---- 11.8/13.2 MB 578.3 kB/s eta 0:00:03\n",
      "   ------------------------------------ --- 11.8/13.2 MB 580.4 kB/s eta 0:00:03\n",
      "   ------------------------------------ --- 11.9/13.2 MB 579.9 kB/s eta 0:00:03\n",
      "   ------------------------------------ --- 11.9/13.2 MB 580.4 kB/s eta 0:00:03\n",
      "   ------------------------------------ --- 12.0/13.2 MB 579.4 kB/s eta 0:00:03\n",
      "   ------------------------------------ --- 12.0/13.2 MB 582.0 kB/s eta 0:00:02\n",
      "   ------------------------------------ --- 12.0/13.2 MB 580.9 kB/s eta 0:00:02\n",
      "   ------------------------------------ --- 12.1/13.2 MB 578.9 kB/s eta 0:00:02\n",
      "   ------------------------------------ --- 12.1/13.2 MB 578.4 kB/s eta 0:00:02\n",
      "   ------------------------------------ --- 12.1/13.2 MB 577.3 kB/s eta 0:00:02\n",
      "   ------------------------------------ --- 12.1/13.2 MB 575.8 kB/s eta 0:00:02\n",
      "   ------------------------------------ --- 12.2/13.2 MB 575.3 kB/s eta 0:00:02\n",
      "   ------------------------------------- -- 12.2/13.2 MB 578.4 kB/s eta 0:00:02\n",
      "   ------------------------------------- -- 12.2/13.2 MB 576.8 kB/s eta 0:00:02\n",
      "   ------------------------------------- -- 12.3/13.2 MB 578.9 kB/s eta 0:00:02\n",
      "   ------------------------------------- -- 12.3/13.2 MB 576.8 kB/s eta 0:00:02\n",
      "   ------------------------------------- -- 12.4/13.2 MB 576.8 kB/s eta 0:00:02\n",
      "   ------------------------------------- -- 12.4/13.2 MB 575.8 kB/s eta 0:00:02\n",
      "   ------------------------------------- -- 12.5/13.2 MB 577.4 kB/s eta 0:00:02\n",
      "   ------------------------------------- -- 12.5/13.2 MB 576.8 kB/s eta 0:00:02\n",
      "   ------------------------------------- -- 12.5/13.2 MB 590.4 kB/s eta 0:00:02\n",
      "   -------------------------------------- - 12.5/13.2 MB 590.4 kB/s eta 0:00:02\n",
      "   -------------------------------------- - 12.6/13.2 MB 591.4 kB/s eta 0:00:02\n",
      "   -------------------------------------- - 12.6/13.2 MB 591.4 kB/s eta 0:00:02\n",
      "   -------------------------------------- - 12.6/13.2 MB 587.2 kB/s eta 0:00:01\n",
      "   -------------------------------------- - 12.6/13.2 MB 585.6 kB/s eta 0:00:01\n",
      "   -------------------------------------- - 12.6/13.2 MB 585.6 kB/s eta 0:00:01\n",
      "   -------------------------------------- - 12.7/13.2 MB 591.4 kB/s eta 0:00:01\n",
      "   -------------------------------------- - 12.7/13.2 MB 591.4 kB/s eta 0:00:01\n",
      "   -------------------------------------- - 12.7/13.2 MB 590.4 kB/s eta 0:00:01\n",
      "   -------------------------------------- - 12.8/13.2 MB 589.8 kB/s eta 0:00:01\n",
      "   -------------------------------------- - 12.8/13.2 MB 587.7 kB/s eta 0:00:01\n",
      "   -------------------------------------- - 12.8/13.2 MB 586.1 kB/s eta 0:00:01\n",
      "   ---------------------------------------  12.9/13.2 MB 585.6 kB/s eta 0:00:01\n",
      "   ---------------------------------------  12.9/13.2 MB 583.5 kB/s eta 0:00:01\n",
      "   ---------------------------------------  12.9/13.2 MB 582.5 kB/s eta 0:00:01\n",
      "   ---------------------------------------  12.9/13.2 MB 580.9 kB/s eta 0:00:01\n",
      "   ---------------------------------------  12.9/13.2 MB 580.9 kB/s eta 0:00:01\n",
      "   ---------------------------------------  13.0/13.2 MB 579.4 kB/s eta 0:00:01\n",
      "   ---------------------------------------  13.0/13.2 MB 579.4 kB/s eta 0:00:01\n",
      "   ---------------------------------------  13.0/13.2 MB 576.3 kB/s eta 0:00:01\n",
      "   ---------------------------------------  13.0/13.2 MB 575.3 kB/s eta 0:00:01\n",
      "   ---------------------------------------  13.0/13.2 MB 573.8 kB/s eta 0:00:01\n",
      "   ---------------------------------------  13.1/13.2 MB 575.3 kB/s eta 0:00:01\n",
      "   ---------------------------------------  13.1/13.2 MB 573.8 kB/s eta 0:00:01\n",
      "   ---------------------------------------  13.1/13.2 MB 573.8 kB/s eta 0:00:01\n",
      "   ---------------------------------------  13.1/13.2 MB 570.3 kB/s eta 0:00:01\n",
      "   ---------------------------------------  13.1/13.2 MB 568.3 kB/s eta 0:00:01\n",
      "   ---------------------------------------  13.2/13.2 MB 567.3 kB/s eta 0:00:01\n",
      "   ---------------------------------------  13.2/13.2 MB 567.3 kB/s eta 0:00:01\n",
      "   ---------------------------------------- 13.2/13.2 MB 563.1 kB/s eta 0:00:00\n",
      "Downloading jupyter_server-2.15.0-py3-none-any.whl (385 kB)\n",
      "   ---------------------------------------- 0.0/385.8 kB ? eta -:--:--\n",
      "   --- ----------------------------------- 30.7/385.8 kB 435.7 kB/s eta 0:00:01\n",
      "   ---- ---------------------------------- 41.0/385.8 kB 495.5 kB/s eta 0:00:01\n",
      "   -------- ------------------------------ 81.9/385.8 kB 573.4 kB/s eta 0:00:01\n",
      "   --------- ----------------------------- 92.2/385.8 kB 585.1 kB/s eta 0:00:01\n",
      "   ------------ ------------------------- 122.9/385.8 kB 514.3 kB/s eta 0:00:01\n",
      "   -------------- ----------------------- 143.4/385.8 kB 532.5 kB/s eta 0:00:01\n",
      "   ---------------- --------------------- 163.8/385.8 kB 546.6 kB/s eta 0:00:01\n",
      "   ------------------- ------------------ 194.6/385.8 kB 535.8 kB/s eta 0:00:01\n",
      "   ---------------------- --------------- 225.3/385.8 kB 529.7 kB/s eta 0:00:01\n",
      "   ------------------------ ------------- 245.8/385.8 kB 519.9 kB/s eta 0:00:01\n",
      "   ---------------------------- --------- 286.7/385.8 kB 553.0 kB/s eta 0:00:01\n",
      "   ----------------------------- -------- 297.0/385.8 kB 524.2 kB/s eta 0:00:01\n",
      "   ----------------------------- -------- 297.0/385.8 kB 524.2 kB/s eta 0:00:01\n",
      "   ------------------------------------ - 368.6/385.8 kB 560.0 kB/s eta 0:00:01\n",
      "   -------------------------------------- 385.8/385.8 kB 546.7 kB/s eta 0:00:00\n",
      "Downloading jupyterlab-4.3.4-py3-none-any.whl (11.7 MB)\n",
      "   ---------------------------------------- 0.0/11.7 MB ? eta -:--:--\n",
      "   ---------------------------------------- 0.0/11.7 MB 640.0 kB/s eta 0:00:19\n",
      "   ---------------------------------------- 0.1/11.7 MB 812.7 kB/s eta 0:00:15\n",
      "   ---------------------------------------- 0.1/11.7 MB 744.7 kB/s eta 0:00:16\n",
      "   ---------------------------------------- 0.1/11.7 MB 847.9 kB/s eta 0:00:14\n",
      "    --------------------------------------- 0.2/11.7 MB 803.1 kB/s eta 0:00:15\n",
      "    --------------------------------------- 0.2/11.7 MB 808.4 kB/s eta 0:00:15\n",
      "    --------------------------------------- 0.2/11.7 MB 758.5 kB/s eta 0:00:16\n",
      "    --------------------------------------- 0.3/11.7 MB 803.7 kB/s eta 0:00:15\n",
      "    --------------------------------------- 0.3/11.7 MB 803.7 kB/s eta 0:00:15\n",
      "   - -------------------------------------- 0.4/11.7 MB 794.9 kB/s eta 0:00:15\n",
      "   - -------------------------------------- 0.4/11.7 MB 781.2 kB/s eta 0:00:15\n",
      "   - -------------------------------------- 0.4/11.7 MB 781.2 kB/s eta 0:00:15\n",
      "   - -------------------------------------- 0.4/11.7 MB 727.5 kB/s eta 0:00:16\n",
      "   - -------------------------------------- 0.5/11.7 MB 737.3 kB/s eta 0:00:16\n",
      "   - -------------------------------------- 0.5/11.7 MB 748.1 kB/s eta 0:00:15\n",
      "   - -------------------------------------- 0.6/11.7 MB 754.8 kB/s eta 0:00:15\n",
      "   -- ------------------------------------- 0.6/11.7 MB 748.6 kB/s eta 0:00:15\n",
      "   -- ------------------------------------- 0.6/11.7 MB 755.7 kB/s eta 0:00:15\n",
      "   -- ------------------------------------- 0.6/11.7 MB 752.2 kB/s eta 0:00:15\n",
      "   -- ------------------------------------- 0.7/11.7 MB 756.4 kB/s eta 0:00:15\n",
      "   -- ------------------------------------- 0.7/11.7 MB 772.8 kB/s eta 0:00:15\n",
      "   -- ------------------------------------- 0.8/11.7 MB 768.0 kB/s eta 0:00:15\n",
      "   -- ------------------------------------- 0.8/11.7 MB 774.0 kB/s eta 0:00:15\n",
      "   -- ------------------------------------- 0.8/11.7 MB 759.2 kB/s eta 0:00:15\n",
      "   -- ------------------------------------- 0.8/11.7 MB 746.4 kB/s eta 0:00:15\n",
      "   -- ------------------------------------- 0.9/11.7 MB 725.2 kB/s eta 0:00:15\n",
      "   --- ------------------------------------ 0.9/11.7 MB 714.0 kB/s eta 0:00:16\n",
      "   --- ------------------------------------ 0.9/11.7 MB 714.0 kB/s eta 0:00:16\n",
      "   --- ------------------------------------ 0.9/11.7 MB 678.0 kB/s eta 0:00:16\n",
      "   --- ------------------------------------ 0.9/11.7 MB 670.3 kB/s eta 0:00:17\n",
      "   --- ------------------------------------ 0.9/11.7 MB 670.3 kB/s eta 0:00:17\n",
      "   --- ------------------------------------ 0.9/11.7 MB 648.0 kB/s eta 0:00:17\n",
      "   --- ------------------------------------ 0.9/11.7 MB 648.0 kB/s eta 0:00:17\n",
      "   --- ------------------------------------ 1.0/11.7 MB 621.6 kB/s eta 0:00:18\n",
      "   --- ------------------------------------ 1.0/11.7 MB 610.3 kB/s eta 0:00:18\n",
      "   --- ------------------------------------ 1.0/11.7 MB 605.6 kB/s eta 0:00:18\n",
      "   --- ------------------------------------ 1.0/11.7 MB 612.4 kB/s eta 0:00:18\n",
      "   --- ------------------------------------ 1.0/11.7 MB 596.1 kB/s eta 0:00:18\n",
      "   --- ------------------------------------ 1.1/11.7 MB 597.2 kB/s eta 0:00:18\n",
      "   --- ------------------------------------ 1.1/11.7 MB 583.1 kB/s eta 0:00:19\n",
      "   --- ------------------------------------ 1.1/11.7 MB 588.6 kB/s eta 0:00:18\n",
      "   --- ------------------------------------ 1.1/11.7 MB 575.9 kB/s eta 0:00:19\n",
      "   --- ------------------------------------ 1.1/11.7 MB 577.3 kB/s eta 0:00:19\n",
      "   ---- ----------------------------------- 1.2/11.7 MB 574.5 kB/s eta 0:00:19\n",
      "   ---- ----------------------------------- 1.2/11.7 MB 566.4 kB/s eta 0:00:19\n",
      "   ---- ----------------------------------- 1.2/11.7 MB 567.8 kB/s eta 0:00:19\n",
      "   ---- ----------------------------------- 1.2/11.7 MB 569.2 kB/s eta 0:00:19\n",
      "   ---- ----------------------------------- 1.3/11.7 MB 566.8 kB/s eta 0:00:19\n",
      "   ---- ----------------------------------- 1.3/11.7 MB 563.5 kB/s eta 0:00:19\n",
      "   ---- ----------------------------------- 1.3/11.7 MB 563.5 kB/s eta 0:00:19\n",
      "   ---- ----------------------------------- 1.3/11.7 MB 549.6 kB/s eta 0:00:19\n",
      "   ---- ----------------------------------- 1.3/11.7 MB 547.6 kB/s eta 0:00:19\n",
      "   ---- ----------------------------------- 1.3/11.7 MB 542.5 kB/s eta 0:00:20\n",
      "   ---- ----------------------------------- 1.3/11.7 MB 542.5 kB/s eta 0:00:20\n",
      "   ---- ----------------------------------- 1.4/11.7 MB 537.9 kB/s eta 0:00:20\n",
      "   ---- ----------------------------------- 1.4/11.7 MB 539.4 kB/s eta 0:00:20\n",
      "   ---- ----------------------------------- 1.4/11.7 MB 539.4 kB/s eta 0:00:20\n",
      "   ---- ----------------------------------- 1.4/11.7 MB 531.8 kB/s eta 0:00:20\n",
      "   ---- ----------------------------------- 1.4/11.7 MB 526.4 kB/s eta 0:00:20\n",
      "   ----- ---------------------------------- 1.5/11.7 MB 529.4 kB/s eta 0:00:20\n",
      "   ----- ---------------------------------- 1.5/11.7 MB 524.2 kB/s eta 0:00:20\n",
      "   ----- ---------------------------------- 1.5/11.7 MB 524.2 kB/s eta 0:00:20\n",
      "   ----- ---------------------------------- 1.5/11.7 MB 520.0 kB/s eta 0:00:20\n",
      "   ----- ---------------------------------- 1.5/11.7 MB 512.3 kB/s eta 0:00:20\n",
      "   ----- ---------------------------------- 1.5/11.7 MB 511.1 kB/s eta 0:00:20\n",
      "   ----- ---------------------------------- 1.6/11.7 MB 512.7 kB/s eta 0:00:20\n",
      "   ----- ---------------------------------- 1.6/11.7 MB 505.5 kB/s eta 0:00:20\n",
      "   ----- ---------------------------------- 1.6/11.7 MB 504.6 kB/s eta 0:00:20\n",
      "   ----- ---------------------------------- 1.6/11.7 MB 502.8 kB/s eta 0:00:21\n",
      "   ----- ---------------------------------- 1.6/11.7 MB 503.3 kB/s eta 0:00:20\n",
      "   ----- ---------------------------------- 1.6/11.7 MB 499.2 kB/s eta 0:00:21\n",
      "   ----- ---------------------------------- 1.7/11.7 MB 503.1 kB/s eta 0:00:20\n",
      "   ----- ---------------------------------- 1.7/11.7 MB 496.8 kB/s eta 0:00:21\n",
      "   ----- ---------------------------------- 1.7/11.7 MB 498.3 kB/s eta 0:00:21\n",
      "   ----- ---------------------------------- 1.7/11.7 MB 493.6 kB/s eta 0:00:21\n",
      "   ----- ---------------------------------- 1.7/11.7 MB 493.6 kB/s eta 0:00:21\n",
      "   ------ --------------------------------- 1.8/11.7 MB 492.9 kB/s eta 0:00:21\n",
      "   ------ --------------------------------- 1.8/11.7 MB 492.9 kB/s eta 0:00:21\n",
      "   ------ --------------------------------- 1.8/11.7 MB 494.3 kB/s eta 0:00:20\n",
      "   ------ --------------------------------- 1.8/11.7 MB 487.4 kB/s eta 0:00:21\n",
      "   ------ --------------------------------- 1.8/11.7 MB 490.8 kB/s eta 0:00:21\n",
      "   ------ --------------------------------- 1.9/11.7 MB 490.8 kB/s eta 0:00:20\n",
      "   ------ --------------------------------- 1.9/11.7 MB 490.2 kB/s eta 0:00:20\n",
      "   ------ --------------------------------- 1.9/11.7 MB 492.1 kB/s eta 0:00:20\n",
      "   ------ --------------------------------- 2.0/11.7 MB 494.1 kB/s eta 0:00:20\n",
      "   ------ --------------------------------- 2.0/11.7 MB 493.4 kB/s eta 0:00:20\n",
      "   ------ --------------------------------- 2.0/11.7 MB 495.2 kB/s eta 0:00:20\n",
      "   ------ --------------------------------- 2.0/11.7 MB 495.2 kB/s eta 0:00:20\n",
      "   ------ --------------------------------- 2.0/11.7 MB 495.2 kB/s eta 0:00:20\n",
      "   ------ --------------------------------- 2.0/11.7 MB 487.7 kB/s eta 0:00:20\n",
      "   ------- -------------------------------- 2.1/11.7 MB 489.0 kB/s eta 0:00:20\n",
      "   ------- -------------------------------- 2.1/11.7 MB 484.3 kB/s eta 0:00:20\n",
      "   ------- -------------------------------- 2.1/11.7 MB 484.3 kB/s eta 0:00:20\n",
      "   ------- -------------------------------- 2.1/11.7 MB 475.1 kB/s eta 0:00:21\n",
      "   ------- -------------------------------- 2.1/11.7 MB 474.0 kB/s eta 0:00:21\n",
      "   ------- -------------------------------- 2.1/11.7 MB 474.0 kB/s eta 0:00:21\n",
      "   ------- -------------------------------- 2.1/11.7 MB 470.3 kB/s eta 0:00:21\n",
      "   ------- -------------------------------- 2.1/11.7 MB 470.3 kB/s eta 0:00:21\n",
      "   ------- -------------------------------- 2.1/11.7 MB 466.8 kB/s eta 0:00:21\n",
      "   ------- -------------------------------- 2.2/11.7 MB 465.0 kB/s eta 0:00:21\n",
      "   ------- -------------------------------- 2.2/11.7 MB 460.9 kB/s eta 0:00:21\n",
      "   ------- -------------------------------- 2.2/11.7 MB 460.9 kB/s eta 0:00:21\n",
      "   ------- -------------------------------- 2.2/11.7 MB 459.2 kB/s eta 0:00:21\n",
      "   ------- -------------------------------- 2.2/11.7 MB 455.3 kB/s eta 0:00:21\n",
      "   ------- -------------------------------- 2.2/11.7 MB 453.7 kB/s eta 0:00:21\n",
      "   ------- -------------------------------- 2.3/11.7 MB 455.6 kB/s eta 0:00:21\n",
      "   ------- -------------------------------- 2.3/11.7 MB 457.5 kB/s eta 0:00:21\n",
      "   ------- -------------------------------- 2.3/11.7 MB 458.8 kB/s eta 0:00:21\n",
      "   -------- ------------------------------- 2.3/11.7 MB 459.1 kB/s eta 0:00:21\n",
      "   -------- ------------------------------- 2.4/11.7 MB 460.9 kB/s eta 0:00:21\n",
      "   -------- ------------------------------- 2.4/11.7 MB 460.9 kB/s eta 0:00:21\n",
      "   -------- ------------------------------- 2.4/11.7 MB 461.9 kB/s eta 0:00:21\n",
      "   -------- ------------------------------- 2.4/11.7 MB 461.1 kB/s eta 0:00:21\n",
      "   -------- ------------------------------- 2.4/11.7 MB 460.1 kB/s eta 0:00:21\n",
      "   -------- ------------------------------- 2.5/11.7 MB 463.7 kB/s eta 0:00:20\n",
      "   -------- ------------------------------- 2.5/11.7 MB 467.3 kB/s eta 0:00:20\n",
      "   -------- ------------------------------- 2.6/11.7 MB 472.1 kB/s eta 0:00:20\n",
      "   -------- ------------------------------- 2.6/11.7 MB 474.2 kB/s eta 0:00:20\n",
      "   --------- ------------------------------ 2.7/11.7 MB 477.6 kB/s eta 0:00:19\n",
      "   --------- ------------------------------ 2.7/11.7 MB 479.1 kB/s eta 0:00:19\n",
      "   --------- ------------------------------ 2.7/11.7 MB 480.6 kB/s eta 0:00:19\n",
      "   --------- ------------------------------ 2.7/11.7 MB 482.0 kB/s eta 0:00:19\n",
      "   --------- ------------------------------ 2.8/11.7 MB 487.0 kB/s eta 0:00:19\n",
      "   --------- ------------------------------ 2.8/11.7 MB 489.7 kB/s eta 0:00:19\n",
      "   --------- ------------------------------ 2.9/11.7 MB 491.1 kB/s eta 0:00:18\n",
      "   --------- ------------------------------ 2.9/11.7 MB 497.2 kB/s eta 0:00:18\n",
      "   ---------- ----------------------------- 2.9/11.7 MB 497.1 kB/s eta 0:00:18\n",
      "   ---------- ----------------------------- 3.0/11.7 MB 498.8 kB/s eta 0:00:18\n",
      "   ---------- ----------------------------- 3.0/11.7 MB 501.8 kB/s eta 0:00:18\n",
      "   ---------- ----------------------------- 3.1/11.7 MB 508.4 kB/s eta 0:00:17\n",
      "   ---------- ----------------------------- 3.1/11.7 MB 510.8 kB/s eta 0:00:17\n",
      "   ---------- ----------------------------- 3.2/11.7 MB 513.9 kB/s eta 0:00:17\n",
      "   ---------- ----------------------------- 3.2/11.7 MB 516.3 kB/s eta 0:00:17\n",
      "   ----------- ---------------------------- 3.2/11.7 MB 516.1 kB/s eta 0:00:17\n",
      "   ----------- ---------------------------- 3.3/11.7 MB 519.4 kB/s eta 0:00:17\n",
      "   ----------- ---------------------------- 3.3/11.7 MB 521.4 kB/s eta 0:00:17\n",
      "   ----------- ---------------------------- 3.4/11.7 MB 530.1 kB/s eta 0:00:16\n",
      "   ----------- ---------------------------- 3.4/11.7 MB 531.0 kB/s eta 0:00:16\n",
      "   ----------- ---------------------------- 3.5/11.7 MB 536.6 kB/s eta 0:00:16\n",
      "   ------------ --------------------------- 3.5/11.7 MB 541.9 kB/s eta 0:00:16\n",
      "   ------------ --------------------------- 3.6/11.7 MB 545.9 kB/s eta 0:00:15\n",
      "   ------------ --------------------------- 3.6/11.7 MB 549.7 kB/s eta 0:00:15\n",
      "   ------------ --------------------------- 3.7/11.7 MB 552.2 kB/s eta 0:00:15\n",
      "   ------------ --------------------------- 3.7/11.7 MB 556.0 kB/s eta 0:00:15\n",
      "   ------------ --------------------------- 3.8/11.7 MB 558.3 kB/s eta 0:00:15\n",
      "   ------------- -------------------------- 3.8/11.7 MB 562.1 kB/s eta 0:00:14\n",
      "   ------------- -------------------------- 3.9/11.7 MB 564.1 kB/s eta 0:00:14\n",
      "   ------------- -------------------------- 3.9/11.7 MB 564.1 kB/s eta 0:00:14\n",
      "   ------------- -------------------------- 4.0/11.7 MB 571.2 kB/s eta 0:00:14\n",
      "   ------------- -------------------------- 4.0/11.7 MB 570.1 kB/s eta 0:00:14\n",
      "   ------------- -------------------------- 4.0/11.7 MB 570.8 kB/s eta 0:00:14\n",
      "   ------------- -------------------------- 4.1/11.7 MB 572.8 kB/s eta 0:00:14\n",
      "   ------------- -------------------------- 4.1/11.7 MB 572.8 kB/s eta 0:00:14\n",
      "   -------------- ------------------------- 4.1/11.7 MB 572.5 kB/s eta 0:00:14\n",
      "   -------------- ------------------------- 4.1/11.7 MB 575.5 kB/s eta 0:00:14\n",
      "   -------------- ------------------------- 4.2/11.7 MB 577.8 kB/s eta 0:00:13\n",
      "   -------------- ------------------------- 4.2/11.7 MB 575.5 kB/s eta 0:00:13\n",
      "   -------------- ------------------------- 4.2/11.7 MB 577.0 kB/s eta 0:00:13\n",
      "   -------------- ------------------------- 4.3/11.7 MB 576.2 kB/s eta 0:00:13\n",
      "   -------------- ------------------------- 4.3/11.7 MB 576.8 kB/s eta 0:00:13\n",
      "   -------------- ------------------------- 4.3/11.7 MB 577.5 kB/s eta 0:00:13\n",
      "   --------------- ------------------------ 4.4/11.7 MB 582.1 kB/s eta 0:00:13\n",
      "   --------------- ------------------------ 4.5/11.7 MB 585.2 kB/s eta 0:00:13\n",
      "   --------------- ------------------------ 4.5/11.7 MB 588.3 kB/s eta 0:00:13\n",
      "   --------------- ------------------------ 4.6/11.7 MB 592.7 kB/s eta 0:00:12\n",
      "   --------------- ------------------------ 4.6/11.7 MB 594.1 kB/s eta 0:00:12\n",
      "   --------------- ------------------------ 4.6/11.7 MB 596.1 kB/s eta 0:00:12\n",
      "   ---------------- ----------------------- 4.7/11.7 MB 600.4 kB/s eta 0:00:12\n",
      "   ---------------- ----------------------- 4.7/11.7 MB 599.4 kB/s eta 0:00:12\n",
      "   ---------------- ----------------------- 4.8/11.7 MB 601.1 kB/s eta 0:00:12\n",
      "   ---------------- ----------------------- 4.8/11.7 MB 602.4 kB/s eta 0:00:12\n",
      "   ---------------- ----------------------- 4.8/11.7 MB 604.2 kB/s eta 0:00:12\n",
      "   ---------------- ----------------------- 4.9/11.7 MB 603.2 kB/s eta 0:00:12\n",
      "   ---------------- ----------------------- 4.9/11.7 MB 603.5 kB/s eta 0:00:12\n",
      "   ---------------- ----------------------- 4.9/11.7 MB 602.6 kB/s eta 0:00:12\n",
      "   ---------------- ----------------------- 4.9/11.7 MB 602.7 kB/s eta 0:00:12\n",
      "   ----------------- ---------------------- 5.0/11.7 MB 603.0 kB/s eta 0:00:12\n",
      "   ----------------- ---------------------- 5.0/11.7 MB 602.3 kB/s eta 0:00:12\n",
      "   ----------------- ---------------------- 5.0/11.7 MB 602.4 kB/s eta 0:00:12\n",
      "   ----------------- ---------------------- 5.1/11.7 MB 602.9 kB/s eta 0:00:11\n",
      "   ----------------- ---------------------- 5.1/11.7 MB 604.3 kB/s eta 0:00:11\n",
      "   ----------------- ---------------------- 5.1/11.7 MB 603.3 kB/s eta 0:00:11\n",
      "   ----------------- ---------------------- 5.2/11.7 MB 604.9 kB/s eta 0:00:11\n",
      "   ----------------- ---------------------- 5.2/11.7 MB 606.3 kB/s eta 0:00:11\n",
      "   ----------------- ---------------------- 5.2/11.7 MB 606.5 kB/s eta 0:00:11\n",
      "   ------------------ --------------------- 5.3/11.7 MB 605.8 kB/s eta 0:00:11\n",
      "   ------------------ --------------------- 5.3/11.7 MB 605.8 kB/s eta 0:00:11\n",
      "   ------------------ --------------------- 5.3/11.7 MB 606.2 kB/s eta 0:00:11\n",
      "   ------------------ --------------------- 5.3/11.7 MB 607.4 kB/s eta 0:00:11\n",
      "   ------------------ --------------------- 5.4/11.7 MB 605.6 kB/s eta 0:00:11\n",
      "   ------------------ --------------------- 5.4/11.7 MB 607.0 kB/s eta 0:00:11\n",
      "   ------------------ --------------------- 5.5/11.7 MB 609.5 kB/s eta 0:00:11\n",
      "   ------------------ --------------------- 5.5/11.7 MB 611.0 kB/s eta 0:00:11\n",
      "   ------------------ --------------------- 5.5/11.7 MB 612.2 kB/s eta 0:00:11\n",
      "   ------------------- -------------------- 5.6/11.7 MB 613.5 kB/s eta 0:00:10\n",
      "   ------------------- -------------------- 5.6/11.7 MB 613.9 kB/s eta 0:00:10\n",
      "   ------------------- -------------------- 5.6/11.7 MB 615.0 kB/s eta 0:00:10\n",
      "   ------------------- -------------------- 5.7/11.7 MB 614.3 kB/s eta 0:00:10\n",
      "   ------------------- -------------------- 5.7/11.7 MB 617.8 kB/s eta 0:00:10\n",
      "   ------------------- -------------------- 5.8/11.7 MB 620.1 kB/s eta 0:00:10\n",
      "   ------------------- -------------------- 5.8/11.7 MB 621.4 kB/s eta 0:00:10\n",
      "   -------------------- ------------------- 5.9/11.7 MB 622.7 kB/s eta 0:00:10\n",
      "   -------------------- ------------------- 5.9/11.7 MB 625.0 kB/s eta 0:00:10\n",
      "   -------------------- ------------------- 6.0/11.7 MB 627.3 kB/s eta 0:00:10\n",
      "   -------------------- ------------------- 6.0/11.7 MB 628.5 kB/s eta 0:00:10\n",
      "   -------------------- ------------------- 6.1/11.7 MB 630.8 kB/s eta 0:00:09\n",
      "   --------------------- ------------------ 6.1/11.7 MB 634.1 kB/s eta 0:00:09\n",
      "   --------------------- ------------------ 6.2/11.7 MB 637.4 kB/s eta 0:00:09\n",
      "   --------------------- ------------------ 6.2/11.7 MB 635.4 kB/s eta 0:00:09\n",
      "   --------------------- ------------------ 6.3/11.7 MB 638.6 kB/s eta 0:00:09\n",
      "   --------------------- ------------------ 6.3/11.7 MB 642.9 kB/s eta 0:00:09\n",
      "   --------------------- ------------------ 6.3/11.7 MB 642.9 kB/s eta 0:00:09\n",
      "   --------------------- ------------------ 6.3/11.7 MB 642.9 kB/s eta 0:00:09\n",
      "   ---------------------- ----------------- 6.4/11.7 MB 644.0 kB/s eta 0:00:09\n",
      "   ---------------------- ----------------- 6.5/11.7 MB 644.1 kB/s eta 0:00:09\n",
      "   ---------------------- ----------------- 6.5/11.7 MB 647.2 kB/s eta 0:00:08\n",
      "   ---------------------- ----------------- 6.6/11.7 MB 648.2 kB/s eta 0:00:08\n",
      "   ---------------------- ----------------- 6.6/11.7 MB 647.3 kB/s eta 0:00:08\n",
      "   ---------------------- ----------------- 6.7/11.7 MB 652.3 kB/s eta 0:00:08\n",
      "   ---------------------- ----------------- 6.7/11.7 MB 652.4 kB/s eta 0:00:08\n",
      "   ---------------------- ----------------- 6.7/11.7 MB 650.4 kB/s eta 0:00:08\n",
      "   ---------------------- ----------------- 6.7/11.7 MB 650.4 kB/s eta 0:00:08\n",
      "   ----------------------- ---------------- 6.7/11.7 MB 648.4 kB/s eta 0:00:08\n",
      "   ----------------------- ---------------- 6.8/11.7 MB 647.5 kB/s eta 0:00:08\n",
      "   ----------------------- ---------------- 6.8/11.7 MB 647.6 kB/s eta 0:00:08\n",
      "   ----------------------- ---------------- 6.8/11.7 MB 647.5 kB/s eta 0:00:08\n",
      "   ----------------------- ---------------- 6.9/11.7 MB 647.6 kB/s eta 0:00:08\n",
      "   ----------------------- ---------------- 6.9/11.7 MB 649.6 kB/s eta 0:00:08\n",
      "   ----------------------- ---------------- 7.0/11.7 MB 649.6 kB/s eta 0:00:08\n",
      "   ----------------------- ---------------- 7.0/11.7 MB 650.5 kB/s eta 0:00:08\n",
      "   ------------------------ --------------- 7.0/11.7 MB 652.5 kB/s eta 0:00:08\n",
      "   ------------------------ --------------- 7.1/11.7 MB 652.5 kB/s eta 0:00:08\n",
      "   ------------------------ --------------- 7.1/11.7 MB 651.5 kB/s eta 0:00:08\n",
      "   ------------------------ --------------- 7.1/11.7 MB 651.6 kB/s eta 0:00:07\n",
      "   ------------------------ --------------- 7.1/11.7 MB 651.6 kB/s eta 0:00:07\n",
      "   ------------------------ --------------- 7.1/11.7 MB 648.8 kB/s eta 0:00:07\n",
      "   ------------------------ --------------- 7.2/11.7 MB 647.9 kB/s eta 0:00:07\n",
      "   ------------------------ --------------- 7.2/11.7 MB 647.0 kB/s eta 0:00:07\n",
      "   ------------------------ --------------- 7.2/11.7 MB 647.0 kB/s eta 0:00:07\n",
      "   ------------------------ --------------- 7.2/11.7 MB 647.1 kB/s eta 0:00:07\n",
      "   ------------------------ --------------- 7.3/11.7 MB 646.2 kB/s eta 0:00:07\n",
      "   ------------------------ --------------- 7.3/11.7 MB 645.3 kB/s eta 0:00:07\n",
      "   ------------------------- -------------- 7.3/11.7 MB 644.5 kB/s eta 0:00:07\n",
      "   ------------------------- -------------- 7.3/11.7 MB 643.6 kB/s eta 0:00:07\n",
      "   ------------------------- -------------- 7.3/11.7 MB 643.6 kB/s eta 0:00:07\n",
      "   ------------------------- -------------- 7.3/11.7 MB 638.4 kB/s eta 0:00:07\n",
      "   ------------------------- -------------- 7.3/11.7 MB 638.4 kB/s eta 0:00:07\n",
      "   ------------------------- -------------- 7.4/11.7 MB 638.4 kB/s eta 0:00:07\n",
      "   ------------------------- -------------- 7.4/11.7 MB 635.9 kB/s eta 0:00:07\n",
      "   ------------------------- -------------- 7.4/11.7 MB 636.0 kB/s eta 0:00:07\n",
      "   ------------------------- -------------- 7.4/11.7 MB 636.0 kB/s eta 0:00:07\n",
      "   ------------------------- -------------- 7.4/11.7 MB 633.4 kB/s eta 0:00:07\n",
      "   ------------------------- -------------- 7.5/11.7 MB 631.9 kB/s eta 0:00:07\n",
      "   ------------------------- -------------- 7.5/11.7 MB 631.9 kB/s eta 0:00:07\n",
      "   ------------------------- -------------- 7.5/11.7 MB 631.2 kB/s eta 0:00:07\n",
      "   ------------------------- -------------- 7.5/11.7 MB 631.2 kB/s eta 0:00:07\n",
      "   ------------------------- -------------- 7.6/11.7 MB 630.5 kB/s eta 0:00:07\n",
      "   -------------------------- ------------- 7.6/11.7 MB 632.3 kB/s eta 0:00:07\n",
      "   -------------------------- ------------- 7.7/11.7 MB 634.1 kB/s eta 0:00:07\n",
      "   -------------------------- ------------- 7.7/11.7 MB 634.2 kB/s eta 0:00:07\n",
      "   -------------------------- ------------- 7.7/11.7 MB 635.9 kB/s eta 0:00:07\n",
      "   -------------------------- ------------- 7.8/11.7 MB 638.5 kB/s eta 0:00:07\n",
      "   --------------------------- ------------ 7.9/11.7 MB 642.0 kB/s eta 0:00:06\n",
      "   --------------------------- ------------ 7.9/11.7 MB 642.0 kB/s eta 0:00:06\n",
      "   --------------------------- ------------ 7.9/11.7 MB 639.6 kB/s eta 0:00:06\n",
      "   --------------------------- ------------ 7.9/11.7 MB 639.6 kB/s eta 0:00:06\n",
      "   --------------------------- ------------ 7.9/11.7 MB 638.0 kB/s eta 0:00:06\n",
      "   --------------------------- ------------ 8.0/11.7 MB 638.0 kB/s eta 0:00:06\n",
      "   --------------------------- ------------ 8.0/11.7 MB 635.7 kB/s eta 0:00:06\n",
      "   --------------------------- ------------ 8.0/11.7 MB 635.0 kB/s eta 0:00:06\n",
      "   --------------------------- ------------ 8.0/11.7 MB 633.5 kB/s eta 0:00:06\n",
      "   --------------------------- ------------ 8.0/11.7 MB 633.5 kB/s eta 0:00:06\n",
      "   --------------------------- ------------ 8.0/11.7 MB 630.3 kB/s eta 0:00:06\n",
      "   --------------------------- ------------ 8.0/11.7 MB 630.3 kB/s eta 0:00:06\n",
      "   --------------------------- ------------ 8.0/11.7 MB 626.6 kB/s eta 0:00:06\n",
      "   --------------------------- ------------ 8.0/11.7 MB 626.6 kB/s eta 0:00:06\n",
      "   --------------------------- ------------ 8.0/11.7 MB 624.3 kB/s eta 0:00:06\n",
      "   --------------------------- ------------ 8.1/11.7 MB 624.4 kB/s eta 0:00:06\n",
      "   --------------------------- ------------ 8.1/11.7 MB 623.0 kB/s eta 0:00:06\n",
      "   --------------------------- ------------ 8.1/11.7 MB 621.5 kB/s eta 0:00:06\n",
      "   --------------------------- ------------ 8.1/11.7 MB 621.5 kB/s eta 0:00:06\n",
      "   --------------------------- ------------ 8.1/11.7 MB 618.6 kB/s eta 0:00:06\n",
      "   --------------------------- ------------ 8.1/11.7 MB 618.6 kB/s eta 0:00:06\n",
      "   ---------------------------- ----------- 8.2/11.7 MB 617.4 kB/s eta 0:00:06\n",
      "   ---------------------------- ----------- 8.2/11.7 MB 617.4 kB/s eta 0:00:06\n",
      "   ---------------------------- ----------- 8.2/11.7 MB 615.2 kB/s eta 0:00:06\n",
      "   ---------------------------- ----------- 8.2/11.7 MB 615.2 kB/s eta 0:00:06\n",
      "   ---------------------------- ----------- 8.2/11.7 MB 611.0 kB/s eta 0:00:06\n",
      "   ---------------------------- ----------- 8.2/11.7 MB 611.0 kB/s eta 0:00:06\n",
      "   ---------------------------- ----------- 8.2/11.7 MB 610.5 kB/s eta 0:00:06\n",
      "   ---------------------------- ----------- 8.3/11.7 MB 609.9 kB/s eta 0:00:06\n",
      "   ---------------------------- ----------- 8.3/11.7 MB 609.3 kB/s eta 0:00:06\n",
      "   ---------------------------- ----------- 8.3/11.7 MB 608.8 kB/s eta 0:00:06\n",
      "   ---------------------------- ----------- 8.4/11.7 MB 609.7 kB/s eta 0:00:06\n",
      "   ---------------------------- ----------- 8.4/11.7 MB 609.7 kB/s eta 0:00:06\n",
      "   ---------------------------- ----------- 8.4/11.7 MB 610.7 kB/s eta 0:00:06\n",
      "   ---------------------------- ----------- 8.4/11.7 MB 609.5 kB/s eta 0:00:06\n",
      "   ----------------------------- ---------- 8.5/11.7 MB 608.2 kB/s eta 0:00:06\n",
      "   ----------------------------- ---------- 8.5/11.7 MB 608.2 kB/s eta 0:00:06\n",
      "   ----------------------------- ---------- 8.5/11.7 MB 606.9 kB/s eta 0:00:06\n",
      "   ----------------------------- ---------- 8.5/11.7 MB 607.1 kB/s eta 0:00:06\n",
      "   ----------------------------- ---------- 8.5/11.7 MB 607.1 kB/s eta 0:00:06\n",
      "   ----------------------------- ---------- 8.5/11.7 MB 607.1 kB/s eta 0:00:06\n",
      "   ----------------------------- ---------- 8.5/11.7 MB 602.5 kB/s eta 0:00:06\n",
      "   ----------------------------- ---------- 8.5/11.7 MB 602.5 kB/s eta 0:00:06\n",
      "   ----------------------------- ---------- 8.6/11.7 MB 600.0 kB/s eta 0:00:06\n",
      "   ----------------------------- ---------- 8.6/11.7 MB 598.8 kB/s eta 0:00:06\n",
      "   ----------------------------- ---------- 8.6/11.7 MB 598.9 kB/s eta 0:00:06\n",
      "   ----------------------------- ---------- 8.6/11.7 MB 597.7 kB/s eta 0:00:06\n",
      "   ----------------------------- ---------- 8.6/11.7 MB 597.1 kB/s eta 0:00:06\n",
      "   ----------------------------- ---------- 8.7/11.7 MB 596.7 kB/s eta 0:00:06\n",
      "   ----------------------------- ---------- 8.7/11.7 MB 596.8 kB/s eta 0:00:06\n",
      "   ----------------------------- ---------- 8.7/11.7 MB 596.9 kB/s eta 0:00:05\n",
      "   ----------------------------- ---------- 8.7/11.7 MB 595.8 kB/s eta 0:00:05\n",
      "   ----------------------------- ---------- 8.7/11.7 MB 595.2 kB/s eta 0:00:05\n",
      "   ------------------------------ --------- 8.8/11.7 MB 595.5 kB/s eta 0:00:05\n",
      "   ------------------------------ --------- 8.8/11.7 MB 595.0 kB/s eta 0:00:05\n",
      "   ------------------------------ --------- 8.8/11.7 MB 595.0 kB/s eta 0:00:05\n",
      "   ------------------------------ --------- 8.9/11.7 MB 595.4 kB/s eta 0:00:05\n",
      "   ------------------------------ --------- 8.9/11.7 MB 595.5 kB/s eta 0:00:05\n",
      "   ------------------------------ --------- 8.9/11.7 MB 595.0 kB/s eta 0:00:05\n",
      "   ------------------------------ --------- 8.9/11.7 MB 593.9 kB/s eta 0:00:05\n",
      "   ------------------------------ --------- 9.0/11.7 MB 594.8 kB/s eta 0:00:05\n",
      "   ------------------------------ --------- 9.0/11.7 MB 594.8 kB/s eta 0:00:05\n",
      "   ------------------------------ --------- 9.0/11.7 MB 594.3 kB/s eta 0:00:05\n",
      "   ------------------------------ --------- 9.0/11.7 MB 594.5 kB/s eta 0:00:05\n",
      "   ------------------------------- -------- 9.0/11.7 MB 593.4 kB/s eta 0:00:05\n",
      "   ------------------------------- -------- 9.1/11.7 MB 593.6 kB/s eta 0:00:05\n",
      "   ------------------------------- -------- 9.1/11.7 MB 591.9 kB/s eta 0:00:05\n",
      "   ------------------------------- -------- 9.1/11.7 MB 592.0 kB/s eta 0:00:05\n",
      "   ------------------------------- -------- 9.1/11.7 MB 592.2 kB/s eta 0:00:05\n",
      "   ------------------------------- -------- 9.2/11.7 MB 591.8 kB/s eta 0:00:05\n",
      "   ------------------------------- -------- 9.2/11.7 MB 591.8 kB/s eta 0:00:05\n",
      "   ------------------------------- -------- 9.2/11.7 MB 592.6 kB/s eta 0:00:05\n",
      "   ------------------------------- -------- 9.2/11.7 MB 590.9 kB/s eta 0:00:05\n",
      "   ------------------------------- -------- 9.2/11.7 MB 590.5 kB/s eta 0:00:05\n",
      "   ------------------------------- -------- 9.3/11.7 MB 592.0 kB/s eta 0:00:05\n",
      "   ------------------------------- -------- 9.3/11.7 MB 592.2 kB/s eta 0:00:04\n",
      "   -------------------------------- ------- 9.3/11.7 MB 591.7 kB/s eta 0:00:04\n",
      "   -------------------------------- ------- 9.4/11.7 MB 590.7 kB/s eta 0:00:04\n",
      "   -------------------------------- ------- 9.4/11.7 MB 590.7 kB/s eta 0:00:04\n",
      "   -------------------------------- ------- 9.4/11.7 MB 590.9 kB/s eta 0:00:04\n",
      "   -------------------------------- ------- 9.5/11.7 MB 591.2 kB/s eta 0:00:04\n",
      "   -------------------------------- ------- 9.5/11.7 MB 592.0 kB/s eta 0:00:04\n",
      "   -------------------------------- ------- 9.5/11.7 MB 592.0 kB/s eta 0:00:04\n",
      "   -------------------------------- ------- 9.5/11.7 MB 591.2 kB/s eta 0:00:04\n",
      "   -------------------------------- ------- 9.6/11.7 MB 592.0 kB/s eta 0:00:04\n",
      "   -------------------------------- ------- 9.6/11.7 MB 591.5 kB/s eta 0:00:04\n",
      "   -------------------------------- ------- 9.6/11.7 MB 591.5 kB/s eta 0:00:04\n",
      "   --------------------------------- ------ 9.6/11.7 MB 590.6 kB/s eta 0:00:04\n",
      "   --------------------------------- ------ 9.7/11.7 MB 590.7 kB/s eta 0:00:04\n",
      "   --------------------------------- ------ 9.7/11.7 MB 591.0 kB/s eta 0:00:04\n",
      "   --------------------------------- ------ 9.7/11.7 MB 591.0 kB/s eta 0:00:04\n",
      "   --------------------------------- ------ 9.8/11.7 MB 591.9 kB/s eta 0:00:04\n",
      "   --------------------------------- ------ 9.8/11.7 MB 592.1 kB/s eta 0:00:04\n",
      "   --------------------------------- ------ 9.8/11.7 MB 592.1 kB/s eta 0:00:04\n",
      "   --------------------------------- ------ 9.8/11.7 MB 591.8 kB/s eta 0:00:04\n",
      "   --------------------------------- ------ 9.9/11.7 MB 593.3 kB/s eta 0:00:03\n",
      "   ---------------------------------- ----- 10.0/11.7 MB 594.7 kB/s eta 0:00:03\n",
      "   ---------------------------------- ----- 10.0/11.7 MB 596.1 kB/s eta 0:00:03\n",
      "   ---------------------------------- ----- 10.1/11.7 MB 598.1 kB/s eta 0:00:03\n",
      "   ---------------------------------- ----- 10.1/11.7 MB 599.5 kB/s eta 0:00:03\n",
      "   ---------------------------------- ----- 10.1/11.7 MB 600.2 kB/s eta 0:00:03\n",
      "   ----------------------------------- ---- 10.2/11.7 MB 601.6 kB/s eta 0:00:03\n",
      "   ----------------------------------- ---- 10.3/11.7 MB 604.0 kB/s eta 0:00:03\n",
      "   ----------------------------------- ---- 10.3/11.7 MB 604.5 kB/s eta 0:00:03\n",
      "   ----------------------------------- ---- 10.3/11.7 MB 604.5 kB/s eta 0:00:03\n",
      "   ----------------------------------- ---- 10.4/11.7 MB 602.9 kB/s eta 0:00:03\n",
      "   ----------------------------------- ---- 10.4/11.7 MB 602.8 kB/s eta 0:00:03\n",
      "   ----------------------------------- ---- 10.5/11.7 MB 603.4 kB/s eta 0:00:03\n",
      "   ----------------------------------- ---- 10.5/11.7 MB 602.8 kB/s eta 0:00:02\n",
      "   ------------------------------------ --- 10.5/11.7 MB 604.5 kB/s eta 0:00:02\n",
      "   ------------------------------------ --- 10.6/11.7 MB 604.5 kB/s eta 0:00:02\n",
      "   ------------------------------------ --- 10.6/11.7 MB 607.9 kB/s eta 0:00:02\n",
      "   ------------------------------------ --- 10.7/11.7 MB 606.7 kB/s eta 0:00:02\n",
      "   ------------------------------------ --- 10.8/11.7 MB 608.5 kB/s eta 0:00:02\n",
      "   ------------------------------------- -- 10.8/11.7 MB 609.0 kB/s eta 0:00:02\n",
      "   ------------------------------------- -- 10.8/11.7 MB 609.0 kB/s eta 0:00:02\n",
      "   ------------------------------------- -- 10.8/11.7 MB 606.2 kB/s eta 0:00:02\n",
      "   ------------------------------------- -- 10.9/11.7 MB 607.9 kB/s eta 0:00:02\n",
      "   ------------------------------------- -- 10.9/11.7 MB 607.9 kB/s eta 0:00:02\n",
      "   ------------------------------------- -- 11.0/11.7 MB 609.0 kB/s eta 0:00:02\n",
      "   ------------------------------------- -- 11.0/11.7 MB 609.0 kB/s eta 0:00:02\n",
      "   ------------------------------------- -- 11.0/11.7 MB 609.6 kB/s eta 0:00:02\n",
      "   -------------------------------------- - 11.2/11.7 MB 617.6 kB/s eta 0:00:01\n",
      "   -------------------------------------- - 11.2/11.7 MB 622.4 kB/s eta 0:00:01\n",
      "   -------------------------------------- - 11.2/11.7 MB 624.7 kB/s eta 0:00:01\n",
      "   -------------------------------------- - 11.3/11.7 MB 627.1 kB/s eta 0:00:01\n",
      "   -------------------------------------- - 11.3/11.7 MB 632.0 kB/s eta 0:00:01\n",
      "   ---------------------------------------  11.4/11.7 MB 633.8 kB/s eta 0:00:01\n",
      "   ---------------------------------------  11.4/11.7 MB 636.3 kB/s eta 0:00:01\n",
      "   ---------------------------------------  11.5/11.7 MB 637.5 kB/s eta 0:00:01\n",
      "   ---------------------------------------  11.6/11.7 MB 645.7 kB/s eta 0:00:01\n",
      "   ---------------------------------------  11.6/11.7 MB 648.2 kB/s eta 0:00:01\n",
      "   ---------------------------------------  11.6/11.7 MB 651.5 kB/s eta 0:00:01\n",
      "   ---------------------------------------  11.7/11.7 MB 651.5 kB/s eta 0:00:01\n",
      "   ---------------------------------------  11.7/11.7 MB 651.5 kB/s eta 0:00:01\n",
      "   ---------------------------------------- 11.7/11.7 MB 647.1 kB/s eta 0:00:00\n",
      "Downloading jupyterlab_server-2.27.3-py3-none-any.whl (59 kB)\n",
      "   ---------------------------------------- 0.0/59.7 kB ? eta -:--:--\n",
      "   --------------------------- ------------ 41.0/59.7 kB ? eta -:--:--\n",
      "   ---------------------------------------- 59.7/59.7 kB 1.1 MB/s eta 0:00:00\n",
      "Downloading async_lru-2.0.4-py3-none-any.whl (6.1 kB)\n",
      "Using cached httpx-0.28.1-py3-none-any.whl (73 kB)\n",
      "Using cached httpcore-1.0.7-py3-none-any.whl (78 kB)\n",
      "Using cached jsonschema-4.23.0-py3-none-any.whl (88 kB)\n",
      "Downloading jupyter_events-0.11.0-py3-none-any.whl (19 kB)\n",
      "Downloading jupyter_lsp-2.2.5-py3-none-any.whl (69 kB)\n",
      "   ---------------------------------------- 0.0/69.1 kB ? eta -:--:--\n",
      "   ----------------------------------- ---- 61.4/69.1 kB 1.1 MB/s eta 0:00:01\n",
      "   ---------------------------------------- 69.1/69.1 kB 950.1 kB/s eta 0:00:00\n",
      "Downloading jupyter_server_terminals-0.5.3-py3-none-any.whl (13 kB)\n",
      "Downloading overrides-7.7.0-py3-none-any.whl (17 kB)\n",
      "Downloading pyzmq-26.2.0-cp311-cp311-win_amd64.whl (642 kB)\n",
      "   ---------------------------------------- 0.0/642.3 kB ? eta -:--:--\n",
      "   --- ------------------------------------ 61.4/642.3 kB 1.1 MB/s eta 0:00:01\n",
      "   ------- -------------------------------- 112.6/642.3 kB 1.1 MB/s eta 0:00:01\n",
      "   ---------- ----------------------------- 163.8/642.3 kB 1.2 MB/s eta 0:00:01\n",
      "   ------------ --------------------------- 194.6/642.3 kB 1.2 MB/s eta 0:00:01\n",
      "   ----------------- ---------------------- 276.5/642.3 kB 1.2 MB/s eta 0:00:01\n",
      "   ----------------- ---------------------- 286.7/642.3 kB 1.0 MB/s eta 0:00:01\n",
      "   -------------------- ------------------- 327.7/642.3 kB 1.1 MB/s eta 0:00:01\n",
      "   --------------------- ---------------- 358.4/642.3 kB 967.1 kB/s eta 0:00:01\n",
      "   ----------------------- -------------- 389.1/642.3 kB 933.2 kB/s eta 0:00:01\n",
      "   ------------------------ ------------- 419.8/642.3 kB 935.2 kB/s eta 0:00:01\n",
      "   ------------------------ ------------- 419.8/642.3 kB 935.2 kB/s eta 0:00:01\n",
      "   ------------------------ ------------- 419.8/642.3 kB 935.2 kB/s eta 0:00:01\n",
      "   --------------------------- ---------- 471.0/642.3 kB 818.5 kB/s eta 0:00:01\n",
      "   ----------------------------- -------- 491.5/642.3 kB 789.0 kB/s eta 0:00:01\n",
      "   ------------------------------ ------- 522.2/642.3 kB 728.3 kB/s eta 0:00:01\n",
      "   ------------------------------ ------- 522.2/642.3 kB 728.3 kB/s eta 0:00:01\n",
      "   -------------------------------- ----- 553.0/642.3 kB 694.9 kB/s eta 0:00:01\n",
      "   -------------------------------- ----- 553.0/642.3 kB 694.9 kB/s eta 0:00:01\n",
      "   -------------------------------- ----- 553.0/642.3 kB 694.9 kB/s eta 0:00:01\n",
      "   ---------------------------------- --- 583.7/642.3 kB 622.0 kB/s eta 0:00:01\n",
      "   ----------------------------------- -- 604.2/642.3 kB 603.0 kB/s eta 0:00:01\n",
      "   ----------------------------------- -- 604.2/642.3 kB 603.0 kB/s eta 0:00:01\n",
      "   -------------------------------------  634.9/642.3 kB 587.6 kB/s eta 0:00:01\n",
      "   -------------------------------------- 642.3/642.3 kB 577.8 kB/s eta 0:00:00\n",
      "Downloading Send2Trash-1.8.3-py3-none-any.whl (18 kB)\n",
      "Downloading websocket_client-1.8.0-py3-none-any.whl (58 kB)\n",
      "   ---------------------------------------- 0.0/58.8 kB ? eta -:--:--\n",
      "   -------------------- ------------------- 30.7/58.8 kB ? eta -:--:--\n",
      "   --------------------------- ------------ 41.0/58.8 kB 960.0 kB/s eta 0:00:01\n",
      "   ---------------------------------------- 58.8/58.8 kB 771.2 kB/s eta 0:00:00\n",
      "Using cached attrs-24.3.0-py3-none-any.whl (63 kB)\n",
      "Using cached jsonschema_specifications-2024.10.1-py3-none-any.whl (18 kB)\n",
      "Using cached referencing-0.35.1-py3-none-any.whl (26 kB)\n",
      "Downloading rpds_py-0.22.3-cp311-cp311-win_amd64.whl (231 kB)\n",
      "   ---------------------------------------- 0.0/231.8 kB ? eta -:--:--\n",
      "   - -------------------------------------- 10.2/231.8 kB ? eta -:--:--\n",
      "   ------ -------------------------------- 41.0/231.8 kB 653.6 kB/s eta 0:00:01\n",
      "   ------------- ------------------------- 81.9/231.8 kB 651.6 kB/s eta 0:00:01\n",
      "   --------------- ----------------------- 92.2/231.8 kB 655.4 kB/s eta 0:00:01\n",
      "   -------------------- ----------------- 122.9/231.8 kB 599.1 kB/s eta 0:00:01\n",
      "   ----------------------- -------------- 143.4/231.8 kB 532.5 kB/s eta 0:00:01\n",
      "   ---------------------------- --------- 174.1/231.8 kB 551.6 kB/s eta 0:00:01\n",
      "   ------------------------------- ------ 194.6/231.8 kB 562.0 kB/s eta 0:00:01\n",
      "   ------------------------------------ - 225.3/231.8 kB 550.0 kB/s eta 0:00:01\n",
      "   -------------------------------------- 231.8/231.8 kB 545.7 kB/s eta 0:00:00\n",
      "Using cached h11-0.14.0-py3-none-any.whl (58 kB)\n",
      "Downloading webcolors-24.11.1-py3-none-any.whl (14 kB)\n",
      "Downloading fqdn-1.5.1-py3-none-any.whl (9.1 kB)\n",
      "Downloading isoduration-20.11.0-py3-none-any.whl (11 kB)\n",
      "Downloading uri_template-1.3.0-py3-none-any.whl (11 kB)\n",
      "Installing collected packages: websocket-client, webcolors, uri-template, send2trash, rpds-py, pyzmq, overrides, h11, fqdn, attrs, async-lru, referencing, jupyter-server-terminals, httpcore, jsonschema-specifications, isoduration, httpx, jsonschema, jupyter-events, jupyter-server, jupyterlab-server, jupyter-lsp, jupyterlab, notebook\n",
      "Successfully installed async-lru-2.0.4 attrs-24.3.0 fqdn-1.5.1 h11-0.14.0 httpcore-1.0.7 httpx-0.28.1 isoduration-20.11.0 jsonschema-4.23.0 jsonschema-specifications-2024.10.1 jupyter-events-0.11.0 jupyter-lsp-2.2.5 jupyter-server-2.15.0 jupyter-server-terminals-0.5.3 jupyterlab-4.3.4 jupyterlab-server-2.27.3 notebook-7.3.2 overrides-7.7.0 pyzmq-26.2.0 referencing-0.35.1 rpds-py-0.22.3 send2trash-1.8.3 uri-template-1.3.0 webcolors-24.11.1 websocket-client-1.8.0\n",
      "Note: you may need to restart the kernel to use updated packages.\n"
     ]
    },
    {
     "name": "stderr",
     "output_type": "stream",
     "text": [
      "  WARNING: The script wsdump.exe is installed in 'C:\\Users\\Amruta\\AppData\\Roaming\\Python\\Python311\\Scripts' which is not on PATH.\n",
      "  Consider adding this directory to PATH or, if you prefer to suppress this warning, use --no-warn-script-location.\n",
      "  WARNING: The script send2trash.exe is installed in 'C:\\Users\\Amruta\\AppData\\Roaming\\Python\\Python311\\Scripts' which is not on PATH.\n",
      "  Consider adding this directory to PATH or, if you prefer to suppress this warning, use --no-warn-script-location.\n",
      "  WARNING: The script httpx.exe is installed in 'C:\\Users\\Amruta\\AppData\\Roaming\\Python\\Python311\\Scripts' which is not on PATH.\n",
      "  Consider adding this directory to PATH or, if you prefer to suppress this warning, use --no-warn-script-location.\n",
      "  WARNING: The script jsonschema.exe is installed in 'C:\\Users\\Amruta\\AppData\\Roaming\\Python\\Python311\\Scripts' which is not on PATH.\n",
      "  Consider adding this directory to PATH or, if you prefer to suppress this warning, use --no-warn-script-location.\n",
      "  WARNING: The script jupyter-events.exe is installed in 'C:\\Users\\Amruta\\AppData\\Roaming\\Python\\Python311\\Scripts' which is not on PATH.\n",
      "  Consider adding this directory to PATH or, if you prefer to suppress this warning, use --no-warn-script-location.\n",
      "  WARNING: The script jupyter-server.exe is installed in 'C:\\Users\\Amruta\\AppData\\Roaming\\Python\\Python311\\Scripts' which is not on PATH.\n",
      "  Consider adding this directory to PATH or, if you prefer to suppress this warning, use --no-warn-script-location.\n",
      "  WARNING: The scripts jlpm.exe, jupyter-lab.exe, jupyter-labextension.exe and jupyter-labhub.exe are installed in 'C:\\Users\\Amruta\\AppData\\Roaming\\Python\\Python311\\Scripts' which is not on PATH.\n",
      "  Consider adding this directory to PATH or, if you prefer to suppress this warning, use --no-warn-script-location.\n",
      "  WARNING: The script jupyter-notebook.exe is installed in 'C:\\Users\\Amruta\\AppData\\Roaming\\Python\\Python311\\Scripts' which is not on PATH.\n",
      "  Consider adding this directory to PATH or, if you prefer to suppress this warning, use --no-warn-script-location.\n"
     ]
    }
   ],
   "source": [
    "pip install --upgrade notebook"
   ]
  },
  {
   "cell_type": "code",
   "execution_count": 3,
   "id": "1b76fdad",
   "metadata": {},
   "outputs": [
    {
     "data": {
      "text/plain": [
       "['False',\n",
       " 'None',\n",
       " 'True',\n",
       " 'and',\n",
       " 'as',\n",
       " 'assert',\n",
       " 'async',\n",
       " 'await',\n",
       " 'break',\n",
       " 'class',\n",
       " 'continue',\n",
       " 'def',\n",
       " 'del',\n",
       " 'elif',\n",
       " 'else',\n",
       " 'except',\n",
       " 'finally',\n",
       " 'for',\n",
       " 'from',\n",
       " 'global',\n",
       " 'if',\n",
       " 'import',\n",
       " 'in',\n",
       " 'is',\n",
       " 'lambda',\n",
       " 'nonlocal',\n",
       " 'not',\n",
       " 'or',\n",
       " 'pass',\n",
       " 'raise',\n",
       " 'return',\n",
       " 'try',\n",
       " 'while',\n",
       " 'with',\n",
       " 'yield']"
      ]
     },
     "execution_count": 3,
     "metadata": {},
     "output_type": "execute_result"
    }
   ],
   "source": [
    "import keyword\n",
    "keyword.kwlist"
   ]
  },
  {
   "cell_type": "code",
   "execution_count": 4,
   "id": "696abfef-dd94-43cb-8e35-180309f925a9",
   "metadata": {},
   "outputs": [
    {
     "data": {
      "text/plain": [
       "35"
      ]
     },
     "execution_count": 4,
     "metadata": {},
     "output_type": "execute_result"
    }
   ],
   "source": [
    "len(keyword.kwlist)"
   ]
  },
  {
   "cell_type": "markdown",
   "id": "12de517f-946a-45b7-ac81-e72abf8fc216",
   "metadata": {},
   "source": [
    "## Creating variables and assigning values"
   ]
  },
  {
   "cell_type": "code",
   "execution_count": 5,
   "id": "3f484209-849d-44eb-acaf-0998a0141540",
   "metadata": {},
   "outputs": [
    {
     "data": {
      "text/plain": [
       "5"
      ]
     },
     "execution_count": 5,
     "metadata": {},
     "output_type": "execute_result"
    }
   ],
   "source": [
    "a=5\n",
    "a"
   ]
  },
  {
   "cell_type": "code",
   "execution_count": 6,
   "id": "3289b3a1-f11e-47c2-9291-74c10772a4f4",
   "metadata": {},
   "outputs": [
    {
     "name": "stdout",
     "output_type": "stream",
     "text": [
      "<class 'int'>\n"
     ]
    }
   ],
   "source": [
    "print(type(a))"
   ]
  },
  {
   "cell_type": "code",
   "execution_count": 7,
   "id": "58f12ad1-b3ef-42ba-b9f8-3412783dea4a",
   "metadata": {},
   "outputs": [
    {
     "data": {
      "text/plain": [
       "28382873"
      ]
     },
     "execution_count": 7,
     "metadata": {},
     "output_type": "execute_result"
    }
   ],
   "source": [
    "b=28382873\n",
    "b"
   ]
  },
  {
   "cell_type": "code",
   "execution_count": 8,
   "id": "b0ca8f0a-e96d-40a8-a4e4-4ea0d9ea3052",
   "metadata": {},
   "outputs": [
    {
     "data": {
      "text/plain": [
       "int"
      ]
     },
     "execution_count": 8,
     "metadata": {},
     "output_type": "execute_result"
    }
   ],
   "source": [
    "type(b)"
   ]
  },
  {
   "cell_type": "code",
   "execution_count": 5,
   "id": "70048e39",
   "metadata": {},
   "outputs": [
    {
     "data": {
      "text/plain": [
       "5"
      ]
     },
     "execution_count": 5,
     "metadata": {},
     "output_type": "execute_result"
    }
   ],
   "source": [
    "a =5\n",
    "a"
   ]
  },
  {
   "cell_type": "code",
   "execution_count": 6,
   "id": "943e7be1",
   "metadata": {},
   "outputs": [
    {
     "data": {
      "text/plain": [
       "int"
      ]
     },
     "execution_count": 6,
     "metadata": {},
     "output_type": "execute_result"
    }
   ],
   "source": [
    "type(a)"
   ]
  },
  {
   "cell_type": "code",
   "execution_count": 7,
   "id": "be8608ea",
   "metadata": {},
   "outputs": [
    {
     "data": {
      "text/plain": [
       "140737033507752"
      ]
     },
     "execution_count": 7,
     "metadata": {},
     "output_type": "execute_result"
    }
   ],
   "source": [
    "id(a)"
   ]
  },
  {
   "cell_type": "code",
   "execution_count": 8,
   "id": "8e31ce76",
   "metadata": {},
   "outputs": [
    {
     "data": {
      "text/plain": [
       "5.5"
      ]
     },
     "execution_count": 8,
     "metadata": {},
     "output_type": "execute_result"
    }
   ],
   "source": [
    "b=5.5\n",
    "b"
   ]
  },
  {
   "cell_type": "code",
   "execution_count": 9,
   "id": "820f0d70",
   "metadata": {},
   "outputs": [
    {
     "data": {
      "text/plain": [
       "float"
      ]
     },
     "execution_count": 9,
     "metadata": {},
     "output_type": "execute_result"
    }
   ],
   "source": [
    "type(b)"
   ]
  },
  {
   "cell_type": "code",
   "execution_count": 10,
   "id": "2f092561",
   "metadata": {},
   "outputs": [
    {
     "data": {
      "text/plain": [
       "2951134822992"
      ]
     },
     "execution_count": 10,
     "metadata": {},
     "output_type": "execute_result"
    }
   ],
   "source": [
    "id(b)"
   ]
  },
  {
   "cell_type": "code",
   "execution_count": 1,
   "id": "ee4f93ac",
   "metadata": {},
   "outputs": [
    {
     "name": "stdout",
     "output_type": "stream",
     "text": [
      "25\n"
     ]
    }
   ],
   "source": [
    "age =25\n",
    "print(age)"
   ]
  },
  {
   "cell_type": "code",
   "execution_count": 2,
   "id": "90a41965",
   "metadata": {},
   "outputs": [
    {
     "name": "stdout",
     "output_type": "stream",
     "text": [
      "Amruta\n"
     ]
    }
   ],
   "source": [
    "name = \"Amruta\"\n",
    "print(name)"
   ]
  },
  {
   "cell_type": "code",
   "execution_count": 2,
   "id": "1e05f975-ce88-4352-b23a-9c0d1d2de18d",
   "metadata": {},
   "outputs": [
    {
     "data": {
      "text/plain": [
       "300.0"
      ]
     },
     "execution_count": 2,
     "metadata": {},
     "output_type": "execute_result"
    }
   ],
   "source": [
    "f3=3e2\n",
    "f3"
   ]
  },
  {
   "cell_type": "code",
   "execution_count": 4,
   "id": "386db2b8-6304-47b6-8651-a2d1d68c948d",
   "metadata": {},
   "outputs": [
    {
     "data": {
      "text/plain": [
       "2300.0"
      ]
     },
     "execution_count": 4,
     "metadata": {},
     "output_type": "execute_result"
    }
   ],
   "source": [
    "f4=2.3e3\n",
    "f4"
   ]
  },
  {
   "cell_type": "code",
   "execution_count": 5,
   "id": "5ff2f13d-ddf3-426a-96d6-767da7b7a4b2",
   "metadata": {},
   "outputs": [
    {
     "data": {
      "text/plain": [
       "True"
      ]
     },
     "execution_count": 5,
     "metadata": {},
     "output_type": "execute_result"
    }
   ],
   "source": [
    "True"
   ]
  },
  {
   "cell_type": "code",
   "execution_count": 6,
   "id": "dc0a7bb5-e789-4dd9-ad30-80c0c715e481",
   "metadata": {},
   "outputs": [
    {
     "ename": "NameError",
     "evalue": "name 'true' is not defined",
     "output_type": "error",
     "traceback": [
      "\u001b[1;31m---------------------------------------------------------------------------\u001b[0m",
      "\u001b[1;31mNameError\u001b[0m                                 Traceback (most recent call last)",
      "Cell \u001b[1;32mIn[6], line 1\u001b[0m\n\u001b[1;32m----> 1\u001b[0m \u001b[43mtrue\u001b[49m\n",
      "\u001b[1;31mNameError\u001b[0m: name 'true' is not defined"
     ]
    }
   ],
   "source": [
    "true"
   ]
  },
  {
   "cell_type": "code",
   "execution_count": 7,
   "id": "6c18869b-be34-4001-889a-104de11d7ce2",
   "metadata": {},
   "outputs": [
    {
     "ename": "NameError",
     "evalue": "name 'FALSE' is not defined",
     "output_type": "error",
     "traceback": [
      "\u001b[1;31m---------------------------------------------------------------------------\u001b[0m",
      "\u001b[1;31mNameError\u001b[0m                                 Traceback (most recent call last)",
      "Cell \u001b[1;32mIn[7], line 1\u001b[0m\n\u001b[1;32m----> 1\u001b[0m \u001b[43mFALSE\u001b[49m\n",
      "\u001b[1;31mNameError\u001b[0m: name 'FALSE' is not defined"
     ]
    }
   ],
   "source": [
    "FALSE"
   ]
  },
  {
   "cell_type": "code",
   "execution_count": 8,
   "id": "2f82bffa-0b93-4aed-9728-4cd699036c0b",
   "metadata": {},
   "outputs": [
    {
     "ename": "NameError",
     "evalue": "name 'false' is not defined",
     "output_type": "error",
     "traceback": [
      "\u001b[1;31m---------------------------------------------------------------------------\u001b[0m",
      "\u001b[1;31mNameError\u001b[0m                                 Traceback (most recent call last)",
      "Cell \u001b[1;32mIn[8], line 1\u001b[0m\n\u001b[1;32m----> 1\u001b[0m \u001b[43mfalse\u001b[49m\n",
      "\u001b[1;31mNameError\u001b[0m: name 'false' is not defined"
     ]
    }
   ],
   "source": [
    "false"
   ]
  },
  {
   "cell_type": "code",
   "execution_count": 9,
   "id": "f6d5b81a-47eb-44a6-823d-2601b5f5465d",
   "metadata": {},
   "outputs": [
    {
     "data": {
      "text/plain": [
       "False"
      ]
     },
     "execution_count": 9,
     "metadata": {},
     "output_type": "execute_result"
    }
   ],
   "source": [
    "False"
   ]
  },
  {
   "cell_type": "code",
   "execution_count": 10,
   "id": "59486a3a-8640-4e2a-853d-30722fcf65ce",
   "metadata": {},
   "outputs": [],
   "source": [
    "None"
   ]
  },
  {
   "cell_type": "code",
   "execution_count": 14,
   "id": "f3b368f4-7020-48a8-b01a-3f40641e958f",
   "metadata": {},
   "outputs": [
    {
     "data": {
      "text/plain": [
       "1"
      ]
     },
     "execution_count": 14,
     "metadata": {},
     "output_type": "execute_result"
    }
   ],
   "source": [
    "True + False"
   ]
  },
  {
   "cell_type": "code",
   "execution_count": 15,
   "id": "63ce67e1-1f77-4dee-8fa6-dca39934ba05",
   "metadata": {},
   "outputs": [
    {
     "data": {
      "text/plain": [
       "2"
      ]
     },
     "execution_count": 15,
     "metadata": {},
     "output_type": "execute_result"
    }
   ],
   "source": [
    "True + True"
   ]
  },
  {
   "cell_type": "code",
   "execution_count": 19,
   "id": "e7b7b344-f437-4a00-8fdb-87e607f23bee",
   "metadata": {},
   "outputs": [
    {
     "data": {
      "text/plain": [
       "0"
      ]
     },
     "execution_count": 19,
     "metadata": {},
     "output_type": "execute_result"
    }
   ],
   "source": [
    "True + (False * True) - True"
   ]
  },
  {
   "cell_type": "code",
   "execution_count": 9,
   "id": "22bf4bd7-1028-479e-87ae-ba1e4f22adf0",
   "metadata": {},
   "outputs": [
    {
     "data": {
      "text/plain": [
       "bool"
      ]
     },
     "execution_count": 9,
     "metadata": {},
     "output_type": "execute_result"
    }
   ],
   "source": [
    "# Boolean\n",
    "\n",
    "q = True\n",
    "type(q)"
   ]
  },
  {
   "cell_type": "code",
   "execution_count": 10,
   "id": "9707e9f3-9cb8-43eb-9aea-f9087d7ce16b",
   "metadata": {},
   "outputs": [
    {
     "data": {
      "text/plain": [
       "NoneType"
      ]
     },
     "execution_count": 10,
     "metadata": {},
     "output_type": "execute_result"
    }
   ],
   "source": [
    "x = None\n",
    "type(x)"
   ]
  },
  {
   "cell_type": "markdown",
   "id": "44d77bc6-0a48-446f-b48a-f0072452a636",
   "metadata": {},
   "source": [
    "## String"
   ]
  },
  {
   "cell_type": "code",
   "execution_count": 1,
   "id": "8160b755-9201-460e-ba1b-013796e4ce7f",
   "metadata": {},
   "outputs": [
    {
     "data": {
      "text/plain": [
       "'nareshit'"
      ]
     },
     "execution_count": 1,
     "metadata": {},
     "output_type": "execute_result"
    }
   ],
   "source": [
    "s ='nareshit'\n",
    "s"
   ]
  },
  {
   "cell_type": "code",
   "execution_count": 2,
   "id": "a137c99d-ecc2-4559-ba1a-41c2a7298328",
   "metadata": {},
   "outputs": [
    {
     "data": {
      "text/plain": [
       "str"
      ]
     },
     "execution_count": 2,
     "metadata": {},
     "output_type": "execute_result"
    }
   ],
   "source": [
    "type(s)"
   ]
  },
  {
   "cell_type": "code",
   "execution_count": 3,
   "id": "a3ff3ae1-5fee-4e25-8b41-8fc740301419",
   "metadata": {},
   "outputs": [
    {
     "data": {
      "text/plain": [
       "'naresh\\n         Technology'"
      ]
     },
     "execution_count": 3,
     "metadata": {},
     "output_type": "execute_result"
    }
   ],
   "source": [
    "s3 = '''naresh\n",
    "         Technology'''\n",
    "s3"
   ]
  },
  {
   "cell_type": "code",
   "execution_count": 4,
   "id": "7522ce6f-d1cb-4422-bba9-6535fa9d4d72",
   "metadata": {},
   "outputs": [
    {
     "data": {
      "text/plain": [
       "'nareshit'"
      ]
     },
     "execution_count": 4,
     "metadata": {},
     "output_type": "execute_result"
    }
   ],
   "source": [
    "s4 = 'nareshit'\n",
    "s4"
   ]
  },
  {
   "cell_type": "code",
   "execution_count": 5,
   "id": "eb29141f-23bf-4769-a40d-b86a6d1d358c",
   "metadata": {},
   "outputs": [
    {
     "name": "stdout",
     "output_type": "stream",
     "text": [
      "n\n",
      "a\n",
      "r\n",
      "e\n",
      "s\n",
      "h\n",
      "i\n",
      "t\n"
     ]
    }
   ],
   "source": [
    "for i in s4:\n",
    "    print(i)"
   ]
  },
  {
   "cell_type": "code",
   "execution_count": 6,
   "id": "39f0923d-5705-4763-b8f8-84ba4fcbf65d",
   "metadata": {},
   "outputs": [
    {
     "name": "stdout",
     "output_type": "stream",
     "text": [
      "8\n"
     ]
    }
   ],
   "source": [
    "print(len(s4))"
   ]
  },
  {
   "cell_type": "markdown",
   "id": "81b70248-a2a6-4990-a106-d191d329d22e",
   "metadata": {},
   "source": [
    "## String Indexing"
   ]
  },
  {
   "cell_type": "code",
   "execution_count": null,
   "id": "666ba5ac-70f8-4017-ad5f-9c38acca6224",
   "metadata": {},
   "outputs": [],
   "source": []
  },
  {
   "cell_type": "code",
   "execution_count": 9,
   "id": "10f8886d-4daf-4d80-9eeb-de5090d88532",
   "metadata": {},
   "outputs": [
    {
     "data": {
      "text/plain": [
       "'HelloAsif'"
      ]
     },
     "execution_count": 9,
     "metadata": {},
     "output_type": "execute_result"
    }
   ],
   "source": [
    "s5 = 'Hello'\n",
    "s6 = \"Asif\"\n",
    "s7 = s5 + s6\n",
    "s7"
   ]
  },
  {
   "cell_type": "markdown",
   "id": "cff4c469-856a-4d57-a5e9-a1fd5e7ece04",
   "metadata": {},
   "source": [
    "## Python Tutorial"
   ]
  },
  {
   "cell_type": "code",
   "execution_count": 17,
   "id": "9d4832e9-1dd1-40c0-87cd-3c7652f18c89",
   "metadata": {},
   "outputs": [],
   "source": [
    "import sys\n",
    "import keyword\n",
    "import operator\n",
    "from datetime import datetime\n",
    "import os"
   ]
  },
  {
   "cell_type": "markdown",
   "id": "608bbff1-556b-4f02-b580-4674fb0bc83f",
   "metadata": {},
   "source": [
    "## Keywords\n",
    "\n",
    "keyword are the reserved words in python and can't be used as identifier"
   ]
  },
  {
   "cell_type": "code",
   "execution_count": 12,
   "id": "8b3e84d9-a1bd-429e-858a-ea420680af30",
   "metadata": {},
   "outputs": [
    {
     "data": {
      "text/plain": [
       "['False',\n",
       " 'None',\n",
       " 'True',\n",
       " 'and',\n",
       " 'as',\n",
       " 'assert',\n",
       " 'async',\n",
       " 'await',\n",
       " 'break',\n",
       " 'class',\n",
       " 'continue',\n",
       " 'def',\n",
       " 'del',\n",
       " 'elif',\n",
       " 'else',\n",
       " 'except',\n",
       " 'finally',\n",
       " 'for',\n",
       " 'from',\n",
       " 'global',\n",
       " 'if',\n",
       " 'import',\n",
       " 'in',\n",
       " 'is',\n",
       " 'lambda',\n",
       " 'nonlocal',\n",
       " 'not',\n",
       " 'or',\n",
       " 'pass',\n",
       " 'raise',\n",
       " 'return',\n",
       " 'try',\n",
       " 'while',\n",
       " 'with',\n",
       " 'yield']"
      ]
     },
     "execution_count": 12,
     "metadata": {},
     "output_type": "execute_result"
    }
   ],
   "source": [
    "keyword.kwlist # it list out all python keywords"
   ]
  },
  {
   "cell_type": "code",
   "execution_count": 13,
   "id": "30e33bb9-784d-4d88-88ef-b541ca5ae631",
   "metadata": {},
   "outputs": [
    {
     "data": {
      "text/plain": [
       "35"
      ]
     },
     "execution_count": 13,
     "metadata": {},
     "output_type": "execute_result"
    }
   ],
   "source": [
    "len(keyword.kwlist) # Python contains 35 keywords"
   ]
  },
  {
   "cell_type": "markdown",
   "id": "82906f18-ff50-4eef-a66e-d8865a22430b",
   "metadata": {},
   "source": [
    "## Identifiers"
   ]
  },
  {
   "cell_type": "markdown",
   "id": "824d90fd-b6e6-4de8-a2af-580e29c2cf53",
   "metadata": {},
   "source": [
    "An identifier is the name given to the fubction, class, variables etc. It helps to differentiate one entity from another."
   ]
  },
  {
   "cell_type": "code",
   "execution_count": 14,
   "id": "f6226921-4b8f-4f0f-9b0a-4dbde606afc0",
   "metadata": {},
   "outputs": [
    {
     "ename": "SyntaxError",
     "evalue": "invalid decimal literal (132090561.py, line 1)",
     "output_type": "error",
     "traceback": [
      "\u001b[1;36m  Cell \u001b[1;32mIn[14], line 1\u001b[1;36m\u001b[0m\n\u001b[1;33m    1var =10 # Identifier can't start with a digit\u001b[0m\n\u001b[1;37m    ^\u001b[0m\n\u001b[1;31mSyntaxError\u001b[0m\u001b[1;31m:\u001b[0m invalid decimal literal\n"
     ]
    }
   ],
   "source": [
    "1var =10 # Identifier can't start with a digit"
   ]
  },
  {
   "cell_type": "code",
   "execution_count": 15,
   "id": "0d28ea1c-e563-4d1f-ab37-3a1c2cd6eb87",
   "metadata": {},
   "outputs": [
    {
     "ename": "SyntaxError",
     "evalue": "cannot assign to expression here. Maybe you meant '==' instead of '='? (1050022076.py, line 1)",
     "output_type": "error",
     "traceback": [
      "\u001b[1;36m  Cell \u001b[1;32mIn[15], line 1\u001b[1;36m\u001b[0m\n\u001b[1;33m    val@2 = 35\u001b[0m\n\u001b[1;37m    ^\u001b[0m\n\u001b[1;31mSyntaxError\u001b[0m\u001b[1;31m:\u001b[0m cannot assign to expression here. Maybe you meant '==' instead of '='?\n"
     ]
    }
   ],
   "source": [
    "val@2 = 35 #Identifier can't use special symbols"
   ]
  },
  {
   "cell_type": "code",
   "execution_count": 16,
   "id": "a4be0cba-3de3-4cc1-b3a8-bd315c2427ab",
   "metadata": {},
   "outputs": [
    {
     "ename": "SyntaxError",
     "evalue": "invalid syntax (1829576102.py, line 1)",
     "output_type": "error",
     "traceback": [
      "\u001b[1;36m  Cell \u001b[1;32mIn[16], line 1\u001b[1;36m\u001b[0m\n\u001b[1;33m    import = 123 #Keywords can't be used as identifiers\u001b[0m\n\u001b[1;37m           ^\u001b[0m\n\u001b[1;31mSyntaxError\u001b[0m\u001b[1;31m:\u001b[0m invalid syntax\n"
     ]
    }
   ],
   "source": [
    "import = 123 #Keywords can't be used as identifiers"
   ]
  },
  {
   "cell_type": "code",
   "execution_count": 18,
   "id": "483618e5-ca58-4316-92e7-06e659069e2d",
   "metadata": {},
   "outputs": [
    {
     "data": {
      "text/plain": [
       "10"
      ]
     },
     "execution_count": 18,
     "metadata": {},
     "output_type": "execute_result"
    }
   ],
   "source": [
    "\"\"\"\n",
    "Correct way of defining an identifier\n",
    "(Identifiers can be a combination of letters in lowercase (a to z) or uppercase (A to Z)\n",
    "\"\"\"\n",
    "\n",
    "val2=10\n",
    "val2"
   ]
  },
  {
   "cell_type": "code",
   "execution_count": 19,
   "id": "ef557584-9c81-4a06-b148-446c626220a1",
   "metadata": {},
   "outputs": [
    {
     "data": {
      "text/plain": [
       "99"
      ]
     },
     "execution_count": 19,
     "metadata": {},
     "output_type": "execute_result"
    }
   ],
   "source": [
    "val_= 99\n",
    "val_"
   ]
  },
  {
   "cell_type": "markdown",
   "id": "62152546-9f62-41a9-b99b-bd3a182e72e1",
   "metadata": {},
   "source": [
    "## Rules to define variable (or Identifier)"
   ]
  },
  {
   "cell_type": "markdown",
   "id": "4ac41c53-cba8-4a65-8061-bf9e68affea9",
   "metadata": {},
   "source": [
    "+ Identifier can't start with a digit it can end with digit\n",
    "+ Identifier can't use special symbols (No special symbol is allowed except _)\n",
    "+ Keywords can't be used as identifiers (Reserved words can't be used as variable)"
   ]
  },
  {
   "cell_type": "markdown",
   "id": "b21f6490-eca4-42f2-a9fc-9893b4f9b3f5",
   "metadata": {},
   "source": [
    "## Comments in Python\n",
    "\n",
    "Comments can be used to explain the code more readability. single line comment is written using # symbol.\n",
    "multiline comment is written using \"\"\"."
   ]
  },
  {
   "cell_type": "code",
   "execution_count": 20,
   "id": "c797884b-91ee-4f2d-9740-ee1b4b544062",
   "metadata": {},
   "outputs": [
    {
     "data": {
      "text/plain": [
       "20"
      ]
     },
     "execution_count": 20,
     "metadata": {},
     "output_type": "execute_result"
    }
   ],
   "source": [
    "# Single Line Comment\n",
    "val =20\n",
    "val"
   ]
  },
  {
   "cell_type": "code",
   "execution_count": 21,
   "id": "53ce2d69-4405-4ee9-b54d-c4e28fa1ad46",
   "metadata": {},
   "outputs": [
    {
     "data": {
      "text/plain": [
       "30"
      ]
     },
     "execution_count": 21,
     "metadata": {},
     "output_type": "execute_result"
    }
   ],
   "source": [
    "\"\"\"\n",
    "Multiline\n",
    "comment\n",
    "\"\"\"\n",
    "val = 30\n",
    "val"
   ]
  },
  {
   "cell_type": "markdown",
   "id": "8c4fdc1e-6b8a-433e-992c-eb516a4d909d",
   "metadata": {},
   "source": [
    "## Statement"
   ]
  },
  {
   "cell_type": "markdown",
   "id": "48a9cde4-27b1-4dd5-aa1c-feb0a833d6dc",
   "metadata": {},
   "source": [
    "Statement are instructions that a python interpreter can execute."
   ]
  },
  {
   "cell_type": "code",
   "execution_count": 22,
   "id": "65dd028d-ec09-4d7e-9deb-3452cb22d617",
   "metadata": {},
   "outputs": [
    {
     "data": {
      "text/plain": [
       "50"
      ]
     },
     "execution_count": 22,
     "metadata": {},
     "output_type": "execute_result"
    }
   ],
   "source": [
    "# Single line comment\n",
    "p1 = 20 + 30\n",
    "p1"
   ]
  },
  {
   "cell_type": "code",
   "execution_count": 23,
   "id": "d2d30e59-cf06-4e41-9995-59c501f6ae81",
   "metadata": {},
   "outputs": [
    {
     "data": {
      "text/plain": [
       "['a', 'b', 'c', 'd']"
      ]
     },
     "execution_count": 23,
     "metadata": {},
     "output_type": "execute_result"
    }
   ],
   "source": [
    "# single line comment\n",
    "p2 = ['a', 'b', 'c', 'd']\n",
    "p2"
   ]
  },
  {
   "cell_type": "code",
   "execution_count": 27,
   "id": "c4cddff6-34c9-4f80-89ce-251f93d57474",
   "metadata": {},
   "outputs": [
    {
     "data": {
      "text/plain": [
       "250"
      ]
     },
     "execution_count": 27,
     "metadata": {},
     "output_type": "execute_result"
    }
   ],
   "source": [
    "#multiline comment\n",
    "p3 = 10 + 20 \\\n",
    "+ 40 + 50 +\\\n",
    "+ 60 + 70\n",
    "p3"
   ]
  },
  {
   "cell_type": "code",
   "execution_count": 28,
   "id": "07b9916e-4459-4229-8d98-275495381402",
   "metadata": {},
   "outputs": [
    {
     "data": {
      "text/plain": [
       "['a', 'b', 'c', 'd']"
      ]
     },
     "execution_count": 28,
     "metadata": {},
     "output_type": "execute_result"
    }
   ],
   "source": [
    "# multiline Statement\n",
    "p4 =['a',\n",
    "    'b',\n",
    "    'c',\n",
    "    'd']\n",
    "p4"
   ]
  },
  {
   "cell_type": "markdown",
   "id": "9eb1d527-2b4f-42e5-9934-d00f5ec355f7",
   "metadata": {},
   "source": [
    "## Indentation"
   ]
  },
  {
   "cell_type": "markdown",
   "id": "36204f81-01bb-45d1-8cfc-ef14166ab938",
   "metadata": {},
   "source": [
    "Indentation refrers to the spaces at the beginning of the code line. It is very important as Python used indentation to incate the block of code. If the indentation is not correct we will end up with **IndentationError** error."
   ]
  },
  {
   "cell_type": "code",
   "execution_count": 29,
   "id": "f7ccfe49-e580-4287-8f23-48673f63988e",
   "metadata": {},
   "outputs": [
    {
     "name": "stdout",
     "output_type": "stream",
     "text": [
      "P is equal to 10\n"
     ]
    }
   ],
   "source": [
    "p = 10\n",
    "\n",
    "if p== 10:\n",
    "    print('P is equal to 10') # correct indentation"
   ]
  },
  {
   "cell_type": "code",
   "execution_count": 30,
   "id": "a93e8e02-7e2e-4a99-987c-2ffd650396ea",
   "metadata": {},
   "outputs": [
    {
     "ename": "IndentationError",
     "evalue": "expected an indented block after 'if' statement on line 5 (493424199.py, line 6)",
     "output_type": "error",
     "traceback": [
      "\u001b[1;36m  Cell \u001b[1;32mIn[30], line 6\u001b[1;36m\u001b[0m\n\u001b[1;33m    print('p is eual to 10')\u001b[0m\n\u001b[1;37m    ^\u001b[0m\n\u001b[1;31mIndentationError\u001b[0m\u001b[1;31m:\u001b[0m expected an indented block after 'if' statement on line 5\n"
     ]
    }
   ],
   "source": [
    "# if indentation is skipped we will encounter \"IndentationError: expected an indented block\n",
    "\n",
    "p = 10\n",
    "\n",
    "if p == 10:\n",
    "print('p is eual to 10')"
   ]
  },
  {
   "cell_type": "code",
   "execution_count": 31,
   "id": "2212138a-4864-46db-b89a-38a53acb384d",
   "metadata": {},
   "outputs": [
    {
     "name": "stdout",
     "output_type": "stream",
     "text": [
      "0\n",
      "1\n",
      "2\n",
      "3\n",
      "4\n"
     ]
    }
   ],
   "source": [
    "for i in range(0,5):\n",
    "    print(i);"
   ]
  },
  {
   "cell_type": "code",
   "execution_count": 32,
   "id": "8c232b59-a319-45c3-9730-e5b16a911870",
   "metadata": {},
   "outputs": [
    {
     "name": "stdout",
     "output_type": "stream",
     "text": [
      "A\n",
      "m\n",
      "r\n",
      "u\n",
      "t\n",
      "a\n",
      " \n",
      "A\n",
      "b\n",
      "h\n",
      "a\n",
      "y\n",
      " \n",
      "F\n",
      "a\n",
      "t\n",
      "i\n",
      "n\n",
      "g\n"
     ]
    }
   ],
   "source": [
    "name = 'Amruta Abhay Fating'\n",
    "\n",
    "for i in name:\n",
    "    print(i)"
   ]
  },
  {
   "cell_type": "code",
   "execution_count": 33,
   "id": "ed72b07e-6f12-4dea-b110-5b82503c498d",
   "metadata": {},
   "outputs": [
    {
     "ename": "IndentationError",
     "evalue": "expected an indented block after 'for' statement on line 3 (4189084704.py, line 4)",
     "output_type": "error",
     "traceback": [
      "\u001b[1;36m  Cell \u001b[1;32mIn[33], line 4\u001b[1;36m\u001b[0m\n\u001b[1;33m    print(i)\u001b[0m\n\u001b[1;37m    ^\u001b[0m\n\u001b[1;31mIndentationError\u001b[0m\u001b[1;31m:\u001b[0m expected an indented block after 'for' statement on line 3\n"
     ]
    }
   ],
   "source": [
    "# if indentation is skipped we will encounter \"IndentationError: expected an indented block\n",
    "\n",
    "for i in name:\n",
    "print(i)"
   ]
  },
  {
   "cell_type": "code",
   "execution_count": 34,
   "id": "1969c1ec-6343-4419-b36c-2f7e612ca4dc",
   "metadata": {},
   "outputs": [
    {
     "name": "stdout",
     "output_type": "stream",
     "text": [
      "0\n",
      "1\n",
      "2\n",
      "3\n",
      "4\n"
     ]
    }
   ],
   "source": [
    "for i in range(0,5): print(i) #correct indentation but less readable"
   ]
  },
  {
   "cell_type": "code",
   "execution_count": 35,
   "id": "f2b846bc-25d4-46d4-bfd0-460dcb17d107",
   "metadata": {},
   "outputs": [
    {
     "name": "stdout",
     "output_type": "stream",
     "text": [
      "0\n",
      "1\n",
      "2\n",
      "3\n",
      "4\n",
      "20\n"
     ]
    }
   ],
   "source": [
    "j = 20\n",
    "for i in range(0,5):\n",
    "    print(i) # inside the for loop\n",
    "print(j) # outside the for loop"
   ]
  },
  {
   "cell_type": "code",
   "execution_count": 37,
   "id": "39686e2a-6114-486d-905a-e05d08844ac9",
   "metadata": {},
   "outputs": [
    {
     "name": "stdout",
     "output_type": "stream",
     "text": [
      "1\n",
      "2\n",
      "3\n",
      "4\n",
      "5\n",
      "6\n",
      "7\n",
      "8\n",
      "9\n",
      "10\n",
      "11\n",
      "12\n",
      "13\n",
      "14\n",
      "20\n"
     ]
    }
   ],
   "source": [
    "j = 20\n",
    "for i in range(1,15):\n",
    "    print(i)\n",
    "print(j)"
   ]
  },
  {
   "cell_type": "markdown",
   "id": "0305476b-4f9a-4309-bd66-c9784802cdec",
   "metadata": {},
   "source": [
    "## Docstrings"
   ]
  },
  {
   "cell_type": "markdown",
   "id": "cc4ab02b-8b36-4719-bbaf-9db1c334aa7d",
   "metadata": {},
   "source": [
    "1) Docstrings provide a convenient way of associating documentation with functions, classes,methods or modules.\r\n",
    "2) They appear right after the definition of a function, method, class, or module."
   ]
  },
  {
   "cell_type": "code",
   "execution_count": 41,
   "id": "4eeb0ab8-5266-44df-925d-90c67d1ed465",
   "metadata": {},
   "outputs": [
    {
     "data": {
      "text/plain": [
       "4"
      ]
     },
     "execution_count": 41,
     "metadata": {},
     "output_type": "execute_result"
    }
   ],
   "source": [
    "def square(num):\n",
    "    '''Square Function :- This function will return the square of a number'''\n",
    "    return num**2\n",
    "square(2)"
   ]
  },
  {
   "cell_type": "code",
   "execution_count": 42,
   "id": "f3e99383-2c65-4f2f-8a6d-beda1249ee29",
   "metadata": {},
   "outputs": [
    {
     "data": {
      "text/plain": [
       "9"
      ]
     },
     "execution_count": 42,
     "metadata": {},
     "output_type": "execute_result"
    }
   ],
   "source": [
    "square(3)"
   ]
  },
  {
   "cell_type": "code",
   "execution_count": 44,
   "id": "33d50220-ce03-4fc4-968d-5806eb13724a",
   "metadata": {},
   "outputs": [
    {
     "data": {
      "text/plain": [
       "'Square Function :- This function will return the square of a number'"
      ]
     },
     "execution_count": 44,
     "metadata": {},
     "output_type": "execute_result"
    }
   ],
   "source": [
    "square.__doc__"
   ]
  },
  {
   "cell_type": "code",
   "execution_count": 45,
   "id": "6d5fdae7-743b-489e-8466-2cfdc17e3ad9",
   "metadata": {},
   "outputs": [],
   "source": [
    "def evenodd(num):\n",
    "    '''evenodd Function :- This function will test whether a numbr is Even or Odd'''\n",
    "    if num % 2 == 0:\n",
    "        print('Number is Even Number.')\n",
    "    else:\n",
    "        print('Number is odd.')"
   ]
  },
  {
   "cell_type": "code",
   "execution_count": 46,
   "id": "5a91c456-bffb-4bb1-9750-8b3ca75084d9",
   "metadata": {},
   "outputs": [
    {
     "name": "stdout",
     "output_type": "stream",
     "text": [
      "Number is Even Number.\n"
     ]
    }
   ],
   "source": [
    "evenodd(4)"
   ]
  },
  {
   "cell_type": "code",
   "execution_count": 47,
   "id": "7379b2ab-42ac-448f-b0d4-1e64b26ba6a5",
   "metadata": {},
   "outputs": [
    {
     "name": "stdout",
     "output_type": "stream",
     "text": [
      "Number is odd.\n"
     ]
    }
   ],
   "source": [
    "evenodd(45)"
   ]
  },
  {
   "cell_type": "code",
   "execution_count": 48,
   "id": "ae1ea1b0-76e0-42af-80f8-27f7ef7dc0bc",
   "metadata": {},
   "outputs": [
    {
     "data": {
      "text/plain": [
       "'evenodd Function :- This function will test whether a numbr is Even or Odd'"
      ]
     },
     "execution_count": 48,
     "metadata": {},
     "output_type": "execute_result"
    }
   ],
   "source": [
    "evenodd.__doc__"
   ]
  },
  {
   "cell_type": "code",
   "execution_count": 68,
   "id": "4b3a2b5a-1860-4530-b25a-8414d325cb17",
   "metadata": {},
   "outputs": [],
   "source": [
    "def price(num):\n",
    "    if num > 50000:\n",
    "        print(\"Price is 3 time the original\")\n",
    "        return num*3\n",
    "        \n",
    "    else:\n",
    "        print (\"Price is 5 time the original\")\n",
    "        return num*5 "
   ]
  },
  {
   "cell_type": "code",
   "execution_count": 69,
   "id": "00fcd4bc-466b-484e-9833-80d995ca3aa8",
   "metadata": {},
   "outputs": [
    {
     "name": "stdout",
     "output_type": "stream",
     "text": [
      "Price is 5 time the original\n"
     ]
    },
    {
     "data": {
      "text/plain": [
       "150000"
      ]
     },
     "execution_count": 69,
     "metadata": {},
     "output_type": "execute_result"
    }
   ],
   "source": [
    "price(30000)"
   ]
  },
  {
   "cell_type": "code",
   "execution_count": 70,
   "id": "1ddcacc1-d81f-425c-a86e-7bc6c3682977",
   "metadata": {},
   "outputs": [
    {
     "name": "stdout",
     "output_type": "stream",
     "text": [
      "Price is 3 time the original\n"
     ]
    },
    {
     "data": {
      "text/plain": [
       "180000"
      ]
     },
     "execution_count": 70,
     "metadata": {},
     "output_type": "execute_result"
    }
   ],
   "source": [
    "price(60000)"
   ]
  },
  {
   "cell_type": "markdown",
   "id": "1263b97c-f95f-4768-8f47-80e989bc0a32",
   "metadata": {},
   "source": [
    "## Variable"
   ]
  },
  {
   "cell_type": "markdown",
   "id": "a5244d91-f66e-4719-9b51-301794b80c7b",
   "metadata": {},
   "source": [
    "A python variable is a reserved memory location to store values. A variable is created the moment you first assign a value to it."
   ]
  },
  {
   "cell_type": "code",
   "execution_count": 2,
   "id": "0c1a72fe-3ce2-43ba-b721-31ef4f94c3a2",
   "metadata": {},
   "outputs": [
    {
     "data": {
      "text/plain": [
       "30"
      ]
     },
     "execution_count": 2,
     "metadata": {},
     "output_type": "execute_result"
    }
   ],
   "source": [
    "p = 30\n",
    "p"
   ]
  },
  {
   "cell_type": "code",
   "execution_count": 3,
   "id": "0f2d7d94-5bf0-406e-a17f-fbf6503f040c",
   "metadata": {},
   "outputs": [
    {
     "data": {
      "text/plain": [
       "1880091526288"
      ]
     },
     "execution_count": 3,
     "metadata": {},
     "output_type": "execute_result"
    }
   ],
   "source": [
    "'''\n",
    "id() function returns the “identity” of the object.\n",
    "The identity of an object - Is an integer\n",
    "- Guaranteed to be unique\n",
    "- Constant for this object during its lifetime.\n",
    "'''\n",
    "id(p)"
   ]
  },
  {
   "cell_type": "code",
   "execution_count": 5,
   "id": "094b9710-cb1c-417a-9877-c6994b31046e",
   "metadata": {},
   "outputs": [
    {
     "data": {
      "text/plain": [
       "'0x1b5be300490'"
      ]
     },
     "execution_count": 5,
     "metadata": {},
     "output_type": "execute_result"
    }
   ],
   "source": [
    "hex(id(p)) # Memory address of the variable"
   ]
  },
  {
   "cell_type": "code",
   "execution_count": 6,
   "id": "640429ce-75af-45e9-883c-8475e0dffd46",
   "metadata": {},
   "outputs": [
    {
     "data": {
      "text/plain": [
       "(20, int, '0x1b5be300350')"
      ]
     },
     "execution_count": 6,
     "metadata": {},
     "output_type": "execute_result"
    }
   ],
   "source": [
    "p=20 #Creates an integer object with value 20 and assigns the variable p to po\n",
    "q=20 # Create new reference q which will point to value 20. p & q will be poin\n",
    "r=q# variable r will also point to the same location where p & q are pointing\n",
    "p,type(p),hex(id(p))# Variable P is pointing to memory location '0x7fff6d71a3"
   ]
  },
  {
   "cell_type": "code",
   "execution_count": 7,
   "id": "47c7f328-90e1-4144-96ef-50938bc7d700",
   "metadata": {},
   "outputs": [
    {
     "data": {
      "text/plain": [
       "(20, int, '0x1b5be300350')"
      ]
     },
     "execution_count": 7,
     "metadata": {},
     "output_type": "execute_result"
    }
   ],
   "source": [
    "q,type(q),hex(id(q))"
   ]
  },
  {
   "cell_type": "code",
   "execution_count": 8,
   "id": "1750a1e2-cf14-44a8-b326-8b5f1a575d7d",
   "metadata": {},
   "outputs": [
    {
     "data": {
      "text/plain": [
       "(20, int, '0x1b5be300350')"
      ]
     },
     "execution_count": 8,
     "metadata": {},
     "output_type": "execute_result"
    }
   ],
   "source": [
    "r,type(r),hex(id(r))"
   ]
  },
  {
   "cell_type": "code",
   "execution_count": 9,
   "id": "ce44bc8b-dcd4-4781-b47b-d51c3f178a88",
   "metadata": {},
   "outputs": [
    {
     "data": {
      "text/plain": [
       "60"
      ]
     },
     "execution_count": 9,
     "metadata": {},
     "output_type": "execute_result"
    }
   ],
   "source": [
    "p = 50\n",
    "p = p + 10 # variable overwriting\n",
    "p"
   ]
  },
  {
   "cell_type": "markdown",
   "id": "6c343b8f-06a0-4658-9bc5-a0061e46b203",
   "metadata": {},
   "source": [
    "## Variable Assignment"
   ]
  },
  {
   "cell_type": "code",
   "execution_count": 11,
   "id": "48357339-a014-45e4-9458-ca0d2df41694",
   "metadata": {},
   "outputs": [
    {
     "name": "stdout",
     "output_type": "stream",
     "text": [
      "10\n",
      "2.56\n",
      "Python Langauge\n"
     ]
    }
   ],
   "source": [
    "intvar = 10\n",
    "floatvar = 2.56\n",
    "strvar = 'Python Langauge'\n",
    "\n",
    "print(intvar)\n",
    "print(floatvar)\n",
    "print(strvar)"
   ]
  },
  {
   "cell_type": "markdown",
   "id": "19c69697-89a0-4922-abd6-c20b1391f71e",
   "metadata": {},
   "source": [
    "## Multiple Assignment"
   ]
  },
  {
   "cell_type": "code",
   "execution_count": 13,
   "id": "c0f44711-c049-486f-a4c8-582ede2615e7",
   "metadata": {},
   "outputs": [
    {
     "name": "stdout",
     "output_type": "stream",
     "text": [
      "20\n",
      "3.36\n",
      "Python Langauge\n"
     ]
    }
   ],
   "source": [
    "intvar, floatvar, strvar = 20, 3.36, 'Python Langauge'\n",
    "print(intvar)\n",
    "print(floatvar)\n",
    "print(strvar)"
   ]
  },
  {
   "cell_type": "code",
   "execution_count": 14,
   "id": "e85f5c13-6388-45b6-bb49-f648f3837f76",
   "metadata": {},
   "outputs": [
    {
     "name": "stdout",
     "output_type": "stream",
     "text": [
      "20\n",
      "3.36\n",
      "Python Langauge\n"
     ]
    }
   ],
   "source": [
    "intvar == 24, floatvar == 4.90, strvar == 'My name is' \n",
    "print(intvar)\n",
    "print(floatvar)\n",
    "print(strvar)"
   ]
  },
  {
   "cell_type": "code",
   "execution_count": 15,
   "id": "ae23e08e-c99e-4bc0-8ea8-24f90ac81b38",
   "metadata": {},
   "outputs": [
    {
     "name": "stdout",
     "output_type": "stream",
     "text": [
      "44 44 44 44\n"
     ]
    }
   ],
   "source": [
    "p1=p2=p3=p4=44 # All variables pointing to same value\n",
    "\n",
    "print(p1,p2,p3,p4)"
   ]
  },
  {
   "cell_type": "markdown",
   "id": "d475c0a3-99d4-48c1-9ed4-da543270c8e8",
   "metadata": {},
   "source": [
    "## Data Types"
   ]
  },
  {
   "cell_type": "markdown",
   "id": "fee4d16a-d1a5-4ee9-a373-eb1a6a38c02e",
   "metadata": {},
   "source": [
    "## Numeric"
   ]
  },
  {
   "cell_type": "markdown",
   "id": "c40a214b-495d-464b-bb12-0d3118d2de0d",
   "metadata": {},
   "source": [
    "## 1. Integer"
   ]
  },
  {
   "cell_type": "code",
   "execution_count": 19,
   "id": "36aed3fc-b356-4e09-a549-04907bfe4504",
   "metadata": {},
   "outputs": [
    {
     "name": "stdout",
     "output_type": "stream",
     "text": [
      "80\n",
      "<class 'int'>\n",
      "28\n",
      "80 Is Integer? True\n"
     ]
    }
   ],
   "source": [
    "val1 = 80 # Integer data type\n",
    "print(val1)\n",
    "print(type(val1)) # type of object\n",
    "print(sys.getsizeof(val1))  # size of integer object in bytes\n",
    "print(val1, \"Is Integer?\",isinstance(val1, int))  # val1 is an instance of int c"
   ]
  },
  {
   "cell_type": "markdown",
   "id": "25d49be9-c12a-405d-bf7c-46c81230192f",
   "metadata": {},
   "source": [
    "## 2. Float"
   ]
  },
  {
   "cell_type": "code",
   "execution_count": 21,
   "id": "5edc8b0f-62c6-4b51-b27e-61cccab1ea0e",
   "metadata": {},
   "outputs": [
    {
     "name": "stdout",
     "output_type": "stream",
     "text": [
      "2.98\n",
      "<class 'float'>\n",
      "24\n",
      "80 Is Float? True\n"
     ]
    }
   ],
   "source": [
    "val2 = 2.98 #float data type\n",
    "print(val2)\n",
    "print(type(val2)) # type of object\n",
    "print(sys.getsizeof(val2))  # size of integer object in bytes\n",
    "print(val1, \"Is Float?\",isinstance(val2, float))  # val1 is an instance of int c"
   ]
  },
  {
   "cell_type": "markdown",
   "id": "64aaecdf-3dc3-476f-b8de-7f5892ae44b4",
   "metadata": {},
   "source": [
    "## 3. Complex"
   ]
  },
  {
   "cell_type": "code",
   "execution_count": 24,
   "id": "d044a85d-bbf6-4640-8d9b-4ad607f03214",
   "metadata": {},
   "outputs": [
    {
     "name": "stdout",
     "output_type": "stream",
     "text": [
      "(3+2j)\n",
      "<class 'complex'>\n",
      "32\n",
      "(3+2j) Is complex? True\n"
     ]
    }
   ],
   "source": [
    "val3 = 3+2j # complex data type\n",
    "print(val3)\n",
    "print(type(val3)) # type of object\n",
    "print(sys.getsizeof(val3))  # size of integer object in bytes\n",
    "print(val3, \"Is complex?\",isinstance(val3, complex))  # val1 is an instance of int c"
   ]
  },
  {
   "cell_type": "code",
   "execution_count": 27,
   "id": "ba421311-9128-42e7-ae41-619af849dda1",
   "metadata": {},
   "outputs": [
    {
     "data": {
      "text/plain": [
       "24"
      ]
     },
     "execution_count": 27,
     "metadata": {},
     "output_type": "execute_result"
    }
   ],
   "source": [
    "sys.getsizeof(int())"
   ]
  },
  {
   "cell_type": "code",
   "execution_count": 28,
   "id": "f3142771-6962-4948-95b4-50259075e874",
   "metadata": {},
   "outputs": [
    {
     "data": {
      "text/plain": [
       "24"
      ]
     },
     "execution_count": 28,
     "metadata": {},
     "output_type": "execute_result"
    }
   ],
   "source": [
    "sys.getsizeof(float())"
   ]
  },
  {
   "cell_type": "code",
   "execution_count": 29,
   "id": "1890c1c4-8c18-4226-aaea-8e4e4f94d93d",
   "metadata": {},
   "outputs": [
    {
     "data": {
      "text/plain": [
       "32"
      ]
     },
     "execution_count": 29,
     "metadata": {},
     "output_type": "execute_result"
    }
   ],
   "source": [
    "sys.getsizeof(complex())"
   ]
  },
  {
   "cell_type": "markdown",
   "id": "b3a19bcb-7c31-44b0-817b-08b8a7514e39",
   "metadata": {},
   "source": [
    "## Boolean"
   ]
  },
  {
   "cell_type": "markdown",
   "id": "0741ff3c-b7ac-4ae5-9519-95e186f8e77b",
   "metadata": {},
   "source": [
    "Boolean data type can have only two possible values ttru \r\n",
    " false.lse"
   ]
  },
  {
   "cell_type": "code",
   "execution_count": 26,
   "id": "9a781cd1-0a2d-4996-88e9-a92db88ae420",
   "metadata": {},
   "outputs": [
    {
     "data": {
      "text/plain": [
       "'bool(x) -> bool\\n\\nReturns True when the argument x is true, False otherwise.\\nThe builtins True and False are the only two instances of the class bool.\\nThe class bool is a subclass of the class int, and cannot be subclassed.'"
      ]
     },
     "execution_count": 26,
     "metadata": {},
     "output_type": "execute_result"
    }
   ],
   "source": [
    "bool.__doc__"
   ]
  },
  {
   "cell_type": "code",
   "execution_count": 30,
   "id": "2d5bd62e-8201-460c-9939-95dc1af420e8",
   "metadata": {},
   "outputs": [],
   "source": [
    "val4 = True\n",
    "val5 = False"
   ]
  },
  {
   "cell_type": "code",
   "execution_count": 31,
   "id": "c7f8a086-786e-4836-a951-c644d5ff65af",
   "metadata": {},
   "outputs": [
    {
     "name": "stdout",
     "output_type": "stream",
     "text": [
      "<class 'bool'>\n",
      "<class 'bool'>\n"
     ]
    }
   ],
   "source": [
    "print(type(val4))\n",
    "print(type(val5))"
   ]
  },
  {
   "cell_type": "code",
   "execution_count": 32,
   "id": "ed629f88-460e-4685-b7bf-77023bd04212",
   "metadata": {},
   "outputs": [
    {
     "data": {
      "text/plain": [
       "True"
      ]
     },
     "execution_count": 32,
     "metadata": {},
     "output_type": "execute_result"
    }
   ],
   "source": [
    "isinstance(val4,bool)"
   ]
  },
  {
   "cell_type": "code",
   "execution_count": 33,
   "id": "2fc71b19-657f-4981-a038-fe068ccdfcb3",
   "metadata": {},
   "outputs": [
    {
     "data": {
      "text/plain": [
       "True"
      ]
     },
     "execution_count": 33,
     "metadata": {},
     "output_type": "execute_result"
    }
   ],
   "source": [
    "isinstance(val5,bool)"
   ]
  },
  {
   "cell_type": "code",
   "execution_count": 34,
   "id": "3c2e85d4-393f-4017-a48d-0b231e7610fa",
   "metadata": {},
   "outputs": [
    {
     "data": {
      "text/plain": [
       "False"
      ]
     },
     "execution_count": 34,
     "metadata": {},
     "output_type": "execute_result"
    }
   ],
   "source": [
    "bool(0)"
   ]
  },
  {
   "cell_type": "code",
   "execution_count": 35,
   "id": "859f524c-d191-4465-bd8d-362558130f6e",
   "metadata": {},
   "outputs": [
    {
     "data": {
      "text/plain": [
       "True"
      ]
     },
     "execution_count": 35,
     "metadata": {},
     "output_type": "execute_result"
    }
   ],
   "source": [
    "bool(1)"
   ]
  },
  {
   "cell_type": "code",
   "execution_count": 36,
   "id": "1a940fc4-bf9c-46e9-826b-1c99bac355f1",
   "metadata": {},
   "outputs": [
    {
     "data": {
      "text/plain": [
       "False"
      ]
     },
     "execution_count": 36,
     "metadata": {},
     "output_type": "execute_result"
    }
   ],
   "source": [
    "bool(None)"
   ]
  },
  {
   "cell_type": "code",
   "execution_count": 37,
   "id": "3568d5c2-1c54-4bb1-83bf-670e63c956d2",
   "metadata": {},
   "outputs": [
    {
     "data": {
      "text/plain": [
       "True"
      ]
     },
     "execution_count": 37,
     "metadata": {},
     "output_type": "execute_result"
    }
   ],
   "source": [
    "bool(True)"
   ]
  },
  {
   "cell_type": "code",
   "execution_count": 38,
   "id": "0ef40875-8cc3-4228-8cf7-f0866342e7e3",
   "metadata": {},
   "outputs": [
    {
     "data": {
      "text/plain": [
       "False"
      ]
     },
     "execution_count": 38,
     "metadata": {},
     "output_type": "execute_result"
    }
   ],
   "source": [
    "bool(False)"
   ]
  },
  {
   "cell_type": "markdown",
   "id": "6dc04906-7886-4ebd-8893-a1ab737431aa",
   "metadata": {},
   "source": [
    "## String"
   ]
  },
  {
   "cell_type": "markdown",
   "id": "914a73bd-abf7-4558-8297-481939d83480",
   "metadata": {},
   "source": [
    "## String Creation"
   ]
  },
  {
   "cell_type": "code",
   "execution_count": 71,
   "id": "3c93acb5-c35c-4ae2-bf85-cc946ed56696",
   "metadata": {},
   "outputs": [
    {
     "data": {
      "text/plain": [
       "'Hello Python'"
      ]
     },
     "execution_count": 71,
     "metadata": {},
     "output_type": "execute_result"
    }
   ],
   "source": [
    "str = \"Hello Python\"\n",
    "str"
   ]
  },
  {
   "cell_type": "code",
   "execution_count": 72,
   "id": "f5c36f21-7229-41a2-ac01-b0df7042bd32",
   "metadata": {},
   "outputs": [
    {
     "data": {
      "text/plain": [
       "'Hello World'"
      ]
     },
     "execution_count": 72,
     "metadata": {},
     "output_type": "execute_result"
    }
   ],
   "source": [
    "mystr = 'Hello World'\n",
    "mystr"
   ]
  },
  {
   "cell_type": "code",
   "execution_count": 73,
   "id": "b527763c-ce73-4c8c-9d2f-c582c96e62db",
   "metadata": {},
   "outputs": [
    {
     "data": {
      "text/plain": [
       "'Hello World'"
      ]
     },
     "execution_count": 73,
     "metadata": {},
     "output_type": "execute_result"
    }
   ],
   "source": [
    "mystr = \"Hello World\"\n",
    "mystr"
   ]
  },
  {
   "cell_type": "code",
   "execution_count": 74,
   "id": "cc203ccb-5943-4e34-a944-a85209f7032f",
   "metadata": {},
   "outputs": [
    {
     "data": {
      "text/plain": [
       "'Hello\\n                world'"
      ]
     },
     "execution_count": 74,
     "metadata": {},
     "output_type": "execute_result"
    }
   ],
   "source": [
    "mystr = '''Hello\n",
    "                world'''\n",
    "mystr"
   ]
  },
  {
   "cell_type": "code",
   "execution_count": 75,
   "id": "e3be45d1-eed2-4d62-b270-17fce5f07de3",
   "metadata": {},
   "outputs": [
    {
     "data": {
      "text/plain": [
       "'hello\\n           world'"
      ]
     },
     "execution_count": 75,
     "metadata": {},
     "output_type": "execute_result"
    }
   ],
   "source": [
    "mystr = \"\"\"hello\n",
    "           world\"\"\"\n",
    "mystr"
   ]
  },
  {
   "cell_type": "code",
   "execution_count": 77,
   "id": "c0773517-3ba4-426b-b67b-c869db84a6c0",
   "metadata": {},
   "outputs": [
    {
     "data": {
      "text/plain": [
       "['Happy Monday Everyone']"
      ]
     },
     "execution_count": 77,
     "metadata": {},
     "output_type": "execute_result"
    }
   ],
   "source": [
    "mystr = ['Happy '\n",
    "        'Monday '\n",
    "        'Everyone']\n",
    "mystr"
   ]
  },
  {
   "cell_type": "code",
   "execution_count": 79,
   "id": "745f19e8-2a78-4671-9862-ce43437cec6c",
   "metadata": {},
   "outputs": [
    {
     "data": {
      "text/plain": [
       "'Woohoo Woohoo Woohoo Woohoo Woohoo '"
      ]
     },
     "execution_count": 79,
     "metadata": {},
     "output_type": "execute_result"
    }
   ],
   "source": [
    "mystr1 = 'Woohoo '\n",
    "mystr1 = mystr1*5\n",
    "mystr1"
   ]
  },
  {
   "cell_type": "code",
   "execution_count": 80,
   "id": "84d44b3b-3fc1-4d74-8356-ab064189a8a6",
   "metadata": {},
   "outputs": [
    {
     "data": {
      "text/plain": [
       "35"
      ]
     },
     "execution_count": 80,
     "metadata": {},
     "output_type": "execute_result"
    }
   ],
   "source": [
    "len(mystr1)"
   ]
  },
  {
   "cell_type": "markdown",
   "id": "239ca4f6-52a1-44d5-8c83-a597556ce4cd",
   "metadata": {},
   "source": [
    "## String Indexing"
   ]
  },
  {
   "cell_type": "code",
   "execution_count": 81,
   "id": "b7372432-ba41-45e4-8e64-13ac879b825c",
   "metadata": {},
   "outputs": [
    {
     "data": {
      "text/plain": [
       "'HELLO PYTHON'"
      ]
     },
     "execution_count": 81,
     "metadata": {},
     "output_type": "execute_result"
    }
   ],
   "source": [
    "str1 = 'HELLO PYTHON'\n",
    "str1"
   ]
  },
  {
   "cell_type": "code",
   "execution_count": 82,
   "id": "533cda6a-83e7-41fd-ae97-e0335a215d44",
   "metadata": {},
   "outputs": [
    {
     "data": {
      "text/plain": [
       "'H'"
      ]
     },
     "execution_count": 82,
     "metadata": {},
     "output_type": "execute_result"
    }
   ],
   "source": [
    "str1[0] # First character in string \"str1\""
   ]
  },
  {
   "cell_type": "code",
   "execution_count": 83,
   "id": "aecf75aa-5c46-421f-80fd-837729a12244",
   "metadata": {},
   "outputs": [
    {
     "data": {
      "text/plain": [
       "12"
      ]
     },
     "execution_count": 83,
     "metadata": {},
     "output_type": "execute_result"
    }
   ],
   "source": [
    "len(str1)"
   ]
  },
  {
   "cell_type": "code",
   "execution_count": 84,
   "id": "f3013418-77e3-44c3-9cdf-36338f31faa7",
   "metadata": {},
   "outputs": [
    {
     "data": {
      "text/plain": [
       "'O'"
      ]
     },
     "execution_count": 84,
     "metadata": {},
     "output_type": "execute_result"
    }
   ],
   "source": [
    "str1[10]"
   ]
  },
  {
   "cell_type": "code",
   "execution_count": 86,
   "id": "1f80e220-8062-4d22-8eb7-5a50c051fda7",
   "metadata": {},
   "outputs": [
    {
     "data": {
      "text/plain": [
       "'N'"
      ]
     },
     "execution_count": 86,
     "metadata": {},
     "output_type": "execute_result"
    }
   ],
   "source": [
    "str1[len(str1) - 1] # Last character in string using len function"
   ]
  },
  {
   "cell_type": "code",
   "execution_count": 88,
   "id": "06e94554-7907-40ae-9f15-d93f6a3f19ed",
   "metadata": {},
   "outputs": [
    {
     "data": {
      "text/plain": [
       "'n'"
      ]
     },
     "execution_count": 88,
     "metadata": {},
     "output_type": "execute_result"
    }
   ],
   "source": [
    "str[11]"
   ]
  },
  {
   "cell_type": "code",
   "execution_count": 89,
   "id": "41caaf6c-73ba-4164-8918-72a9e798d6ce",
   "metadata": {},
   "outputs": [
    {
     "data": {
      "text/plain": [
       "'N'"
      ]
     },
     "execution_count": 89,
     "metadata": {},
     "output_type": "execute_result"
    }
   ],
   "source": [
    "str1[11]"
   ]
  },
  {
   "cell_type": "code",
   "execution_count": 90,
   "id": "5d624857-b516-4187-b702-78c4493d4c2f",
   "metadata": {},
   "outputs": [
    {
     "data": {
      "text/plain": [
       "'O'"
      ]
     },
     "execution_count": 90,
     "metadata": {},
     "output_type": "execute_result"
    }
   ],
   "source": [
    "str1[10]"
   ]
  },
  {
   "cell_type": "code",
   "execution_count": 92,
   "id": "fe141b74-dc2c-424b-bab5-b8a50e9ebdf9",
   "metadata": {},
   "outputs": [
    {
     "data": {
      "text/plain": [
       "'N'"
      ]
     },
     "execution_count": 92,
     "metadata": {},
     "output_type": "execute_result"
    }
   ],
   "source": [
    "str1[-1] # Last character in string"
   ]
  },
  {
   "cell_type": "code",
   "execution_count": 93,
   "id": "6d5005e4-9d70-44ac-b58e-19cbb60fd47c",
   "metadata": {},
   "outputs": [
    {
     "data": {
      "text/plain": [
       "'P'"
      ]
     },
     "execution_count": 93,
     "metadata": {},
     "output_type": "execute_result"
    }
   ],
   "source": [
    "str1[6]"
   ]
  },
  {
   "cell_type": "code",
   "execution_count": 94,
   "id": "1662465a-ec6a-4732-9d7a-a24eed99ba8b",
   "metadata": {},
   "outputs": [
    {
     "data": {
      "text/plain": [
       "' '"
      ]
     },
     "execution_count": 94,
     "metadata": {},
     "output_type": "execute_result"
    }
   ],
   "source": [
    "str1[5]"
   ]
  },
  {
   "cell_type": "markdown",
   "id": "ba1ecc62-de51-4ced-8b4b-f97cb5f4f804",
   "metadata": {},
   "source": [
    "## String Slicing"
   ]
  },
  {
   "cell_type": "code",
   "execution_count": 101,
   "id": "4499ff48-c3b8-4fc5-861f-79a5035e9926",
   "metadata": {},
   "outputs": [
    {
     "data": {
      "text/plain": [
       "'HELLO'"
      ]
     },
     "execution_count": 101,
     "metadata": {},
     "output_type": "execute_result"
    }
   ],
   "source": [
    "str1[0:5] # String slicing - Fetch all characters from 0 to 5 index location excl"
   ]
  },
  {
   "cell_type": "code",
   "execution_count": 102,
   "id": "bdee0092-23ed-4ad2-b4ab-354c0cfcd34f",
   "metadata": {},
   "outputs": [
    {
     "data": {
      "text/plain": [
       "'PYTHON'"
      ]
     },
     "execution_count": 102,
     "metadata": {},
     "output_type": "execute_result"
    }
   ],
   "source": [
    "str1[6:12] # String slicing - Retreive all characters between 6 - 12 index loc e"
   ]
  },
  {
   "cell_type": "code",
   "execution_count": 103,
   "id": "df513cab-9778-4524-9c82-f3e0d4d6fe6b",
   "metadata": {},
   "outputs": [
    {
     "data": {
      "text/plain": [
       "'THON'"
      ]
     },
     "execution_count": 103,
     "metadata": {},
     "output_type": "execute_result"
    }
   ],
   "source": [
    "str1[-4:] # Retreive last four characters of the string"
   ]
  },
  {
   "cell_type": "code",
   "execution_count": 104,
   "id": "3c62c80e-ae96-48ac-b27e-ac27bbe80f3c",
   "metadata": {},
   "outputs": [
    {
     "data": {
      "text/plain": [
       "'PYTHON'"
      ]
     },
     "execution_count": 104,
     "metadata": {},
     "output_type": "execute_result"
    }
   ],
   "source": [
    "str1[-6:] # Retreive last six characters of the string"
   ]
  },
  {
   "cell_type": "code",
   "execution_count": 107,
   "id": "a89bce45-cb5b-4046-985c-f3a1f15dde6f",
   "metadata": {},
   "outputs": [
    {
     "data": {
      "text/plain": [
       "'HELL'"
      ]
     },
     "execution_count": 107,
     "metadata": {},
     "output_type": "execute_result"
    }
   ],
   "source": [
    "str1[:4] # Retreive first four characters of the string"
   ]
  },
  {
   "cell_type": "code",
   "execution_count": 109,
   "id": "21f16600-3f5f-45e7-b072-2e4228c91426",
   "metadata": {},
   "outputs": [
    {
     "data": {
      "text/plain": [
       "'HELLO '"
      ]
     },
     "execution_count": 109,
     "metadata": {},
     "output_type": "execute_result"
    }
   ],
   "source": [
    "str1[0:6] # Retreive first six characters of the string"
   ]
  },
  {
   "cell_type": "markdown",
   "id": "d2e03a36-9c9e-4b36-99d0-f2c0b5171621",
   "metadata": {},
   "source": [
    "## Update & Delete String"
   ]
  },
  {
   "cell_type": "code",
   "execution_count": 110,
   "id": "94cfbd55-4eed-4720-83e8-35a29788f899",
   "metadata": {},
   "outputs": [
    {
     "data": {
      "text/plain": [
       "'HELLO PYTHON'"
      ]
     },
     "execution_count": 110,
     "metadata": {},
     "output_type": "execute_result"
    }
   ],
   "source": [
    "str1"
   ]
  },
  {
   "cell_type": "code",
   "execution_count": 112,
   "id": "0da427c4-a1ca-45fe-a52e-55a8ff54a603",
   "metadata": {},
   "outputs": [
    {
     "ename": "TypeError",
     "evalue": "'str' object does not support item assignment",
     "output_type": "error",
     "traceback": [
      "\u001b[1;31m---------------------------------------------------------------------------\u001b[0m",
      "\u001b[1;31mTypeError\u001b[0m                                 Traceback (most recent call last)",
      "Cell \u001b[1;32mIn[112], line 2\u001b[0m\n\u001b[0;32m      1\u001b[0m \u001b[38;5;66;03m#Strings are immutable which means elements of a string cannot be changed once created\u001b[39;00m\n\u001b[1;32m----> 2\u001b[0m \u001b[38;5;28mstr\u001b[39m[\u001b[38;5;241m0\u001b[39m:\u001b[38;5;241m5\u001b[39m] \u001b[38;5;241m=\u001b[39m \u001b[38;5;124m'\u001b[39m\u001b[38;5;124mHOLLA\u001b[39m\u001b[38;5;124m'\u001b[39m\n",
      "\u001b[1;31mTypeError\u001b[0m: 'str' object does not support item assignment"
     ]
    }
   ],
   "source": [
    "#Strings are immutable which means elements of a string cannot be changed once created\n",
    "str[0:5] = 'HOLLA'"
   ]
  },
  {
   "cell_type": "code",
   "execution_count": 113,
   "id": "31f19421-4ea9-496c-ae1b-bfbc0c0762af",
   "metadata": {},
   "outputs": [
    {
     "ename": "NameError",
     "evalue": "name 'str1' is not defined",
     "output_type": "error",
     "traceback": [
      "\u001b[1;31m---------------------------------------------------------------------------\u001b[0m",
      "\u001b[1;31mNameError\u001b[0m                                 Traceback (most recent call last)",
      "Cell \u001b[1;32mIn[113], line 3\u001b[0m\n\u001b[0;32m      1\u001b[0m \u001b[38;5;66;03m# Delete a string\u001b[39;00m\n\u001b[0;32m      2\u001b[0m \u001b[38;5;28;01mdel\u001b[39;00m(str1)\n\u001b[1;32m----> 3\u001b[0m \u001b[43mstr1\u001b[49m\n",
      "\u001b[1;31mNameError\u001b[0m: name 'str1' is not defined"
     ]
    }
   ],
   "source": [
    "# Delete a string\n",
    "del(str1)\n",
    "str1"
   ]
  },
  {
   "cell_type": "markdown",
   "id": "9ff72cc3-3f20-4239-b480-e2b77a857e05",
   "metadata": {},
   "source": [
    "## String concatenation\n"
   ]
  },
  {
   "cell_type": "code",
   "execution_count": 114,
   "id": "3c9c1ded-bb34-4d90-bcfb-5227b8eb42d4",
   "metadata": {},
   "outputs": [
    {
     "data": {
      "text/plain": [
       "'Welcome'"
      ]
     },
     "execution_count": 114,
     "metadata": {},
     "output_type": "execute_result"
    }
   ],
   "source": [
    "# String concatenation\n",
    "s1 = 'Wel'\n",
    "s2 = 'come'\n",
    "s3 = s1 + s2\n",
    "s3"
   ]
  },
  {
   "cell_type": "code",
   "execution_count": 115,
   "id": "58218fbd-e119-45c4-a718-0b774cbed79d",
   "metadata": {},
   "outputs": [
    {
     "data": {
      "text/plain": [
       "'Hello Amruta'"
      ]
     },
     "execution_count": 115,
     "metadata": {},
     "output_type": "execute_result"
    }
   ],
   "source": [
    "# String concatenation (Adding space between string)\n",
    "s1 = 'Hello'\n",
    "s2 = \"Amruta\"\n",
    "s3 = s1 + \" \" + s2\n",
    "s3"
   ]
  },
  {
   "cell_type": "markdown",
   "id": "69c93581-e08c-4683-98f3-c1240ad34c18",
   "metadata": {},
   "source": [
    "## Iterating through a String"
   ]
  },
  {
   "cell_type": "code",
   "execution_count": 116,
   "id": "c51a51fe-4408-4de3-9233-532163a4badf",
   "metadata": {},
   "outputs": [
    {
     "data": {
      "text/plain": [
       "'What a lovely day'"
      ]
     },
     "execution_count": 116,
     "metadata": {},
     "output_type": "execute_result"
    }
   ],
   "source": [
    "mystr = \"What a lovely day\"\n",
    "mystr"
   ]
  },
  {
   "cell_type": "code",
   "execution_count": 117,
   "id": "aceb3fb6-5ba5-4634-8892-70ae34cacc33",
   "metadata": {},
   "outputs": [
    {
     "name": "stdout",
     "output_type": "stream",
     "text": [
      "W\n",
      "h\n",
      "a\n",
      "t\n",
      " \n",
      "a\n",
      " \n",
      "l\n",
      "o\n",
      "v\n",
      "e\n",
      "l\n",
      "y\n",
      " \n",
      "d\n",
      "a\n",
      "y\n"
     ]
    }
   ],
   "source": [
    "for i in mystr:\n",
    "    print(i)"
   ]
  },
  {
   "cell_type": "code",
   "execution_count": 118,
   "id": "97a8c5f7-5599-4b96-89bc-d798ea6ededf",
   "metadata": {},
   "outputs": [
    {
     "name": "stdout",
     "output_type": "stream",
     "text": [
      "(0, 'W')\n",
      "(1, 'h')\n",
      "(2, 'a')\n",
      "(3, 't')\n",
      "(4, ' ')\n",
      "(5, 'a')\n",
      "(6, ' ')\n",
      "(7, 'l')\n",
      "(8, 'o')\n",
      "(9, 'v')\n",
      "(10, 'e')\n",
      "(11, 'l')\n",
      "(12, 'y')\n",
      "(13, ' ')\n",
      "(14, 'd')\n",
      "(15, 'a')\n",
      "(16, 'y')\n"
     ]
    }
   ],
   "source": [
    "for i in enumerate(mystr):\n",
    "    print(i)"
   ]
  },
  {
   "cell_type": "code",
   "execution_count": 120,
   "id": "2e724ae9-bd53-461d-b8a4-c1730769117a",
   "metadata": {},
   "outputs": [
    {
     "data": {
      "text/plain": [
       "[(0, 'W'),\n",
       " (1, 'h'),\n",
       " (2, 'a'),\n",
       " (3, 't'),\n",
       " (4, ' '),\n",
       " (5, 'a'),\n",
       " (6, ' '),\n",
       " (7, 'l'),\n",
       " (8, 'o'),\n",
       " (9, 'v'),\n",
       " (10, 'e'),\n",
       " (11, 'l'),\n",
       " (12, 'y'),\n",
       " (13, ' '),\n",
       " (14, 'd'),\n",
       " (15, 'a'),\n",
       " (16, 'y')]"
      ]
     },
     "execution_count": 120,
     "metadata": {},
     "output_type": "execute_result"
    }
   ],
   "source": [
    "list(enumerate(mystr)) # Enumerate method adds a counter to an iterable and retu"
   ]
  },
  {
   "cell_type": "code",
   "execution_count": 121,
   "id": "56c54e19-d48c-4f96-99ea-abbadeeaf781",
   "metadata": {},
   "outputs": [
    {
     "data": {
      "text/plain": [
       "'Return an enumerate object.\\n\\n  iterable\\n    an object supporting iteration\\n\\nThe enumerate object yields pairs containing a count (from start, which\\ndefaults to zero) and a value yielded by the iterable argument.\\n\\nenumerate is useful for obtaining an indexed list:\\n    (0, seq[0]), (1, seq[1]), (2, seq[2]), ...'"
      ]
     },
     "execution_count": 121,
     "metadata": {},
     "output_type": "execute_result"
    }
   ],
   "source": [
    "enumerate.__doc__"
   ]
  },
  {
   "cell_type": "markdown",
   "id": "f61e7e95-4467-4be1-8b6f-dca85bea6a94",
   "metadata": {},
   "source": [
    "## String Membership"
   ]
  },
  {
   "cell_type": "code",
   "execution_count": 123,
   "id": "40407d11-517a-428f-b412-2b37353c60ba",
   "metadata": {},
   "outputs": [
    {
     "name": "stdout",
     "output_type": "stream",
     "text": [
      "True\n",
      "True\n",
      "False\n"
     ]
    }
   ],
   "source": [
    "mystr1 = \"Hello Everyone \"\n",
    "\n",
    "print('Hello' in mystr1) # Check whether substring \"Hello\" is present in string or not\n",
    "print('Everyone' in mystr1) # Check whether substring \"Everyone\" is present in string or not\n",
    "print('Hi' in mystr1) # Check whether substring \"Hi\" is present in string \"mysrt1\" or not"
   ]
  },
  {
   "cell_type": "markdown",
   "id": "469a3cd6-b76b-44ef-a3df-ac36eaebe8ef",
   "metadata": {},
   "source": [
    "## String Partitioning"
   ]
  },
  {
   "cell_type": "code",
   "execution_count": 124,
   "id": "e55e7aa0-af69-4cc0-bc62-ce722d9aba9b",
   "metadata": {},
   "outputs": [
    {
     "name": "stdout",
     "output_type": "stream",
     "text": [
      "('Natural language processing with Python ', 'and', ' R and Java')\n"
     ]
    }
   ],
   "source": [
    "\"\"\"\n",
    "The partition() method searches for a specified string and splits the string into\n",
    "- The first element contains the part before the argument string.\n",
    "- The second element contains the argument string.\n",
    "- The third element contains the part after the argument string.\n",
    "\"\"\"\n",
    "\n",
    "str5 = \"Natural language processing with Python and R and Java\"\n",
    "P = str5.partition('and')\n",
    "print(P)"
   ]
  },
  {
   "cell_type": "code",
   "execution_count": 125,
   "id": "9fb7cc4a-bbc5-481d-b939-9172aa4996d9",
   "metadata": {},
   "outputs": [
    {
     "name": "stdout",
     "output_type": "stream",
     "text": [
      "('I have two dogs ', 'in', ' my backyard')\n"
     ]
    }
   ],
   "source": [
    "str6 = 'I have two dogs in my backyard'\n",
    "p = str6.partition('in')\n",
    "print(p)"
   ]
  }
 ],
 "metadata": {
  "kernelspec": {
   "display_name": "Python 3 (ipykernel)",
   "language": "python",
   "name": "python3"
  },
  "language_info": {
   "codemirror_mode": {
    "name": "ipython",
    "version": 3
   },
   "file_extension": ".py",
   "mimetype": "text/x-python",
   "name": "python",
   "nbconvert_exporter": "python",
   "pygments_lexer": "ipython3",
   "version": "3.10.13"
  }
 },
 "nbformat": 4,
 "nbformat_minor": 5
}
