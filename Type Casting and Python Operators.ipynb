{
 "cells": [
  {
   "cell_type": "markdown",
   "id": "42f9b4ef-8c2f-4b19-9673-e43127007c30",
   "metadata": {},
   "source": [
    "## Type Casting\n",
    "\n",
    "- Convert 1 data type to another data type \n",
    "- FROM ALL OTHER DATATYPE TO INT, OR COMPLEX, FLOAT, BOOL\n",
    "\n",
    "What is type casting in python?\n",
    "Type casting in Python refers to converting one data type into another. It allows you to explicitly change the type of a variable to make it compatible with a particular operation or requirement.\n",
    "\n",
    "**Types of Type Casting**\n",
    "\n",
    "1. Implicit Type Casting (Type Coercion)\n",
    "+ Performed automatically by Python.\n",
    "+ Python converts a smaller data type to a larger data type to avoid data loss.\n",
    "\n",
    "2. Explicit Type Casting\n",
    "+ Performed manually by the programmer using Python's built-in functions.\n",
    "+ Examples include int(), float(), str(), list(), etc."
   ]
  },
  {
   "cell_type": "markdown",
   "id": "19718f30-4c6d-43a0-bedf-98e66c43424a",
   "metadata": {},
   "source": [
    "## Integer to other data types"
   ]
  },
  {
   "cell_type": "code",
   "execution_count": 15,
   "id": "4db2da42-36fa-488e-9f35-b43e892a3e44",
   "metadata": {},
   "outputs": [
    {
     "data": {
      "text/plain": [
       "1"
      ]
     },
     "execution_count": 15,
     "metadata": {},
     "output_type": "execute_result"
    }
   ],
   "source": [
    "int(1.5) # convert float to integer"
   ]
  },
  {
   "cell_type": "code",
   "execution_count": 16,
   "id": "e77c0a69-53af-4da3-8dd6-d948aed33f31",
   "metadata": {},
   "outputs": [
    {
     "data": {
      "text/plain": [
       "1"
      ]
     },
     "execution_count": 16,
     "metadata": {},
     "output_type": "execute_result"
    }
   ],
   "source": [
    "# Boolean to integer\n",
    "int(True)"
   ]
  },
  {
   "cell_type": "code",
   "execution_count": 17,
   "id": "be6feaa3-ff53-48e9-a5e5-8fc113e40921",
   "metadata": {},
   "outputs": [
    {
     "ename": "TypeError",
     "evalue": "int() argument must be a string, a bytes-like object or a real number, not 'complex'",
     "output_type": "error",
     "traceback": [
      "\u001b[1;31m---------------------------------------------------------------------------\u001b[0m",
      "\u001b[1;31mTypeError\u001b[0m                                 Traceback (most recent call last)",
      "Cell \u001b[1;32mIn[17], line 2\u001b[0m\n\u001b[0;32m      1\u001b[0m \u001b[38;5;66;03m# Complex to integer\u001b[39;00m\n\u001b[1;32m----> 2\u001b[0m \u001b[38;5;28;43mint\u001b[39;49m\u001b[43m(\u001b[49m\u001b[38;5;241;43m1\u001b[39;49m\u001b[38;5;241;43m+\u001b[39;49m\u001b[38;5;241;43m2\u001b[39;49m\u001b[43mj\u001b[49m\u001b[43m)\u001b[49m\n",
      "\u001b[1;31mTypeError\u001b[0m: int() argument must be a string, a bytes-like object or a real number, not 'complex'"
     ]
    }
   ],
   "source": [
    "# Complex to integer\n",
    "int(1+2j)"
   ]
  },
  {
   "cell_type": "markdown",
   "id": "7ed36adf-125f-4b33-b594-3605266fb927",
   "metadata": {},
   "source": [
    "#complex to int cannot cast"
   ]
  },
  {
   "cell_type": "code",
   "execution_count": 18,
   "id": "8c102fc6-4dc7-4c00-bed3-815397530902",
   "metadata": {},
   "outputs": [
    {
     "data": {
      "text/plain": [
       "10"
      ]
     },
     "execution_count": 18,
     "metadata": {},
     "output_type": "execute_result"
    }
   ],
   "source": [
    "#String to integer\n",
    "int('10')"
   ]
  },
  {
   "cell_type": "code",
   "execution_count": 19,
   "id": "cf382b68-3f06-4192-b8ca-96a254697999",
   "metadata": {},
   "outputs": [
    {
     "ename": "ValueError",
     "evalue": "invalid literal for int() with base 10: 'Ten'",
     "output_type": "error",
     "traceback": [
      "\u001b[1;31m---------------------------------------------------------------------------\u001b[0m",
      "\u001b[1;31mValueError\u001b[0m                                Traceback (most recent call last)",
      "Cell \u001b[1;32mIn[19], line 1\u001b[0m\n\u001b[1;32m----> 1\u001b[0m \u001b[38;5;28;43mint\u001b[39;49m\u001b[43m(\u001b[49m\u001b[38;5;124;43m'\u001b[39;49m\u001b[38;5;124;43mTen\u001b[39;49m\u001b[38;5;124;43m'\u001b[39;49m\u001b[43m)\u001b[49m\n",
      "\u001b[1;31mValueError\u001b[0m: invalid literal for int() with base 10: 'Ten'"
     ]
    }
   ],
   "source": [
    "int('Ten')"
   ]
  },
  {
   "cell_type": "markdown",
   "id": "9259bf1e-c812-4c10-9510-20d78a859dcf",
   "metadata": {},
   "source": [
    "## Float to other data types"
   ]
  },
  {
   "cell_type": "code",
   "execution_count": 20,
   "id": "26e668ad-db9a-48a9-8deb-042c97f723f4",
   "metadata": {},
   "outputs": [
    {
     "data": {
      "text/plain": [
       "10.0"
      ]
     },
     "execution_count": 20,
     "metadata": {},
     "output_type": "execute_result"
    }
   ],
   "source": [
    "# Integer to float\n",
    "float(10)"
   ]
  },
  {
   "cell_type": "code",
   "execution_count": 21,
   "id": "fb78e22a-c58a-4c61-94fc-d7be80d9ad21",
   "metadata": {},
   "outputs": [
    {
     "name": "stdout",
     "output_type": "stream",
     "text": [
      "1.0\n",
      "0.0\n"
     ]
    }
   ],
   "source": [
    "# Boolean to float\n",
    "print(float(True))\n",
    "print(float(False))"
   ]
  },
  {
   "cell_type": "code",
   "execution_count": 23,
   "id": "e9f2180e-7f1f-4b84-b51e-bc1ec4f85ea7",
   "metadata": {},
   "outputs": [
    {
     "ename": "TypeError",
     "evalue": "float() argument must be a string or a real number, not 'complex'",
     "output_type": "error",
     "traceback": [
      "\u001b[1;31m---------------------------------------------------------------------------\u001b[0m",
      "\u001b[1;31mTypeError\u001b[0m                                 Traceback (most recent call last)",
      "Cell \u001b[1;32mIn[23], line 2\u001b[0m\n\u001b[0;32m      1\u001b[0m \u001b[38;5;66;03m#complex to float\u001b[39;00m\n\u001b[1;32m----> 2\u001b[0m \u001b[38;5;28;43mfloat\u001b[39;49m\u001b[43m(\u001b[49m\u001b[38;5;241;43m1\u001b[39;49m\u001b[38;5;241;43m+\u001b[39;49m\u001b[38;5;241;43m3\u001b[39;49m\u001b[43mj\u001b[49m\u001b[43m)\u001b[49m\n",
      "\u001b[1;31mTypeError\u001b[0m: float() argument must be a string or a real number, not 'complex'"
     ]
    }
   ],
   "source": [
    "#complex to float\n",
    "float(1+3j)\n",
    "\n",
    "# Complex to float can not cast"
   ]
  },
  {
   "cell_type": "code",
   "execution_count": 24,
   "id": "8579715e-276d-4713-9390-a9a8488b00d7",
   "metadata": {},
   "outputs": [
    {
     "data": {
      "text/plain": [
       "20.0"
      ]
     },
     "execution_count": 24,
     "metadata": {},
     "output_type": "execute_result"
    }
   ],
   "source": [
    "# string to float\n",
    "float('20')"
   ]
  },
  {
   "cell_type": "code",
   "execution_count": 25,
   "id": "5c5ce3e4-c502-4262-9132-28d1f7fb2f68",
   "metadata": {},
   "outputs": [
    {
     "ename": "ValueError",
     "evalue": "could not convert string to float: 'ten'",
     "output_type": "error",
     "traceback": [
      "\u001b[1;31m---------------------------------------------------------------------------\u001b[0m",
      "\u001b[1;31mValueError\u001b[0m                                Traceback (most recent call last)",
      "Cell \u001b[1;32mIn[25], line 1\u001b[0m\n\u001b[1;32m----> 1\u001b[0m \u001b[38;5;28;43mfloat\u001b[39;49m\u001b[43m(\u001b[49m\u001b[38;5;124;43m'\u001b[39;49m\u001b[38;5;124;43mten\u001b[39;49m\u001b[38;5;124;43m'\u001b[39;49m\u001b[43m)\u001b[49m\n",
      "\u001b[1;31mValueError\u001b[0m: could not convert string to float: 'ten'"
     ]
    }
   ],
   "source": [
    "float('ten')"
   ]
  },
  {
   "cell_type": "code",
   "execution_count": 32,
   "id": "79aaebcf-5cff-4595-8012-8fc731fe4a65",
   "metadata": {},
   "outputs": [
    {
     "ename": "TypeError",
     "evalue": "'float' object cannot be interpreted as an integer",
     "output_type": "error",
     "traceback": [
      "\u001b[1;31m---------------------------------------------------------------------------\u001b[0m",
      "\u001b[1;31mTypeError\u001b[0m                                 Traceback (most recent call last)",
      "Cell \u001b[1;32mIn[32], line 1\u001b[0m\n\u001b[1;32m----> 1\u001b[0m \u001b[38;5;28;43mint\u001b[39;49m\u001b[43m(\u001b[49m\u001b[38;5;241;43m10.2\u001b[39;49m\u001b[43m,\u001b[49m\u001b[43m \u001b[49m\u001b[38;5;241;43m15.4\u001b[39;49m\u001b[43m)\u001b[49m\n",
      "\u001b[1;31mTypeError\u001b[0m: 'float' object cannot be interpreted as an integer"
     ]
    }
   ],
   "source": [
    "int(10.2, 15.4) # we get error because the first argument must be a string or a number (like an integer or float) that can be converted to an integer."
   ]
  },
  {
   "cell_type": "code",
   "execution_count": 33,
   "id": "b285bc71-c713-4337-9ded-6bf577e16e4d",
   "metadata": {},
   "outputs": [
    {
     "data": {
      "text/plain": [
       "10"
      ]
     },
     "execution_count": 33,
     "metadata": {},
     "output_type": "execute_result"
    }
   ],
   "source": [
    "int(10.2)"
   ]
  },
  {
   "cell_type": "code",
   "execution_count": 34,
   "id": "f0d31a6d-d134-4d97-8894-960c2de0bbf7",
   "metadata": {},
   "outputs": [
    {
     "ename": "TypeError",
     "evalue": "float expected at most 1 argument, got 5",
     "output_type": "error",
     "traceback": [
      "\u001b[1;31m---------------------------------------------------------------------------\u001b[0m",
      "\u001b[1;31mTypeError\u001b[0m                                 Traceback (most recent call last)",
      "Cell \u001b[1;32mIn[34], line 1\u001b[0m\n\u001b[1;32m----> 1\u001b[0m \u001b[38;5;28;43mfloat\u001b[39;49m\u001b[43m(\u001b[49m\u001b[38;5;241;43m10\u001b[39;49m\u001b[43m,\u001b[49m\u001b[43m \u001b[49m\u001b[38;5;241;43m20\u001b[39;49m\u001b[43m,\u001b[49m\u001b[43m \u001b[49m\u001b[38;5;241;43m30\u001b[39;49m\u001b[43m,\u001b[49m\u001b[43m \u001b[49m\u001b[38;5;241;43m40\u001b[39;49m\u001b[43m,\u001b[49m\u001b[43m \u001b[49m\u001b[38;5;241;43m50\u001b[39;49m\u001b[43m \u001b[49m\u001b[43m)\u001b[49m\n",
      "\u001b[1;31mTypeError\u001b[0m: float expected at most 1 argument, got 5"
     ]
    }
   ],
   "source": [
    "float(10, 20, 30, 40, 50 )"
   ]
  },
  {
   "cell_type": "markdown",
   "id": "325e1967-7cc1-436e-ad82-b03f863afae5",
   "metadata": {},
   "source": [
    "## Complex to another Data types"
   ]
  },
  {
   "cell_type": "code",
   "execution_count": 35,
   "id": "a314ca23-7821-4443-b82d-056e39687f92",
   "metadata": {},
   "outputs": [
    {
     "data": {
      "text/plain": [
       "(1+0j)"
      ]
     },
     "execution_count": 35,
     "metadata": {},
     "output_type": "execute_result"
    }
   ],
   "source": [
    "complex(1) "
   ]
  },
  {
   "cell_type": "code",
   "execution_count": 36,
   "id": "9ceff349-3696-4ca9-896a-e76b30444398",
   "metadata": {},
   "outputs": [
    {
     "data": {
      "text/plain": [
       "(1+2j)"
      ]
     },
     "execution_count": 36,
     "metadata": {},
     "output_type": "execute_result"
    }
   ],
   "source": [
    "complex(1,2)"
   ]
  },
  {
   "cell_type": "code",
   "execution_count": 37,
   "id": "4e8fbf36-3361-4da2-b75e-6311d83303a3",
   "metadata": {},
   "outputs": [
    {
     "ename": "TypeError",
     "evalue": "complex() takes at most 2 arguments (3 given)",
     "output_type": "error",
     "traceback": [
      "\u001b[1;31m---------------------------------------------------------------------------\u001b[0m",
      "\u001b[1;31mTypeError\u001b[0m                                 Traceback (most recent call last)",
      "Cell \u001b[1;32mIn[37], line 1\u001b[0m\n\u001b[1;32m----> 1\u001b[0m \u001b[38;5;28;43mcomplex\u001b[39;49m\u001b[43m(\u001b[49m\u001b[38;5;241;43m1\u001b[39;49m\u001b[43m,\u001b[49m\u001b[38;5;241;43m2\u001b[39;49m\u001b[43m,\u001b[49m\u001b[38;5;241;43m3\u001b[39;49m\u001b[43m)\u001b[49m\n",
      "\u001b[1;31mTypeError\u001b[0m: complex() takes at most 2 arguments (3 given)"
     ]
    }
   ],
   "source": [
    "complex(1,2,3)"
   ]
  },
  {
   "cell_type": "code",
   "execution_count": 38,
   "id": "5ae79e13-f855-4485-91c8-9165b5edc410",
   "metadata": {},
   "outputs": [
    {
     "data": {
      "text/plain": [
       "(10.2+23j)"
      ]
     },
     "execution_count": 38,
     "metadata": {},
     "output_type": "execute_result"
    }
   ],
   "source": [
    "complex(10.2, 23)"
   ]
  },
  {
   "cell_type": "code",
   "execution_count": 39,
   "id": "6251b120-e015-4057-a6c5-dd632864d8ce",
   "metadata": {},
   "outputs": [
    {
     "data": {
      "text/plain": [
       "(10.2+23.34567j)"
      ]
     },
     "execution_count": 39,
     "metadata": {},
     "output_type": "execute_result"
    }
   ],
   "source": [
    "complex(10.2, 23.34567)"
   ]
  },
  {
   "cell_type": "code",
   "execution_count": 40,
   "id": "f5c52642-7b96-4110-bd93-954472a4ddd8",
   "metadata": {},
   "outputs": [
    {
     "data": {
      "text/plain": [
       "(1+0j)"
      ]
     },
     "execution_count": 40,
     "metadata": {},
     "output_type": "execute_result"
    }
   ],
   "source": [
    "#Boolean to complex\n",
    "complex(True, False)"
   ]
  },
  {
   "cell_type": "code",
   "execution_count": 41,
   "id": "1a7bc1ae-e490-48e8-9d40-607b2ec8cb93",
   "metadata": {},
   "outputs": [
    {
     "data": {
      "text/plain": [
       "1j"
      ]
     },
     "execution_count": 41,
     "metadata": {},
     "output_type": "execute_result"
    }
   ],
   "source": [
    "complex(False, True)"
   ]
  },
  {
   "cell_type": "code",
   "execution_count": 42,
   "id": "654caf31-c303-4383-ae85-33348cd9052e",
   "metadata": {},
   "outputs": [
    {
     "data": {
      "text/plain": [
       "(1+0j)"
      ]
     },
     "execution_count": 42,
     "metadata": {},
     "output_type": "execute_result"
    }
   ],
   "source": [
    "complex(True)"
   ]
  },
  {
   "cell_type": "code",
   "execution_count": 43,
   "id": "dd4278ad-b41c-44cf-a776-104ef7d22a33",
   "metadata": {},
   "outputs": [
    {
     "data": {
      "text/plain": [
       "0j"
      ]
     },
     "execution_count": 43,
     "metadata": {},
     "output_type": "execute_result"
    }
   ],
   "source": [
    "complex(False)"
   ]
  },
  {
   "cell_type": "code",
   "execution_count": 44,
   "id": "e5f6c50a-3c86-4dd2-8d96-765e50703709",
   "metadata": {},
   "outputs": [
    {
     "ename": "TypeError",
     "evalue": "complex() can't take second arg if first is a string",
     "output_type": "error",
     "traceback": [
      "\u001b[1;31m---------------------------------------------------------------------------\u001b[0m",
      "\u001b[1;31mTypeError\u001b[0m                                 Traceback (most recent call last)",
      "Cell \u001b[1;32mIn[44], line 1\u001b[0m\n\u001b[1;32m----> 1\u001b[0m \u001b[38;5;28;43mcomplex\u001b[39;49m\u001b[43m(\u001b[49m\u001b[38;5;124;43m'\u001b[39;49m\u001b[38;5;124;43m10\u001b[39;49m\u001b[38;5;124;43m'\u001b[39;49m\u001b[43m,\u001b[49m\u001b[43m \u001b[49m\u001b[38;5;124;43m'\u001b[39;49m\u001b[38;5;124;43m20\u001b[39;49m\u001b[38;5;124;43m'\u001b[39;49m\u001b[43m)\u001b[49m\n",
      "\u001b[1;31mTypeError\u001b[0m: complex() can't take second arg if first is a string"
     ]
    }
   ],
   "source": [
    "complex('10', '20') # Can't cast string to complex"
   ]
  },
  {
   "cell_type": "code",
   "execution_count": 45,
   "id": "6d24ac6c-d8f1-490a-88f4-fe9ca3d7baf1",
   "metadata": {},
   "outputs": [
    {
     "ename": "TypeError",
     "evalue": "complex() second arg can't be a string",
     "output_type": "error",
     "traceback": [
      "\u001b[1;31m---------------------------------------------------------------------------\u001b[0m",
      "\u001b[1;31mTypeError\u001b[0m                                 Traceback (most recent call last)",
      "Cell \u001b[1;32mIn[45], line 1\u001b[0m\n\u001b[1;32m----> 1\u001b[0m \u001b[38;5;28;43mcomplex\u001b[39;49m\u001b[43m(\u001b[49m\u001b[38;5;241;43m20\u001b[39;49m\u001b[43m,\u001b[49m\u001b[43m \u001b[49m\u001b[38;5;124;43m'\u001b[39;49m\u001b[38;5;124;43m10\u001b[39;49m\u001b[38;5;124;43m'\u001b[39;49m\u001b[43m)\u001b[49m\n",
      "\u001b[1;31mTypeError\u001b[0m: complex() second arg can't be a string"
     ]
    }
   ],
   "source": [
    "complex(20, '10')"
   ]
  },
  {
   "cell_type": "markdown",
   "id": "ac4a62f9-db83-49d0-9435-8c970c8c11fe",
   "metadata": {},
   "source": [
    "## String to Other Data Types"
   ]
  },
  {
   "cell_type": "code",
   "execution_count": 46,
   "id": "c42a0cf0-2163-4628-9b0c-bc50a36c9d5a",
   "metadata": {},
   "outputs": [
    {
     "data": {
      "text/plain": [
       "'10'"
      ]
     },
     "execution_count": 46,
     "metadata": {},
     "output_type": "execute_result"
    }
   ],
   "source": [
    "# string to integer\n",
    "str(10) "
   ]
  },
  {
   "cell_type": "code",
   "execution_count": 48,
   "id": "79343573-07ff-4979-847a-9272dc96eb74",
   "metadata": {},
   "outputs": [
    {
     "data": {
      "text/plain": [
       "'101.1'"
      ]
     },
     "execution_count": 48,
     "metadata": {},
     "output_type": "execute_result"
    }
   ],
   "source": [
    "#float to string\n",
    "str(101.10)"
   ]
  },
  {
   "cell_type": "code",
   "execution_count": 49,
   "id": "66330c85-a923-46a3-8137-963d75f075f2",
   "metadata": {},
   "outputs": [
    {
     "data": {
      "text/plain": [
       "'True'"
      ]
     },
     "execution_count": 49,
     "metadata": {},
     "output_type": "execute_result"
    }
   ],
   "source": [
    "#boolean to string\n",
    "str(True)"
   ]
  },
  {
   "cell_type": "code",
   "execution_count": 50,
   "id": "c5a43e92-8fdc-4c64-a997-0aaafabdb353",
   "metadata": {},
   "outputs": [
    {
     "data": {
      "text/plain": [
       "'False'"
      ]
     },
     "execution_count": 50,
     "metadata": {},
     "output_type": "execute_result"
    }
   ],
   "source": [
    "str(False)"
   ]
  },
  {
   "cell_type": "code",
   "execution_count": 51,
   "id": "559810ae-70a9-40ee-9263-00d66939eea9",
   "metadata": {},
   "outputs": [
    {
     "data": {
      "text/plain": [
       "'(1+2j)'"
      ]
     },
     "execution_count": 51,
     "metadata": {},
     "output_type": "execute_result"
    }
   ],
   "source": [
    "# Complex to string\n",
    "str(1+2j)"
   ]
  },
  {
   "cell_type": "markdown",
   "id": "233ed41a-8966-4961-b97c-b45c2981ea90",
   "metadata": {},
   "source": [
    "## Boolean to Other Data Types"
   ]
  },
  {
   "cell_type": "code",
   "execution_count": 58,
   "id": "01a113dc-d3d0-4fb7-9502-becbc357c501",
   "metadata": {},
   "outputs": [
    {
     "data": {
      "text/plain": [
       "True"
      ]
     },
     "execution_count": 58,
     "metadata": {},
     "output_type": "execute_result"
    }
   ],
   "source": [
    "# boolean to integer\n",
    "bool(10)"
   ]
  },
  {
   "cell_type": "code",
   "execution_count": 59,
   "id": "8d85b564-70d9-4109-b444-fba783158793",
   "metadata": {},
   "outputs": [
    {
     "data": {
      "text/plain": [
       "True"
      ]
     },
     "execution_count": 59,
     "metadata": {},
     "output_type": "execute_result"
    }
   ],
   "source": [
    "bool(10.9) # boolean to integer"
   ]
  },
  {
   "cell_type": "code",
   "execution_count": 61,
   "id": "ccf2dd27-88a7-49ea-8f0b-f0fb6d8f9fe3",
   "metadata": {},
   "outputs": [
    {
     "data": {
      "text/plain": [
       "False"
      ]
     },
     "execution_count": 61,
     "metadata": {},
     "output_type": "execute_result"
    }
   ],
   "source": [
    "bool()"
   ]
  },
  {
   "cell_type": "code",
   "execution_count": 62,
   "id": "6faad277-3bfd-4216-a281-7ce43c2fc4e0",
   "metadata": {},
   "outputs": [
    {
     "data": {
      "text/plain": [
       "True"
      ]
     },
     "execution_count": 62,
     "metadata": {},
     "output_type": "execute_result"
    }
   ],
   "source": [
    "bool(1+2j) # boolean to Complex"
   ]
  },
  {
   "cell_type": "code",
   "execution_count": 63,
   "id": "0f293441-1eaf-4146-b884-a33aae81b35a",
   "metadata": {},
   "outputs": [
    {
     "data": {
      "text/plain": [
       "True"
      ]
     },
     "execution_count": 63,
     "metadata": {},
     "output_type": "execute_result"
    }
   ],
   "source": [
    "bool('Amruta') # boolean to string"
   ]
  },
  {
   "cell_type": "markdown",
   "id": "de90f137-1357-4369-bf33-4bbb3ed18856",
   "metadata": {},
   "source": [
    "## Operators\n",
    "\n",
    "Operators are special symbols in Python which are used to perform operations on variables/values."
   ]
  },
  {
   "cell_type": "markdown",
   "id": "ea3882ae-aa26-4d7b-9187-a6c174d5237b",
   "metadata": {},
   "source": [
    "## Arithmatic Operators"
   ]
  },
  {
   "cell_type": "code",
   "execution_count": 4,
   "id": "c1c3c697-44bf-41ca-bb2d-10a785d34e7c",
   "metadata": {},
   "outputs": [
    {
     "name": "stdout",
     "output_type": "stream",
     "text": [
      "Addition of 5 and 2 will give: 7\n",
      "\n",
      "Concatenate string'x' and 'y' using '+' operator : AsifBhat \n",
      "\n",
      "Substraction of 5 and 2 will give: 3\n",
      "\n",
      "Multiplication of 5 and 2 will give: 10\n",
      "\n",
      "Division of 5 and 2 will give: 2.5\n",
      "\n",
      "Modulo of 5 and 2 will give: 1\n",
      "\n",
      "5 raise to the power 2 will give: 25\n",
      "\n",
      "Floor division of 5 by 2 will give :- 2\n",
      "\n"
     ]
    }
   ],
   "source": [
    "a = 5\n",
    "b = 2\n",
    "\n",
    "x = 'Asif'\n",
    "y = 'Bhat'\n",
    "\n",
    "# Addition\n",
    "c = a + b\n",
    "print('Addition of {} and {} will give: {}\\n'.format(a,b,c))\n",
    "\n",
    "##Concatenate string using plus operator\n",
    "z = x + y\n",
    "print('Concatenate string\\'x\\' and \\'y\\' using \\'+\\' operator : {} \\n'.format(z))\n",
    "\n",
    "# Subtraction\n",
    "c = a-b\n",
    "print('Substraction of {} and {} will give: {}\\n'.format(a,b,c))\n",
    "\n",
    "#Multiplication\n",
    "c = a*b\n",
    "print('Multiplication of {} and {} will give: {}\\n'.format(a,b,c))\n",
    "\n",
    "#Division\n",
    "c = a / b\n",
    "print('Division of {} and {} will give: {}\\n'.format(a,b,c))\n",
    "\n",
    "## Modulo of both number\n",
    "c = a%b\n",
    "print('Modulo of {} and {} will give: {}\\n'.format(a,b,c))\n",
    "\n",
    "#Power of the number\n",
    "c = a ** b\n",
    "print('{} raise to the power {} will give: {}\\n'. format(a,b,c))\n",
    "\n",
    "# Division(floor)\n",
    "c = a//b\n",
    "print('Floor division of {} by {} will give :- {}\\n'.format(a,b,c))"
   ]
  },
  {
   "cell_type": "markdown",
   "id": "8e92b858-8f53-4a81-8490-e7a7e340c565",
   "metadata": {},
   "source": [
    "## Comparison Operators\n",
    "\n",
    "Comparison operators are used to compare values."
   ]
  },
  {
   "cell_type": "code",
   "execution_count": 5,
   "id": "73fcbf22-9f32-4b51-846d-56e6f71596d7",
   "metadata": {},
   "outputs": [
    {
     "name": "stdout",
     "output_type": "stream",
     "text": [
      "Is x greater than y: False\n",
      "\n",
      " Is x less than y: True\n",
      "\n",
      " Is x equal to y: False\n",
      "\n",
      " Is x not equal to y: True\n",
      "\n",
      " Is x greater than or equal to y: False\n",
      "\n",
      " Is x less than or equal to y: True\n"
     ]
    }
   ],
   "source": [
    "x = 20\n",
    "y = 30\n",
    "\n",
    "print('Is x greater than y:', x>y)\n",
    "print('\\n Is x less than y:', x<y)\n",
    "print('\\n Is x equal to y:', x==y)\n",
    "print('\\n Is x not equal to y:', x!=y)\n",
    "print('\\n Is x greater than or equal to y:', x>=y)\n",
    "print('\\n Is x less than or equal to y:', x<=y)"
   ]
  },
  {
   "cell_type": "code",
   "execution_count": 6,
   "id": "a6f60eec-504f-491b-bbb4-200c62764399",
   "metadata": {},
   "outputs": [
    {
     "data": {
      "text/plain": [
       "(False, True, False, True)"
      ]
     },
     "execution_count": 6,
     "metadata": {},
     "output_type": "execute_result"
    }
   ],
   "source": [
    "a = 'Asif'\n",
    "b = 'Bhat'\n",
    "c = 'Asif'\n",
    "\n",
    "a==b, a==c,b==c, b!=c ## Comparison operators on string"
   ]
  },
  {
   "cell_type": "markdown",
   "id": "df7d9962-919b-40bd-8c65-d9c4093a08d7",
   "metadata": {},
   "source": [
    "## Logical Operator"
   ]
  },
  {
   "cell_type": "code",
   "execution_count": 10,
   "id": "1ffceb6c-22d5-4d1f-925e-29a3f33b46ee",
   "metadata": {},
   "outputs": [
    {
     "name": "stdout",
     "output_type": "stream",
     "text": [
      "Logical AND Operation: False\n",
      "Logical OR operation: True\n",
      "NOT Operation: False\n"
     ]
    }
   ],
   "source": [
    "x = True\n",
    "y = False\n",
    "\n",
    "print('Logical AND Operation:', x and y) #True if both values are true\n",
    "print('Logical OR operation:', x or y) #True if either of the values is true\n",
    "print('NOT Operation:', not x) # True if operand is false"
   ]
  },
  {
   "cell_type": "markdown",
   "id": "9c2e144f-a8fe-4e62-9876-8a4be3c2966f",
   "metadata": {},
   "source": [
    "## Bitwise operators\n",
    "\n",
    "Bitwise operators act on bits and performs bit by bit operation."
   ]
  },
  {
   "cell_type": "code",
   "execution_count": 11,
   "id": "c8dd25a4-a51e-446e-8d43-de3bec6f0fd4",
   "metadata": {},
   "outputs": [
    {
     "name": "stdout",
     "output_type": "stream",
     "text": [
      "Bitwise AND Operation: 2\n",
      "Bitwise OR Operation: 22\n",
      "Bitwise XOR Operation: 20\n",
      "Bitwise Not Operation: -19\n",
      "Bitwise right shift Operation: 4\n",
      "Bitwise left shift Operation: 72\n"
     ]
    }
   ],
   "source": [
    "x = 18 #binary form 10010\n",
    "y = 6 #binary form 00110\n",
    "\n",
    "print('Bitwise AND Operation: {}'.format(x&y))\n",
    "print('Bitwise OR Operation: {}'.format(x|y))\n",
    "print('Bitwise XOR Operation: {}'.format(x^y))\n",
    "print('Bitwise Not Operation: {}'.format(~x))\n",
    "print('Bitwise right shift Operation: {}'.format(x>>2))\n",
    "print('Bitwise left shift Operation: {}'.format(x<<2))"
   ]
  },
  {
   "cell_type": "markdown",
   "id": "b349fed2-e775-439a-8e9b-c08c5911bb84",
   "metadata": {},
   "source": [
    "## Assignment Operators"
   ]
  },
  {
   "cell_type": "code",
   "execution_count": 12,
   "id": "2ed588a6-3ff8-4863-bb0e-02c8b875d7e5",
   "metadata": {},
   "outputs": [
    {
     "name": "stdout",
     "output_type": "stream",
     "text": [
      "Initialize x with values 10 (x=10): 10\n",
      "Add 20 to x :-  30\n",
      "Subtract 20 to x :-  10\n",
      "Divide x by 10 :-  1.0\n",
      "Multiply x by 10 :-  10.0\n",
      "x raised to the power 2: 100\n",
      "Modulo division: 0\n",
      "Floor Division :-  6\n",
      "Bitwise AND :-  2\n",
      "Bitwise OR :-  2\n",
      "Bitwise XOR :-  0\n",
      "Bitwise left shift operation 40\n",
      "Bitwise right shift operation 10\n"
     ]
    }
   ],
   "source": [
    "x =10\n",
    "print('Initialize x with values 10 (x=10):',x)\n",
    "\n",
    "x+=20 #x = x+20\n",
    "print('Add 20 to x :- ',x)\n",
    "\n",
    "x-=20 #x=x-20\n",
    "print('Subtract 20 to x :- ',x)\n",
    "\n",
    "x/=10 #x = x/10\n",
    "print('Divide x by 10 :- ',x)\n",
    "\n",
    "x*=10 #x = x*10\n",
    "print('Multiply x by 10 :- ',x)\n",
    "\n",
    "x=int(x)\n",
    "\n",
    "x**=2 #x/10\n",
    "print('x raised to the power 2:',x)\n",
    "\n",
    "x%=2 \n",
    "print('Modulo division:',x)\n",
    "\n",
    "x=20\n",
    "\n",
    "x//=3\n",
    "print('Floor Division :- ',x)\n",
    "\n",
    "x&=2\n",
    "print('Bitwise AND :- ',x)\n",
    "\n",
    "x|=2\n",
    "print('Bitwise OR :- ',x)\n",
    "\n",
    "x^=2\n",
    "print('Bitwise XOR :- ',x)\n",
    "\n",
    "x=10\n",
    "\n",
    "x<<=2\n",
    "print('Bitwise left shift operation',x)\n",
    "\n",
    "x>>=2\n",
    "print('Bitwise right shift operation',x)"
   ]
  },
  {
   "cell_type": "markdown",
   "id": "3c1acf29-5878-4a41-816e-a3344895f475",
   "metadata": {},
   "source": [
    "## Membership Operators\n",
    "\n",
    "Membership Operators are used to test whether a value / variable is present in a sequence."
   ]
  },
  {
   "cell_type": "code",
   "execution_count": 13,
   "id": "3b8c696f-4062-4ca9-9077-eaeb9755ddc7",
   "metadata": {},
   "outputs": [
    {
     "data": {
      "text/plain": [
       "(True, False)"
      ]
     },
     "execution_count": 13,
     "metadata": {},
     "output_type": "execute_result"
    }
   ],
   "source": [
    "mystr = 'Asif Ali Bhat'\n",
    "'Asif' in mystr, 'John' in mystr"
   ]
  },
  {
   "cell_type": "code",
   "execution_count": 14,
   "id": "446d82b9-9940-400b-8e33-05d772f422d4",
   "metadata": {},
   "outputs": [
    {
     "data": {
      "text/plain": [
       "(False, True)"
      ]
     },
     "execution_count": 14,
     "metadata": {},
     "output_type": "execute_result"
    }
   ],
   "source": [
    "mystr = 'Asif Ali Bhat'\n",
    "'Asif' not in mystr, 'John' not in mystr"
   ]
  }
 ],
 "metadata": {
  "kernelspec": {
   "display_name": "Python 3 (ipykernel)",
   "language": "python",
   "name": "python3"
  },
  "language_info": {
   "codemirror_mode": {
    "name": "ipython",
    "version": 3
   },
   "file_extension": ".py",
   "mimetype": "text/x-python",
   "name": "python",
   "nbconvert_exporter": "python",
   "pygments_lexer": "ipython3",
   "version": "3.10.13"
  }
 },
 "nbformat": 4,
 "nbformat_minor": 5
}
