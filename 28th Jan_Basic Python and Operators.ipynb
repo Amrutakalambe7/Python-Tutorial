{
 "cells": [
  {
   "cell_type": "markdown",
   "id": "8e57c400-3485-42d3-8fa8-7b171701a545",
   "metadata": {},
   "source": [
    "## Python Basics"
   ]
  },
  {
   "cell_type": "code",
   "execution_count": 13,
   "id": "af54e341-d254-4354-8cbf-7765dcf025fb",
   "metadata": {},
   "outputs": [
    {
     "data": {
      "text/plain": [
       "2"
      ]
     },
     "execution_count": 13,
     "metadata": {},
     "output_type": "execute_result"
    }
   ],
   "source": [
    "1 + 1 # ADDITION "
   ]
  },
  {
   "cell_type": "code",
   "execution_count": 14,
   "id": "28b524fb-bac8-41c0-a0c3-e59b2c28c975",
   "metadata": {},
   "outputs": [
    {
     "data": {
      "text/plain": [
       "1"
      ]
     },
     "execution_count": 14,
     "metadata": {},
     "output_type": "execute_result"
    }
   ],
   "source": [
    "2-1 # subtraction"
   ]
  },
  {
   "cell_type": "code",
   "execution_count": 15,
   "id": "db289df2-dfd1-45f7-8104-fbf11898127d",
   "metadata": {},
   "outputs": [
    {
     "data": {
      "text/plain": [
       "12"
      ]
     },
     "execution_count": 15,
     "metadata": {},
     "output_type": "execute_result"
    }
   ],
   "source": [
    "3*4 #Multiplication"
   ]
  },
  {
   "cell_type": "code",
   "execution_count": 16,
   "id": "a7901ed8-8ade-407f-a9da-288161c0e8a3",
   "metadata": {},
   "outputs": [
    {
     "data": {
      "text/plain": [
       "2.0"
      ]
     },
     "execution_count": 16,
     "metadata": {},
     "output_type": "execute_result"
    }
   ],
   "source": [
    "4/2 #float division"
   ]
  },
  {
   "cell_type": "code",
   "execution_count": 18,
   "id": "4c89395b-295e-42a2-941e-1a3f6f9e0490",
   "metadata": {},
   "outputs": [
    {
     "data": {
      "text/plain": [
       "5"
      ]
     },
     "execution_count": 18,
     "metadata": {},
     "output_type": "execute_result"
    }
   ],
   "source": [
    "10//2  #integer division"
   ]
  },
  {
   "cell_type": "code",
   "execution_count": 19,
   "id": "fd95c331-c380-43ee-bf40-1464628844f8",
   "metadata": {},
   "outputs": [
    {
     "data": {
      "text/plain": [
       "10"
      ]
     },
     "execution_count": 19,
     "metadata": {},
     "output_type": "execute_result"
    }
   ],
   "source": [
    "8 + 9 - 7"
   ]
  },
  {
   "cell_type": "code",
   "execution_count": 22,
   "id": "88a82ae2-64d9-4855-8db2-eb92a22753cb",
   "metadata": {},
   "outputs": [
    {
     "ename": "SyntaxError",
     "evalue": "invalid syntax (3896933857.py, line 1)",
     "output_type": "error",
     "traceback": [
      "\u001b[1;36m  Cell \u001b[1;32mIn[22], line 1\u001b[1;36m\u001b[0m\n\u001b[1;33m    8 + 8 - #syntax error\u001b[0m\n\u001b[1;37m            ^\u001b[0m\n\u001b[1;31mSyntaxError\u001b[0m\u001b[1;31m:\u001b[0m invalid syntax\n"
     ]
    }
   ],
   "source": [
    "8 + 8 - #syntax error"
   ]
  },
  {
   "cell_type": "code",
   "execution_count": 23,
   "id": "8dafa686-7837-499c-aedc-77b460c23506",
   "metadata": {},
   "outputs": [
    {
     "data": {
      "text/plain": [
       "30"
      ]
     },
     "execution_count": 23,
     "metadata": {},
     "output_type": "execute_result"
    }
   ],
   "source": [
    "5 + 5 * 5"
   ]
  },
  {
   "cell_type": "code",
   "execution_count": 24,
   "id": "4093ad9a-9f72-4a06-97e2-125885674027",
   "metadata": {},
   "outputs": [
    {
     "data": {
      "text/plain": [
       "50"
      ]
     },
     "execution_count": 24,
     "metadata": {},
     "output_type": "execute_result"
    }
   ],
   "source": [
    "(5 + 5) * 5 # BODMAS (Bracket || Oders || Divide || Multiply || Add || Substact)"
   ]
  },
  {
   "cell_type": "code",
   "execution_count": 25,
   "id": "6e3fc94e-e741-4a0f-a433-166ad3a339ea",
   "metadata": {},
   "outputs": [
    {
     "data": {
      "text/plain": [
       "32"
      ]
     },
     "execution_count": 25,
     "metadata": {},
     "output_type": "execute_result"
    }
   ],
   "source": [
    "2 * 2 * 2 * 2 * 2 # exponentaion"
   ]
  },
  {
   "cell_type": "code",
   "execution_count": 28,
   "id": "06265826-d64c-483d-bb61-2ec34ef09430",
   "metadata": {},
   "outputs": [
    {
     "data": {
      "text/plain": [
       "32"
      ]
     },
     "execution_count": 28,
     "metadata": {},
     "output_type": "execute_result"
    }
   ],
   "source": [
    "2**5 # exponentation"
   ]
  },
  {
   "cell_type": "code",
   "execution_count": 29,
   "id": "30bdeeb7-8b62-412f-a53b-a8a741b21212",
   "metadata": {},
   "outputs": [
    {
     "data": {
      "text/plain": [
       "10"
      ]
     },
     "execution_count": 29,
     "metadata": {},
     "output_type": "execute_result"
    }
   ],
   "source": [
    "2*5"
   ]
  },
  {
   "cell_type": "code",
   "execution_count": 30,
   "id": "9ce95909-4857-4c3c-bb6b-05332013b381",
   "metadata": {},
   "outputs": [
    {
     "data": {
      "text/plain": [
       "32"
      ]
     },
     "execution_count": 30,
     "metadata": {},
     "output_type": "execute_result"
    }
   ],
   "source": [
    "2**5"
   ]
  },
  {
   "cell_type": "code",
   "execution_count": 31,
   "id": "1ac50b3d-ecda-480c-b460-c1312cde0688",
   "metadata": {},
   "outputs": [
    {
     "data": {
      "text/plain": [
       "1"
      ]
     },
     "execution_count": 31,
     "metadata": {},
     "output_type": "execute_result"
    }
   ],
   "source": [
    "15 % 2 # Modulus "
   ]
  },
  {
   "cell_type": "code",
   "execution_count": 32,
   "id": "a72def59-5e65-4450-b9cb-38df8dded67c",
   "metadata": {},
   "outputs": [
    {
     "data": {
      "text/plain": [
       "0"
      ]
     },
     "execution_count": 32,
     "metadata": {},
     "output_type": "execute_result"
    }
   ],
   "source": [
    "10 % 2 "
   ]
  },
  {
   "cell_type": "code",
   "execution_count": 33,
   "id": "229f6e10-ae60-4ab3-a669-9db9323bf904",
   "metadata": {},
   "outputs": [
    {
     "ename": "SyntaxError",
     "evalue": "invalid syntax (1768330815.py, line 1)",
     "output_type": "error",
     "traceback": [
      "\u001b[1;36m  Cell \u001b[1;32mIn[33], line 1\u001b[1;36m\u001b[0m\n\u001b[1;33m    15 %% 2\u001b[0m\n\u001b[1;37m        ^\u001b[0m\n\u001b[1;31mSyntaxError\u001b[0m\u001b[1;31m:\u001b[0m invalid syntax\n"
     ]
    }
   ],
   "source": [
    "15 %% 2"
   ]
  },
  {
   "cell_type": "code",
   "execution_count": 35,
   "id": "ce731fec-c795-44d1-b17c-383179a3b5fb",
   "metadata": {},
   "outputs": [
    {
     "ename": "TypeError",
     "evalue": "unsupported operand type(s) for +: 'int' and 'str'",
     "output_type": "error",
     "traceback": [
      "\u001b[1;31m---------------------------------------------------------------------------\u001b[0m",
      "\u001b[1;31mTypeError\u001b[0m                                 Traceback (most recent call last)",
      "Cell \u001b[1;32mIn[35], line 1\u001b[0m\n\u001b[1;32m----> 1\u001b[0m \u001b[38;5;241;43m3\u001b[39;49m\u001b[43m \u001b[49m\u001b[38;5;241;43m+\u001b[39;49m\u001b[43m \u001b[49m\u001b[38;5;124;43m'\u001b[39;49m\u001b[38;5;124;43mnit\u001b[39;49m\u001b[38;5;124;43m'\u001b[39;49m\n",
      "\u001b[1;31mTypeError\u001b[0m: unsupported operand type(s) for +: 'int' and 'str'"
     ]
    }
   ],
   "source": [
    "3 + 'nit' # You can not add integer with string"
   ]
  },
  {
   "cell_type": "code",
   "execution_count": 36,
   "id": "f9460686-720d-49fb-ac67-9951042d5ebb",
   "metadata": {},
   "outputs": [
    {
     "data": {
      "text/plain": [
       "'nitnitnit'"
      ]
     },
     "execution_count": 36,
     "metadata": {},
     "output_type": "execute_result"
    }
   ],
   "source": [
    "3*'nit'"
   ]
  },
  {
   "cell_type": "code",
   "execution_count": 37,
   "id": "63d464fd-fbae-4cae-b7ae-0e02cb4ece56",
   "metadata": {},
   "outputs": [
    {
     "data": {
      "text/plain": [
       "' nit nit nit'"
      ]
     },
     "execution_count": 37,
     "metadata": {},
     "output_type": "execute_result"
    }
   ],
   "source": [
    "3*' nit'"
   ]
  },
  {
   "cell_type": "code",
   "execution_count": 38,
   "id": "07261f61-c7f1-4a0d-8ecb-aa92c3275af9",
   "metadata": {},
   "outputs": [
    {
     "name": "stdout",
     "output_type": "stream",
     "text": [
      "15\n",
      "7.8\n",
      "nit\n",
      "(8+9j)\n",
      "True\n"
     ]
    }
   ],
   "source": [
    "a,b,c,d,e = 15, 7.8, 'nit', 8+9j, True\n",
    "\n",
    "print(a)\n",
    "print(b)\n",
    "print(c)\n",
    "print(d)\n",
    "print(e)"
   ]
  },
  {
   "cell_type": "code",
   "execution_count": 39,
   "id": "96a055a0-f931-418d-b97e-8d86ed41b742",
   "metadata": {},
   "outputs": [
    {
     "name": "stdout",
     "output_type": "stream",
     "text": [
      "<class 'int'>\n",
      "<class 'float'>\n",
      "<class 'str'>\n",
      "<class 'complex'>\n",
      "<class 'bool'>\n"
     ]
    }
   ],
   "source": [
    "print(type(a))\n",
    "print(type(b))\n",
    "print(type(c))\n",
    "print(type(d))\n",
    "print(type(e))"
   ]
  },
  {
   "cell_type": "code",
   "execution_count": 40,
   "id": "db7ee2c4-977f-4fcc-bd64-54941c60fc23",
   "metadata": {},
   "outputs": [
    {
     "data": {
      "text/plain": [
       "'Naresh IT'"
      ]
     },
     "execution_count": 40,
     "metadata": {},
     "output_type": "execute_result"
    }
   ],
   "source": [
    "'Naresh IT'"
   ]
  },
  {
   "cell_type": "code",
   "execution_count": 41,
   "id": "85064032-48e1-4ab0-9784-c31f905644d6",
   "metadata": {},
   "outputs": [
    {
     "name": "stdout",
     "output_type": "stream",
     "text": [
      "Max it\n"
     ]
    }
   ],
   "source": [
    "print('Max it')"
   ]
  },
  {
   "cell_type": "code",
   "execution_count": 42,
   "id": "ebbebd32-f782-42ef-8f21-5573742166f3",
   "metadata": {},
   "outputs": [
    {
     "data": {
      "text/plain": [
       "'max it technology'"
      ]
     },
     "execution_count": 42,
     "metadata": {},
     "output_type": "execute_result"
    }
   ],
   "source": [
    "\"max it technology\""
   ]
  },
  {
   "cell_type": "code",
   "execution_count": 44,
   "id": "aae58a71-4b08-45e1-b1c3-1aa25032009e",
   "metadata": {},
   "outputs": [
    {
     "data": {
      "text/plain": [
       "'max it technology'"
      ]
     },
     "execution_count": 44,
     "metadata": {},
     "output_type": "execute_result"
    }
   ],
   "source": [
    "s1 = 'max it technology'\n",
    "s1"
   ]
  },
  {
   "cell_type": "code",
   "execution_count": 45,
   "id": "9b71b20e-ec95-46c8-bec9-f129e231d1ff",
   "metadata": {},
   "outputs": [
    {
     "data": {
      "text/plain": [
       "5"
      ]
     },
     "execution_count": 45,
     "metadata": {},
     "output_type": "execute_result"
    }
   ],
   "source": [
    "a = 2\n",
    "b = 3\n",
    "a + b"
   ]
  },
  {
   "cell_type": "code",
   "execution_count": 46,
   "id": "e8c488a7-4b8a-4b66-86a1-e6c6eb28c9e1",
   "metadata": {},
   "outputs": [
    {
     "data": {
      "text/plain": [
       "5"
      ]
     },
     "execution_count": 46,
     "metadata": {},
     "output_type": "execute_result"
    }
   ],
   "source": [
    "c = a+b\n",
    "c"
   ]
  },
  {
   "cell_type": "code",
   "execution_count": 47,
   "id": "a48b3283-9f2c-4660-91f9-c4db1366de9a",
   "metadata": {},
   "outputs": [
    {
     "data": {
      "text/plain": [
       "str"
      ]
     },
     "execution_count": 47,
     "metadata": {},
     "output_type": "execute_result"
    }
   ],
   "source": [
    "a = 3\n",
    "b = 'hi'\n",
    "type(b)"
   ]
  },
  {
   "cell_type": "code",
   "execution_count": 50,
   "id": "158bdb4b-956c-4e3a-914b-0d98c858aa03",
   "metadata": {},
   "outputs": [
    {
     "ename": "SyntaxError",
     "evalue": "unterminated string literal (detected at line 1) (1982128230.py, line 1)",
     "output_type": "error",
     "traceback": [
      "\u001b[1;36m  Cell \u001b[1;32mIn[50], line 1\u001b[1;36m\u001b[0m\n\u001b[1;33m    print('It's Naresh IT Technology\")\u001b[0m\n\u001b[1;37m                                    ^\u001b[0m\n\u001b[1;31mSyntaxError\u001b[0m\u001b[1;31m:\u001b[0m unterminated string literal (detected at line 1)\n"
     ]
    }
   ],
   "source": [
    "print('It's Naresh IT Technology\")"
   ]
  },
  {
   "cell_type": "code",
   "execution_count": 51,
   "id": "b340af98-c2d7-4c2a-bcc9-2843beac7373",
   "metadata": {},
   "outputs": [
    {
     "ename": "SyntaxError",
     "evalue": "unterminated string literal (detected at line 1) (2850424601.py, line 1)",
     "output_type": "error",
     "traceback": [
      "\u001b[1;36m  Cell \u001b[1;32mIn[51], line 1\u001b[1;36m\u001b[0m\n\u001b[1;33m    print('max it's\"Technology\"')\u001b[0m\n\u001b[1;37m                               ^\u001b[0m\n\u001b[1;31mSyntaxError\u001b[0m\u001b[1;31m:\u001b[0m unterminated string literal (detected at line 1)\n"
     ]
    }
   ],
   "source": [
    "print('max it's\"Technology\"') "
   ]
  },
  {
   "cell_type": "code",
   "execution_count": 53,
   "id": "90fdc3bb-5e93-4cca-b35b-aee068297a5a",
   "metadata": {},
   "outputs": [
    {
     "name": "stdout",
     "output_type": "stream",
     "text": [
      "It's Naresh IT Technology\n"
     ]
    }
   ],
   "source": [
    "print('It\\'s Naresh IT Technology')#\\ has some special meaning to ignore the error"
   ]
  },
  {
   "cell_type": "code",
   "execution_count": 54,
   "id": "5e006c3f-5e4f-41ff-88e6-cd21e97631dc",
   "metadata": {},
   "outputs": [
    {
     "name": "stdout",
     "output_type": "stream",
     "text": [
      "max it Technology\n"
     ]
    }
   ],
   "source": [
    "print('max it',  'Technology')"
   ]
  },
  {
   "cell_type": "code",
   "execution_count": 55,
   "id": "ed94bc54-402b-4dc6-bda6-2cbe7dcfefbc",
   "metadata": {},
   "outputs": [
    {
     "name": "stdout",
     "output_type": "stream",
     "text": [
      "max it',  'Technology\n"
     ]
    }
   ],
   "source": [
    "print(\"max it',  'Technology\")"
   ]
  },
  {
   "cell_type": "code",
   "execution_count": 57,
   "id": "e6066101-e5fe-4ad2-a369-ef52dbdc07f4",
   "metadata": {},
   "outputs": [
    {
     "data": {
      "text/plain": [
       "'name name'"
      ]
     },
     "execution_count": 57,
     "metadata": {},
     "output_type": "execute_result"
    }
   ],
   "source": [
    "# print the name 2 times \n",
    "'name' + ' name'"
   ]
  },
  {
   "cell_type": "code",
   "execution_count": 59,
   "id": "2c47926f-2ca0-4534-bff7-f90c4ee3233b",
   "metadata": {},
   "outputs": [
    {
     "data": {
      "text/plain": [
       "'name name'"
      ]
     },
     "execution_count": 59,
     "metadata": {},
     "output_type": "execute_result"
    }
   ],
   "source": [
    "'name' ' name'"
   ]
  },
  {
   "cell_type": "code",
   "execution_count": 60,
   "id": "51696faa-f200-4569-b482-409583034c18",
   "metadata": {},
   "outputs": [
    {
     "data": {
      "text/plain": [
       "'amruta'"
      ]
     },
     "execution_count": 60,
     "metadata": {},
     "output_type": "execute_result"
    }
   ],
   "source": [
    "'amruta'"
   ]
  },
  {
   "cell_type": "code",
   "execution_count": 61,
   "id": "562a9a2b-741f-4e0d-aff5-f59981f968b9",
   "metadata": {},
   "outputs": [
    {
     "data": {
      "text/plain": [
       "'amrutaamrutaamrutaamrutaamruta'"
      ]
     },
     "execution_count": 61,
     "metadata": {},
     "output_type": "execute_result"
    }
   ],
   "source": [
    "#print amruta 5 times\n",
    "5*'amruta'"
   ]
  },
  {
   "cell_type": "code",
   "execution_count": 62,
   "id": "da9ba7ff-94b5-4128-842b-27193d4b9b13",
   "metadata": {},
   "outputs": [
    {
     "data": {
      "text/plain": [
       "' amruta amruta amruta amruta amruta'"
      ]
     },
     "execution_count": 62,
     "metadata": {},
     "output_type": "execute_result"
    }
   ],
   "source": [
    "#print amruta 5 times with space\n",
    "5*' amruta'"
   ]
  },
  {
   "cell_type": "code",
   "execution_count": 63,
   "id": "4e10f653-668b-484c-89ad-fcaf0544254d",
   "metadata": {},
   "outputs": [
    {
     "name": "stdout",
     "output_type": "stream",
     "text": [
      "c:\n",
      "it\n"
     ]
    }
   ],
   "source": [
    "print('c:\\nit') #\\n -- new line"
   ]
  },
  {
   "cell_type": "code",
   "execution_count": 64,
   "id": "2347661e-6b46-48dc-8fa7-8b14f3e8d03e",
   "metadata": {},
   "outputs": [
    {
     "name": "stdout",
     "output_type": "stream",
     "text": [
      "c:\\nit\n"
     ]
    }
   ],
   "source": [
    "print(r'c:\\nit') #raw string"
   ]
  },
  {
   "cell_type": "markdown",
   "id": "e68ac4b2-18e5-4cc9-b38b-70cf552b487e",
   "metadata": {},
   "source": [
    "## Variable || Identifier || Object"
   ]
  },
  {
   "cell_type": "code",
   "execution_count": 65,
   "id": "6a1d177e-8f01-4459-85ba-c4d55fde3b47",
   "metadata": {},
   "outputs": [
    {
     "data": {
      "text/plain": [
       "5"
      ]
     },
     "execution_count": 65,
     "metadata": {},
     "output_type": "execute_result"
    }
   ],
   "source": [
    "5"
   ]
  },
  {
   "cell_type": "code",
   "execution_count": 68,
   "id": "f43440d5-d2de-4e85-b8e2-e509e0378ac7",
   "metadata": {},
   "outputs": [
    {
     "data": {
      "text/plain": [
       "10"
      ]
     },
     "execution_count": 68,
     "metadata": {},
     "output_type": "execute_result"
    }
   ],
   "source": [
    "x = 10 #x is variable/identifier/objec, 10 is the value\n",
    "x"
   ]
  },
  {
   "cell_type": "code",
   "execution_count": 69,
   "id": "45efa8f2-6187-46b1-9adf-27cc1f94ad68",
   "metadata": {},
   "outputs": [
    {
     "data": {
      "text/plain": [
       "13"
      ]
     },
     "execution_count": 69,
     "metadata": {},
     "output_type": "execute_result"
    }
   ],
   "source": [
    "x + 3"
   ]
  },
  {
   "cell_type": "code",
   "execution_count": 70,
   "id": "cbdeba0a-2ebe-4d50-b3f4-234a21eebc58",
   "metadata": {},
   "outputs": [
    {
     "data": {
      "text/plain": [
       "3"
      ]
     },
     "execution_count": 70,
     "metadata": {},
     "output_type": "execute_result"
    }
   ],
   "source": [
    "y = 3\n",
    "y"
   ]
  },
  {
   "cell_type": "code",
   "execution_count": 71,
   "id": "45e92e96-1cac-4469-8412-855f9026e8bb",
   "metadata": {},
   "outputs": [
    {
     "data": {
      "text/plain": [
       "9"
      ]
     },
     "execution_count": 71,
     "metadata": {},
     "output_type": "execute_result"
    }
   ],
   "source": [
    "x = 9\n",
    "x"
   ]
  },
  {
   "cell_type": "code",
   "execution_count": 72,
   "id": "770816fa-93d4-4ae5-b5cc-f03a810e983e",
   "metadata": {},
   "outputs": [
    {
     "data": {
      "text/plain": [
       "12"
      ]
     },
     "execution_count": 72,
     "metadata": {},
     "output_type": "execute_result"
    }
   ],
   "source": [
    "x + y"
   ]
  },
  {
   "cell_type": "code",
   "execution_count": 74,
   "id": "c8357034-c4c2-4e76-b0f0-85d3e4471b8a",
   "metadata": {},
   "outputs": [
    {
     "data": {
      "text/plain": [
       "18"
      ]
     },
     "execution_count": 74,
     "metadata": {},
     "output_type": "execute_result"
    }
   ],
   "source": [
    "_+ y # _ understand the previous result of the "
   ]
  },
  {
   "cell_type": "code",
   "execution_count": 75,
   "id": "fc3c065f-62aa-48be-865f-5dbaf94e73c3",
   "metadata": {},
   "outputs": [
    {
     "data": {
      "text/plain": [
       "21"
      ]
     },
     "execution_count": 75,
     "metadata": {},
     "output_type": "execute_result"
    }
   ],
   "source": [
    "_+y"
   ]
  },
  {
   "cell_type": "code",
   "execution_count": 76,
   "id": "93ffcf35-1fcf-4094-a235-b3d0eb2ae0a8",
   "metadata": {},
   "outputs": [
    {
     "data": {
      "text/plain": [
       "24"
      ]
     },
     "execution_count": 76,
     "metadata": {},
     "output_type": "execute_result"
    }
   ],
   "source": [
    "_ + y"
   ]
  },
  {
   "cell_type": "code",
   "execution_count": 78,
   "id": "4bfa9421-e499-47be-b07e-d285d37d48f7",
   "metadata": {},
   "outputs": [
    {
     "data": {
      "text/plain": [
       "'madras'"
      ]
     },
     "execution_count": 78,
     "metadata": {},
     "output_type": "execute_result"
    }
   ],
   "source": [
    "# string variable \n",
    "name = 'madras'\n",
    "name"
   ]
  },
  {
   "cell_type": "code",
   "execution_count": 79,
   "id": "9083e44f-ace8-4045-a8ef-c26ab9de1b78",
   "metadata": {},
   "outputs": [
    {
     "data": {
      "text/plain": [
       "'madrastechnology'"
      ]
     },
     "execution_count": 79,
     "metadata": {},
     "output_type": "execute_result"
    }
   ],
   "source": [
    "name + 'technology'"
   ]
  },
  {
   "cell_type": "code",
   "execution_count": 81,
   "id": "05fe1a45-d0c3-42ca-97ab-b7bf31381a34",
   "metadata": {},
   "outputs": [
    {
     "data": {
      "text/plain": [
       "'madras technology'"
      ]
     },
     "execution_count": 81,
     "metadata": {},
     "output_type": "execute_result"
    }
   ],
   "source": [
    "name + ' technology'"
   ]
  },
  {
   "cell_type": "code",
   "execution_count": 82,
   "id": "78ee33b2-2218-48ac-9e85-8358506db8b5",
   "metadata": {},
   "outputs": [
    {
     "ename": "SyntaxError",
     "evalue": "invalid syntax (3186014715.py, line 1)",
     "output_type": "error",
     "traceback": [
      "\u001b[1;36m  Cell \u001b[1;32mIn[82], line 1\u001b[1;36m\u001b[0m\n\u001b[1;33m    name 'technology'\u001b[0m\n\u001b[1;37m         ^\u001b[0m\n\u001b[1;31mSyntaxError\u001b[0m\u001b[1;31m:\u001b[0m invalid syntax\n"
     ]
    }
   ],
   "source": [
    "name 'technology'"
   ]
  },
  {
   "cell_type": "code",
   "execution_count": 83,
   "id": "32f6c3ce-f99b-465e-a248-ec770f1a89d6",
   "metadata": {},
   "outputs": [
    {
     "data": {
      "text/plain": [
       "('madras', 'technology')"
      ]
     },
     "execution_count": 83,
     "metadata": {},
     "output_type": "execute_result"
    }
   ],
   "source": [
    "name , 'technology'"
   ]
  },
  {
   "cell_type": "code",
   "execution_count": 84,
   "id": "f411f13f-12c0-4808-9a66-24394b99a104",
   "metadata": {},
   "outputs": [
    {
     "data": {
      "text/plain": [
       "6"
      ]
     },
     "execution_count": 84,
     "metadata": {},
     "output_type": "execute_result"
    }
   ],
   "source": [
    "len(name)"
   ]
  },
  {
   "cell_type": "code",
   "execution_count": 85,
   "id": "3cf2eb8d-a97c-4c2a-be2c-3f4882de2d51",
   "metadata": {},
   "outputs": [
    {
     "data": {
      "text/plain": [
       "'m'"
      ]
     },
     "execution_count": 85,
     "metadata": {},
     "output_type": "execute_result"
    }
   ],
   "source": [
    "name[0] #python index begins with 0"
   ]
  },
  {
   "cell_type": "code",
   "execution_count": 86,
   "id": "cec39811-8c92-4e01-907f-9e07a9f3bc11",
   "metadata": {},
   "outputs": [
    {
     "ename": "IndexError",
     "evalue": "string index out of range",
     "output_type": "error",
     "traceback": [
      "\u001b[1;31m---------------------------------------------------------------------------\u001b[0m",
      "\u001b[1;31mIndexError\u001b[0m                                Traceback (most recent call last)",
      "Cell \u001b[1;32mIn[86], line 1\u001b[0m\n\u001b[1;32m----> 1\u001b[0m \u001b[43mname\u001b[49m\u001b[43m[\u001b[49m\u001b[38;5;241;43m6\u001b[39;49m\u001b[43m]\u001b[49m\n",
      "\u001b[1;31mIndexError\u001b[0m: string index out of range"
     ]
    }
   ],
   "source": [
    "name[6] #python index begins with 0"
   ]
  },
  {
   "cell_type": "code",
   "execution_count": 87,
   "id": "464488af-5dcb-4911-b012-ee8eb18757e6",
   "metadata": {},
   "outputs": [
    {
     "data": {
      "text/plain": [
       "'s'"
      ]
     },
     "execution_count": 87,
     "metadata": {},
     "output_type": "execute_result"
    }
   ],
   "source": [
    "name[5] #python index begins with 0"
   ]
  },
  {
   "cell_type": "code",
   "execution_count": 88,
   "id": "afaa06a7-5813-4d19-ba73-0e072e774a5a",
   "metadata": {},
   "outputs": [
    {
     "data": {
      "text/plain": [
       "'d'"
      ]
     },
     "execution_count": 88,
     "metadata": {},
     "output_type": "execute_result"
    }
   ],
   "source": [
    "name[2] #python index begins with 0"
   ]
  },
  {
   "cell_type": "code",
   "execution_count": 89,
   "id": "c57b40fe-e4d0-4216-b32f-af5b61714811",
   "metadata": {},
   "outputs": [
    {
     "data": {
      "text/plain": [
       "'s'"
      ]
     },
     "execution_count": 89,
     "metadata": {},
     "output_type": "execute_result"
    }
   ],
   "source": [
    "name[-1]"
   ]
  },
  {
   "cell_type": "code",
   "execution_count": 90,
   "id": "5d3f6a20-7b91-4b69-bd34-ecf3ff89e9c4",
   "metadata": {},
   "outputs": [
    {
     "data": {
      "text/plain": [
       "'a'"
      ]
     },
     "execution_count": 90,
     "metadata": {},
     "output_type": "execute_result"
    }
   ],
   "source": [
    "name[-2]"
   ]
  },
  {
   "cell_type": "code",
   "execution_count": 91,
   "id": "6d4c17b4-85f1-4dab-80de-384768ede139",
   "metadata": {},
   "outputs": [
    {
     "data": {
      "text/plain": [
       "'m'"
      ]
     },
     "execution_count": 91,
     "metadata": {},
     "output_type": "execute_result"
    }
   ],
   "source": [
    "name[-6]"
   ]
  },
  {
   "cell_type": "markdown",
   "id": "a14e6426-9248-4eb3-b57e-910220194486",
   "metadata": {},
   "source": [
    "## Slicing"
   ]
  },
  {
   "cell_type": "code",
   "execution_count": 92,
   "id": "d91ced60-2c98-4088-82b1-ba82888e8e07",
   "metadata": {},
   "outputs": [
    {
     "data": {
      "text/plain": [
       "'madras'"
      ]
     },
     "execution_count": 92,
     "metadata": {},
     "output_type": "execute_result"
    }
   ],
   "source": [
    "name"
   ]
  },
  {
   "cell_type": "code",
   "execution_count": 93,
   "id": "fa0d99af-6ebe-43cd-bc31-5a1efe79639b",
   "metadata": {},
   "outputs": [
    {
     "data": {
      "text/plain": [
       "'m'"
      ]
     },
     "execution_count": 93,
     "metadata": {},
     "output_type": "execute_result"
    }
   ],
   "source": [
    "name[0:1] #to print 2 character  "
   ]
  },
  {
   "cell_type": "code",
   "execution_count": 94,
   "id": "22e4200b-7bf5-4e56-a7d8-3343e9c377d1",
   "metadata": {},
   "outputs": [
    {
     "data": {
      "text/plain": [
       "'ma'"
      ]
     },
     "execution_count": 94,
     "metadata": {},
     "output_type": "execute_result"
    }
   ],
   "source": [
    "name[0:2]"
   ]
  },
  {
   "cell_type": "code",
   "execution_count": 95,
   "id": "cfc09e4d-2e15-4570-9572-8d2203930192",
   "metadata": {},
   "outputs": [
    {
     "data": {
      "text/plain": [
       "'adr'"
      ]
     },
     "execution_count": 95,
     "metadata": {},
     "output_type": "execute_result"
    }
   ],
   "source": [
    "name[1:4]"
   ]
  },
  {
   "cell_type": "code",
   "execution_count": 96,
   "id": "4ac3876e-558f-4664-a5fb-d97ba2f1c4f9",
   "metadata": {},
   "outputs": [
    {
     "data": {
      "text/plain": [
       "'adras'"
      ]
     },
     "execution_count": 96,
     "metadata": {},
     "output_type": "execute_result"
    }
   ],
   "source": [
    "name[1:]"
   ]
  },
  {
   "cell_type": "code",
   "execution_count": 97,
   "id": "6d61a844-efef-475a-8319-ddbbfae83148",
   "metadata": {},
   "outputs": [
    {
     "data": {
      "text/plain": [
       "'madr'"
      ]
     },
     "execution_count": 97,
     "metadata": {},
     "output_type": "execute_result"
    }
   ],
   "source": [
    "name[:4]"
   ]
  },
  {
   "cell_type": "code",
   "execution_count": 98,
   "id": "a2ce1414-4303-40ef-b260-d6083df9949f",
   "metadata": {},
   "outputs": [
    {
     "data": {
      "text/plain": [
       "'ras'"
      ]
     },
     "execution_count": 98,
     "metadata": {},
     "output_type": "execute_result"
    }
   ],
   "source": [
    "name[3:9]"
   ]
  },
  {
   "cell_type": "markdown",
   "id": "88f1ab4c-ab07-436c-89b5-7deebad3560a",
   "metadata": {},
   "source": [
    "## Convert String Fine to Dine"
   ]
  },
  {
   "cell_type": "code",
   "execution_count": 99,
   "id": "5870fe74-a60b-4fe0-91e0-53a9878f510f",
   "metadata": {},
   "outputs": [
    {
     "data": {
      "text/plain": [
       "'Fine'"
      ]
     },
     "execution_count": 99,
     "metadata": {},
     "output_type": "execute_result"
    }
   ],
   "source": [
    "name = 'Fine'\n",
    "name"
   ]
  },
  {
   "cell_type": "code",
   "execution_count": 100,
   "id": "c7668582-e052-437a-a86c-5bef04ff67c1",
   "metadata": {},
   "outputs": [
    {
     "data": {
      "text/plain": [
       "'ine'"
      ]
     },
     "execution_count": 100,
     "metadata": {},
     "output_type": "execute_result"
    }
   ],
   "source": [
    "name[1:]"
   ]
  },
  {
   "cell_type": "code",
   "execution_count": 101,
   "id": "af43ee24-a3c5-4c10-bcc4-66742b92c046",
   "metadata": {},
   "outputs": [
    {
     "data": {
      "text/plain": [
       "'Dine'"
      ]
     },
     "execution_count": 101,
     "metadata": {},
     "output_type": "execute_result"
    }
   ],
   "source": [
    "'D' + name[1:] # Replace F letter with D"
   ]
  },
  {
   "cell_type": "code",
   "execution_count": 102,
   "id": "9144ee7a-771b-4813-ba11-fe829d5b7085",
   "metadata": {},
   "outputs": [
    {
     "data": {
      "text/plain": [
       "'Dine'"
      ]
     },
     "execution_count": 102,
     "metadata": {},
     "output_type": "execute_result"
    }
   ],
   "source": [
    "name1 = 'D' + name[1:]\n",
    "name1"
   ]
  },
  {
   "cell_type": "code",
   "execution_count": 103,
   "id": "b9132fe8-8fc8-41c8-adb7-7f833488b07f",
   "metadata": {},
   "outputs": [
    {
     "name": "stdout",
     "output_type": "stream",
     "text": [
      "Fine\n",
      "Dine\n"
     ]
    }
   ],
   "source": [
    "print(name)\n",
    "print(name1)"
   ]
  },
  {
   "cell_type": "code",
   "execution_count": 104,
   "id": "44c2f2c9-a5da-48fa-801a-df66076039ec",
   "metadata": {},
   "outputs": [
    {
     "name": "stdout",
     "output_type": "stream",
     "text": [
      "Fine\n",
      "Dine\n"
     ]
    }
   ],
   "source": [
    "name = 'Fine'\n",
    "name[1:]\n",
    "name1 = 'D' + name[1:]\n",
    "print(name)\n",
    "print(name1)"
   ]
  },
  {
   "cell_type": "code",
   "execution_count": 112,
   "id": "99f1b30d-c0a1-4953-95cd-9b50c34c37d0",
   "metadata": {},
   "outputs": [
    {
     "name": "stdout",
     "output_type": "stream",
     "text": [
      "Glass\n",
      "Grass\n"
     ]
    }
   ],
   "source": [
    "## Convert String Glass to Grass\n",
    "str = 'Glass'\n",
    "str\n",
    "str[0]\n",
    "str[1]\n",
    "str[2:]\n",
    "str1 = str[0] + 'r' + str[2:]\n",
    "print(str)\n",
    "print(str1)"
   ]
  },
  {
   "cell_type": "code",
   "execution_count": 114,
   "id": "c7d0ed00-1fa0-4e8a-a7e4-f6e78d3621c0",
   "metadata": {},
   "outputs": [
    {
     "name": "stdout",
     "output_type": "stream",
     "text": [
      "change\n",
      "Range\n"
     ]
    }
   ],
   "source": [
    "# Convert string Change to Range\n",
    "\n",
    "str2 = 'change'\n",
    "str[0:2]\n",
    "str[2:]\n",
    "\n",
    "str3 = 'R' + str2[2:]\n",
    "\n",
    "print(str2)\n",
    "print(str3)"
   ]
  },
  {
   "cell_type": "code",
   "execution_count": 125,
   "id": "67d81743-bd76-453e-b4a2-3d9b5e0c2457",
   "metadata": {},
   "outputs": [],
   "source": [
    "num1 = [1,2,'Accademy',50]"
   ]
  },
  {
   "cell_type": "code",
   "execution_count": 126,
   "id": "8722bea2-6b5c-410a-bb36-468fe78bd661",
   "metadata": {},
   "outputs": [
    {
     "data": {
      "text/plain": [
       "[1, 2, 'Accademy', 'nit', 50]"
      ]
     },
     "execution_count": 126,
     "metadata": {},
     "output_type": "execute_result"
    }
   ],
   "source": [
    "num1.insert(3,'nit') #insert the value as per index values i.e 2nd index we are assigning nit\n",
    "num1"
   ]
  },
  {
   "cell_type": "code",
   "execution_count": 124,
   "id": "71c529f1-a5bd-46d1-9233-fafe2fb465ce",
   "metadata": {},
   "outputs": [
    {
     "data": {
      "text/plain": [
       "[]"
      ]
     },
     "execution_count": 124,
     "metadata": {},
     "output_type": "execute_result"
    }
   ],
   "source": [
    "num1.clear()\n",
    "num1"
   ]
  },
  {
   "cell_type": "markdown",
   "id": "23b32ae0-f536-418d-9385-e9f1d714cefd",
   "metadata": {},
   "source": [
    "## ID"
   ]
  },
  {
   "cell_type": "code",
   "execution_count": 127,
   "id": "9837359d-ec42-4232-bd1e-3b94c58f9fec",
   "metadata": {},
   "outputs": [
    {
     "data": {
      "text/plain": [
       "2663796506992"
      ]
     },
     "execution_count": 127,
     "metadata": {},
     "output_type": "execute_result"
    }
   ],
   "source": [
    "# variable address\n",
    "num = 5\n",
    "id(num)"
   ]
  },
  {
   "cell_type": "code",
   "execution_count": 128,
   "id": "eba26628-9201-4e9f-a41f-51b03ef5a1e0",
   "metadata": {},
   "outputs": [
    {
     "data": {
      "text/plain": [
       "2663846873968"
      ]
     },
     "execution_count": 128,
     "metadata": {},
     "output_type": "execute_result"
    }
   ],
   "source": [
    "name = 'nit'\n",
    "id(name) #Address will be different for both"
   ]
  },
  {
   "cell_type": "code",
   "execution_count": 129,
   "id": "49ed7df3-d549-49b6-8a70-b32680dea08d",
   "metadata": {},
   "outputs": [
    {
     "data": {
      "text/plain": [
       "2663796507152"
      ]
     },
     "execution_count": 129,
     "metadata": {},
     "output_type": "execute_result"
    }
   ],
   "source": [
    "a = 10\n",
    "id(a)"
   ]
  },
  {
   "cell_type": "code",
   "execution_count": 133,
   "id": "a7075b84-8bda-4c24-84a1-0833eb1f9f56",
   "metadata": {},
   "outputs": [
    {
     "name": "stdout",
     "output_type": "stream",
     "text": [
      "2663796507152\n",
      "2663796507152\n",
      "2663796507152\n"
     ]
    }
   ],
   "source": [
    "b = a #thats why python is more memory efficient \n",
    "print(id(a))\n",
    "print(id(b))\n",
    "print(id(k))"
   ]
  },
  {
   "cell_type": "code",
   "execution_count": 132,
   "id": "c63c8778-e0c1-4700-aef4-916af7a11137",
   "metadata": {},
   "outputs": [
    {
     "data": {
      "text/plain": [
       "2663796507152"
      ]
     },
     "execution_count": 132,
     "metadata": {},
     "output_type": "execute_result"
    }
   ],
   "source": [
    "k = 10 \n",
    "id(k)"
   ]
  },
  {
   "cell_type": "code",
   "execution_count": 134,
   "id": "b6d87a99-0348-4f0e-b4fd-48371935cf0e",
   "metadata": {},
   "outputs": [
    {
     "data": {
      "text/plain": [
       "2663796507472"
      ]
     },
     "execution_count": 134,
     "metadata": {},
     "output_type": "execute_result"
    }
   ],
   "source": [
    "a = 20  # as we change the value of a then address will change\n",
    "id(a)"
   ]
  },
  {
   "cell_type": "code",
   "execution_count": 135,
   "id": "f188710f-899a-4118-8f09-db2de21d014b",
   "metadata": {},
   "outputs": [
    {
     "data": {
      "text/plain": [
       "2663796507152"
      ]
     },
     "execution_count": 135,
     "metadata": {},
     "output_type": "execute_result"
    }
   ],
   "source": [
    "id(b)"
   ]
  },
  {
   "cell_type": "markdown",
   "id": "e0e749df-e468-4bb8-b213-c442eda1a8a3",
   "metadata": {},
   "source": [
    "+ what ever the variale we assigned the memory and we not assigned anywhere then we can use as garbage collection.\n",
    "+ VARIABLE - we can change the values\n",
    "+ ONSTANT - we cannot change the value -can we make VARIABLE as a CONSTANT \n",
    "+ **(note - in python you cannot make variable as constant)**"
   ]
  },
  {
   "cell_type": "code",
   "execution_count": 136,
   "id": "cffc2408-d3cf-4213-8664-2986103c6693",
   "metadata": {},
   "outputs": [
    {
     "data": {
      "text/plain": [
       "3.14"
      ]
     },
     "execution_count": 136,
     "metadata": {},
     "output_type": "execute_result"
    }
   ],
   "source": [
    "PI = 3.14  #in math this is alway constant but python we can chang\n",
    "PI"
   ]
  },
  {
   "cell_type": "code",
   "execution_count": 137,
   "id": "ef388f7c-4cfb-4046-b37e-b45d97aae6f0",
   "metadata": {},
   "outputs": [
    {
     "data": {
      "text/plain": [
       "3.15"
      ]
     },
     "execution_count": 137,
     "metadata": {},
     "output_type": "execute_result"
    }
   ],
   "source": [
    "PI = 3.15  #in math this is alway constant but python we can chang\n",
    "PI"
   ]
  },
  {
   "cell_type": "code",
   "execution_count": 138,
   "id": "c06cad82-085f-43d9-bacd-9618b226358f",
   "metadata": {},
   "outputs": [
    {
     "data": {
      "text/plain": [
       "float"
      ]
     },
     "execution_count": 138,
     "metadata": {},
     "output_type": "execute_result"
    }
   ],
   "source": [
    "type(PI)"
   ]
  },
  {
   "cell_type": "markdown",
   "id": "c8a952aa-aae2-46eb-bbdf-326be8b24a2e",
   "metadata": {},
   "source": [
    "## Operators"
   ]
  },
  {
   "cell_type": "markdown",
   "id": "9920c627-24f6-4eea-8b02-1acb3413d12d",
   "metadata": {},
   "source": [
    "+ 1- ARITHMETIC OPERATOR ( + , -, *, /, %, %%, **, ^ \n",
    "+ 2- ASSIGNMEN OPERATOR (=) \n",
    "+ 3- RELATIONAL OPERATOR (>,<,>=,<=,!=)\n",
    "+ 4- LOGICAL OPERATOR (AND,OR,NOT)\n",
    "+ 5- UNARY OPERATOR ()"
   ]
  },
  {
   "cell_type": "markdown",
   "id": "a14af9f3-1234-43fd-b714-77588f2cff67",
   "metadata": {},
   "source": [
    "## Arithmetic operator"
   ]
  },
  {
   "cell_type": "code",
   "execution_count": 140,
   "id": "57ca287b-68d7-4b0a-aad8-85501c589b5a",
   "metadata": {},
   "outputs": [
    {
     "name": "stdout",
     "output_type": "stream",
     "text": [
      "10\n",
      "5\n"
     ]
    }
   ],
   "source": [
    "x1, y1 = 10, 5\n",
    "print(x1)\n",
    "print(y1)"
   ]
  },
  {
   "cell_type": "code",
   "execution_count": 145,
   "id": "92671d1b-33a5-467d-bf4b-51168630aa92",
   "metadata": {},
   "outputs": [
    {
     "name": "stdout",
     "output_type": "stream",
     "text": [
      "15\n",
      "5\n",
      "50\n",
      "2.0\n",
      "2\n",
      "0\n",
      "100000\n"
     ]
    }
   ],
   "source": [
    "print(x1  + y1) # Addition\n",
    "print(x1 - y1)  # Subtraction\n",
    "print(x1 * y1) # Multiplication\n",
    "print(x1 / y1)\n",
    "print(x1 // y1)\n",
    "print(x1 % y1)\n",
    "print(x1 ** y1) # Expontial"
   ]
  },
  {
   "cell_type": "code",
   "execution_count": 146,
   "id": "94c008a1-d8ee-4c9d-94c9-0ae0010d2d2c",
   "metadata": {},
   "outputs": [
    {
     "data": {
      "text/plain": [
       "9"
      ]
     },
     "execution_count": 146,
     "metadata": {},
     "output_type": "execute_result"
    }
   ],
   "source": [
    "x2 = 3\n",
    "y2 = 2\n",
    "x2 ** y2"
   ]
  },
  {
   "cell_type": "markdown",
   "id": "1ad7a764-7244-481a-adce-34b3c8e929c4",
   "metadata": {},
   "source": [
    "## Assignment operator"
   ]
  },
  {
   "cell_type": "code",
   "execution_count": 147,
   "id": "a5b5c31e-cbda-4dff-af2d-f03d351d76f2",
   "metadata": {},
   "outputs": [],
   "source": [
    "x = 2"
   ]
  },
  {
   "cell_type": "code",
   "execution_count": 148,
   "id": "0ceae3e0-2647-4af3-b68d-3298bb2d4cd0",
   "metadata": {},
   "outputs": [
    {
     "data": {
      "text/plain": [
       "4"
      ]
     },
     "execution_count": 148,
     "metadata": {},
     "output_type": "execute_result"
    }
   ],
   "source": [
    "x = x + 2 # if you want to increment by 2 \n",
    "x"
   ]
  },
  {
   "cell_type": "code",
   "execution_count": 149,
   "id": "5bfa4a5c-40b3-4430-b913-2e01b11cbf3d",
   "metadata": {},
   "outputs": [
    {
     "data": {
      "text/plain": [
       "6"
      ]
     },
     "execution_count": 149,
     "metadata": {},
     "output_type": "execute_result"
    }
   ],
   "source": [
    "x += 2\n",
    "x"
   ]
  },
  {
   "cell_type": "code",
   "execution_count": 150,
   "id": "ad838c88-528a-4fb3-b611-97ec54a423ea",
   "metadata": {},
   "outputs": [
    {
     "data": {
      "text/plain": [
       "12"
      ]
     },
     "execution_count": 150,
     "metadata": {},
     "output_type": "execute_result"
    }
   ],
   "source": [
    "x *= 2\n",
    "x"
   ]
  },
  {
   "cell_type": "code",
   "execution_count": 151,
   "id": "a8d20c8e-1869-414d-8bee-30767f80a431",
   "metadata": {},
   "outputs": [
    {
     "data": {
      "text/plain": [
       "10"
      ]
     },
     "execution_count": 151,
     "metadata": {},
     "output_type": "execute_result"
    }
   ],
   "source": [
    "x -=2\n",
    "x"
   ]
  },
  {
   "cell_type": "code",
   "execution_count": 152,
   "id": "9605c397-889a-4d0a-bf8f-bc215218f1f2",
   "metadata": {},
   "outputs": [
    {
     "data": {
      "text/plain": [
       "5.0"
      ]
     },
     "execution_count": 152,
     "metadata": {},
     "output_type": "execute_result"
    }
   ],
   "source": [
    "x /= 2\n",
    "x"
   ]
  },
  {
   "cell_type": "code",
   "execution_count": 153,
   "id": "63f625cd-93b6-4f24-8075-22c069008344",
   "metadata": {},
   "outputs": [
    {
     "data": {
      "text/plain": [
       "2.0"
      ]
     },
     "execution_count": 153,
     "metadata": {},
     "output_type": "execute_result"
    }
   ],
   "source": [
    "x //= 2\n",
    "x"
   ]
  },
  {
   "cell_type": "markdown",
   "id": "f8efdecb-f8f3-41dd-996c-702c2bc85377",
   "metadata": {},
   "source": [
    "## unary operator\n",
    "\n",
    "+ unary means 1 || binary means 2\r",
    "+ \n",
    "Here we are applying unary minus operator(-) on the operand n; the value of m becomes -7, which indicates it as a negative value."
   ]
  },
  {
   "cell_type": "code",
   "execution_count": 154,
   "id": "c5592270-ce07-4807-8c1b-85ce0e8b2924",
   "metadata": {},
   "outputs": [
    {
     "data": {
      "text/plain": [
       "7"
      ]
     },
     "execution_count": 154,
     "metadata": {},
     "output_type": "execute_result"
    }
   ],
   "source": [
    "n = 7 #negattion\n",
    "n"
   ]
  },
  {
   "cell_type": "code",
   "execution_count": 155,
   "id": "7e43214b-6b70-4a2c-a96b-f4b1eb66abdd",
   "metadata": {},
   "outputs": [
    {
     "data": {
      "text/plain": [
       "-7"
      ]
     },
     "execution_count": 155,
     "metadata": {},
     "output_type": "execute_result"
    }
   ],
   "source": [
    "m = -(n)\n",
    "m"
   ]
  },
  {
   "cell_type": "code",
   "execution_count": 156,
   "id": "a9887f14-9606-4792-9cb4-f31a7e1a995c",
   "metadata": {},
   "outputs": [
    {
     "name": "stdout",
     "output_type": "stream",
     "text": [
      "7\n",
      "-7\n"
     ]
    }
   ],
   "source": [
    "print(n)\n",
    "print(-n)"
   ]
  },
  {
   "cell_type": "markdown",
   "id": "923e2b29-25f7-4f5b-843a-26604f8e70ad",
   "metadata": {},
   "source": [
    "## Relational operator\n",
    "\n",
    "we are using this operator for comparing"
   ]
  },
  {
   "cell_type": "code",
   "execution_count": 162,
   "id": "3c9bf5f1-239d-4605-b525-3231e4185089",
   "metadata": {},
   "outputs": [],
   "source": [
    "a = 5\n",
    "b = 6"
   ]
  },
  {
   "cell_type": "code",
   "execution_count": 158,
   "id": "18b8caba-7f48-4c60-a6d0-c693dae7102a",
   "metadata": {},
   "outputs": [
    {
     "data": {
      "text/plain": [
       "True"
      ]
     },
     "execution_count": 158,
     "metadata": {},
     "output_type": "execute_result"
    }
   ],
   "source": [
    "a<b"
   ]
  },
  {
   "cell_type": "code",
   "execution_count": 159,
   "id": "83512b32-b5af-46fa-8323-55ef8ddd1eaf",
   "metadata": {},
   "outputs": [
    {
     "data": {
      "text/plain": [
       "False"
      ]
     },
     "execution_count": 159,
     "metadata": {},
     "output_type": "execute_result"
    }
   ],
   "source": [
    "a>b"
   ]
  },
  {
   "cell_type": "code",
   "execution_count": 160,
   "id": "0e2e23b4-843f-416c-b395-9ea467a54861",
   "metadata": {},
   "outputs": [],
   "source": [
    "# a = b # we cannot use = operatro that means it is assigning "
   ]
  },
  {
   "cell_type": "code",
   "execution_count": 163,
   "id": "de98b9f0-a0f9-4985-a732-7eef131dcc6a",
   "metadata": {},
   "outputs": [
    {
     "data": {
      "text/plain": [
       "False"
      ]
     },
     "execution_count": 163,
     "metadata": {},
     "output_type": "execute_result"
    }
   ],
   "source": [
    "a==b"
   ]
  },
  {
   "cell_type": "code",
   "execution_count": 164,
   "id": "aa1f3416-c173-4e28-a78f-7da1fa0944b6",
   "metadata": {},
   "outputs": [
    {
     "data": {
      "text/plain": [
       "True"
      ]
     },
     "execution_count": 164,
     "metadata": {},
     "output_type": "execute_result"
    }
   ],
   "source": [
    "a != b"
   ]
  },
  {
   "cell_type": "code",
   "execution_count": 165,
   "id": "0e6eed58-b9d5-4756-85d8-b3abe3c53bdd",
   "metadata": {},
   "outputs": [],
   "source": [
    "# hear if i change b = 6\n",
    "b = 5"
   ]
  },
  {
   "cell_type": "code",
   "execution_count": 166,
   "id": "0a0c9a42-9634-4810-8fbc-b1afa89fdabb",
   "metadata": {},
   "outputs": [
    {
     "data": {
      "text/plain": [
       "True"
      ]
     },
     "execution_count": 166,
     "metadata": {},
     "output_type": "execute_result"
    }
   ],
   "source": [
    "a == b"
   ]
  },
  {
   "cell_type": "code",
   "execution_count": 167,
   "id": "846912dd-4a9f-49b0-9a6a-d5e8a887f807",
   "metadata": {},
   "outputs": [
    {
     "data": {
      "text/plain": [
       "True"
      ]
     },
     "execution_count": 167,
     "metadata": {},
     "output_type": "execute_result"
    }
   ],
   "source": [
    "a >= b"
   ]
  },
  {
   "cell_type": "code",
   "execution_count": 168,
   "id": "fe32a60b-d478-43c2-a9e8-521265848791",
   "metadata": {},
   "outputs": [
    {
     "data": {
      "text/plain": [
       "True"
      ]
     },
     "execution_count": 168,
     "metadata": {},
     "output_type": "execute_result"
    }
   ],
   "source": [
    "a <= b"
   ]
  },
  {
   "cell_type": "code",
   "execution_count": 169,
   "id": "035aef62-c2bd-4fec-bbc7-8c8ff7663bdb",
   "metadata": {},
   "outputs": [
    {
     "data": {
      "text/plain": [
       "False"
      ]
     },
     "execution_count": 169,
     "metadata": {},
     "output_type": "execute_result"
    }
   ],
   "source": [
    "a < b"
   ]
  },
  {
   "cell_type": "code",
   "execution_count": 170,
   "id": "c0b21372-5136-4d76-a80d-6f148884e2b2",
   "metadata": {},
   "outputs": [
    {
     "data": {
      "text/plain": [
       "False"
      ]
     },
     "execution_count": 170,
     "metadata": {},
     "output_type": "execute_result"
    }
   ],
   "source": [
    "a>b"
   ]
  },
  {
   "cell_type": "code",
   "execution_count": 171,
   "id": "5309d5c3-0e1e-4de2-a44a-b56a4efe0817",
   "metadata": {},
   "outputs": [],
   "source": [
    "b = 7"
   ]
  },
  {
   "cell_type": "code",
   "execution_count": 172,
   "id": "ff326726-ce12-4075-84f2-6bd48c221c59",
   "metadata": {},
   "outputs": [
    {
     "data": {
      "text/plain": [
       "True"
      ]
     },
     "execution_count": 172,
     "metadata": {},
     "output_type": "execute_result"
    }
   ],
   "source": [
    "a != b"
   ]
  },
  {
   "cell_type": "markdown",
   "id": "d08494c3-6ad5-44fe-bc43-f08645749b48",
   "metadata": {},
   "source": [
    "## LOGICAL OPERATOR\n",
    "\n",
    "+ logical operator you need to understand about true & false table image.png\n",
    "+ 3 importand part of logical operator is --> AND, OR, NOT"
   ]
  },
  {
   "cell_type": "code",
   "execution_count": 173,
   "id": "1c12677d-fd3d-4a48-bfc2-38cae7a8371a",
   "metadata": {},
   "outputs": [],
   "source": [
    "a = 5\n",
    "b = 4"
   ]
  },
  {
   "cell_type": "code",
   "execution_count": 174,
   "id": "00930bcd-58d5-4c84-b946-c1dd8acfbbb3",
   "metadata": {},
   "outputs": [
    {
     "data": {
      "text/plain": [
       "True"
      ]
     },
     "execution_count": 174,
     "metadata": {},
     "output_type": "execute_result"
    }
   ],
   "source": [
    "a < 8 and b < 5 #refer to the truth table "
   ]
  },
  {
   "cell_type": "code",
   "execution_count": 175,
   "id": "1e8393b3-7690-4e2e-8136-d351f56e08c1",
   "metadata": {},
   "outputs": [
    {
     "data": {
      "text/plain": [
       "False"
      ]
     },
     "execution_count": 175,
     "metadata": {},
     "output_type": "execute_result"
    }
   ],
   "source": [
    "a < 8 and b < 2"
   ]
  },
  {
   "cell_type": "code",
   "execution_count": 176,
   "id": "f19b1018-07e4-47de-99d3-fc8d665b2e40",
   "metadata": {},
   "outputs": [
    {
     "data": {
      "text/plain": [
       "True"
      ]
     },
     "execution_count": 176,
     "metadata": {},
     "output_type": "execute_result"
    }
   ],
   "source": [
    "a < 8 or b < 2"
   ]
  },
  {
   "cell_type": "code",
   "execution_count": 177,
   "id": "32dabdfd-1887-41f2-848a-4fb9527b49d6",
   "metadata": {},
   "outputs": [
    {
     "data": {
      "text/plain": [
       "False"
      ]
     },
     "execution_count": 177,
     "metadata": {},
     "output_type": "execute_result"
    }
   ],
   "source": [
    "a>8 or b<2"
   ]
  },
  {
   "cell_type": "code",
   "execution_count": 178,
   "id": "29c4b9ad-95ef-4cc7-b0e0-16a300220564",
   "metadata": {},
   "outputs": [
    {
     "data": {
      "text/plain": [
       "False"
      ]
     },
     "execution_count": 178,
     "metadata": {},
     "output_type": "execute_result"
    }
   ],
   "source": [
    "x = False\n",
    "x"
   ]
  },
  {
   "cell_type": "code",
   "execution_count": 179,
   "id": "daed7db4-94b4-466c-ac35-c49b7ed9d193",
   "metadata": {},
   "outputs": [
    {
     "data": {
      "text/plain": [
       "True"
      ]
     },
     "execution_count": 179,
     "metadata": {},
     "output_type": "execute_result"
    }
   ],
   "source": [
    "not x  # you can reverse the operation"
   ]
  },
  {
   "cell_type": "markdown",
   "id": "2a6d6d65-ce7c-44ce-af0d-46e096cd3677",
   "metadata": {},
   "source": [
    "## Swipe 2 Variables"
   ]
  },
  {
   "cell_type": "code",
   "execution_count": 180,
   "id": "a84ef58b-8ea5-4071-9261-8a9aa79d312e",
   "metadata": {},
   "outputs": [
    {
     "name": "stdout",
     "output_type": "stream",
     "text": [
      "5\n",
      "6\n",
      "6\n",
      "5\n"
     ]
    }
   ],
   "source": [
    "# Without using thord variable\n",
    "a =5\n",
    "b =6\n",
    "print(a)\n",
    "print(b)\n",
    "\n",
    "a,b = b,a\n",
    "\n",
    "print(a)\n",
    "print(b)"
   ]
  },
  {
   "cell_type": "code",
   "execution_count": 181,
   "id": "4916750c-4771-4963-aa4f-82351965c1d2",
   "metadata": {},
   "outputs": [
    {
     "name": "stdout",
     "output_type": "stream",
     "text": [
      "3\n",
      "5\n",
      "5\n",
      "3\n"
     ]
    }
   ],
   "source": [
    "# Using third Variable\n",
    "x=3\n",
    "y=5\n",
    "print(x)\n",
    "print(y)\n",
    "temp = x\n",
    "x = y\n",
    "y = temp\n",
    "print(x)\n",
    "print(y)"
   ]
  }
 ],
 "metadata": {
  "kernelspec": {
   "display_name": "Python 3 (ipykernel)",
   "language": "python",
   "name": "python3"
  },
  "language_info": {
   "codemirror_mode": {
    "name": "ipython",
    "version": 3
   },
   "file_extension": ".py",
   "mimetype": "text/x-python",
   "name": "python",
   "nbconvert_exporter": "python",
   "pygments_lexer": "ipython3",
   "version": "3.10.13"
  }
 },
 "nbformat": 4,
 "nbformat_minor": 5
}
