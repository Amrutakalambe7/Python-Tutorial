{
 "cells": [
  {
   "cell_type": "markdown",
   "id": "8565ad0b-0416-464c-8665-636da7b8d947",
   "metadata": {},
   "source": [
    "## Numpy Built In Functions"
   ]
  },
  {
   "cell_type": "markdown",
   "id": "6430385e-1d82-4b70-bcbe-2f50862527d1",
   "metadata": {},
   "source": [
    "## 1. Array Creation Functions"
   ]
  },
  {
   "cell_type": "code",
   "execution_count": 1,
   "id": "46373ff7-7868-4d29-b778-a869c4e0f3d9",
   "metadata": {},
   "outputs": [],
   "source": [
    "import numpy as np"
   ]
  },
  {
   "cell_type": "code",
   "execution_count": 2,
   "id": "6df3df53-d213-42d8-b9c5-43f7b07d96d1",
   "metadata": {},
   "outputs": [
    {
     "name": "stdout",
     "output_type": "stream",
     "text": [
      "Array a: [1 2 3]\n"
     ]
    }
   ],
   "source": [
    "# Create an array from a list\n",
    "a = np.array([1, 2, 3])\n",
    "print(\"Array a:\", a)"
   ]
  },
  {
   "cell_type": "code",
   "execution_count": 4,
   "id": "f35b09d7-bfeb-4f12-83bb-530d9cfe0229",
   "metadata": {},
   "outputs": [
    {
     "name": "stdout",
     "output_type": "stream",
     "text": [
      "array b: [0 2 4 6 8]\n"
     ]
    }
   ],
   "source": [
    "# Create an array with evenly spaced values\n",
    "b = np.arange(0,10,2) # # Values from 0 to 10 with step 2\n",
    "print(\"array b:\", b)"
   ]
  },
  {
   "cell_type": "code",
   "execution_count": 5,
   "id": "0591c46b-9aaf-45e7-b20f-7d6e14a4be01",
   "metadata": {},
   "outputs": [
    {
     "name": "stdout",
     "output_type": "stream",
     "text": [
      "array c: [0.   0.25 0.5  0.75 1.  ]\n"
     ]
    }
   ],
   "source": [
    "# Create an array with linearly spaced values\n",
    "c = np.linspace(0,1,5) ## 5 values evenly spaced between 0 and 1\n",
    "print('array c:', c)"
   ]
  },
  {
   "cell_type": "code",
   "execution_count": 6,
   "id": "2af6ab3a-c4f1-4a5a-b7a3-a945a01801eb",
   "metadata": {},
   "outputs": [
    {
     "name": "stdout",
     "output_type": "stream",
     "text": [
      "array d:\n",
      " [[0. 0. 0.]\n",
      " [0. 0. 0.]]\n"
     ]
    }
   ],
   "source": [
    "# Create an array filled with zeros\n",
    "d = np.zeros((2,3))  # 2x3 array of zeros\n",
    "print(\"array d:\\n\", d)"
   ]
  },
  {
   "cell_type": "code",
   "execution_count": 7,
   "id": "75522953-4f18-405c-ada4-c7928debbb51",
   "metadata": {},
   "outputs": [
    {
     "name": "stdout",
     "output_type": "stream",
     "text": [
      "array e:\n",
      " [[1. 1.]\n",
      " [1. 1.]\n",
      " [1. 1.]]\n"
     ]
    }
   ],
   "source": [
    "# Create an array filled with ones\n",
    "e = np.ones((3,2)) # 2x3 array of ones\n",
    "print(\"array e:\\n\", e)"
   ]
  },
  {
   "cell_type": "code",
   "execution_count": 8,
   "id": "2b0532c2-9693-4f3e-89d5-12aacc69dc2b",
   "metadata": {},
   "outputs": [
    {
     "name": "stdout",
     "output_type": "stream",
     "text": [
      "4X4 identity matrix f:\n",
      " [[1. 0. 0. 0.]\n",
      " [0. 1. 0. 0.]\n",
      " [0. 0. 1. 0.]\n",
      " [0. 0. 0. 1.]]\n"
     ]
    }
   ],
   "source": [
    "# Create an identity matrix\n",
    "f = np.eye(4) #4x4 identity matrix\n",
    "print(\"4X4 identity matrix f:\\n\", f)"
   ]
  },
  {
   "cell_type": "code",
   "execution_count": 9,
   "id": "bf8e7189-8995-43b7-8cf6-25c980348128",
   "metadata": {},
   "outputs": [
    {
     "name": "stdout",
     "output_type": "stream",
     "text": [
      "4X4 identity matrix f:\n",
      " [[1. 0. 0.]\n",
      " [0. 1. 0.]\n",
      " [0. 0. 1.]]\n"
     ]
    }
   ],
   "source": [
    "# Create an identity matrix\n",
    "f = np.eye(3) #4x4 identity matrix\n",
    "print(\"3X3 identity matrix f:\\n\", f)"
   ]
  },
  {
   "cell_type": "code",
   "execution_count": 10,
   "id": "0c37804d-92a2-48e3-9a43-0a41c1c1a039",
   "metadata": {},
   "outputs": [
    {
     "name": "stdout",
     "output_type": "stream",
     "text": [
      "5X5 identity matrix f:\n",
      " [[1. 0. 0. 0. 0.]\n",
      " [0. 1. 0. 0. 0.]\n",
      " [0. 0. 1. 0. 0.]\n",
      " [0. 0. 0. 1. 0.]\n",
      " [0. 0. 0. 0. 1.]]\n"
     ]
    }
   ],
   "source": [
    "# Create an identity matrix\n",
    "f = np.eye(5) #4x4 identity matrix\n",
    "print(\"5X5 identity matrix f:\\n\", f)"
   ]
  },
  {
   "cell_type": "markdown",
   "id": "845954a5-cd8d-4589-bf1d-81c13c6fb5e4",
   "metadata": {},
   "source": [
    "## 2. Array Manipulation Functions\n"
   ]
  },
  {
   "cell_type": "code",
   "execution_count": 11,
   "id": "38a4e811-3b36-4803-94e9-931acd5f3303",
   "metadata": {},
   "outputs": [
    {
     "name": "stdout",
     "output_type": "stream",
     "text": [
      "reshaped array is: [[1 2 3]]\n"
     ]
    }
   ],
   "source": [
    "# Reshape an array\n",
    "a1 = np.array([1,2,3])\n",
    "reshaped = np.reshape(a1,(1,3))  # Reshape to 1x3\n",
    "print(\"reshaped array is:\", reshaped)"
   ]
  },
  {
   "cell_type": "code",
   "execution_count": 12,
   "id": "4520a919-6daa-4829-a4b0-4cc3489006d5",
   "metadata": {},
   "outputs": [
    {
     "name": "stdout",
     "output_type": "stream",
     "text": [
      "Faltten array is: [1 2 3 4]\n"
     ]
    }
   ],
   "source": [
    "# Flatten an array\n",
    "f1 = np.array([[1,2],[3,4]])\n",
    "flatten = np.ravel(f1) ## Flatten to 1D array - Return a contiguous flattened array.\n",
    "print(\"Faltten array is:\", flatten)"
   ]
  },
  {
   "cell_type": "code",
   "execution_count": 14,
   "id": "437fbba1-176c-49eb-a027-ca6c7495131a",
   "metadata": {},
   "outputs": [
    {
     "name": "stdout",
     "output_type": "stream",
     "text": [
      "ranspose array is:\n",
      " [[1 3]\n",
      " [2 4]]\n"
     ]
    }
   ],
   "source": [
    "# Transpose an array\n",
    "e1 = np.array([[1,2],[3,4]])\n",
    "transpose = np.transpose(e1) # return transpose array\n",
    "print(\"ranspose array is:\\n\", transpose)"
   ]
  },
  {
   "cell_type": "code",
   "execution_count": 16,
   "id": "75a7ff94-87b7-468a-8d85-4663870986ad",
   "metadata": {},
   "outputs": [
    {
     "name": "stdout",
     "output_type": "stream",
     "text": [
      "Stacked array is:\n",
      " [[1 2]\n",
      " [3 4]]\n"
     ]
    }
   ],
   "source": [
    "# Stack arrays vertically\n",
    "m = np.array([1,2])\n",
    "n = np.array([3,4])\n",
    "stacked = np.vstack([m , n]) #Stack arrays in sequence vertically (row wise).\n",
    "print(\"Stacked array is:\\n\", stacked)"
   ]
  },
  {
   "cell_type": "markdown",
   "id": "5e8c8657-6ff4-4404-b3b0-25232105d162",
   "metadata": {},
   "source": [
    "## 3. Mathematical Functions\r\n"
   ]
  },
  {
   "cell_type": "code",
   "execution_count": 17,
   "id": "8a4db9d4-8790-423d-99fe-f2dc0c722931",
   "metadata": {},
   "outputs": [
    {
     "name": "stdout",
     "output_type": "stream",
     "text": [
      "a added to a: [3 4 5 6]\n"
     ]
    }
   ],
   "source": [
    "# Add number to the elements of (two) arrays\n",
    "a = np.array([1,2,3,4])\n",
    "added = np.add(a, 2) # add to each element of array\n",
    "print(\"a added to a:\", added)"
   ]
  },
  {
   "cell_type": "code",
   "execution_count": 21,
   "id": "836ed0b2-bf76-4a56-8674-487843d3121b",
   "metadata": {},
   "outputs": [
    {
     "name": "stdout",
     "output_type": "stream",
     "text": [
      "square of the array is: [ 1  4  9 16]\n"
     ]
    }
   ],
   "source": [
    "# Square each element\n",
    "squared = np.power(a,2) # square each element - First array elements raised to powers from second array, element-wise.\n",
    "print(\"square of the array is:\", squared)"
   ]
  },
  {
   "cell_type": "code",
   "execution_count": 22,
   "id": "4784052b-a124-4c7f-8221-cd6bc6cb5163",
   "metadata": {},
   "outputs": [
    {
     "name": "stdout",
     "output_type": "stream",
     "text": [
      "Square root of each element of array: [1.         1.41421356 1.73205081 2.        ]\n"
     ]
    }
   ],
   "source": [
    "# Square root of each element\n",
    "sqrt_val = np.sqrt(a) #Return the non-negative square-root of an array, element-wise.\n",
    "print(\"Square root of each element of array:\", sqrt_val)"
   ]
  },
  {
   "cell_type": "code",
   "execution_count": 24,
   "id": "25b637b5-314e-4669-b230-2871dff56b03",
   "metadata": {},
   "outputs": [
    {
     "name": "stdout",
     "output_type": "stream",
     "text": [
      "[1 2 3]\n",
      "[1 2 3 4]\n"
     ]
    }
   ],
   "source": [
    "print(a1)\n",
    "print(a)"
   ]
  },
  {
   "cell_type": "code",
   "execution_count": 26,
   "id": "12fc7fcb-912a-4d28-a221-f092bf3a26cf",
   "metadata": {},
   "outputs": [
    {
     "ename": "ValueError",
     "evalue": "shapes (3,) and (4,) not aligned: 3 (dim 0) != 4 (dim 0)",
     "output_type": "error",
     "traceback": [
      "\u001b[1;31m---------------------------------------------------------------------------\u001b[0m",
      "\u001b[1;31mValueError\u001b[0m                                Traceback (most recent call last)",
      "Cell \u001b[1;32mIn[26], line 3\u001b[0m\n\u001b[0;32m      1\u001b[0m \u001b[38;5;66;03m# Dot product of two arrays\u001b[39;00m\n\u001b[0;32m      2\u001b[0m a2 \u001b[38;5;241m=\u001b[39m np\u001b[38;5;241m.\u001b[39marray([\u001b[38;5;241m1\u001b[39m,\u001b[38;5;241m2\u001b[39m,\u001b[38;5;241m3\u001b[39m])\n\u001b[1;32m----> 3\u001b[0m dot_product \u001b[38;5;241m=\u001b[39m \u001b[43mnp\u001b[49m\u001b[38;5;241;43m.\u001b[39;49m\u001b[43mdot\u001b[49m\u001b[43m(\u001b[49m\u001b[43ma2\u001b[49m\u001b[43m,\u001b[49m\u001b[43m \u001b[49m\u001b[43ma\u001b[49m\u001b[43m)\u001b[49m \u001b[38;5;66;03m#dot product of 2 ararys\u001b[39;00m\n\u001b[0;32m      4\u001b[0m \u001b[38;5;28mprint\u001b[39m(\u001b[38;5;124m\"\u001b[39m\u001b[38;5;124mDot_Product of 2 array is:\u001b[39m\u001b[38;5;124m\"\u001b[39m, dot_product)\n",
      "\u001b[1;31mValueError\u001b[0m: shapes (3,) and (4,) not aligned: 3 (dim 0) != 4 (dim 0)"
     ]
    }
   ],
   "source": [
    "# Dot product of two arrays\n",
    "a2 = np.array([1,2,3])\n",
    "dot_product = np.dot(a2, a) #dot product of 2 ararys\n",
    "print(\"Dot_Product of 2 array is:\", dot_product)"
   ]
  },
  {
   "cell_type": "code",
   "execution_count": 28,
   "id": "6025dddf-4546-4389-998e-dc739881b417",
   "metadata": {},
   "outputs": [
    {
     "name": "stdout",
     "output_type": "stream",
     "text": [
      "Dot_Product of 2 array is: 30\n"
     ]
    }
   ],
   "source": [
    "# Dot product of two arrays\n",
    "a2 = np.array([1,2,3,4])\n",
    "dot_product = np.dot(a2, a) #dot product of 2 ararys\n",
    "print(\"Dot_Product of 2 array is:\", dot_product)"
   ]
  },
  {
   "cell_type": "code",
   "execution_count": 30,
   "id": "76a51b5a-5c3c-4bc1-970c-3c46639983c2",
   "metadata": {},
   "outputs": [
    {
     "name": "stdout",
     "output_type": "stream",
     "text": [
      "Dot_Product of 2 array is: 44\n"
     ]
    }
   ],
   "source": [
    "a3 = np.array([6,7,8])\n",
    "dot_product = np.dot(a3, a1) #dot product of 2 ararys\n",
    "print(\"Dot_Product of 2 array is:\", dot_product)"
   ]
  },
  {
   "cell_type": "markdown",
   "id": "e7cb9eb4-2b29-4706-a67a-be5bf3f4d79a",
   "metadata": {},
   "source": [
    "## 4. Statistical Functions\n"
   ]
  },
  {
   "cell_type": "code",
   "execution_count": 31,
   "id": "327f6eb1-01b5-40b4-aad2-ddebdbb56dc1",
   "metadata": {},
   "outputs": [
    {
     "name": "stdout",
     "output_type": "stream",
     "text": [
      "Mean of the array: 2.5\n"
     ]
    }
   ],
   "source": [
    "s  = np.array([1,2,3,4])\n",
    "mean = np.mean(s)\n",
    "print(\"Mean of the array:\", mean)"
   ]
  },
  {
   "cell_type": "code",
   "execution_count": 32,
   "id": "37569bc4-6060-4f3d-87c6-0d9db6916a75",
   "metadata": {},
   "outputs": [
    {
     "name": "stdout",
     "output_type": "stream",
     "text": [
      "Mean of the array: 25.0\n"
     ]
    }
   ],
   "source": [
    "s1  = np.array([10,20,30,40])\n",
    "mean = np.mean(s1)\n",
    "print(\"Mean of the array:\", mean)"
   ]
  },
  {
   "cell_type": "code",
   "execution_count": 33,
   "id": "4d1b7ba7-d23d-4efc-934a-6342f044e369",
   "metadata": {},
   "outputs": [
    {
     "name": "stdout",
     "output_type": "stream",
     "text": [
      "Standard deviation: 1.118033988749895\n"
     ]
    }
   ],
   "source": [
    "# Standard deviation of an array\n",
    "std = np.std(s)\n",
    "print(\"Standard deviation:\", std)"
   ]
  },
  {
   "cell_type": "code",
   "execution_count": 34,
   "id": "f7940f52-2817-4843-bc84-140730cf29b5",
   "metadata": {},
   "outputs": [
    {
     "name": "stdout",
     "output_type": "stream",
     "text": [
      "Minimum element is: 1\n"
     ]
    }
   ],
   "source": [
    "# Minimum element of an array\n",
    "minimum = np.min(s)\n",
    "print(\"Minimum element is:\", minimum)"
   ]
  },
  {
   "cell_type": "code",
   "execution_count": 35,
   "id": "4f9e25cb-e65d-411e-8896-41d7eeabbdb3",
   "metadata": {},
   "outputs": [
    {
     "name": "stdout",
     "output_type": "stream",
     "text": [
      "Max of s: 4\n"
     ]
    }
   ],
   "source": [
    "# Maximum element of an array\n",
    "maximum = np.max(s)\n",
    "print(\"Max of s:\", maximum)"
   ]
  },
  {
   "cell_type": "markdown",
   "id": "6a0a3678-ae3f-446f-bb41-ef2101e7c58f",
   "metadata": {},
   "source": [
    "## 5. Linear Algebra Functions\r\n"
   ]
  },
  {
   "cell_type": "code",
   "execution_count": 36,
   "id": "b16408aa-3f8a-43e4-bfc1-840178b6bbc5",
   "metadata": {},
   "outputs": [
    {
     "data": {
      "text/plain": [
       "array([[3, 5],\n",
       "       [8, 9]])"
      ]
     },
     "execution_count": 36,
     "metadata": {},
     "output_type": "execute_result"
    }
   ],
   "source": [
    "# Create a matrix\n",
    "mat = np.array([[3,5],[8,9]])\n",
    "mat"
   ]
  },
  {
   "cell_type": "code",
   "execution_count": 38,
   "id": "58fc8b8b-8021-47cb-8f38-de1a9861890c",
   "metadata": {},
   "outputs": [
    {
     "name": "stdout",
     "output_type": "stream",
     "text": [
      "Determinant of a matrix: -13.0\n"
     ]
    }
   ],
   "source": [
    "# Determinant of a matrix\n",
    "determinant = np.linalg.det(mat)\n",
    "print(\"Determinant of a matrix:\", determinant)"
   ]
  },
  {
   "cell_type": "code",
   "execution_count": 39,
   "id": "1305c1e3-e27a-4f3b-8eea-2f66e99b737a",
   "metadata": {},
   "outputs": [
    {
     "name": "stdout",
     "output_type": "stream",
     "text": [
      "Inverse of a matrix: [[-0.69230769  0.38461538]\n",
      " [ 0.61538462 -0.23076923]]\n"
     ]
    }
   ],
   "source": [
    "# Inverse of a matrix\n",
    "inverse = np.linalg.inv(mat)\n",
    "print(\"Inverse of a matrix:\", inverse)"
   ]
  },
  {
   "cell_type": "markdown",
   "id": "02336f4a-61e3-440f-8540-63e8786f5300",
   "metadata": {},
   "source": [
    "## 6. Random Sampling Functions\r\n"
   ]
  },
  {
   "cell_type": "code",
   "execution_count": 40,
   "id": "08c5dbfa-dac6-4c19-b36a-adbb76267d1d",
   "metadata": {},
   "outputs": [
    {
     "name": "stdout",
     "output_type": "stream",
     "text": [
      "random values between 0 and 1: [0.43357358 0.81481473 0.68665822]\n"
     ]
    }
   ],
   "source": [
    "# Generate random values between 0 and 1\n",
    "ran_vals = np.random.rand(3) ## Array of 3 random values between 0 and 1\n",
    "print(\"random values between 0 and 1:\", ran_vals)"
   ]
  },
  {
   "cell_type": "code",
   "execution_count": 43,
   "id": "8153fea2-103e-4099-baf2-ef25f2ed2bfe",
   "metadata": {},
   "outputs": [
    {
     "name": "stdout",
     "output_type": "stream",
     "text": [
      "random values between 0 and 1: [0.5488135  0.71518937 0.60276338]\n"
     ]
    }
   ],
   "source": [
    "# Set seed for reproducibility\n",
    "np.random.seed(0)\n",
    "\n",
    "# Generate random values between 0 and 1\n",
    "ran_vals = np.random.rand(3) ## Array of 3 random values between 0 and 1\n",
    "print(\"random values between 0 and 1:\", ran_vals)"
   ]
  },
  {
   "cell_type": "code",
   "execution_count": 45,
   "id": "60e9e044-b926-4af1-acf0-a04b55002245",
   "metadata": {},
   "outputs": [
    {
     "name": "stdout",
     "output_type": "stream",
     "text": [
      "random values between 0 and 1: [4.17022005e-01 7.20324493e-01 1.14374817e-04]\n"
     ]
    }
   ],
   "source": [
    "# Set seed for reproducibility\n",
    "np.random.seed(1)\n",
    "\n",
    "# Generate random values between 0 and 1\n",
    "ran_vals = np.random.rand(3) ## Array of 3 random values between 0 and 1\n",
    "print(\"random values between 0 and 1:\", ran_vals)"
   ]
  },
  {
   "cell_type": "code",
   "execution_count": 46,
   "id": "bce8b806-7a60-42a1-8c15-1f29461f34b8",
   "metadata": {},
   "outputs": [
    {
     "name": "stdout",
     "output_type": "stream",
     "text": [
      "Random integers: [11  5  0  0  1 12  7 13]\n"
     ]
    }
   ],
   "source": [
    "# Generate random integers\n",
    "rand_ints = np.random.randint(0, 15, size=8)  # Random integers between 0 and 10\n",
    "print(\"Random integers:\", rand_ints)"
   ]
  },
  {
   "cell_type": "code",
   "execution_count": 49,
   "id": "feed3424-1fe2-4489-9256-86d96782886e",
   "metadata": {},
   "outputs": [
    {
     "name": "stdout",
     "output_type": "stream",
     "text": [
      "Random integers: [12  5  0  3 11  3  7  9]\n"
     ]
    }
   ],
   "source": [
    "# Set seed for reproducibility\n",
    "np.random.seed(0)\n",
    "\n",
    "# Generate random integers\n",
    "rand_ints = np.random.randint(0, 15, size=8)  # Random integers between 0 and 10\n",
    "print(\"Random integers:\", rand_ints)"
   ]
  },
  {
   "cell_type": "code",
   "execution_count": 50,
   "id": "98af697e-d6f5-4a4a-9de1-df694f7426c0",
   "metadata": {},
   "outputs": [
    {
     "name": "stdout",
     "output_type": "stream",
     "text": [
      "Random integers: [ 5 11 12  8  9 11  5  0]\n"
     ]
    }
   ],
   "source": [
    "# Set seed for reproducibility\n",
    "np.random.seed(1)\n",
    "\n",
    "# Generate random integers\n",
    "rand_ints = np.random.randint(0, 15, size=8)  # Random integers between 0 and 10\n",
    "print(\"Random integers:\", rand_ints)"
   ]
  },
  {
   "cell_type": "markdown",
   "id": "52b96d6d-ba13-4c84-b1db-2c8002f1c224",
   "metadata": {},
   "source": [
    "## 7. Boolean & Logical Functions\r\n"
   ]
  },
  {
   "cell_type": "code",
   "execution_count": 51,
   "id": "70069372-dd9d-486c-b9ed-d672751a696e",
   "metadata": {},
   "outputs": [
    {
     "name": "stdout",
     "output_type": "stream",
     "text": [
      "All are True: False\n"
     ]
    }
   ],
   "source": [
    "# Check if all elements are True\n",
    "# all\n",
    "\n",
    "log_test = np.array([False, True, True])\n",
    "all_true = np.all(log_test) # Check if all are True\n",
    "print(\"All are True:\", all_true)"
   ]
  },
  {
   "cell_type": "code",
   "execution_count": 52,
   "id": "4e5cb336-52ce-461b-87a2-62eeca7c9f39",
   "metadata": {},
   "outputs": [
    {
     "name": "stdout",
     "output_type": "stream",
     "text": [
      "All are True: True\n"
     ]
    }
   ],
   "source": [
    "# Check if all elements are True\n",
    "# all\n",
    "\n",
    "log_test = np.array([True, True, True])\n",
    "all_true = np.all(log_test) # Check if all are True\n",
    "print(\"All are True:\", all_true)"
   ]
  },
  {
   "cell_type": "code",
   "execution_count": 54,
   "id": "c58a10df-f880-4f57-9481-40008070dc19",
   "metadata": {},
   "outputs": [
    {
     "name": "stdout",
     "output_type": "stream",
     "text": [
      "All are False: False\n"
     ]
    }
   ],
   "source": [
    "log_test = np.array([False, False, False])\n",
    "all_false = np.all(log_test) # Check if all are False\n",
    "print(\"All are False:\", all_false)"
   ]
  },
  {
   "cell_type": "code",
   "execution_count": 55,
   "id": "6cfd26a0-4b49-4ad5-bb94-267dfe41a9e4",
   "metadata": {},
   "outputs": [
    {
     "name": "stdout",
     "output_type": "stream",
     "text": [
      "All are False: True\n"
     ]
    }
   ],
   "source": [
    "log_test = np.array([False, True, False])\n",
    "any_false = np.any(log_test) # Check if all are False\n",
    "print(\"All are False:\", any_false)"
   ]
  },
  {
   "cell_type": "markdown",
   "id": "74039f8a-9419-4597-9996-25b4284abc86",
   "metadata": {},
   "source": [
    "## 8. Set Operations"
   ]
  },
  {
   "cell_type": "code",
   "execution_count": 57,
   "id": "f7fb4d1d-c2bc-4ed0-bf11-a61cd9cbb46c",
   "metadata": {},
   "outputs": [
    {
     "name": "stdout",
     "output_type": "stream",
     "text": [
      "Intersection of set_p and set_q is: [3 4 5]\n"
     ]
    }
   ],
   "source": [
    "# Intersection of two arrays\n",
    "set_p = np.array([1,2,3,4,5])\n",
    "set_q = np.array([3,4,5,6,7])\n",
    "intersec = np.intersect1d(set_p,set_q)\n",
    "print(\"Intersection of set_p and set_q is:\", intersec)"
   ]
  },
  {
   "cell_type": "code",
   "execution_count": 58,
   "id": "33c7b3af-119a-4fac-a184-dedf80e0b553",
   "metadata": {},
   "outputs": [
    {
     "name": "stdout",
     "output_type": "stream",
     "text": [
      "union of set_p and set_q is: [1 2 3 4 5 6 7]\n"
     ]
    }
   ],
   "source": [
    "# Union of two arrays\n",
    "union = np.union1d(set_p,set_q)\n",
    "print(\"union of set_p and set_q is:\", union)"
   ]
  },
  {
   "cell_type": "markdown",
   "id": "5c2de558-3584-4d7f-9469-361d6d81cf6e",
   "metadata": {},
   "source": [
    "## 9. Array Attribute Functions"
   ]
  },
  {
   "cell_type": "code",
   "execution_count": 59,
   "id": "356b017a-688b-4ca5-8f6a-7df09a0a28b4",
   "metadata": {},
   "outputs": [
    {
     "name": "stdout",
     "output_type": "stream",
     "text": [
      "Shape of a: (5,)\n",
      "Size of a: 5\n",
      "Number of dimensions of a: 1\n",
      "Data type of a: int32\n"
     ]
    }
   ],
   "source": [
    "# Array attributes\n",
    "\n",
    "a = np.array([1, 2, 3,4,5])\n",
    "shape = a.shape  # Shape of the array\n",
    "size = a.size    # Number of elements\n",
    "dimensions = a.ndim  # Number of dimensions\n",
    "dtype = a.dtype   # Data type of the array\n",
    "\n",
    "print(\"Shape of a:\", shape)\n",
    "print(\"Size of a:\", size)\n",
    "print(\"Number of dimensions of a:\", dimensions)\n",
    "print(\"Data type of a:\", dtype)"
   ]
  },
  {
   "cell_type": "markdown",
   "id": "f5f7e6f8-0500-4e49-a0f4-11a855074eed",
   "metadata": {},
   "source": [
    "## 10. Other Functions"
   ]
  },
  {
   "cell_type": "code",
   "execution_count": 60,
   "id": "28d8cda5-b103-477b-956a-d003752ed9e0",
   "metadata": {},
   "outputs": [
    {
     "name": "stdout",
     "output_type": "stream",
     "text": [
      "Copied array: [1 2 3 4]\n"
     ]
    }
   ],
   "source": [
    "# Create a copy of an array\n",
    "c = np.array([1, 2, 3,4])\n",
    "copied_array = np.copy(c)  # Create a copy of array a\n",
    "print(\"Copied array:\", copied_array)"
   ]
  },
  {
   "cell_type": "code",
   "execution_count": 61,
   "id": "fee52a0e-4200-4791-83a7-2d8cbc2bd3b0",
   "metadata": {},
   "outputs": [
    {
     "name": "stdout",
     "output_type": "stream",
     "text": [
      "Size of a in bytes: 16\n"
     ]
    }
   ],
   "source": [
    "# Size in bytes of an array\n",
    "array_size_in_bytes = c.nbytes  # Size in bytes\n",
    "print(\"Size of a in bytes:\", array_size_in_bytes)"
   ]
  },
  {
   "cell_type": "code",
   "execution_count": 63,
   "id": "398b75cc-9875-4f61-a5f6-e3c16725a06a",
   "metadata": {},
   "outputs": [
    {
     "name": "stdout",
     "output_type": "stream",
     "text": [
      "Do c and copied_array share memory? False\n"
     ]
    }
   ],
   "source": [
    "# Check if two arrays share memory\n",
    "shared = np.shares_memory(c, copied_array)  # Check if arrays share memory\n",
    "print(\"Do c and copied_array share memory?\", shared)"
   ]
  },
  {
   "cell_type": "code",
   "execution_count": 64,
   "id": "42abbdfc-d2e5-4422-b444-ea114e4acacd",
   "metadata": {},
   "outputs": [
    {
     "data": {
      "text/plain": [
       "False"
      ]
     },
     "execution_count": 64,
     "metadata": {},
     "output_type": "execute_result"
    }
   ],
   "source": [
    "id(c) == id(copied_array)"
   ]
  },
  {
   "cell_type": "code",
   "execution_count": 65,
   "id": "68186c7f-ca56-4b07-9a47-64c6ee077e39",
   "metadata": {},
   "outputs": [
    {
     "data": {
      "text/plain": [
       "(2329631438000, 2329631434832)"
      ]
     },
     "execution_count": 65,
     "metadata": {},
     "output_type": "execute_result"
    }
   ],
   "source": [
    "id(c), id(copied_array)"
   ]
  }
 ],
 "metadata": {
  "kernelspec": {
   "display_name": "Python 3 (ipykernel)",
   "language": "python",
   "name": "python3"
  },
  "language_info": {
   "codemirror_mode": {
    "name": "ipython",
    "version": 3
   },
   "file_extension": ".py",
   "mimetype": "text/x-python",
   "name": "python",
   "nbconvert_exporter": "python",
   "pygments_lexer": "ipython3",
   "version": "3.10.13"
  }
 },
 "nbformat": 4,
 "nbformat_minor": 5
}
